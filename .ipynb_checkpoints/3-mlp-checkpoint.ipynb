{
 "cells": [
  {
   "cell_type": "markdown",
   "metadata": {},
   "source": [
    "# MLP"
   ]
  },
  {
   "cell_type": "markdown",
   "metadata": {},
   "source": [
    "The bigram model using probablities based on normalized counts has it's limitations.\n",
    "\n",
    "To extend it to have more context like a two characters as input the probabalities matrix will have (27*27) possilities and for three characters (27 * 27 * 27) and becomes too big.\n",
    "\n",
    "To overcome this we're gonna try out [Bengion et al.2003 MLP model paper](https://www.youtube.com/redirect?event=video_description&redir_token=QUFFLUhqbVhPSHNrVkluYVY5elh4RDZrOWd4R2xVNVRQd3xBQ3Jtc0tsUDE0UFVRQURUTTlWckExZWp4eGxFa3lRYlQ3amtYX3kxdDI1ZW5uU1pxZERidUYyZkJjSVlzd21rMndCMFlYRW5kYmZISkxfSDR1TzhaOXI1bXptUnUxU0xyUXJYeEpTZlRrTkRjTS0wTkMxNjFnSQ&q=https%3A%2F%2Fwww.jmlr.org%2Fpapers%2Fvolume3%2Fbengio03a%2Fbengio03a.pdf&v=TCH_1BHY58I)\n",
    "\n",
    "* This paper uses words but we'll proceed with characters\n",
    "* Each character will be represented as a 30 dimensional vector \n",
    "* The advantages of embeddings is knowledge transference, for examples animals like dog, cat might be closer to each other in 30 dimensional space. If cat was not in training set but this knowledge transfer will help in this case.\n",
    "\n",
    "Let's implement the below architecture in this notebook\n",
    "![fully connected MLP](https://pbs.twimg.com/media/Fhzl42hVUAI9U8V?format=jpg&name=large)\n",
    "\n",
    "* Three input characters with 30 dimensional embedding each\n",
    "* A Lookup table for characters\n",
    "* Tanh activation connected to three inputs\n",
    "* since we have 27 characters a final layer with 27 units(logits)\n",
    "* softmax on top of it to normalize the probabality\n",
    "* pluck the label based on probabality"
   ]
  },
  {
   "cell_type": "code",
   "execution_count": 23,
   "metadata": {
    "ExecuteTime": {
     "end_time": "2023-02-08T05:47:31.313008Z",
     "start_time": "2023-02-08T05:47:25.987840Z"
    }
   },
   "outputs": [],
   "source": [
    "import torch\n",
    "import torch.nn.functional as F\n",
    "import matplotlib.pyplot as plt\n",
    "%matplotlib inline"
   ]
  },
  {
   "cell_type": "markdown",
   "metadata": {},
   "source": [
    "## Rebuilding training dataset"
   ]
  },
  {
   "cell_type": "code",
   "execution_count": 24,
   "metadata": {
    "ExecuteTime": {
     "end_time": "2023-02-08T05:47:31.330066Z",
     "start_time": "2023-02-08T05:47:31.317289Z"
    }
   },
   "outputs": [],
   "source": [
    "# Read all words\n",
    "def read_words():\n",
    "    words = open(\"names.txt\").read().splitlines()\n",
    "    return words\n",
    "words = read_words()"
   ]
  },
  {
   "cell_type": "code",
   "execution_count": 25,
   "metadata": {
    "ExecuteTime": {
     "end_time": "2023-02-08T05:47:31.376304Z",
     "start_time": "2023-02-08T05:47:31.339831Z"
    }
   },
   "outputs": [
    {
     "data": {
      "text/plain": [
       "32033"
      ]
     },
     "execution_count": 25,
     "metadata": {},
     "output_type": "execute_result"
    }
   ],
   "source": [
    "len(words)"
   ]
  },
  {
   "cell_type": "code",
   "execution_count": 26,
   "metadata": {
    "ExecuteTime": {
     "end_time": "2023-02-08T05:47:31.403383Z",
     "start_time": "2023-02-08T05:47:31.390165Z"
    }
   },
   "outputs": [
    {
     "name": "stdout",
     "output_type": "stream",
     "text": [
      "{1: 'a', 2: 'b', 3: 'c', 4: 'd', 5: 'e', 6: 'f', 7: 'g', 8: 'h', 9: 'i', 10: 'j', 11: 'k', 12: 'l', 13: 'm', 14: 'n', 15: 'o', 16: 'p', 17: 'q', 18: 'r', 19: 's', 20: 't', 21: 'u', 22: 'v', 23: 'w', 24: 'x', 25: 'y', 26: 'z', 0: '.'}\n"
     ]
    }
   ],
   "source": [
    "# build the vocabulary of characters and mappings to/from integers\n",
    "chars = sorted(list(set(''.join(words))))\n",
    "stoi  = {s:i+1 for i, s in enumerate(chars)}\n",
    "stoi['.'] = 0\n",
    "itos = {i:s for s, i in stoi.items()}\n",
    "print(itos)"
   ]
  },
  {
   "cell_type": "markdown",
   "metadata": {},
   "source": [
    "### Build the dataset"
   ]
  },
  {
   "cell_type": "code",
   "execution_count": 27,
   "metadata": {
    "ExecuteTime": {
     "end_time": "2023-02-08T05:47:31.426980Z",
     "start_time": "2023-02-08T05:47:31.413084Z"
    }
   },
   "outputs": [],
   "source": [
    "def build_dataset(block_size, number_of_words: int, logs=False):\n",
    "\n",
    "    block_size = block_size # Context ength: how many characters do we take to predict the next one?\n",
    "    X, Y = [], []\n",
    "    for w in words[:number_of_words]:\n",
    "        if logs:\n",
    "            print(w)\n",
    "        context = [0] * block_size\n",
    "        for ch in w + '.':\n",
    "            if logs:\n",
    "                print(f\"Context: {context}\")\n",
    "            ix = stoi[ch]\n",
    "            X.append(context)\n",
    "            Y.append(ix)\n",
    "            if logs:\n",
    "                print(''.join(itos[i] for i in context), '--->', itos[ix])\n",
    "            context = context[1:] + [ix]\n",
    "            if logs:\n",
    "                print(f\"Context after append: {context}\")\n",
    "\n",
    "    X = torch.tensor(X)\n",
    "    Y = torch.tensor(Y)\n",
    "    return X, Y"
   ]
  },
  {
   "cell_type": "code",
   "execution_count": 28,
   "metadata": {
    "ExecuteTime": {
     "end_time": "2023-02-08T05:47:31.442227Z",
     "start_time": "2023-02-08T05:47:31.434452Z"
    }
   },
   "outputs": [
    {
     "name": "stdout",
     "output_type": "stream",
     "text": [
      "emma\n",
      "Context: [0, 0, 0]\n",
      "... ---> e\n",
      "Context after append: [0, 0, 5]\n",
      "Context: [0, 0, 5]\n",
      "..e ---> m\n",
      "Context after append: [0, 5, 13]\n",
      "Context: [0, 5, 13]\n",
      ".em ---> m\n",
      "Context after append: [5, 13, 13]\n",
      "Context: [5, 13, 13]\n",
      "emm ---> a\n",
      "Context after append: [13, 13, 1]\n",
      "Context: [13, 13, 1]\n",
      "mma ---> .\n",
      "Context after append: [13, 1, 0]\n",
      "olivia\n",
      "Context: [0, 0, 0]\n",
      "... ---> o\n",
      "Context after append: [0, 0, 15]\n",
      "Context: [0, 0, 15]\n",
      "..o ---> l\n",
      "Context after append: [0, 15, 12]\n",
      "Context: [0, 15, 12]\n",
      ".ol ---> i\n",
      "Context after append: [15, 12, 9]\n",
      "Context: [15, 12, 9]\n",
      "oli ---> v\n",
      "Context after append: [12, 9, 22]\n",
      "Context: [12, 9, 22]\n",
      "liv ---> i\n",
      "Context after append: [9, 22, 9]\n",
      "Context: [9, 22, 9]\n",
      "ivi ---> a\n",
      "Context after append: [22, 9, 1]\n",
      "Context: [22, 9, 1]\n",
      "via ---> .\n",
      "Context after append: [9, 1, 0]\n",
      "ava\n",
      "Context: [0, 0, 0]\n",
      "... ---> a\n",
      "Context after append: [0, 0, 1]\n",
      "Context: [0, 0, 1]\n",
      "..a ---> v\n",
      "Context after append: [0, 1, 22]\n",
      "Context: [0, 1, 22]\n",
      ".av ---> a\n",
      "Context after append: [1, 22, 1]\n",
      "Context: [1, 22, 1]\n",
      "ava ---> .\n",
      "Context after append: [22, 1, 0]\n",
      "isabella\n",
      "Context: [0, 0, 0]\n",
      "... ---> i\n",
      "Context after append: [0, 0, 9]\n",
      "Context: [0, 0, 9]\n",
      "..i ---> s\n",
      "Context after append: [0, 9, 19]\n",
      "Context: [0, 9, 19]\n",
      ".is ---> a\n",
      "Context after append: [9, 19, 1]\n",
      "Context: [9, 19, 1]\n",
      "isa ---> b\n",
      "Context after append: [19, 1, 2]\n",
      "Context: [19, 1, 2]\n",
      "sab ---> e\n",
      "Context after append: [1, 2, 5]\n",
      "Context: [1, 2, 5]\n",
      "abe ---> l\n",
      "Context after append: [2, 5, 12]\n",
      "Context: [2, 5, 12]\n",
      "bel ---> l\n",
      "Context after append: [5, 12, 12]\n",
      "Context: [5, 12, 12]\n",
      "ell ---> a\n",
      "Context after append: [12, 12, 1]\n",
      "Context: [12, 12, 1]\n",
      "lla ---> .\n",
      "Context after append: [12, 1, 0]\n",
      "sophia\n",
      "Context: [0, 0, 0]\n",
      "... ---> s\n",
      "Context after append: [0, 0, 19]\n",
      "Context: [0, 0, 19]\n",
      "..s ---> o\n",
      "Context after append: [0, 19, 15]\n",
      "Context: [0, 19, 15]\n",
      ".so ---> p\n",
      "Context after append: [19, 15, 16]\n",
      "Context: [19, 15, 16]\n",
      "sop ---> h\n",
      "Context after append: [15, 16, 8]\n",
      "Context: [15, 16, 8]\n",
      "oph ---> i\n",
      "Context after append: [16, 8, 9]\n",
      "Context: [16, 8, 9]\n",
      "phi ---> a\n",
      "Context after append: [8, 9, 1]\n",
      "Context: [8, 9, 1]\n",
      "hia ---> .\n",
      "Context after append: [9, 1, 0]\n"
     ]
    }
   ],
   "source": [
    "X, Y = build_dataset(block_size=3, number_of_words=5, logs=True)"
   ]
  },
  {
   "cell_type": "code",
   "execution_count": 29,
   "metadata": {
    "ExecuteTime": {
     "end_time": "2023-02-08T05:47:31.459477Z",
     "start_time": "2023-02-08T05:47:31.448995Z"
    }
   },
   "outputs": [
    {
     "data": {
      "text/plain": [
       "(torch.Size([32, 3]), torch.int64, torch.Size([32]), torch.int64)"
      ]
     },
     "execution_count": 29,
     "metadata": {},
     "output_type": "execute_result"
    }
   ],
   "source": [
    "X.shape, X.dtype, Y.shape, Y.dtype"
   ]
  },
  {
   "cell_type": "code",
   "execution_count": 30,
   "metadata": {
    "ExecuteTime": {
     "end_time": "2023-02-08T05:47:31.471780Z",
     "start_time": "2023-02-08T05:47:31.462583Z"
    }
   },
   "outputs": [
    {
     "data": {
      "text/plain": [
       "tensor([[ 0,  0,  0],\n",
       "        [ 0,  0,  5],\n",
       "        [ 0,  5, 13],\n",
       "        [ 5, 13, 13],\n",
       "        [13, 13,  1],\n",
       "        [ 0,  0,  0],\n",
       "        [ 0,  0, 15],\n",
       "        [ 0, 15, 12],\n",
       "        [15, 12,  9],\n",
       "        [12,  9, 22],\n",
       "        [ 9, 22,  9],\n",
       "        [22,  9,  1],\n",
       "        [ 0,  0,  0],\n",
       "        [ 0,  0,  1],\n",
       "        [ 0,  1, 22],\n",
       "        [ 1, 22,  1],\n",
       "        [ 0,  0,  0],\n",
       "        [ 0,  0,  9],\n",
       "        [ 0,  9, 19],\n",
       "        [ 9, 19,  1],\n",
       "        [19,  1,  2],\n",
       "        [ 1,  2,  5],\n",
       "        [ 2,  5, 12],\n",
       "        [ 5, 12, 12],\n",
       "        [12, 12,  1],\n",
       "        [ 0,  0,  0],\n",
       "        [ 0,  0, 19],\n",
       "        [ 0, 19, 15],\n",
       "        [19, 15, 16],\n",
       "        [15, 16,  8],\n",
       "        [16,  8,  9],\n",
       "        [ 8,  9,  1]])"
      ]
     },
     "execution_count": 30,
     "metadata": {},
     "output_type": "execute_result"
    }
   ],
   "source": [
    "X"
   ]
  },
  {
   "cell_type": "code",
   "execution_count": 31,
   "metadata": {
    "ExecuteTime": {
     "end_time": "2023-02-08T05:47:31.487751Z",
     "start_time": "2023-02-08T05:47:31.475262Z"
    }
   },
   "outputs": [
    {
     "data": {
      "text/plain": [
       "tensor([ 5, 13, 13,  1,  0, 15, 12,  9, 22,  9,  1,  0,  1, 22,  1,  0,  9, 19,\n",
       "         1,  2,  5, 12, 12,  1,  0, 19, 15, 16,  8,  9,  1,  0])"
      ]
     },
     "execution_count": 31,
     "metadata": {},
     "output_type": "execute_result"
    }
   ],
   "source": [
    "Y"
   ]
  },
  {
   "cell_type": "markdown",
   "metadata": {},
   "source": [
    "Now we've the dataset, let's build the embedding lookup table\n",
    "\n",
    "## Embedding lookup table\n",
    "\n",
    "For 1700 words, 30 dimension space was used in paper. For 27 possiblities(characters) let's try a 2 dimensionsal embedding."
   ]
  },
  {
   "cell_type": "code",
   "execution_count": 32,
   "metadata": {
    "ExecuteTime": {
     "end_time": "2023-02-08T05:47:31.528393Z",
     "start_time": "2023-02-08T05:47:31.509917Z"
    }
   },
   "outputs": [
    {
     "data": {
      "text/plain": [
       "(tensor([[ 1.4553,  0.9143],\n",
       "         [-0.8381,  2.3120],\n",
       "         [-0.3084,  0.5545],\n",
       "         [ 0.9924, -0.3303],\n",
       "         [-0.5042,  0.6661],\n",
       "         [ 0.0278, -1.0427],\n",
       "         [-1.4424,  0.8489],\n",
       "         [ 0.2473,  1.0298],\n",
       "         [-0.7913, -0.1894],\n",
       "         [-1.6860, -0.4428],\n",
       "         [-0.4314, -0.4760],\n",
       "         [-0.1868,  0.0456],\n",
       "         [-0.5007, -0.9347],\n",
       "         [-2.4781,  0.2702],\n",
       "         [ 0.1956,  1.7747],\n",
       "         [-0.5913, -1.2708],\n",
       "         [ 0.2971,  0.0351],\n",
       "         [ 0.2501, -0.7388],\n",
       "         [ 1.4705, -0.1529],\n",
       "         [-0.7315,  0.3040],\n",
       "         [ 1.6576, -1.2743],\n",
       "         [-1.2883, -0.3016],\n",
       "         [-0.8228,  0.7760],\n",
       "         [ 0.1480,  1.1518],\n",
       "         [-0.5710,  0.9143],\n",
       "         [ 0.1042,  0.1416],\n",
       "         [ 0.6026, -2.1287]]),\n",
       " torch.Size([27, 2]))"
      ]
     },
     "execution_count": 32,
     "metadata": {},
     "output_type": "execute_result"
    }
   ],
   "source": [
    "# Initialized randomnly\n",
    "C = torch.randn((27, 2))\n",
    "C, C.shape"
   ]
  },
  {
   "cell_type": "code",
   "execution_count": 33,
   "metadata": {
    "ExecuteTime": {
     "end_time": "2023-02-08T05:47:31.552439Z",
     "start_time": "2023-02-08T05:47:31.537264Z"
    }
   },
   "outputs": [
    {
     "data": {
      "text/plain": [
       "tensor([ 0.0278, -1.0427])"
      ]
     },
     "execution_count": 33,
     "metadata": {},
     "output_type": "execute_result"
    }
   ],
   "source": [
    "# The lookup of embedding for single character can be done two ways\n",
    "# 1. Indexing\n",
    "C[5]"
   ]
  },
  {
   "cell_type": "code",
   "execution_count": 34,
   "metadata": {
    "ExecuteTime": {
     "end_time": "2023-02-08T05:47:31.574585Z",
     "start_time": "2023-02-08T05:47:31.560462Z"
    }
   },
   "outputs": [
    {
     "data": {
      "text/plain": [
       "tensor([ 0.0278, -1.0427])"
      ]
     },
     "execution_count": 34,
     "metadata": {},
     "output_type": "execute_result"
    }
   ],
   "source": [
    "# 2. Onehot\n",
    "F.one_hot(torch.tensor(5), num_classes=27).float() @ C"
   ]
  },
  {
   "cell_type": "markdown",
   "metadata": {},
   "source": [
    "Indexing and one hot encoding gives the same results. We'll use indexing as it's faster."
   ]
  },
  {
   "cell_type": "code",
   "execution_count": 35,
   "metadata": {
    "ExecuteTime": {
     "end_time": "2023-02-08T05:47:31.600985Z",
     "start_time": "2023-02-08T05:47:31.585045Z"
    }
   },
   "outputs": [
    {
     "name": "stdout",
     "output_type": "stream",
     "text": [
      "tensor([[ 0.0278, -1.0427],\n",
      "        [-1.4424,  0.8489],\n",
      "        [ 0.2473,  1.0298]])\n",
      "tensor([[ 0.0278, -1.0427],\n",
      "        [-1.4424,  0.8489],\n",
      "        [ 0.2473,  1.0298]])\n"
     ]
    }
   ],
   "source": [
    "# Indexing multiple values\n",
    "# Singce our shape of input is 32, 3\n",
    "print(C[[5, 6, 7]])\n",
    "# Works also with tensor\n",
    "print(C[torch.tensor([5, 6, 7])])"
   ]
  },
  {
   "cell_type": "code",
   "execution_count": 36,
   "metadata": {
    "ExecuteTime": {
     "end_time": "2023-02-08T05:47:31.623028Z",
     "start_time": "2023-02-08T05:47:31.607657Z"
    }
   },
   "outputs": [
    {
     "data": {
      "text/plain": [
       "tensor([[[ 1.4553,  0.9143],\n",
       "         [ 1.4553,  0.9143],\n",
       "         [ 1.4553,  0.9143]],\n",
       "\n",
       "        [[ 1.4553,  0.9143],\n",
       "         [ 1.4553,  0.9143],\n",
       "         [ 0.0278, -1.0427]],\n",
       "\n",
       "        [[ 1.4553,  0.9143],\n",
       "         [ 0.0278, -1.0427],\n",
       "         [-2.4781,  0.2702]],\n",
       "\n",
       "        [[ 0.0278, -1.0427],\n",
       "         [-2.4781,  0.2702],\n",
       "         [-2.4781,  0.2702]],\n",
       "\n",
       "        [[-2.4781,  0.2702],\n",
       "         [-2.4781,  0.2702],\n",
       "         [-0.8381,  2.3120]],\n",
       "\n",
       "        [[ 1.4553,  0.9143],\n",
       "         [ 1.4553,  0.9143],\n",
       "         [ 1.4553,  0.9143]],\n",
       "\n",
       "        [[ 1.4553,  0.9143],\n",
       "         [ 1.4553,  0.9143],\n",
       "         [-0.5913, -1.2708]],\n",
       "\n",
       "        [[ 1.4553,  0.9143],\n",
       "         [-0.5913, -1.2708],\n",
       "         [-0.5007, -0.9347]],\n",
       "\n",
       "        [[-0.5913, -1.2708],\n",
       "         [-0.5007, -0.9347],\n",
       "         [-1.6860, -0.4428]],\n",
       "\n",
       "        [[-0.5007, -0.9347],\n",
       "         [-1.6860, -0.4428],\n",
       "         [-0.8228,  0.7760]],\n",
       "\n",
       "        [[-1.6860, -0.4428],\n",
       "         [-0.8228,  0.7760],\n",
       "         [-1.6860, -0.4428]],\n",
       "\n",
       "        [[-0.8228,  0.7760],\n",
       "         [-1.6860, -0.4428],\n",
       "         [-0.8381,  2.3120]],\n",
       "\n",
       "        [[ 1.4553,  0.9143],\n",
       "         [ 1.4553,  0.9143],\n",
       "         [ 1.4553,  0.9143]],\n",
       "\n",
       "        [[ 1.4553,  0.9143],\n",
       "         [ 1.4553,  0.9143],\n",
       "         [-0.8381,  2.3120]],\n",
       "\n",
       "        [[ 1.4553,  0.9143],\n",
       "         [-0.8381,  2.3120],\n",
       "         [-0.8228,  0.7760]],\n",
       "\n",
       "        [[-0.8381,  2.3120],\n",
       "         [-0.8228,  0.7760],\n",
       "         [-0.8381,  2.3120]],\n",
       "\n",
       "        [[ 1.4553,  0.9143],\n",
       "         [ 1.4553,  0.9143],\n",
       "         [ 1.4553,  0.9143]],\n",
       "\n",
       "        [[ 1.4553,  0.9143],\n",
       "         [ 1.4553,  0.9143],\n",
       "         [-1.6860, -0.4428]],\n",
       "\n",
       "        [[ 1.4553,  0.9143],\n",
       "         [-1.6860, -0.4428],\n",
       "         [-0.7315,  0.3040]],\n",
       "\n",
       "        [[-1.6860, -0.4428],\n",
       "         [-0.7315,  0.3040],\n",
       "         [-0.8381,  2.3120]],\n",
       "\n",
       "        [[-0.7315,  0.3040],\n",
       "         [-0.8381,  2.3120],\n",
       "         [-0.3084,  0.5545]],\n",
       "\n",
       "        [[-0.8381,  2.3120],\n",
       "         [-0.3084,  0.5545],\n",
       "         [ 0.0278, -1.0427]],\n",
       "\n",
       "        [[-0.3084,  0.5545],\n",
       "         [ 0.0278, -1.0427],\n",
       "         [-0.5007, -0.9347]],\n",
       "\n",
       "        [[ 0.0278, -1.0427],\n",
       "         [-0.5007, -0.9347],\n",
       "         [-0.5007, -0.9347]],\n",
       "\n",
       "        [[-0.5007, -0.9347],\n",
       "         [-0.5007, -0.9347],\n",
       "         [-0.8381,  2.3120]],\n",
       "\n",
       "        [[ 1.4553,  0.9143],\n",
       "         [ 1.4553,  0.9143],\n",
       "         [ 1.4553,  0.9143]],\n",
       "\n",
       "        [[ 1.4553,  0.9143],\n",
       "         [ 1.4553,  0.9143],\n",
       "         [-0.7315,  0.3040]],\n",
       "\n",
       "        [[ 1.4553,  0.9143],\n",
       "         [-0.7315,  0.3040],\n",
       "         [-0.5913, -1.2708]],\n",
       "\n",
       "        [[-0.7315,  0.3040],\n",
       "         [-0.5913, -1.2708],\n",
       "         [ 0.2971,  0.0351]],\n",
       "\n",
       "        [[-0.5913, -1.2708],\n",
       "         [ 0.2971,  0.0351],\n",
       "         [-0.7913, -0.1894]],\n",
       "\n",
       "        [[ 0.2971,  0.0351],\n",
       "         [-0.7913, -0.1894],\n",
       "         [-1.6860, -0.4428]],\n",
       "\n",
       "        [[-0.7913, -0.1894],\n",
       "         [-1.6860, -0.4428],\n",
       "         [-0.8381,  2.3120]]])"
      ]
     },
     "execution_count": 36,
     "metadata": {},
     "output_type": "execute_result"
    }
   ],
   "source": [
    "# The total equivalent would be\n",
    "C[X]"
   ]
  },
  {
   "cell_type": "code",
   "execution_count": 37,
   "metadata": {
    "ExecuteTime": {
     "end_time": "2023-02-08T05:47:31.638506Z",
     "start_time": "2023-02-08T05:47:31.627352Z"
    }
   },
   "outputs": [
    {
     "data": {
      "text/plain": [
       "torch.Size([32, 3, 2])"
      ]
     },
     "execution_count": 37,
     "metadata": {},
     "output_type": "execute_result"
    }
   ],
   "source": [
    "# Let's verify this\n",
    "C[X].shape"
   ]
  },
  {
   "cell_type": "markdown",
   "metadata": {},
   "source": [
    "32 is total number of inputs with shape 3 and dimensional embedding 2."
   ]
  },
  {
   "cell_type": "code",
   "execution_count": 38,
   "metadata": {
    "ExecuteTime": {
     "end_time": "2023-02-08T05:47:31.653540Z",
     "start_time": "2023-02-08T05:47:31.644716Z"
    }
   },
   "outputs": [
    {
     "data": {
      "text/plain": [
       "tensor(1)"
      ]
     },
     "execution_count": 38,
     "metadata": {},
     "output_type": "execute_result"
    }
   ],
   "source": [
    "X[13, 2]"
   ]
  },
  {
   "cell_type": "code",
   "execution_count": 39,
   "metadata": {
    "ExecuteTime": {
     "end_time": "2023-02-08T05:47:31.678282Z",
     "start_time": "2023-02-08T05:47:31.662373Z"
    }
   },
   "outputs": [
    {
     "data": {
      "text/plain": [
       "tensor([-0.8381,  2.3120])"
      ]
     },
     "execution_count": 39,
     "metadata": {},
     "output_type": "execute_result"
    }
   ],
   "source": [
    "C[X][13, 2]"
   ]
  },
  {
   "cell_type": "code",
   "execution_count": 40,
   "metadata": {
    "ExecuteTime": {
     "end_time": "2023-02-08T05:47:31.697727Z",
     "start_time": "2023-02-08T05:47:31.684945Z"
    }
   },
   "outputs": [
    {
     "data": {
      "text/plain": [
       "tensor([-0.8381,  2.3120])"
      ]
     },
     "execution_count": 40,
     "metadata": {},
     "output_type": "execute_result"
    }
   ],
   "source": [
    "C[1]"
   ]
  },
  {
   "cell_type": "code",
   "execution_count": 41,
   "metadata": {
    "ExecuteTime": {
     "end_time": "2023-02-08T05:47:31.716937Z",
     "start_time": "2023-02-08T05:47:31.705431Z"
    }
   },
   "outputs": [
    {
     "data": {
      "text/plain": [
       "torch.Size([32, 3, 2])"
      ]
     },
     "execution_count": 41,
     "metadata": {},
     "output_type": "execute_result"
    }
   ],
   "source": [
    "emb = C[X]\n",
    "emb.shape"
   ]
  },
  {
   "cell_type": "markdown",
   "metadata": {},
   "source": [
    "Now the embedding lookup table is completed."
   ]
  },
  {
   "cell_type": "markdown",
   "metadata": {},
   "source": [
    "## Implementing the hidden layer plus internals of torch.Tensor, storage and views"
   ]
  },
  {
   "cell_type": "code",
   "execution_count": 42,
   "metadata": {
    "ExecuteTime": {
     "end_time": "2023-02-08T05:47:31.735053Z",
     "start_time": "2023-02-08T05:47:31.727489Z"
    }
   },
   "outputs": [],
   "source": [
    "# Intitializing weights and biases\n",
    "W1 = torch.randn((\n",
    "    6, # 3(inputs) * 2(embedding dim)\n",
    "    100 # Number of neurons\n",
    "))\n",
    "b1 = torch.randn(100)"
   ]
  },
  {
   "cell_type": "code",
   "execution_count": 43,
   "metadata": {
    "ExecuteTime": {
     "end_time": "2023-02-08T05:47:31.753513Z",
     "start_time": "2023-02-08T05:47:31.742269Z"
    }
   },
   "outputs": [
    {
     "data": {
      "text/plain": [
       "torch.Size([6, 100])"
      ]
     },
     "execution_count": 43,
     "metadata": {},
     "output_type": "execute_result"
    }
   ],
   "source": [
    "W1.shape"
   ]
  },
  {
   "cell_type": "code",
   "execution_count": 44,
   "metadata": {
    "ExecuteTime": {
     "end_time": "2023-02-08T05:47:32.434474Z",
     "start_time": "2023-02-08T05:47:31.760805Z"
    }
   },
   "outputs": [
    {
     "ename": "RuntimeError",
     "evalue": "mat1 and mat2 shapes cannot be multiplied (96x2 and 6x100)",
     "output_type": "error",
     "traceback": [
      "\u001b[0;31m---------------------------------------------------------------------------\u001b[0m",
      "\u001b[0;31mRuntimeError\u001b[0m                              Traceback (most recent call last)",
      "Input \u001b[0;32mIn [44]\u001b[0m, in \u001b[0;36m<cell line: 5>\u001b[0;34m()\u001b[0m\n\u001b[1;32m      1\u001b[0m \u001b[38;5;66;03m# Inputs * weights + bias will not work  now\u001b[39;00m\n\u001b[1;32m      2\u001b[0m \u001b[38;5;66;03m# as dimensions of weighs and input doesn't abide\u001b[39;00m\n\u001b[1;32m      3\u001b[0m \u001b[38;5;66;03m# by matrix multiplication rulees\u001b[39;00m\n\u001b[1;32m      4\u001b[0m \u001b[38;5;66;03m# shape of input [32, 3, 2], weights [6, 100]\u001b[39;00m\n\u001b[0;32m----> 5\u001b[0m \u001b[43memb\u001b[49m\u001b[43m \u001b[49m\u001b[38;5;241;43m@\u001b[39;49m\u001b[43m \u001b[49m\u001b[43mW1\u001b[49m \u001b[38;5;241m+\u001b[39m b1\n",
      "\u001b[0;31mRuntimeError\u001b[0m: mat1 and mat2 shapes cannot be multiplied (96x2 and 6x100)"
     ]
    }
   ],
   "source": [
    "# Inputs * weights + bias will not work  now\n",
    "# as dimensions of weighs and input doesn't abide\n",
    "# by matrix multiplication rulees\n",
    "# shape of input [32, 3, 2], weights [6, 100]\n",
    "emb @ W1 + b1"
   ]
  },
  {
   "cell_type": "markdown",
   "metadata": {},
   "source": [
    "PyTorch's tensor's a really powerful, because ut has tons of methods to allow us to create modify and perfom lot's of operations on it.\n",
    "\n",
    "We're gonna use [torch.cat](https://pytorch.org/docs/stable/generated/torch.cat.html) to tackle the above problem."
   ]
  },
  {
   "cell_type": "code",
   "execution_count": null,
   "metadata": {
    "ExecuteTime": {
     "end_time": "2023-02-08T05:47:32.440581Z",
     "start_time": "2023-02-08T05:47:32.440548Z"
    }
   },
   "outputs": [],
   "source": [
    "cat_tensors = torch.cat([emb[:, 0, :], emb[:, 1, :], emb[:, 2, :]], 1)\n",
    "cat_tensors.shape"
   ]
  },
  {
   "cell_type": "code",
   "execution_count": null,
   "metadata": {
    "ExecuteTime": {
     "end_time": "2023-02-08T05:47:32.444904Z",
     "start_time": "2023-02-08T05:47:32.444856Z"
    }
   },
   "outputs": [],
   "source": [
    "# To generalize this in case of diffrent block size\n",
    "# We'll use unbind with cat\n",
    "unbind_tensors = torch.unbind(emb, 1)\n",
    "# Gives a list which is exactly the same\n",
    "# as cat_tensors abov\n",
    "len(unbind_tensors)"
   ]
  },
  {
   "cell_type": "code",
   "execution_count": null,
   "metadata": {
    "ExecuteTime": {
     "end_time": "2023-02-08T05:47:32.448000Z",
     "start_time": "2023-02-08T05:47:32.447968Z"
    }
   },
   "outputs": [],
   "source": [
    "cat_unbind_tensors = torch.cat(unbind_tensors, 1)\n",
    "cat_unbind_tensors.shape"
   ]
  },
  {
   "cell_type": "markdown",
   "metadata": {},
   "source": [
    "Now irrespective of block size the above code will run.\n",
    "\n",
    "But there's an efficient way to do this."
   ]
  },
  {
   "cell_type": "code",
   "execution_count": 45,
   "metadata": {
    "ExecuteTime": {
     "end_time": "2023-02-08T05:47:32.499894Z",
     "start_time": "2023-02-08T05:47:32.499844Z"
    }
   },
   "outputs": [
    {
     "data": {
      "text/plain": [
       "tensor([ 0,  1,  2,  3,  4,  5,  6,  7,  8,  9, 10, 11, 12, 13, 14, 15, 16, 17])"
      ]
     },
     "execution_count": 45,
     "metadata": {},
     "output_type": "execute_result"
    }
   ],
   "source": [
    "a = torch.arange(18)\n",
    "a"
   ]
  },
  {
   "cell_type": "code",
   "execution_count": 46,
   "metadata": {
    "ExecuteTime": {
     "end_time": "2023-02-08T05:47:32.504939Z",
     "start_time": "2023-02-08T05:47:32.504899Z"
    }
   },
   "outputs": [
    {
     "data": {
      "text/plain": [
       "torch.Size([18])"
      ]
     },
     "execution_count": 46,
     "metadata": {},
     "output_type": "execute_result"
    }
   ],
   "source": [
    "a.shape"
   ]
  },
  {
   "cell_type": "code",
   "execution_count": 47,
   "metadata": {
    "ExecuteTime": {
     "end_time": "2023-02-08T05:47:32.510427Z",
     "start_time": "2023-02-08T05:47:32.510355Z"
    }
   },
   "outputs": [
    {
     "data": {
      "text/plain": [
       "tensor([[[ 0,  1],\n",
       "         [ 2,  3],\n",
       "         [ 4,  5]],\n",
       "\n",
       "        [[ 6,  7],\n",
       "         [ 8,  9],\n",
       "         [10, 11]],\n",
       "\n",
       "        [[12, 13],\n",
       "         [14, 15],\n",
       "         [16, 17]]])"
      ]
     },
     "execution_count": 47,
     "metadata": {},
     "output_type": "execute_result"
    }
   ],
   "source": [
    "a.view(3, 3, 2)"
   ]
  },
  {
   "cell_type": "code",
   "execution_count": 48,
   "metadata": {
    "ExecuteTime": {
     "end_time": "2023-02-08T05:47:32.518799Z",
     "start_time": "2023-02-08T05:47:32.518763Z"
    }
   },
   "outputs": [
    {
     "data": {
      "text/plain": [
       " 0\n",
       " 1\n",
       " 2\n",
       " 3\n",
       " 4\n",
       " 5\n",
       " 6\n",
       " 7\n",
       " 8\n",
       " 9\n",
       " 10\n",
       " 11\n",
       " 12\n",
       " 13\n",
       " 14\n",
       " 15\n",
       " 16\n",
       " 17\n",
       "[torch.storage._TypedStorage(dtype=torch.int64, device=cpu) of size 18]"
      ]
     },
     "execution_count": 48,
     "metadata": {},
     "output_type": "execute_result"
    }
   ],
   "source": [
    "a.storage()"
   ]
  },
  {
   "cell_type": "markdown",
   "metadata": {},
   "source": [
    "Every tensor has view and storage,\n",
    "* Using tensor.view(shape) we can manipulate the shape of an tensor\n",
    "* But tensor.storage() in memory will still remain a single dimension vector\n",
    "* And using view just changes some attributes like offest etc and tensor in memory remains same to the multiples"
   ]
  },
  {
   "cell_type": "code",
   "execution_count": 49,
   "metadata": {
    "ExecuteTime": {
     "end_time": "2023-02-08T05:47:32.522136Z",
     "start_time": "2023-02-08T05:47:32.522104Z"
    }
   },
   "outputs": [
    {
     "data": {
      "text/plain": [
       "tensor([[ 1.4553,  0.9143,  1.4553,  0.9143,  1.4553,  0.9143],\n",
       "        [ 1.4553,  0.9143,  1.4553,  0.9143,  0.0278, -1.0427],\n",
       "        [ 1.4553,  0.9143,  0.0278, -1.0427, -2.4781,  0.2702],\n",
       "        [ 0.0278, -1.0427, -2.4781,  0.2702, -2.4781,  0.2702],\n",
       "        [-2.4781,  0.2702, -2.4781,  0.2702, -0.8381,  2.3120],\n",
       "        [ 1.4553,  0.9143,  1.4553,  0.9143,  1.4553,  0.9143],\n",
       "        [ 1.4553,  0.9143,  1.4553,  0.9143, -0.5913, -1.2708],\n",
       "        [ 1.4553,  0.9143, -0.5913, -1.2708, -0.5007, -0.9347],\n",
       "        [-0.5913, -1.2708, -0.5007, -0.9347, -1.6860, -0.4428],\n",
       "        [-0.5007, -0.9347, -1.6860, -0.4428, -0.8228,  0.7760],\n",
       "        [-1.6860, -0.4428, -0.8228,  0.7760, -1.6860, -0.4428],\n",
       "        [-0.8228,  0.7760, -1.6860, -0.4428, -0.8381,  2.3120],\n",
       "        [ 1.4553,  0.9143,  1.4553,  0.9143,  1.4553,  0.9143],\n",
       "        [ 1.4553,  0.9143,  1.4553,  0.9143, -0.8381,  2.3120],\n",
       "        [ 1.4553,  0.9143, -0.8381,  2.3120, -0.8228,  0.7760],\n",
       "        [-0.8381,  2.3120, -0.8228,  0.7760, -0.8381,  2.3120],\n",
       "        [ 1.4553,  0.9143,  1.4553,  0.9143,  1.4553,  0.9143],\n",
       "        [ 1.4553,  0.9143,  1.4553,  0.9143, -1.6860, -0.4428],\n",
       "        [ 1.4553,  0.9143, -1.6860, -0.4428, -0.7315,  0.3040],\n",
       "        [-1.6860, -0.4428, -0.7315,  0.3040, -0.8381,  2.3120],\n",
       "        [-0.7315,  0.3040, -0.8381,  2.3120, -0.3084,  0.5545],\n",
       "        [-0.8381,  2.3120, -0.3084,  0.5545,  0.0278, -1.0427],\n",
       "        [-0.3084,  0.5545,  0.0278, -1.0427, -0.5007, -0.9347],\n",
       "        [ 0.0278, -1.0427, -0.5007, -0.9347, -0.5007, -0.9347],\n",
       "        [-0.5007, -0.9347, -0.5007, -0.9347, -0.8381,  2.3120],\n",
       "        [ 1.4553,  0.9143,  1.4553,  0.9143,  1.4553,  0.9143],\n",
       "        [ 1.4553,  0.9143,  1.4553,  0.9143, -0.7315,  0.3040],\n",
       "        [ 1.4553,  0.9143, -0.7315,  0.3040, -0.5913, -1.2708],\n",
       "        [-0.7315,  0.3040, -0.5913, -1.2708,  0.2971,  0.0351],\n",
       "        [-0.5913, -1.2708,  0.2971,  0.0351, -0.7913, -0.1894],\n",
       "        [ 0.2971,  0.0351, -0.7913, -0.1894, -1.6860, -0.4428],\n",
       "        [-0.7913, -0.1894, -1.6860, -0.4428, -0.8381,  2.3120]])"
      ]
     },
     "execution_count": 49,
     "metadata": {},
     "output_type": "execute_result"
    }
   ],
   "source": [
    "# Let's use view() to reshape the tensor from [32, 3, 2] to [32, 6]\n",
    "emb.view(32, 6)"
   ]
  },
  {
   "cell_type": "markdown",
   "metadata": {},
   "source": [
    "The way this happens is dimension 1 get stacked up as a single dimension."
   ]
  },
  {
   "cell_type": "code",
   "execution_count": 50,
   "metadata": {
    "ExecuteTime": {
     "end_time": "2023-02-08T05:47:32.530603Z",
     "start_time": "2023-02-08T05:47:32.530557Z"
    }
   },
   "outputs": [
    {
     "data": {
      "text/plain": [
       "torch.Size([32, 6])"
      ]
     },
     "execution_count": 50,
     "metadata": {},
     "output_type": "execute_result"
    }
   ],
   "source": [
    "emb.view(32, 6).shape"
   ]
  },
  {
   "cell_type": "code",
   "execution_count": 51,
   "metadata": {
    "ExecuteTime": {
     "end_time": "2023-02-08T05:47:32.535899Z",
     "start_time": "2023-02-08T05:47:32.535862Z"
    }
   },
   "outputs": [
    {
     "data": {
      "text/plain": [
       "tensor([[True, True, True, True, True, True],\n",
       "        [True, True, True, True, True, True],\n",
       "        [True, True, True, True, True, True],\n",
       "        [True, True, True, True, True, True],\n",
       "        [True, True, True, True, True, True],\n",
       "        [True, True, True, True, True, True],\n",
       "        [True, True, True, True, True, True],\n",
       "        [True, True, True, True, True, True],\n",
       "        [True, True, True, True, True, True],\n",
       "        [True, True, True, True, True, True],\n",
       "        [True, True, True, True, True, True],\n",
       "        [True, True, True, True, True, True],\n",
       "        [True, True, True, True, True, True],\n",
       "        [True, True, True, True, True, True],\n",
       "        [True, True, True, True, True, True],\n",
       "        [True, True, True, True, True, True],\n",
       "        [True, True, True, True, True, True],\n",
       "        [True, True, True, True, True, True],\n",
       "        [True, True, True, True, True, True],\n",
       "        [True, True, True, True, True, True],\n",
       "        [True, True, True, True, True, True],\n",
       "        [True, True, True, True, True, True],\n",
       "        [True, True, True, True, True, True],\n",
       "        [True, True, True, True, True, True],\n",
       "        [True, True, True, True, True, True],\n",
       "        [True, True, True, True, True, True],\n",
       "        [True, True, True, True, True, True],\n",
       "        [True, True, True, True, True, True],\n",
       "        [True, True, True, True, True, True],\n",
       "        [True, True, True, True, True, True],\n",
       "        [True, True, True, True, True, True],\n",
       "        [True, True, True, True, True, True]])"
      ]
     },
     "execution_count": 51,
     "metadata": {},
     "output_type": "execute_result"
    }
   ],
   "source": [
    "emb.view(32, 6) == torch.cat(torch.unbind(emb, 1), 1)"
   ]
  },
  {
   "cell_type": "markdown",
   "metadata": {},
   "source": [
    "Element wise comparison proves that view is equal to cat(unbind)"
   ]
  },
  {
   "cell_type": "code",
   "execution_count": 52,
   "metadata": {
    "ExecuteTime": {
     "end_time": "2023-02-08T05:47:32.538876Z",
     "start_time": "2023-02-08T05:47:32.538838Z"
    }
   },
   "outputs": [
    {
     "data": {
      "text/plain": [
       "tensor([[-0.9836,  0.9997,  0.9817,  ..., -0.9875, -0.9993,  0.9144],\n",
       "        [-0.5137,  0.4454,  0.0935,  ..., -0.4120, -0.9991, -0.6080],\n",
       "        [-0.9562,  0.9685, -0.6382,  ..., -0.8523,  0.3099,  0.7575],\n",
       "        ...,\n",
       "        [-0.8207, -0.5607,  0.9998,  ..., -0.4102,  0.4940, -0.8119],\n",
       "        [-0.7817,  0.0832,  0.2604,  ...,  0.4603,  0.9843, -0.6782],\n",
       "        [-0.9997,  0.9998,  0.9934,  ..., -0.8808,  1.0000,  0.9023]])"
      ]
     },
     "execution_count": 52,
     "metadata": {},
     "output_type": "execute_result"
    }
   ],
   "source": [
    "h = torch.tanh(emb.view(-1, 6) @ W1 + b1)\n",
    "h"
   ]
  },
  {
   "cell_type": "code",
   "execution_count": 53,
   "metadata": {
    "ExecuteTime": {
     "end_time": "2023-02-08T05:47:32.545348Z",
     "start_time": "2023-02-08T05:47:32.545317Z"
    }
   },
   "outputs": [
    {
     "data": {
      "text/plain": [
       "torch.Size([32, 100])"
      ]
     },
     "execution_count": 53,
     "metadata": {},
     "output_type": "execute_result"
    }
   ],
   "source": [
    "h.shape"
   ]
  },
  {
   "cell_type": "markdown",
   "metadata": {},
   "source": [
    "Make sure broadcasting is done right"
   ]
  },
  {
   "cell_type": "code",
   "execution_count": 54,
   "metadata": {
    "ExecuteTime": {
     "end_time": "2023-02-08T05:47:32.550674Z",
     "start_time": "2023-02-08T05:47:32.550632Z"
    }
   },
   "outputs": [
    {
     "data": {
      "text/plain": [
       "torch.Size([32, 100])"
      ]
     },
     "execution_count": 54,
     "metadata": {},
     "output_type": "execute_result"
    }
   ],
   "source": [
    "(emb.view(32, 6) @ W1).shape"
   ]
  },
  {
   "cell_type": "code",
   "execution_count": 55,
   "metadata": {
    "ExecuteTime": {
     "end_time": "2023-02-08T05:47:32.554705Z",
     "start_time": "2023-02-08T05:47:32.554665Z"
    }
   },
   "outputs": [
    {
     "data": {
      "text/plain": [
       "torch.Size([100])"
      ]
     },
     "execution_count": 55,
     "metadata": {},
     "output_type": "execute_result"
    }
   ],
   "source": [
    "b1.shape"
   ]
  },
  {
   "cell_type": "markdown",
   "metadata": {},
   "source": [
    "32, 100\n",
    "1 , 100\n",
    "\n",
    "* broadcasting 32, 100 to 100\n",
    "* broadcasting aligns from right abd creates a  fake dimension (1)\n",
    "* Then 32 will be copied vertically for every element of 100"
   ]
  },
  {
   "cell_type": "markdown",
   "metadata": {},
   "source": [
    "## Implementing output layer"
   ]
  },
  {
   "cell_type": "code",
   "execution_count": 56,
   "metadata": {},
   "outputs": [],
   "source": [
    "W2 = torch.randn((100, # Inputs layer size\n",
    "                  27 # Output layer 27 characters\n",
    "                 ))\n",
    "b2 = torch.randn(27)"
   ]
  },
  {
   "cell_type": "code",
   "execution_count": 57,
   "metadata": {},
   "outputs": [
    {
     "data": {
      "text/plain": [
       "torch.Size([32, 27])"
      ]
     },
     "execution_count": 57,
     "metadata": {},
     "output_type": "execute_result"
    }
   ],
   "source": [
    "logits = h @ W2 + b2\n",
    "logits.shape"
   ]
  },
  {
   "cell_type": "markdown",
   "metadata": {},
   "source": [
    "## Implmenting negative log likelihood loss"
   ]
  },
  {
   "cell_type": "code",
   "execution_count": 58,
   "metadata": {},
   "outputs": [],
   "source": [
    "# Fake counts -> logits exp\n",
    "counts = logits.exp()"
   ]
  },
  {
   "cell_type": "code",
   "execution_count": 59,
   "metadata": {},
   "outputs": [
    {
     "data": {
      "text/plain": [
       "torch.Size([32, 27])"
      ]
     },
     "execution_count": 59,
     "metadata": {},
     "output_type": "execute_result"
    }
   ],
   "source": [
    "# Normalize fake counts\n",
    "prob = counts / counts.sum(1, keepdims=True)\n",
    "prob.shape"
   ]
  },
  {
   "cell_type": "code",
   "execution_count": 60,
   "metadata": {},
   "outputs": [
    {
     "data": {
      "text/plain": [
       "torch.Size([32])"
      ]
     },
     "execution_count": 60,
     "metadata": {},
     "output_type": "execute_result"
    }
   ],
   "source": [
    "Y.shape"
   ]
  },
  {
   "cell_type": "code",
   "execution_count": 61,
   "metadata": {},
   "outputs": [
    {
     "data": {
      "text/plain": [
       "tensor([3.5603e-04, 1.1215e-04, 1.9297e-09, 2.2432e-08, 4.1769e-13, 6.4308e-10,\n",
       "        2.6835e-04, 1.0888e-07, 2.4285e-07, 5.0894e-10, 4.8298e-04, 1.4232e-10,\n",
       "        2.9441e-08, 3.5624e-12, 1.5618e-13, 1.1776e-09, 7.2218e-04, 9.3041e-10,\n",
       "        4.0756e-07, 1.8944e-10, 1.1294e-08, 2.7441e-13, 4.9043e-04, 5.0123e-06,\n",
       "        4.3065e-09, 2.3752e-02, 4.5931e-10, 3.8140e-05, 1.2846e-04, 1.1254e-05,\n",
       "        6.6676e-04, 6.4991e-09])"
      ]
     },
     "execution_count": 61,
     "metadata": {},
     "output_type": "execute_result"
    }
   ],
   "source": [
    "# Indexing probabalites based on Y\n",
    "# This probabalities in future will be the probabalities by neural network\n",
    "prob[torch.arange(32), Y]"
   ]
  },
  {
   "cell_type": "code",
   "execution_count": 62,
   "metadata": {},
   "outputs": [
    {
     "data": {
      "text/plain": [
       "tensor(16.3344)"
      ]
     },
     "execution_count": 62,
     "metadata": {},
     "output_type": "execute_result"
    }
   ],
   "source": [
    "loss = - prob[torch.arange(32), Y].log().mean()\n",
    "loss"
   ]
  },
  {
   "cell_type": "markdown",
   "metadata": {},
   "source": [
    "## Summary of full network"
   ]
  },
  {
   "cell_type": "code",
   "execution_count": 100,
   "metadata": {},
   "outputs": [],
   "source": [
    "g = torch.Generator().manual_seed(2147483647)\n",
    "C = torch.randn((27, 2), generator=g)\n",
    "W1 = torch.randn((6, 100), generator=g)\n",
    "b1 = torch.randn(100, generator=g)\n",
    "W2 = torch.randn((100, 27), generator=g)\n",
    "b2 = torch.randn(27, generator=g)\n",
    "paramerters = [C, W1, b1, W2, b2]"
   ]
  },
  {
   "cell_type": "code",
   "execution_count": 95,
   "metadata": {},
   "outputs": [
    {
     "data": {
      "text/plain": [
       "3481"
      ]
     },
     "execution_count": 95,
     "metadata": {},
     "output_type": "execute_result"
    }
   ],
   "source": [
    "# Number of parameters in total\n",
    "sum(p.nelement() for p in paramerters)"
   ]
  },
  {
   "cell_type": "code",
   "execution_count": 65,
   "metadata": {},
   "outputs": [
    {
     "data": {
      "text/plain": [
       "tensor(17.7697)"
      ]
     },
     "execution_count": 65,
     "metadata": {},
     "output_type": "execute_result"
    }
   ],
   "source": [
    "emb = C[X]\n",
    "h = torch.tanh(emb.view(-1, 6) @ W1 + b1)\n",
    "logits = h @ W2 + b2\n",
    "counts = logits.exp()\n",
    "prob = counts / counts.sum(1, keepdim=True)\n",
    "loss = - prob[torch.arange(32), Y].log().mean()\n",
    "loss"
   ]
  },
  {
   "cell_type": "markdown",
   "metadata": {},
   "source": [
    "## Cross entropy why?\n",
    "\n",
    "```\n",
    "counts = logits.exp()\n",
    "prob = counts / counts.sum(1, keepdim=True)\n",
    "loss = - prob[torch.arange(32), Y].log().mean()\n",
    "```\n",
    "\n",
    "PyTorch creates a seperate tensor for each of these step\n",
    "\n",
    "1. Uses a fused kernel which combines all the above operations\n",
    "2. In backward pass, expression takes much simpler form mathametically\n",
    "3. Under the hood, this is numerically well behaved\n",
    "4. Forward pass and backward pass are much more efficient"
   ]
  },
  {
   "cell_type": "code",
   "execution_count": 66,
   "metadata": {},
   "outputs": [
    {
     "data": {
      "text/plain": [
       "tensor(17.7697)"
      ]
     },
     "execution_count": 66,
     "metadata": {},
     "output_type": "execute_result"
    }
   ],
   "source": [
    "loss = F.cross_entropy(logits, Y)\n",
    "loss"
   ]
  },
  {
   "cell_type": "code",
   "execution_count": 67,
   "metadata": {},
   "outputs": [
    {
     "data": {
      "text/plain": [
       "tensor([9.0466e-04, 3.3281e-04, 6.6846e-03, 9.9208e-01])"
      ]
     },
     "execution_count": 67,
     "metadata": {},
     "output_type": "execute_result"
    }
   ],
   "source": [
    "# Numerical stability difference\n",
    "logits = torch.tensor([-2, -3, 0, 5])\n",
    "counts = logits.exp()\n",
    "probs = counts / counts.sum()\n",
    "probs"
   ]
  },
  {
   "cell_type": "code",
   "execution_count": 68,
   "metadata": {},
   "outputs": [
    {
     "name": "stdout",
     "output_type": "stream",
     "text": [
      "Counts: tensor([3.7835e-44, 4.9787e-02, 1.0000e+00,        inf])\n"
     ]
    },
    {
     "data": {
      "text/plain": [
       "tensor([0., 0., 0., nan])"
      ]
     },
     "execution_count": 68,
     "metadata": {},
     "output_type": "execute_result"
    }
   ],
   "source": [
    "# Numerical stability difference\n",
    "# With more extreme values, which will occur in backpropgation\n",
    "logits = torch.tensor([-100, -3, 0, 100])\n",
    "counts = logits.exp()\n",
    "print(f\"Counts: {counts}\")\n",
    "probs = counts / counts.sum()\n",
    "probs"
   ]
  },
  {
   "cell_type": "markdown",
   "metadata": {},
   "source": [
    "What's happening above is the floating point ran out of dynamic range for exp(100) returning inf\n",
    "and for negative 100 the probs is near zero.\n",
    "\n",
    "So we cannot pass very larger number to our logits --> loss expression"
   ]
  },
  {
   "cell_type": "code",
   "execution_count": 69,
   "metadata": {},
   "outputs": [
    {
     "name": "stdout",
     "output_type": "stream",
     "text": [
      "Counts: tensor([0.0000e+00, 1.4013e-45, 3.7835e-44, 1.0000e+00])\n"
     ]
    },
    {
     "data": {
      "text/plain": [
       "tensor([0.0000e+00, 1.4013e-45, 3.7835e-44, 1.0000e+00])"
      ]
     },
     "execution_count": 69,
     "metadata": {},
     "output_type": "execute_result"
    }
   ],
   "source": [
    "# How PyTorch handles this is\n",
    "# By finding maximum of the logits and offsets it from the logits to avoid it\n",
    "logits = torch.tensor([-100, -3, 0, 100]) - 100\n",
    "counts = logits.exp()\n",
    "print(f\"Counts: {counts}\")\n",
    "probs = counts / counts.sum()\n",
    "probs"
   ]
  },
  {
   "cell_type": "markdown",
   "metadata": {},
   "source": [
    "## Implementing training loop, overfitting one batch"
   ]
  },
  {
   "cell_type": "code",
   "execution_count": 70,
   "metadata": {},
   "outputs": [
    {
     "name": "stdout",
     "output_type": "stream",
     "text": [
      "0.2561391294002533\n"
     ]
    }
   ],
   "source": [
    "# Set requires grad\n",
    "for p in paramerters:\n",
    "    p.requires_grad = True\n",
    "for _ in range(1000):\n",
    "    # Forward pass\n",
    "    emb = C[X] # [32, 3, 2]\n",
    "    h = torch.tanh(emb.view(-1, 6) @ W1 + b1) # (32, 100)\n",
    "    logits = h @ W2 + b2 # (100, 27)\n",
    "    loss = F.cross_entropy(logits, Y)\n",
    "    # Backward pass\n",
    "    for p in paramerters:\n",
    "        p.grad = None\n",
    "    loss.backward()\n",
    "    \n",
    "    # Update parametrs\n",
    "    for p in paramerters:\n",
    "        p.data += -0.1 * p.grad\n",
    "print(loss.item())"
   ]
  },
  {
   "cell_type": "markdown",
   "metadata": {},
   "source": [
    "We've achieved a very good loss. Why?\n",
    "Because we're fitting the model for only 5 words i.e 32 inputs and with 3481 parameters.\n",
    "Lots of paramters for very less data.\n",
    "What we're doing it overfitting the model for one batch of data.\n",
    "\n",
    "> Note: Based on this overfitting can be defined as tuning many parameters for few samples or a batch of data."
   ]
  },
  {
   "cell_type": "markdown",
   "metadata": {},
   "source": [
    "Why loss of 0 is not achieved?"
   ]
  },
  {
   "cell_type": "code",
   "execution_count": 71,
   "metadata": {},
   "outputs": [
    {
     "data": {
      "text/plain": [
       "torch.return_types.max(\n",
       "values=tensor([13.3348, 17.7904, 20.6014, 20.6121, 16.7355, 13.3348, 15.9983, 14.1722,\n",
       "        15.9145, 18.3614, 15.9395, 20.9265, 13.3348, 17.1090, 17.1319, 20.0602,\n",
       "        13.3348, 16.5893, 15.1017, 17.0581, 18.5860, 15.9670, 10.8740, 10.6871,\n",
       "        15.5056, 13.3348, 16.1795, 16.9743, 12.7426, 16.2009, 19.0845, 16.0196],\n",
       "       grad_fn=<MaxBackward0>),\n",
       "indices=tensor([19, 13, 13,  1,  0, 19, 12,  9, 22,  9,  1,  0, 19, 22,  1,  0, 19, 19,\n",
       "         1,  2,  5, 12, 12,  1,  0, 19, 15, 16,  8,  9,  1,  0]))"
      ]
     },
     "execution_count": 71,
     "metadata": {},
     "output_type": "execute_result"
    }
   ],
   "source": [
    "logits.max(1)"
   ]
  },
  {
   "cell_type": "code",
   "execution_count": 72,
   "metadata": {},
   "outputs": [
    {
     "data": {
      "text/plain": [
       "tensor([ 5, 13, 13,  1,  0, 15, 12,  9, 22,  9,  1,  0,  1, 22,  1,  0,  9, 19,\n",
       "         1,  2,  5, 12, 12,  1,  0, 19, 15, 16,  8,  9,  1,  0])"
      ]
     },
     "execution_count": 72,
     "metadata": {},
     "output_type": "execute_result"
    }
   ],
   "source": [
    "Y"
   ]
  },
  {
   "cell_type": "markdown",
   "metadata": {},
   "source": [
    "We can see the indices of logits and output are same for most of the cases, these are inputs overfitted to outputs. But the missing ones are \n",
    "\n",
    "* ... --> e (emma)\n",
    "* ... --> o (olivia)\n",
    "* ... --> a (ava)\n",
    "* ... --> s (sophia)\n",
    "\n",
    "for different outptus for the same input.\n",
    "\n",
    "To overcome this, let's train on the full dataset."
   ]
  },
  {
   "cell_type": "markdown",
   "metadata": {},
   "source": [
    "## Training on full dataset, minibatches"
   ]
  },
  {
   "cell_type": "code",
   "execution_count": 73,
   "metadata": {},
   "outputs": [],
   "source": [
    "X, Y = build_dataset(block_size=3, number_of_words=len(words),logs=False)"
   ]
  },
  {
   "cell_type": "code",
   "execution_count": 74,
   "metadata": {},
   "outputs": [
    {
     "data": {
      "text/plain": [
       "(torch.Size([228146, 3]), torch.int64, torch.Size([228146]), torch.int64)"
      ]
     },
     "execution_count": 74,
     "metadata": {},
     "output_type": "execute_result"
    }
   ],
   "source": [
    "X.shape, X.dtype, Y.shape, Y.dtype"
   ]
  },
  {
   "cell_type": "code",
   "execution_count": 75,
   "metadata": {},
   "outputs": [],
   "source": [
    "# Building model"
   ]
  },
  {
   "cell_type": "code",
   "execution_count": 120,
   "metadata": {},
   "outputs": [],
   "source": [
    "# Building model\n",
    "def train(epochs):\n",
    "    \n",
    "    g = torch.Generator().manual_seed(2147483647)\n",
    "    C = torch.randn((27, 2), generator=g)\n",
    "    W1 = torch.randn((6, 100), generator=g)\n",
    "    b1 = torch.randn(100, generator=g)\n",
    "    W2 = torch.randn((100, 27), generator=g)\n",
    "    b2 = torch.rand(27, generator = g)\n",
    "    \n",
    "    parameters = [C, W1, b1, W2, b2]\n",
    "    \n",
    "    print(sum(len(p) for p in paramerters))\n",
    "    \n",
    "    for p in parameters:\n",
    "        p.requires_grad = True\n",
    "    \n",
    "    \n",
    "    for epoch in range(epochs):\n",
    "        # Forward pass\n",
    "        emb = C[X]\n",
    "        h = torch.tanh(emb.view(-1, 6) @ W1 + b1)\n",
    "        logits = h @ W2 + b2\n",
    "        loss = F.cross_entropy(logits, Y)\n",
    "        print(loss.item())\n",
    "        # Backward pass\n",
    "        for p in parameters:\n",
    "            p.grad = None\n",
    "            \n",
    "        loss.backward()\n",
    "        \n",
    "        # Update weights\n",
    "        for p in parameters:\n",
    "            p.data += -0.1 * p.grad"
   ]
  },
  {
   "cell_type": "code",
   "execution_count": 121,
   "metadata": {},
   "outputs": [
    {
     "name": "stdout",
     "output_type": "stream",
     "text": [
      "260\n",
      "19.020294189453125\n",
      "16.580400466918945\n",
      "15.413385391235352\n",
      "14.458105087280273\n",
      "13.64019775390625\n",
      "12.918012619018555\n",
      "12.28454303741455\n",
      "11.746655464172363\n",
      "11.311984062194824\n",
      "10.95262336730957\n",
      "10.63051700592041\n",
      "10.332344055175781\n",
      "10.05331039428711\n",
      "9.790295600891113\n",
      "9.541008949279785\n",
      "9.303726196289062\n",
      "9.077118873596191\n",
      "8.860126495361328\n",
      "8.651938438415527\n",
      "8.451969146728516\n"
     ]
    }
   ],
   "source": [
    "train(epochs=20)"
   ]
  },
  {
   "cell_type": "markdown",
   "metadata": {},
   "source": [
    "Each epoch is taking more time, becuase forwarding and backwarding for 228146 samples compared to 32 samples.\n",
    "We can overcome this by training on minibatches instead of training on entire dataset"
   ]
  },
  {
   "cell_type": "code",
   "execution_count": 78,
   "metadata": {},
   "outputs": [
    {
     "data": {
      "text/plain": [
       "tensor([ 77802, 147526, 150033, 157277, 117178, 115922, 201037,  44557, 213559,\n",
       "        197339, 184998, 130891,  54749,  56085, 168857,  19864, 213284,  84208,\n",
       "         71381, 192128,  99960, 155159, 165810, 182532, 101676,  15071,  44777,\n",
       "        127928,  58644,  60322, 223844, 218993])"
      ]
     },
     "execution_count": 78,
     "metadata": {},
     "output_type": "execute_result"
    }
   ],
   "source": [
    "# Mini batch size of 32\n",
    "# from 0 to number of samples which is X.shape[0]\n",
    "# This willl index 32 random samples in X\n",
    "torch.randint(0, X.shape[0], (32,))"
   ]
  },
  {
   "cell_type": "code",
   "execution_count": 79,
   "metadata": {},
   "outputs": [
    {
     "data": {
      "text/plain": [
       "228146"
      ]
     },
     "execution_count": 79,
     "metadata": {},
     "output_type": "execute_result"
    }
   ],
   "source": [
    "X.shape[0]"
   ]
  },
  {
   "cell_type": "code",
   "execution_count": 111,
   "metadata": {},
   "outputs": [],
   "source": [
    "# Building model\n",
    "def train_mini_batch(epochs, batch_size, verbose=False):\n",
    "    \n",
    "    g = torch.Generator().manual_seed(2147483647)\n",
    "    C = torch.randn((27, 2), generator=g)\n",
    "    W1 = torch.randn((6, 100), generator=g)\n",
    "    b1 = torch.randn(100, generator=g)\n",
    "    W2 = torch.randn((100, 27), generator=g)\n",
    "    b2 = torch.rand(27, generator = g)\n",
    "    \n",
    "    parameters = [C, W1, b1, W2, b2]\n",
    "    \n",
    "    print(sum(len(p) for p in paramerters))\n",
    "    \n",
    "    for p in parameters:\n",
    "        p.requires_grad = True\n",
    "    \n",
    "    ix = torch.randint(0, X.shape[0], (32,))\n",
    "    \n",
    "    for epoch in range(epochs):\n",
    "        # Forward pass\n",
    "        emb = C[X]\n",
    "        h = torch.tanh(emb.view(-1, 6) @ W1 + b1)\n",
    "        logits = h @ W2 + b2\n",
    "        loss = F.cross_entropy(logits, Y)\n",
    "        print(loss.item())\n",
    "        # Backward pass\n",
    "        for p in parameters:\n",
    "            p.grad = None\n",
    "            \n",
    "        loss.backward()\n",
    "        \n",
    "        # Update weights\n",
    "        for p in parameters:\n",
    "            p.data += -0.1 * p.grad"
   ]
  },
  {
   "cell_type": "code",
   "execution_count": 113,
   "metadata": {},
   "outputs": [
    {
     "name": "stdout",
     "output_type": "stream",
     "text": [
      "Number of parameters: 3481\n",
      "16.376773834228516\n",
      "12.392233848571777\n",
      "10.534576416015625\n",
      "9.19590950012207\n",
      "8.13210391998291\n",
      "7.308357238769531\n",
      "6.641447067260742\n",
      "6.082164287567139\n",
      "5.59386682510376\n",
      "5.160053730010986\n",
      "4.767560005187988\n",
      "4.407914161682129\n",
      "4.07830286026001\n",
      "3.7809247970581055\n",
      "3.5177419185638428\n",
      "3.285651206970215\n",
      "3.0804784297943115\n",
      "2.8982553482055664\n",
      "2.7348618507385254\n",
      "2.587002992630005\n",
      "2.4523849487304688\n",
      "2.3287715911865234\n",
      "2.2137458324432373\n",
      "2.1054162979125977\n",
      "2.002681016921997\n",
      "1.9049826860427856\n",
      "1.8120567798614502\n",
      "1.7237879037857056\n",
      "1.6401567459106445\n",
      "1.5612035989761353\n",
      "1.4869499206542969\n",
      "1.4173130989074707\n",
      "1.3520870208740234\n",
      "1.2910361289978027\n",
      "1.2340131998062134\n",
      "1.1810041666030884\n",
      "1.132074236869812\n",
      "1.0872477293014526\n",
      "1.0464178323745728\n",
      "1.009345293045044\n",
      "0.975740909576416\n",
      "0.945354700088501\n",
      "0.9180259108543396\n",
      "0.89366614818573\n",
      "0.8721979856491089\n",
      "0.8534780740737915\n",
      "0.837257981300354\n",
      "0.8232128620147705\n",
      "0.8109967708587646\n",
      "0.8002904653549194\n",
      "0.790825366973877\n",
      "0.7823836803436279\n",
      "0.7747942209243774\n",
      "0.7679214477539062\n",
      "0.7616584897041321\n",
      "0.7559196949005127\n",
      "0.7506353259086609\n",
      "0.7457486987113953\n",
      "0.7412127256393433\n",
      "0.7369882464408875\n",
      "0.7330417037010193\n",
      "0.7293446063995361\n",
      "0.7258726954460144\n",
      "0.7226048707962036\n",
      "0.7195225358009338\n",
      "0.716609537601471\n",
      "0.713851809501648\n",
      "0.7112364768981934\n",
      "0.7087523341178894\n",
      "0.7063895463943481\n",
      "0.704139232635498\n",
      "0.7019928693771362\n",
      "0.6999434232711792\n",
      "0.6979840397834778\n",
      "0.6961089968681335\n",
      "0.6943126320838928\n",
      "0.6925902366638184\n",
      "0.6909366846084595\n",
      "0.6893482804298401\n",
      "0.6878209710121155\n",
      "0.6863511800765991\n",
      "0.6849357485771179\n",
      "0.6835716962814331\n",
      "0.6822559833526611\n",
      "0.6809861660003662\n",
      "0.6797597408294678\n",
      "0.678574800491333\n",
      "0.6774289011955261\n",
      "0.6763201355934143\n",
      "0.6752467751502991\n",
      "0.6742071509361267\n",
      "0.6731995344161987\n",
      "0.6722226142883301\n",
      "0.6712748408317566\n",
      "0.670354962348938\n",
      "0.6694617867469788\n",
      "0.6685940027236938\n",
      "0.6677508354187012\n",
      "0.6669308543205261\n",
      "0.6661333441734314\n",
      "Final loss: 0.6661333441734314\n"
     ]
    }
   ],
   "source": [
    "parameters = train_parameters()\n",
    "train_mini_batch(X=X, Y=Y, epochs=100, batch_size=32, verbose=True, parameters=parameters)"
   ]
  },
  {
   "cell_type": "markdown",
   "metadata": {},
   "source": [
    "Adavantages with mini batching:\n",
    "\n",
    "* Faster training cycle\n",
    "* Random indexing leads to differnt data for each mini batch\n",
    "\n",
    "> Since model's trained on mini batches, the quality of gradient is lower and is not reliable. It's not the actual gradient direction. But the gradient direction is good enough even when estimated on a mini batch(32 samples) to be useful.\n",
    "It's much better to have a approximate gradient direction and more steps than an exact or actual gradient with much fewer steps.\n",
    "That's why this works in practice."
   ]
  },
  {
   "cell_type": "code",
   "execution_count": 91,
   "metadata": {},
   "outputs": [
    {
     "name": "stdout",
     "output_type": "stream",
     "text": [
      "Number of parameters: 3481\n"
     ]
    }
   ],
   "source": [
    "parameters = train_parameters()"
   ]
  },
  {
   "cell_type": "code",
   "execution_count": 105,
   "metadata": {},
   "outputs": [
    {
     "name": "stdout",
     "output_type": "stream",
     "text": [
      "3.8174943923950195\n",
      "3.360750436782837\n",
      "2.8533895015716553\n",
      "2.8554763793945312\n",
      "3.198582172393799\n",
      "3.3157482147216797\n",
      "3.3456153869628906\n",
      "2.8912250995635986\n",
      "2.862929582595825\n",
      "3.18989634513855\n",
      "3.078073740005493\n",
      "3.0346901416778564\n",
      "3.312278985977173\n",
      "3.1403250694274902\n",
      "3.41279673576355\n",
      "3.152203321456909\n",
      "3.104570150375366\n",
      "2.863325834274292\n",
      "3.8115103244781494\n",
      "3.744264602661133\n",
      "2.923666477203369\n",
      "2.2960681915283203\n",
      "2.645599603652954\n",
      "4.100358009338379\n",
      "3.2389283180236816\n",
      "2.4436795711517334\n",
      "3.4847030639648438\n",
      "2.8370091915130615\n",
      "3.1010777950286865\n",
      "3.0225372314453125\n",
      "2.601165771484375\n",
      "2.5223495960235596\n",
      "2.8553290367126465\n",
      "3.0711004734039307\n",
      "3.0532522201538086\n",
      "2.469998836517334\n",
      "2.468848466873169\n",
      "3.0989952087402344\n",
      "3.2505929470062256\n",
      "3.1586549282073975\n",
      "2.636077404022217\n",
      "2.908808469772339\n",
      "3.1579129695892334\n",
      "3.5891215801239014\n",
      "2.58316969871521\n",
      "3.006253242492676\n",
      "2.933629274368286\n",
      "3.31626558303833\n",
      "2.953298568725586\n",
      "3.0040993690490723\n",
      "2.6444640159606934\n",
      "2.8729193210601807\n",
      "3.394857406616211\n",
      "3.183337926864624\n",
      "3.088855504989624\n",
      "3.0076067447662354\n",
      "2.948639154434204\n",
      "2.8940725326538086\n",
      "2.6314635276794434\n",
      "2.534924030303955\n",
      "2.826807737350464\n",
      "3.1381683349609375\n",
      "3.0607874393463135\n",
      "2.9272806644439697\n",
      "2.4878523349761963\n",
      "4.212666988372803\n",
      "3.2572274208068848\n",
      "3.270585060119629\n",
      "3.3593695163726807\n",
      "3.011690139770508\n",
      "3.1008994579315186\n",
      "3.1287214756011963\n",
      "3.1817409992218018\n",
      "2.619364023208618\n",
      "2.7096540927886963\n",
      "3.169715404510498\n",
      "3.7319533824920654\n",
      "2.597900867462158\n",
      "3.016878604888916\n",
      "2.783461093902588\n",
      "3.2740986347198486\n",
      "3.313992500305176\n",
      "2.747620105743408\n",
      "2.9664723873138428\n",
      "3.5691449642181396\n",
      "2.685500144958496\n",
      "2.820784091949463\n",
      "2.9397130012512207\n",
      "3.5014541149139404\n",
      "2.717684268951416\n",
      "2.713181495666504\n",
      "2.426224708557129\n",
      "2.650707960128784\n",
      "2.377781391143799\n",
      "2.556499719619751\n",
      "2.44230318069458\n",
      "3.6763033866882324\n",
      "3.6477222442626953\n",
      "2.9438211917877197\n",
      "3.194859743118286\n",
      "3.194859743118286\n"
     ]
    }
   ],
   "source": [
    "# Set requires grad\n",
    "for p in paramerters:\n",
    "    p.requires_grad = True\n",
    "    \n",
    "for _ in range(100):\n",
    "    \n",
    "    # Mini batch indexes\n",
    "    ix = torch.randint(\n",
    "        0, # init of range\n",
    "        X.shape[0], # end of range\n",
    "        (32,) # number of indexes to pick\n",
    "    )\n",
    "    # Forward pass\n",
    "    emb = C[X[ix]] # [32, 3, 2]\n",
    "    h = torch.tanh(emb.view(-1, 6) @ W1 + b1) # (32, 100)\n",
    "    logits = h @ W2 + b2 # (100, 27)\n",
    "    loss = F.cross_entropy(logits, Y[ix])\n",
    "    print(loss.item())\n",
    "    # Backward pass\n",
    "    for p in paramerters:\n",
    "        p.grad = None\n",
    "    loss.backward()\n",
    "    \n",
    "    # Update parametrs\n",
    "    for p in paramerters:\n",
    "        p.data += -0.1 * p.grad\n",
    "print(loss.item())"
   ]
  },
  {
   "cell_type": "code",
   "execution_count": 114,
   "metadata": {},
   "outputs": [
    {
     "data": {
      "text/plain": [
       "tensor(11.9760, grad_fn=<NllLossBackward0>)"
      ]
     },
     "execution_count": 114,
     "metadata": {},
     "output_type": "execute_result"
    }
   ],
   "source": [
    "# Evaluation loss for entire dataset\n",
    "emb = parameters.get(\"emb_weights\")[X]\n",
    "h = torch.tanh(emb.view(-1, 6) @ parameters.get(\"weights_1\") + parameters.get(\"bias_1\"))\n",
    "logits = h @ parameters.get(\"weights_2\") + parameters.get(\"bias_2\")\n",
    "loss = F.cross_entropy(logits, Y)\n",
    "loss"
   ]
  },
  {
   "cell_type": "markdown",
   "metadata": {},
   "source": [
    "## Finding a good learning rate"
   ]
  },
  {
   "cell_type": "code",
   "execution_count": null,
   "metadata": {},
   "outputs": [],
   "source": []
  }
 ],
 "metadata": {
  "kernelspec": {
   "display_name": "Python 3 (ipykernel)",
   "language": "python",
   "name": "python3"
  },
  "language_info": {
   "codemirror_mode": {
    "name": "ipython",
    "version": 3
   },
   "file_extension": ".py",
   "mimetype": "text/x-python",
   "name": "python",
   "nbconvert_exporter": "python",
   "pygments_lexer": "ipython3",
   "version": "3.10.6"
  },
  "toc": {
   "base_numbering": 1,
   "nav_menu": {},
   "number_sections": true,
   "sideBar": true,
   "skip_h1_title": false,
   "title_cell": "Table of Contents",
   "title_sidebar": "Contents",
   "toc_cell": false,
   "toc_position": {
    "height": "calc(100% - 180px)",
    "left": "10px",
    "top": "150px",
    "width": "206px"
   },
   "toc_section_display": true,
   "toc_window_display": false
  },
  "vscode": {
   "interpreter": {
    "hash": "21a124e163c92121797d725bed844fa6fdaf2c4e47bf1f149ef174ae791c682a"
   }
  }
 },
 "nbformat": 4,
 "nbformat_minor": 2
}
