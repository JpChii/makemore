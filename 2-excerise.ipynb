{
 "cells": [
  {
   "attachments": {},
   "cell_type": "markdown",
   "metadata": {},
   "source": [
    "# Excercise\n",
    "\n",
    "We'll be solving below excercises learned from 1-bigram notebook,\n",
    "\n",
    "1. train a trigram language model, i.e. take two characters as an input to predict the 3rd one. Feel free to use either counting or a neural net. Evaluate the loss; Did it improve over a bigram model?\n",
    "2. split up the dataset randomly into 80% train set, 10% dev set, 10% test set. Train the bigram and trigram models only on the training set. Evaluate them on dev and test splits. What can you see?\n",
    "3. use the dev set to tune the strength of smoothing (or regularization) for the trigram model - i.e. try many possibilities and see which one works best based on the dev set loss. What patterns can you see in the train and dev set loss as you tune this strength? Take the best setting of the smoothing and evaluate on the test set once and at the end. How good of a loss do you achieve?\n",
    "4. we saw that our 1-hot vectors merely select a row of W, so producing these vectors explicitly feels wasteful. Can you delete our use of F.one_hot in favor of simply indexing into rows of W?\n",
    "5. look up and use F.cross_entropy instead. You should achieve the same result. Can you think of why we'd prefer to use F.cross_entropy instead?"
   ]
  },
  {
   "attachments": {},
   "cell_type": "markdown",
   "metadata": {},
   "source": [
    "## Excercise 1: Trigram model"
   ]
  },
  {
   "cell_type": "code",
   "execution_count": 1,
   "metadata": {},
   "outputs": [
    {
     "data": {
      "text/plain": [
       "['emma',\n",
       " 'olivia',\n",
       " 'ava',\n",
       " 'isabella',\n",
       " 'sophia',\n",
       " 'charlotte',\n",
       " 'mia',\n",
       " 'amelia',\n",
       " 'harper',\n",
       " 'evelyn']"
      ]
     },
     "execution_count": 1,
     "metadata": {},
     "output_type": "execute_result"
    }
   ],
   "source": [
    "# Importing dataset\n",
    "words = open('names.txt', 'r').read().splitlines()\n",
    "words[:10]"
   ]
  },
  {
   "cell_type": "code",
   "execution_count": 6,
   "metadata": {},
   "outputs": [
    {
     "data": {
      "text/plain": [
       "'mma'"
      ]
     },
     "execution_count": 6,
     "metadata": {},
     "output_type": "execute_result"
    }
   ],
   "source": [
    "words[0][1:]"
   ]
  },
  {
   "cell_type": "code",
   "execution_count": 34,
   "metadata": {},
   "outputs": [],
   "source": [
    "chars = sorted(list(set(''.join(words))))\n",
    "stoi = {s: i+1 for i, s in enumerate(chars)}\n",
    "stoi['.'] = 0\n",
    "itos = {i:s for s, i in stoi.items()}"
   ]
  },
  {
   "cell_type": "code",
   "execution_count": 39,
   "metadata": {},
   "outputs": [],
   "source": [
    "import torch\n",
    "import torch.nn.functional as F"
   ]
  },
  {
   "cell_type": "code",
   "execution_count": 128,
   "metadata": {},
   "outputs": [
    {
     "name": "stdout",
     "output_type": "stream",
     "text": [
      "Number of examples: 196113\n"
     ]
    }
   ],
   "source": [
    "xs1, xs2, ys = [], [], []\n",
    "for word in words:\n",
    "    chs = ['.'] + list(word) + ['.']\n",
    "    for ch1, ch2, ch3 in zip(chs, chs[1:], chs[2:]):\n",
    "        ix1 = stoi[ch1]\n",
    "        ix2 = stoi[ch2]\n",
    "        ix3 = stoi[ch3]\n",
    "        xs1.append(ix1)\n",
    "        xs2.append(ix2)\n",
    "        ys.append(ix3)\n",
    "xs1 = torch.tensor(xs1)\n",
    "xs2 = torch.tensor(xs2)\n",
    "ys = torch.tensor(ys)\n",
    "num = xs1.nelement()\n",
    "print(f\"Number of examples: {num}\")"
   ]
  },
  {
   "attachments": {},
   "cell_type": "markdown",
   "metadata": {},
   "source": [
    "For trigram, we now have two inputs and one outpt. So in the forward pass, we'll initialize two weights(neurons) and perform a sum of xs1 @ W1 + xs2 @ W2. Assuming weighted sum of inputs is logits."
   ]
  },
  {
   "cell_type": "code",
   "execution_count": 129,
   "metadata": {},
   "outputs": [],
   "source": [
    "# Initialize weights\n",
    "g = torch.Generator().manual_seed(42)\n",
    "W1 = torch.randn((27, 27), generator=g, requires_grad=True)\n",
    "W2 = torch.randn((27, 27), generator=g, requires_grad=True)"
   ]
  },
  {
   "cell_type": "code",
   "execution_count": 130,
   "metadata": {},
   "outputs": [
    {
     "data": {
      "text/plain": [
       "(torch.Size([27, 27]), torch.Size([27, 27]))"
      ]
     },
     "execution_count": 130,
     "metadata": {},
     "output_type": "execute_result"
    }
   ],
   "source": [
    "W1.shape, W2.shape"
   ]
  },
  {
   "cell_type": "code",
   "execution_count": 131,
   "metadata": {},
   "outputs": [
    {
     "name": "stdout",
     "output_type": "stream",
     "text": [
      "4.03549337387085\n",
      "3.38352632522583\n",
      "3.066603422164917\n",
      "2.884695053100586\n",
      "2.772024393081665\n",
      "2.6933724880218506\n",
      "2.634974241256714\n",
      "2.5894908905029297\n",
      "2.552961587905884\n",
      "2.5229411125183105\n",
      "2.4978718757629395\n",
      "2.4766249656677246\n",
      "2.458418130874634\n",
      "2.4426538944244385\n",
      "2.4289000034332275\n",
      "2.416811466217041\n",
      "2.4061248302459717\n",
      "2.3966212272644043\n",
      "2.388127565383911\n",
      "2.3804965019226074\n",
      "2.373607635498047\n",
      "2.3673579692840576\n",
      "2.3616628646850586\n",
      "2.356449842453003\n",
      "2.3516578674316406\n",
      "2.347235918045044\n",
      "2.3431406021118164\n",
      "2.339334011077881\n",
      "2.3357856273651123\n",
      "2.332468032836914\n",
      "2.329357862472534\n",
      "2.3264355659484863\n",
      "2.323683500289917\n",
      "2.3210864067077637\n",
      "2.318631649017334\n",
      "2.3163068294525146\n",
      "2.3141021728515625\n",
      "2.3120081424713135\n",
      "2.310016632080078\n",
      "2.3081207275390625\n",
      "2.3063132762908936\n",
      "2.3045878410339355\n",
      "2.3029398918151855\n",
      "2.301363945007324\n",
      "2.2998554706573486\n",
      "2.298410654067993\n",
      "2.297025203704834\n",
      "2.2956955432891846\n",
      "2.2944185733795166\n",
      "2.29319167137146\n",
      "2.292011260986328\n",
      "2.2908754348754883\n",
      "2.289781332015991\n",
      "2.288726806640625\n",
      "2.287710189819336\n",
      "2.286728620529175\n",
      "2.285781145095825\n",
      "2.2848658561706543\n",
      "2.2839810848236084\n",
      "2.2831249237060547\n",
      "2.282297134399414\n",
      "2.2814953327178955\n",
      "2.2807188034057617\n",
      "2.279966115951538\n",
      "2.2792365550994873\n",
      "2.278528928756714\n",
      "2.2778422832489014\n",
      "2.2771754264831543\n",
      "2.2765281200408936\n",
      "2.2758991718292236\n",
      "2.2752881050109863\n",
      "2.274693727493286\n",
      "2.274115562438965\n",
      "2.2735536098480225\n",
      "2.2730062007904053\n",
      "2.2724735736846924\n",
      "2.2719550132751465\n",
      "2.2714498043060303\n",
      "2.2709572315216064\n",
      "2.270477294921875\n",
      "2.2700092792510986\n",
      "2.2695531845092773\n",
      "2.2691078186035156\n",
      "2.2686736583709717\n",
      "2.268249750137329\n",
      "2.267836093902588\n",
      "2.2674319744110107\n",
      "2.2670371532440186\n",
      "2.2666518688201904\n",
      "2.26627516746521\n",
      "2.265906810760498\n",
      "2.2655467987060547\n",
      "2.2651946544647217\n",
      "2.264850616455078\n",
      "2.2645137310028076\n",
      "2.2641842365264893\n",
      "2.263861656188965\n",
      "2.2635459899902344\n",
      "2.2632369995117188\n",
      "2.262934446334839\n"
     ]
    }
   ],
   "source": [
    "for k in range(100):\n",
    "\n",
    "    x1enc = F.one_hot(xs1, num_classes=27).float()\n",
    "    x2enc = F.one_hot(xs2, num_classes=27).float()\n",
    "    logits = x1enc @ W1 + x2enc @ W2\n",
    "    counts = logits.exp()\n",
    "    probs = counts / counts.sum(1, keepdims=True)\n",
    "    loss = -probs[torch.arange(num), ys].log().mean()\n",
    "    print(loss.item())\n",
    "\n",
    "    W1.grad = None\n",
    "    W2.grad = None\n",
    "    loss.backward()\n",
    "\n",
    "    W1.data += -50 * W1.grad\n",
    "    W2.data += -50 * W2.grad\n",
    "    "
   ]
  },
  {
   "attachments": {},
   "cell_type": "markdown",
   "metadata": {},
   "source": [
    "The loss is reduced to 2.26 compared to 2.47 loss of trigram model."
   ]
  },
  {
   "cell_type": "code",
   "execution_count": 172,
   "metadata": {},
   "outputs": [
    {
     "name": "stdout",
     "output_type": "stream",
     "text": [
      "rsipel.\n",
      "lyania.\n",
      "ha.\n",
      "roon.\n",
      "rlockasmily.\n"
     ]
    }
   ],
   "source": [
    "for i in range(5):\n",
    "\n",
    "    out = []\n",
    "    ix1 = 0\n",
    "    ix2 = 1\n",
    "    while True:\n",
    "        x1enc = F.one_hot(torch.tensor([ix1]), num_classes=27).float()\n",
    "        x2enc = F.one_hot(torch.tensor([ix2]), num_classes=27).float()\n",
    "        logits = x1enc @ W1 + x2enc @ W2\n",
    "        counts = logits.exp()\n",
    "        p = counts / counts.sum(1, keepdims=True)\n",
    "        next_ix = torch.multinomial(p, num_samples=1, replacement=True, generator=g).item()\n",
    "        out.append(itos[next_ix])\n",
    "        ix1 = ix2\n",
    "        ix2 = next_ix\n",
    "        if ix2 == 0:\n",
    "            break\n",
    "    print(''.join(out))"
   ]
  },
  {
   "attachments": {},
   "cell_type": "markdown",
   "metadata": {},
   "source": [
    "We're getting something like names but some of them are as bad as bigram model. But some improvement can be seen."
   ]
  },
  {
   "cell_type": "code",
   "execution_count": null,
   "metadata": {},
   "outputs": [],
   "source": []
  }
 ],
 "metadata": {
  "kernelspec": {
   "display_name": "Python 3.10.6",
   "language": "python",
   "name": "python3"
  },
  "language_info": {
   "codemirror_mode": {
    "name": "ipython",
    "version": 3
   },
   "file_extension": ".py",
   "mimetype": "text/x-python",
   "name": "python",
   "nbconvert_exporter": "python",
   "pygments_lexer": "ipython3",
   "version": "3.10.6"
  },
  "orig_nbformat": 4,
  "vscode": {
   "interpreter": {
    "hash": "21a124e163c92121797d725bed844fa6fdaf2c4e47bf1f149ef174ae791c682a"
   }
  }
 },
 "nbformat": 4,
 "nbformat_minor": 2
}
