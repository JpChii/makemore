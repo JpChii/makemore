{
 "cells": [
  {
   "cell_type": "markdown",
   "metadata": {},
   "source": [
    "# MLP"
   ]
  },
  {
   "cell_type": "markdown",
   "metadata": {},
   "source": [
    "The bigram model using probablities based on normalized counts has it's limitations.\n",
    "\n",
    "To extend it to have more context like a two characters as input the probabalities matrix will have (27*27) possilities and for three characters (27 * 27 * 27) and becomes too big.\n",
    "\n",
    "To overcome this we're gonna try out [Bengion et al.2003 MLP model paper](https://www.youtube.com/redirect?event=video_description&redir_token=QUFFLUhqbVhPSHNrVkluYVY5elh4RDZrOWd4R2xVNVRQd3xBQ3Jtc0tsUDE0UFVRQURUTTlWckExZWp4eGxFa3lRYlQ3amtYX3kxdDI1ZW5uU1pxZERidUYyZkJjSVlzd21rMndCMFlYRW5kYmZISkxfSDR1TzhaOXI1bXptUnUxU0xyUXJYeEpTZlRrTkRjTS0wTkMxNjFnSQ&q=https%3A%2F%2Fwww.jmlr.org%2Fpapers%2Fvolume3%2Fbengio03a%2Fbengio03a.pdf&v=TCH_1BHY58I)\n",
    "\n",
    "* This paper uses words but we'll proceed with characters\n",
    "* Each character will be represented as a 30 dimensional vector \n",
    "* The advantages of embeddings is knowledge transference, for examples animals like dog, cat might be closer to each other in 30 dimensional space. If cat was not in training set but this knowledge transfer will help in this case.\n",
    "\n",
    "Let's implement the below architecture in this notebook\n",
    "![fully connected MLP](https://pbs.twimg.com/media/Fhzl42hVUAI9U8V?format=jpg&name=large)\n",
    "\n",
    "* Three input characters with 30 dimensional embedding each\n",
    "* A Lookup table for characters\n",
    "* Tanh activation connected to three inputs\n",
    "* since we have 27 characters a final layer with 27 units(logits)\n",
    "* softmax on top of it to normalize the probabality\n",
    "* pluck the label based on probabality"
   ]
  },
  {
   "cell_type": "code",
   "execution_count": 31,
   "metadata": {
    "ExecuteTime": {
     "end_time": "2023-02-08T05:47:31.313008Z",
     "start_time": "2023-02-08T05:47:25.987840Z"
    }
   },
   "outputs": [],
   "source": [
    "import torch\n",
    "import torch.nn.functional as F\n",
    "import matplotlib.pyplot as plt\n",
    "%matplotlib inline"
   ]
  },
  {
   "cell_type": "markdown",
   "metadata": {},
   "source": [
    "## Rebuilding training dataset"
   ]
  },
  {
   "cell_type": "code",
   "execution_count": 32,
   "metadata": {
    "ExecuteTime": {
     "end_time": "2023-02-08T05:47:31.330066Z",
     "start_time": "2023-02-08T05:47:31.317289Z"
    }
   },
   "outputs": [],
   "source": [
    "# Read all words\n",
    "def read_words():\n",
    "    words = open(\"names.txt\").read().splitlines()\n",
    "    return words\n",
    "words = read_words()"
   ]
  },
  {
   "cell_type": "code",
   "execution_count": 33,
   "metadata": {
    "ExecuteTime": {
     "end_time": "2023-02-08T05:47:31.376304Z",
     "start_time": "2023-02-08T05:47:31.339831Z"
    }
   },
   "outputs": [
    {
     "data": {
      "text/plain": [
       "32033"
      ]
     },
     "execution_count": 33,
     "metadata": {},
     "output_type": "execute_result"
    }
   ],
   "source": [
    "len(words)"
   ]
  },
  {
   "cell_type": "code",
   "execution_count": 34,
   "metadata": {
    "ExecuteTime": {
     "end_time": "2023-02-08T05:47:31.403383Z",
     "start_time": "2023-02-08T05:47:31.390165Z"
    }
   },
   "outputs": [
    {
     "name": "stdout",
     "output_type": "stream",
     "text": [
      "{1: 'a', 2: 'b', 3: 'c', 4: 'd', 5: 'e', 6: 'f', 7: 'g', 8: 'h', 9: 'i', 10: 'j', 11: 'k', 12: 'l', 13: 'm', 14: 'n', 15: 'o', 16: 'p', 17: 'q', 18: 'r', 19: 's', 20: 't', 21: 'u', 22: 'v', 23: 'w', 24: 'x', 25: 'y', 26: 'z', 0: '.'}\n"
     ]
    }
   ],
   "source": [
    "# build the vocabulary of characters and mappings to/from integers\n",
    "chars = sorted(list(set(''.join(words))))\n",
    "stoi  = {s:i+1 for i, s in enumerate(chars)}\n",
    "stoi['.'] = 0\n",
    "itos = {i:s for s, i in stoi.items()}\n",
    "print(itos)"
   ]
  },
  {
   "cell_type": "markdown",
   "metadata": {},
   "source": [
    "### Build the dataset"
   ]
  },
  {
   "cell_type": "code",
   "execution_count": 35,
   "metadata": {
    "ExecuteTime": {
     "end_time": "2023-02-08T05:47:31.426980Z",
     "start_time": "2023-02-08T05:47:31.413084Z"
    }
   },
   "outputs": [],
   "source": [
    "def build_dataset(block_size, number_of_words: int, logs=False):\n",
    "    import random\n",
    "    random.seed(42)\n",
    "    random.shuffle(words)\n",
    "    block_size = block_size # Context ength: how many characters do we take to predict the next one?\n",
    "    X, Y = [], []\n",
    "    for w in words[:number_of_words]:\n",
    "        if logs:\n",
    "            print(w)\n",
    "        context = [0] * block_size\n",
    "        for ch in w + '.':\n",
    "            if logs:\n",
    "                print(f\"Context: {context}\")\n",
    "            ix = stoi[ch]\n",
    "            X.append(context)\n",
    "            Y.append(ix)\n",
    "            if logs:\n",
    "                print(''.join(itos[i] for i in context), '--->', itos[ix])\n",
    "            context = context[1:] + [ix]\n",
    "            if logs:\n",
    "                print(f\"Context after append: {context}\")\n",
    "\n",
    "    X = torch.tensor(X)\n",
    "    Y = torch.tensor(Y)\n",
    "    return X, Y"
   ]
  },
  {
   "cell_type": "code",
   "execution_count": 36,
   "metadata": {
    "ExecuteTime": {
     "end_time": "2023-02-08T05:47:31.442227Z",
     "start_time": "2023-02-08T05:47:31.434452Z"
    }
   },
   "outputs": [
    {
     "name": "stdout",
     "output_type": "stream",
     "text": [
      "yuheng\n",
      "Context: [0, 0, 0]\n",
      "... ---> y\n",
      "Context after append: [0, 0, 25]\n",
      "Context: [0, 0, 25]\n",
      "..y ---> u\n",
      "Context after append: [0, 25, 21]\n",
      "Context: [0, 25, 21]\n",
      ".yu ---> h\n",
      "Context after append: [25, 21, 8]\n",
      "Context: [25, 21, 8]\n",
      "yuh ---> e\n",
      "Context after append: [21, 8, 5]\n",
      "Context: [21, 8, 5]\n",
      "uhe ---> n\n",
      "Context after append: [8, 5, 14]\n",
      "Context: [8, 5, 14]\n",
      "hen ---> g\n",
      "Context after append: [5, 14, 7]\n",
      "Context: [5, 14, 7]\n",
      "eng ---> .\n",
      "Context after append: [14, 7, 0]\n",
      "diondre\n",
      "Context: [0, 0, 0]\n",
      "... ---> d\n",
      "Context after append: [0, 0, 4]\n",
      "Context: [0, 0, 4]\n",
      "..d ---> i\n",
      "Context after append: [0, 4, 9]\n",
      "Context: [0, 4, 9]\n",
      ".di ---> o\n",
      "Context after append: [4, 9, 15]\n",
      "Context: [4, 9, 15]\n",
      "dio ---> n\n",
      "Context after append: [9, 15, 14]\n",
      "Context: [9, 15, 14]\n",
      "ion ---> d\n",
      "Context after append: [15, 14, 4]\n",
      "Context: [15, 14, 4]\n",
      "ond ---> r\n",
      "Context after append: [14, 4, 18]\n",
      "Context: [14, 4, 18]\n",
      "ndr ---> e\n",
      "Context after append: [4, 18, 5]\n",
      "Context: [4, 18, 5]\n",
      "dre ---> .\n",
      "Context after append: [18, 5, 0]\n",
      "xavien\n",
      "Context: [0, 0, 0]\n",
      "... ---> x\n",
      "Context after append: [0, 0, 24]\n",
      "Context: [0, 0, 24]\n",
      "..x ---> a\n",
      "Context after append: [0, 24, 1]\n",
      "Context: [0, 24, 1]\n",
      ".xa ---> v\n",
      "Context after append: [24, 1, 22]\n",
      "Context: [24, 1, 22]\n",
      "xav ---> i\n",
      "Context after append: [1, 22, 9]\n",
      "Context: [1, 22, 9]\n",
      "avi ---> e\n",
      "Context after append: [22, 9, 5]\n",
      "Context: [22, 9, 5]\n",
      "vie ---> n\n",
      "Context after append: [9, 5, 14]\n",
      "Context: [9, 5, 14]\n",
      "ien ---> .\n",
      "Context after append: [5, 14, 0]\n",
      "jori\n",
      "Context: [0, 0, 0]\n",
      "... ---> j\n",
      "Context after append: [0, 0, 10]\n",
      "Context: [0, 0, 10]\n",
      "..j ---> o\n",
      "Context after append: [0, 10, 15]\n",
      "Context: [0, 10, 15]\n",
      ".jo ---> r\n",
      "Context after append: [10, 15, 18]\n",
      "Context: [10, 15, 18]\n",
      "jor ---> i\n",
      "Context after append: [15, 18, 9]\n",
      "Context: [15, 18, 9]\n",
      "ori ---> .\n",
      "Context after append: [18, 9, 0]\n",
      "juanluis\n",
      "Context: [0, 0, 0]\n",
      "... ---> j\n",
      "Context after append: [0, 0, 10]\n",
      "Context: [0, 0, 10]\n",
      "..j ---> u\n",
      "Context after append: [0, 10, 21]\n",
      "Context: [0, 10, 21]\n",
      ".ju ---> a\n",
      "Context after append: [10, 21, 1]\n",
      "Context: [10, 21, 1]\n",
      "jua ---> n\n",
      "Context after append: [21, 1, 14]\n",
      "Context: [21, 1, 14]\n",
      "uan ---> l\n",
      "Context after append: [1, 14, 12]\n",
      "Context: [1, 14, 12]\n",
      "anl ---> u\n",
      "Context after append: [14, 12, 21]\n",
      "Context: [14, 12, 21]\n",
      "nlu ---> i\n",
      "Context after append: [12, 21, 9]\n",
      "Context: [12, 21, 9]\n",
      "lui ---> s\n",
      "Context after append: [21, 9, 19]\n",
      "Context: [21, 9, 19]\n",
      "uis ---> .\n",
      "Context after append: [9, 19, 0]\n"
     ]
    }
   ],
   "source": [
    "X, Y = build_dataset(block_size=3, number_of_words=5, logs=True)"
   ]
  },
  {
   "cell_type": "code",
   "execution_count": 37,
   "metadata": {
    "ExecuteTime": {
     "end_time": "2023-02-08T05:47:31.459477Z",
     "start_time": "2023-02-08T05:47:31.448995Z"
    }
   },
   "outputs": [
    {
     "data": {
      "text/plain": [
       "(torch.Size([36, 3]), torch.int64, torch.Size([36]), torch.int64)"
      ]
     },
     "execution_count": 37,
     "metadata": {},
     "output_type": "execute_result"
    }
   ],
   "source": [
    "X.shape, X.dtype, Y.shape, Y.dtype"
   ]
  },
  {
   "cell_type": "code",
   "execution_count": 38,
   "metadata": {
    "ExecuteTime": {
     "end_time": "2023-02-08T05:47:31.471780Z",
     "start_time": "2023-02-08T05:47:31.462583Z"
    }
   },
   "outputs": [
    {
     "data": {
      "text/plain": [
       "tensor([[ 0,  0,  0],\n",
       "        [ 0,  0, 25],\n",
       "        [ 0, 25, 21],\n",
       "        [25, 21,  8],\n",
       "        [21,  8,  5],\n",
       "        [ 8,  5, 14],\n",
       "        [ 5, 14,  7],\n",
       "        [ 0,  0,  0],\n",
       "        [ 0,  0,  4],\n",
       "        [ 0,  4,  9],\n",
       "        [ 4,  9, 15],\n",
       "        [ 9, 15, 14],\n",
       "        [15, 14,  4],\n",
       "        [14,  4, 18],\n",
       "        [ 4, 18,  5],\n",
       "        [ 0,  0,  0],\n",
       "        [ 0,  0, 24],\n",
       "        [ 0, 24,  1],\n",
       "        [24,  1, 22],\n",
       "        [ 1, 22,  9],\n",
       "        [22,  9,  5],\n",
       "        [ 9,  5, 14],\n",
       "        [ 0,  0,  0],\n",
       "        [ 0,  0, 10],\n",
       "        [ 0, 10, 15],\n",
       "        [10, 15, 18],\n",
       "        [15, 18,  9],\n",
       "        [ 0,  0,  0],\n",
       "        [ 0,  0, 10],\n",
       "        [ 0, 10, 21],\n",
       "        [10, 21,  1],\n",
       "        [21,  1, 14],\n",
       "        [ 1, 14, 12],\n",
       "        [14, 12, 21],\n",
       "        [12, 21,  9],\n",
       "        [21,  9, 19]])"
      ]
     },
     "execution_count": 38,
     "metadata": {},
     "output_type": "execute_result"
    }
   ],
   "source": [
    "X"
   ]
  },
  {
   "cell_type": "code",
   "execution_count": 39,
   "metadata": {
    "ExecuteTime": {
     "end_time": "2023-02-08T05:47:31.487751Z",
     "start_time": "2023-02-08T05:47:31.475262Z"
    }
   },
   "outputs": [
    {
     "data": {
      "text/plain": [
       "tensor([25, 21,  8,  5, 14,  7,  0,  4,  9, 15, 14,  4, 18,  5,  0, 24,  1, 22,\n",
       "         9,  5, 14,  0, 10, 15, 18,  9,  0, 10, 21,  1, 14, 12, 21,  9, 19,  0])"
      ]
     },
     "execution_count": 39,
     "metadata": {},
     "output_type": "execute_result"
    }
   ],
   "source": [
    "Y"
   ]
  },
  {
   "cell_type": "markdown",
   "metadata": {},
   "source": [
    "Now we've the dataset, let's build the embedding lookup table\n",
    "\n",
    "## Embedding lookup table\n",
    "\n",
    "For 1700 words, 30 dimension space was used in paper. For 27 possiblities(characters) let's try a 2 dimensionsal embedding."
   ]
  },
  {
   "cell_type": "code",
   "execution_count": 40,
   "metadata": {
    "ExecuteTime": {
     "end_time": "2023-02-08T05:47:31.528393Z",
     "start_time": "2023-02-08T05:47:31.509917Z"
    }
   },
   "outputs": [
    {
     "data": {
      "text/plain": [
       "(tensor([[ 0.9122, -2.6429],\n",
       "         [ 1.2523,  1.5196],\n",
       "         [-0.3277, -1.3908],\n",
       "         [-1.5812, -0.2596],\n",
       "         [-0.8151,  0.7900],\n",
       "         [-0.1013,  1.0938],\n",
       "         [ 1.9051, -0.4893],\n",
       "         [-0.2231, -0.0781],\n",
       "         [-2.1392, -0.9864],\n",
       "         [-1.3120, -1.1351],\n",
       "         [-1.6345, -2.0381],\n",
       "         [-0.9138, -2.0658],\n",
       "         [-1.8135,  1.9313],\n",
       "         [-0.6188, -0.4869],\n",
       "         [ 0.8778, -0.2110],\n",
       "         [-0.0155, -1.4742],\n",
       "         [ 0.4842,  1.6302],\n",
       "         [ 0.9827,  0.8461],\n",
       "         [ 0.9586,  0.2187],\n",
       "         [ 0.1862,  1.5088],\n",
       "         [-0.2727, -0.8020],\n",
       "         [-0.4902,  0.6619],\n",
       "         [ 0.5622, -0.2775],\n",
       "         [ 0.2276,  1.5579],\n",
       "         [ 1.7736, -0.0092],\n",
       "         [ 0.3806,  0.0655],\n",
       "         [ 0.5756,  0.2700]]),\n",
       " torch.Size([27, 2]))"
      ]
     },
     "execution_count": 40,
     "metadata": {},
     "output_type": "execute_result"
    }
   ],
   "source": [
    "# Initialized randomnly\n",
    "C = torch.randn((27, 2))\n",
    "C, C.shape"
   ]
  },
  {
   "cell_type": "code",
   "execution_count": 41,
   "metadata": {
    "ExecuteTime": {
     "end_time": "2023-02-08T05:47:31.552439Z",
     "start_time": "2023-02-08T05:47:31.537264Z"
    }
   },
   "outputs": [
    {
     "data": {
      "text/plain": [
       "tensor([-0.1013,  1.0938])"
      ]
     },
     "execution_count": 41,
     "metadata": {},
     "output_type": "execute_result"
    }
   ],
   "source": [
    "# The lookup of embedding for single character can be done two ways\n",
    "# 1. Indexing\n",
    "C[5]"
   ]
  },
  {
   "cell_type": "code",
   "execution_count": 42,
   "metadata": {
    "ExecuteTime": {
     "end_time": "2023-02-08T05:47:31.574585Z",
     "start_time": "2023-02-08T05:47:31.560462Z"
    }
   },
   "outputs": [
    {
     "data": {
      "text/plain": [
       "tensor([-0.1013,  1.0938])"
      ]
     },
     "execution_count": 42,
     "metadata": {},
     "output_type": "execute_result"
    }
   ],
   "source": [
    "# 2. Onehot\n",
    "F.one_hot(torch.tensor(5), num_classes=27).float() @ C"
   ]
  },
  {
   "cell_type": "markdown",
   "metadata": {},
   "source": [
    "Indexing and one hot encoding gives the same results. We'll use indexing as it's faster."
   ]
  },
  {
   "cell_type": "code",
   "execution_count": 43,
   "metadata": {
    "ExecuteTime": {
     "end_time": "2023-02-08T05:47:31.600985Z",
     "start_time": "2023-02-08T05:47:31.585045Z"
    }
   },
   "outputs": [
    {
     "name": "stdout",
     "output_type": "stream",
     "text": [
      "tensor([[-0.1013,  1.0938],\n",
      "        [ 1.9051, -0.4893],\n",
      "        [-0.2231, -0.0781]])\n",
      "tensor([[-0.1013,  1.0938],\n",
      "        [ 1.9051, -0.4893],\n",
      "        [-0.2231, -0.0781]])\n"
     ]
    }
   ],
   "source": [
    "# Indexing multiple values\n",
    "# Singce our shape of input is 32, 3\n",
    "print(C[[5, 6, 7]])\n",
    "# Works also with tensor\n",
    "print(C[torch.tensor([5, 6, 7])])"
   ]
  },
  {
   "cell_type": "code",
   "execution_count": 44,
   "metadata": {
    "ExecuteTime": {
     "end_time": "2023-02-08T05:47:31.623028Z",
     "start_time": "2023-02-08T05:47:31.607657Z"
    }
   },
   "outputs": [
    {
     "data": {
      "text/plain": [
       "tensor([[[ 0.9122, -2.6429],\n",
       "         [ 0.9122, -2.6429],\n",
       "         [ 0.9122, -2.6429]],\n",
       "\n",
       "        [[ 0.9122, -2.6429],\n",
       "         [ 0.9122, -2.6429],\n",
       "         [ 0.3806,  0.0655]],\n",
       "\n",
       "        [[ 0.9122, -2.6429],\n",
       "         [ 0.3806,  0.0655],\n",
       "         [-0.4902,  0.6619]],\n",
       "\n",
       "        [[ 0.3806,  0.0655],\n",
       "         [-0.4902,  0.6619],\n",
       "         [-2.1392, -0.9864]],\n",
       "\n",
       "        [[-0.4902,  0.6619],\n",
       "         [-2.1392, -0.9864],\n",
       "         [-0.1013,  1.0938]],\n",
       "\n",
       "        [[-2.1392, -0.9864],\n",
       "         [-0.1013,  1.0938],\n",
       "         [ 0.8778, -0.2110]],\n",
       "\n",
       "        [[-0.1013,  1.0938],\n",
       "         [ 0.8778, -0.2110],\n",
       "         [-0.2231, -0.0781]],\n",
       "\n",
       "        [[ 0.9122, -2.6429],\n",
       "         [ 0.9122, -2.6429],\n",
       "         [ 0.9122, -2.6429]],\n",
       "\n",
       "        [[ 0.9122, -2.6429],\n",
       "         [ 0.9122, -2.6429],\n",
       "         [-0.8151,  0.7900]],\n",
       "\n",
       "        [[ 0.9122, -2.6429],\n",
       "         [-0.8151,  0.7900],\n",
       "         [-1.3120, -1.1351]],\n",
       "\n",
       "        [[-0.8151,  0.7900],\n",
       "         [-1.3120, -1.1351],\n",
       "         [-0.0155, -1.4742]],\n",
       "\n",
       "        [[-1.3120, -1.1351],\n",
       "         [-0.0155, -1.4742],\n",
       "         [ 0.8778, -0.2110]],\n",
       "\n",
       "        [[-0.0155, -1.4742],\n",
       "         [ 0.8778, -0.2110],\n",
       "         [-0.8151,  0.7900]],\n",
       "\n",
       "        [[ 0.8778, -0.2110],\n",
       "         [-0.8151,  0.7900],\n",
       "         [ 0.9586,  0.2187]],\n",
       "\n",
       "        [[-0.8151,  0.7900],\n",
       "         [ 0.9586,  0.2187],\n",
       "         [-0.1013,  1.0938]],\n",
       "\n",
       "        [[ 0.9122, -2.6429],\n",
       "         [ 0.9122, -2.6429],\n",
       "         [ 0.9122, -2.6429]],\n",
       "\n",
       "        [[ 0.9122, -2.6429],\n",
       "         [ 0.9122, -2.6429],\n",
       "         [ 1.7736, -0.0092]],\n",
       "\n",
       "        [[ 0.9122, -2.6429],\n",
       "         [ 1.7736, -0.0092],\n",
       "         [ 1.2523,  1.5196]],\n",
       "\n",
       "        [[ 1.7736, -0.0092],\n",
       "         [ 1.2523,  1.5196],\n",
       "         [ 0.5622, -0.2775]],\n",
       "\n",
       "        [[ 1.2523,  1.5196],\n",
       "         [ 0.5622, -0.2775],\n",
       "         [-1.3120, -1.1351]],\n",
       "\n",
       "        [[ 0.5622, -0.2775],\n",
       "         [-1.3120, -1.1351],\n",
       "         [-0.1013,  1.0938]],\n",
       "\n",
       "        [[-1.3120, -1.1351],\n",
       "         [-0.1013,  1.0938],\n",
       "         [ 0.8778, -0.2110]],\n",
       "\n",
       "        [[ 0.9122, -2.6429],\n",
       "         [ 0.9122, -2.6429],\n",
       "         [ 0.9122, -2.6429]],\n",
       "\n",
       "        [[ 0.9122, -2.6429],\n",
       "         [ 0.9122, -2.6429],\n",
       "         [-1.6345, -2.0381]],\n",
       "\n",
       "        [[ 0.9122, -2.6429],\n",
       "         [-1.6345, -2.0381],\n",
       "         [-0.0155, -1.4742]],\n",
       "\n",
       "        [[-1.6345, -2.0381],\n",
       "         [-0.0155, -1.4742],\n",
       "         [ 0.9586,  0.2187]],\n",
       "\n",
       "        [[-0.0155, -1.4742],\n",
       "         [ 0.9586,  0.2187],\n",
       "         [-1.3120, -1.1351]],\n",
       "\n",
       "        [[ 0.9122, -2.6429],\n",
       "         [ 0.9122, -2.6429],\n",
       "         [ 0.9122, -2.6429]],\n",
       "\n",
       "        [[ 0.9122, -2.6429],\n",
       "         [ 0.9122, -2.6429],\n",
       "         [-1.6345, -2.0381]],\n",
       "\n",
       "        [[ 0.9122, -2.6429],\n",
       "         [-1.6345, -2.0381],\n",
       "         [-0.4902,  0.6619]],\n",
       "\n",
       "        [[-1.6345, -2.0381],\n",
       "         [-0.4902,  0.6619],\n",
       "         [ 1.2523,  1.5196]],\n",
       "\n",
       "        [[-0.4902,  0.6619],\n",
       "         [ 1.2523,  1.5196],\n",
       "         [ 0.8778, -0.2110]],\n",
       "\n",
       "        [[ 1.2523,  1.5196],\n",
       "         [ 0.8778, -0.2110],\n",
       "         [-1.8135,  1.9313]],\n",
       "\n",
       "        [[ 0.8778, -0.2110],\n",
       "         [-1.8135,  1.9313],\n",
       "         [-0.4902,  0.6619]],\n",
       "\n",
       "        [[-1.8135,  1.9313],\n",
       "         [-0.4902,  0.6619],\n",
       "         [-1.3120, -1.1351]],\n",
       "\n",
       "        [[-0.4902,  0.6619],\n",
       "         [-1.3120, -1.1351],\n",
       "         [ 0.1862,  1.5088]]])"
      ]
     },
     "execution_count": 44,
     "metadata": {},
     "output_type": "execute_result"
    }
   ],
   "source": [
    "# The total equivalent would be\n",
    "C[X]"
   ]
  },
  {
   "cell_type": "code",
   "execution_count": 45,
   "metadata": {
    "ExecuteTime": {
     "end_time": "2023-02-08T05:47:31.638506Z",
     "start_time": "2023-02-08T05:47:31.627352Z"
    }
   },
   "outputs": [
    {
     "data": {
      "text/plain": [
       "torch.Size([36, 3, 2])"
      ]
     },
     "execution_count": 45,
     "metadata": {},
     "output_type": "execute_result"
    }
   ],
   "source": [
    "# Let's verify this\n",
    "C[X].shape"
   ]
  },
  {
   "cell_type": "markdown",
   "metadata": {},
   "source": [
    "32 is total number of inputs with shape 3 and dimensional embedding 2."
   ]
  },
  {
   "cell_type": "code",
   "execution_count": 46,
   "metadata": {
    "ExecuteTime": {
     "end_time": "2023-02-08T05:47:31.653540Z",
     "start_time": "2023-02-08T05:47:31.644716Z"
    }
   },
   "outputs": [
    {
     "data": {
      "text/plain": [
       "tensor(18)"
      ]
     },
     "execution_count": 46,
     "metadata": {},
     "output_type": "execute_result"
    }
   ],
   "source": [
    "X[13, 2]"
   ]
  },
  {
   "cell_type": "code",
   "execution_count": 47,
   "metadata": {
    "ExecuteTime": {
     "end_time": "2023-02-08T05:47:31.678282Z",
     "start_time": "2023-02-08T05:47:31.662373Z"
    }
   },
   "outputs": [
    {
     "data": {
      "text/plain": [
       "tensor([0.9586, 0.2187])"
      ]
     },
     "execution_count": 47,
     "metadata": {},
     "output_type": "execute_result"
    }
   ],
   "source": [
    "C[X][13, 2]"
   ]
  },
  {
   "cell_type": "code",
   "execution_count": 48,
   "metadata": {
    "ExecuteTime": {
     "end_time": "2023-02-08T05:47:31.697727Z",
     "start_time": "2023-02-08T05:47:31.684945Z"
    }
   },
   "outputs": [
    {
     "data": {
      "text/plain": [
       "tensor([1.2523, 1.5196])"
      ]
     },
     "execution_count": 48,
     "metadata": {},
     "output_type": "execute_result"
    }
   ],
   "source": [
    "C[1]"
   ]
  },
  {
   "cell_type": "code",
   "execution_count": 49,
   "metadata": {
    "ExecuteTime": {
     "end_time": "2023-02-08T05:47:31.716937Z",
     "start_time": "2023-02-08T05:47:31.705431Z"
    }
   },
   "outputs": [
    {
     "data": {
      "text/plain": [
       "torch.Size([36, 3, 2])"
      ]
     },
     "execution_count": 49,
     "metadata": {},
     "output_type": "execute_result"
    }
   ],
   "source": [
    "emb = C[X]\n",
    "emb.shape"
   ]
  },
  {
   "cell_type": "markdown",
   "metadata": {},
   "source": [
    "Now the embedding lookup table is completed."
   ]
  },
  {
   "cell_type": "markdown",
   "metadata": {},
   "source": [
    "## Implementing the hidden layer plus internals of torch.Tensor, storage and views"
   ]
  },
  {
   "cell_type": "code",
   "execution_count": 50,
   "metadata": {
    "ExecuteTime": {
     "end_time": "2023-02-08T05:47:31.735053Z",
     "start_time": "2023-02-08T05:47:31.727489Z"
    }
   },
   "outputs": [],
   "source": [
    "# Intitializing weights and biases\n",
    "W1 = torch.randn((\n",
    "    6, # 3(inputs) * 2(embedding dim)\n",
    "    100 # Number of neurons\n",
    "))\n",
    "b1 = torch.randn(100)"
   ]
  },
  {
   "cell_type": "code",
   "execution_count": 51,
   "metadata": {
    "ExecuteTime": {
     "end_time": "2023-02-08T05:47:31.753513Z",
     "start_time": "2023-02-08T05:47:31.742269Z"
    }
   },
   "outputs": [
    {
     "data": {
      "text/plain": [
       "torch.Size([6, 100])"
      ]
     },
     "execution_count": 51,
     "metadata": {},
     "output_type": "execute_result"
    }
   ],
   "source": [
    "W1.shape"
   ]
  },
  {
   "cell_type": "code",
   "execution_count": 52,
   "metadata": {
    "ExecuteTime": {
     "end_time": "2023-02-08T05:47:32.434474Z",
     "start_time": "2023-02-08T05:47:31.760805Z"
    }
   },
   "outputs": [],
   "source": [
    "# # Inputs * weights + bias will not work  now\n",
    "# # as dimensions of weighs and input doesn't abide\n",
    "# # by matrix multiplication rulees\n",
    "# # shape of input [32, 3, 2], weights [6, 100]\n",
    "# emb @ W1 + b1"
   ]
  },
  {
   "cell_type": "markdown",
   "metadata": {},
   "source": [
    "PyTorch's tensor's a really powerful, because ut has tons of methods to allow us to create modify and perfom lot's of operations on it.\n",
    "\n",
    "We're gonna use [torch.cat](https://pytorch.org/docs/stable/generated/torch.cat.html) to tackle the above problem."
   ]
  },
  {
   "cell_type": "code",
   "execution_count": 53,
   "metadata": {
    "ExecuteTime": {
     "end_time": "2023-02-08T05:47:32.440581Z",
     "start_time": "2023-02-08T05:47:32.440548Z"
    }
   },
   "outputs": [
    {
     "data": {
      "text/plain": [
       "torch.Size([36, 6])"
      ]
     },
     "execution_count": 53,
     "metadata": {},
     "output_type": "execute_result"
    }
   ],
   "source": [
    "cat_tensors = torch.cat([emb[:, 0, :], emb[:, 1, :], emb[:, 2, :]], 1)\n",
    "cat_tensors.shape"
   ]
  },
  {
   "cell_type": "code",
   "execution_count": 54,
   "metadata": {
    "ExecuteTime": {
     "end_time": "2023-02-08T05:47:32.444904Z",
     "start_time": "2023-02-08T05:47:32.444856Z"
    }
   },
   "outputs": [
    {
     "data": {
      "text/plain": [
       "3"
      ]
     },
     "execution_count": 54,
     "metadata": {},
     "output_type": "execute_result"
    }
   ],
   "source": [
    "# To generalize this in case of diffrent block size\n",
    "# We'll use unbind with cat\n",
    "unbind_tensors = torch.unbind(emb, 1)\n",
    "# Gives a list which is exactly the same\n",
    "# as cat_tensors abov\n",
    "len(unbind_tensors)"
   ]
  },
  {
   "cell_type": "code",
   "execution_count": 55,
   "metadata": {
    "ExecuteTime": {
     "end_time": "2023-02-08T05:47:32.448000Z",
     "start_time": "2023-02-08T05:47:32.447968Z"
    }
   },
   "outputs": [
    {
     "data": {
      "text/plain": [
       "torch.Size([36, 6])"
      ]
     },
     "execution_count": 55,
     "metadata": {},
     "output_type": "execute_result"
    }
   ],
   "source": [
    "cat_unbind_tensors = torch.cat(unbind_tensors, 1)\n",
    "cat_unbind_tensors.shape"
   ]
  },
  {
   "cell_type": "markdown",
   "metadata": {},
   "source": [
    "Now irrespective of block size the above code will run.\n",
    "\n",
    "But there's an efficient way to do this."
   ]
  },
  {
   "cell_type": "code",
   "execution_count": 56,
   "metadata": {
    "ExecuteTime": {
     "end_time": "2023-02-08T05:47:32.499894Z",
     "start_time": "2023-02-08T05:47:32.499844Z"
    }
   },
   "outputs": [
    {
     "data": {
      "text/plain": [
       "tensor([ 0,  1,  2,  3,  4,  5,  6,  7,  8,  9, 10, 11, 12, 13, 14, 15, 16, 17])"
      ]
     },
     "execution_count": 56,
     "metadata": {},
     "output_type": "execute_result"
    }
   ],
   "source": [
    "a = torch.arange(18)\n",
    "a"
   ]
  },
  {
   "cell_type": "code",
   "execution_count": 57,
   "metadata": {
    "ExecuteTime": {
     "end_time": "2023-02-08T05:47:32.504939Z",
     "start_time": "2023-02-08T05:47:32.504899Z"
    }
   },
   "outputs": [
    {
     "data": {
      "text/plain": [
       "torch.Size([18])"
      ]
     },
     "execution_count": 57,
     "metadata": {},
     "output_type": "execute_result"
    }
   ],
   "source": [
    "a.shape"
   ]
  },
  {
   "cell_type": "code",
   "execution_count": 58,
   "metadata": {
    "ExecuteTime": {
     "end_time": "2023-02-08T05:47:32.510427Z",
     "start_time": "2023-02-08T05:47:32.510355Z"
    }
   },
   "outputs": [
    {
     "data": {
      "text/plain": [
       "tensor([[[ 0,  1],\n",
       "         [ 2,  3],\n",
       "         [ 4,  5]],\n",
       "\n",
       "        [[ 6,  7],\n",
       "         [ 8,  9],\n",
       "         [10, 11]],\n",
       "\n",
       "        [[12, 13],\n",
       "         [14, 15],\n",
       "         [16, 17]]])"
      ]
     },
     "execution_count": 58,
     "metadata": {},
     "output_type": "execute_result"
    }
   ],
   "source": [
    "a.view(3, 3, 2)"
   ]
  },
  {
   "cell_type": "code",
   "execution_count": 59,
   "metadata": {
    "ExecuteTime": {
     "end_time": "2023-02-08T05:47:32.518799Z",
     "start_time": "2023-02-08T05:47:32.518763Z"
    }
   },
   "outputs": [
    {
     "data": {
      "text/plain": [
       " 0\n",
       " 1\n",
       " 2\n",
       " 3\n",
       " 4\n",
       " 5\n",
       " 6\n",
       " 7\n",
       " 8\n",
       " 9\n",
       " 10\n",
       " 11\n",
       " 12\n",
       " 13\n",
       " 14\n",
       " 15\n",
       " 16\n",
       " 17\n",
       "[torch.storage._TypedStorage(dtype=torch.int64, device=cpu) of size 18]"
      ]
     },
     "execution_count": 59,
     "metadata": {},
     "output_type": "execute_result"
    }
   ],
   "source": [
    "a.storage()"
   ]
  },
  {
   "cell_type": "markdown",
   "metadata": {},
   "source": [
    "Every tensor has view and storage,\n",
    "* Using tensor.view(shape) we can manipulate the shape of an tensor\n",
    "* But tensor.storage() in memory will still remain a single dimension vector\n",
    "* And using view just changes some attributes like offest etc and tensor in memory remains same to the multiples"
   ]
  },
  {
   "cell_type": "code",
   "execution_count": 63,
   "metadata": {},
   "outputs": [
    {
     "data": {
      "text/plain": [
       "torch.Size([36, 3, 2])"
      ]
     },
     "execution_count": 63,
     "metadata": {},
     "output_type": "execute_result"
    }
   ],
   "source": [
    "emb.shape"
   ]
  },
  {
   "cell_type": "code",
   "execution_count": 64,
   "metadata": {
    "ExecuteTime": {
     "end_time": "2023-02-08T05:47:32.522136Z",
     "start_time": "2023-02-08T05:47:32.522104Z"
    }
   },
   "outputs": [
    {
     "data": {
      "text/plain": [
       "tensor([[ 0.9122, -2.6429,  0.9122, -2.6429,  0.9122, -2.6429],\n",
       "        [ 0.9122, -2.6429,  0.9122, -2.6429,  0.3806,  0.0655],\n",
       "        [ 0.9122, -2.6429,  0.3806,  0.0655, -0.4902,  0.6619],\n",
       "        [ 0.3806,  0.0655, -0.4902,  0.6619, -2.1392, -0.9864],\n",
       "        [-0.4902,  0.6619, -2.1392, -0.9864, -0.1013,  1.0938],\n",
       "        [-2.1392, -0.9864, -0.1013,  1.0938,  0.8778, -0.2110],\n",
       "        [-0.1013,  1.0938,  0.8778, -0.2110, -0.2231, -0.0781],\n",
       "        [ 0.9122, -2.6429,  0.9122, -2.6429,  0.9122, -2.6429],\n",
       "        [ 0.9122, -2.6429,  0.9122, -2.6429, -0.8151,  0.7900],\n",
       "        [ 0.9122, -2.6429, -0.8151,  0.7900, -1.3120, -1.1351],\n",
       "        [-0.8151,  0.7900, -1.3120, -1.1351, -0.0155, -1.4742],\n",
       "        [-1.3120, -1.1351, -0.0155, -1.4742,  0.8778, -0.2110],\n",
       "        [-0.0155, -1.4742,  0.8778, -0.2110, -0.8151,  0.7900],\n",
       "        [ 0.8778, -0.2110, -0.8151,  0.7900,  0.9586,  0.2187],\n",
       "        [-0.8151,  0.7900,  0.9586,  0.2187, -0.1013,  1.0938],\n",
       "        [ 0.9122, -2.6429,  0.9122, -2.6429,  0.9122, -2.6429],\n",
       "        [ 0.9122, -2.6429,  0.9122, -2.6429,  1.7736, -0.0092],\n",
       "        [ 0.9122, -2.6429,  1.7736, -0.0092,  1.2523,  1.5196],\n",
       "        [ 1.7736, -0.0092,  1.2523,  1.5196,  0.5622, -0.2775],\n",
       "        [ 1.2523,  1.5196,  0.5622, -0.2775, -1.3120, -1.1351],\n",
       "        [ 0.5622, -0.2775, -1.3120, -1.1351, -0.1013,  1.0938],\n",
       "        [-1.3120, -1.1351, -0.1013,  1.0938,  0.8778, -0.2110],\n",
       "        [ 0.9122, -2.6429,  0.9122, -2.6429,  0.9122, -2.6429],\n",
       "        [ 0.9122, -2.6429,  0.9122, -2.6429, -1.6345, -2.0381],\n",
       "        [ 0.9122, -2.6429, -1.6345, -2.0381, -0.0155, -1.4742],\n",
       "        [-1.6345, -2.0381, -0.0155, -1.4742,  0.9586,  0.2187],\n",
       "        [-0.0155, -1.4742,  0.9586,  0.2187, -1.3120, -1.1351],\n",
       "        [ 0.9122, -2.6429,  0.9122, -2.6429,  0.9122, -2.6429],\n",
       "        [ 0.9122, -2.6429,  0.9122, -2.6429, -1.6345, -2.0381],\n",
       "        [ 0.9122, -2.6429, -1.6345, -2.0381, -0.4902,  0.6619],\n",
       "        [-1.6345, -2.0381, -0.4902,  0.6619,  1.2523,  1.5196],\n",
       "        [-0.4902,  0.6619,  1.2523,  1.5196,  0.8778, -0.2110],\n",
       "        [ 1.2523,  1.5196,  0.8778, -0.2110, -1.8135,  1.9313],\n",
       "        [ 0.8778, -0.2110, -1.8135,  1.9313, -0.4902,  0.6619],\n",
       "        [-1.8135,  1.9313, -0.4902,  0.6619, -1.3120, -1.1351],\n",
       "        [-0.4902,  0.6619, -1.3120, -1.1351,  0.1862,  1.5088]])"
      ]
     },
     "execution_count": 64,
     "metadata": {},
     "output_type": "execute_result"
    }
   ],
   "source": [
    "# Let's use view() to reshape the tensor from [32, 3, 2] to [32, 6]\n",
    "emb.view(36, 6)"
   ]
  },
  {
   "cell_type": "markdown",
   "metadata": {},
   "source": [
    "The way this happens is dimension 1 get stacked up as a single dimension."
   ]
  },
  {
   "cell_type": "code",
   "execution_count": 65,
   "metadata": {
    "ExecuteTime": {
     "end_time": "2023-02-08T05:47:32.530603Z",
     "start_time": "2023-02-08T05:47:32.530557Z"
    }
   },
   "outputs": [
    {
     "data": {
      "text/plain": [
       "torch.Size([36, 6])"
      ]
     },
     "execution_count": 65,
     "metadata": {},
     "output_type": "execute_result"
    }
   ],
   "source": [
    "emb.view(36, 6).shape"
   ]
  },
  {
   "cell_type": "code",
   "execution_count": 66,
   "metadata": {
    "ExecuteTime": {
     "end_time": "2023-02-08T05:47:32.535899Z",
     "start_time": "2023-02-08T05:47:32.535862Z"
    }
   },
   "outputs": [
    {
     "data": {
      "text/plain": [
       "tensor([[True, True, True, True, True, True],\n",
       "        [True, True, True, True, True, True],\n",
       "        [True, True, True, True, True, True],\n",
       "        [True, True, True, True, True, True],\n",
       "        [True, True, True, True, True, True],\n",
       "        [True, True, True, True, True, True],\n",
       "        [True, True, True, True, True, True],\n",
       "        [True, True, True, True, True, True],\n",
       "        [True, True, True, True, True, True],\n",
       "        [True, True, True, True, True, True],\n",
       "        [True, True, True, True, True, True],\n",
       "        [True, True, True, True, True, True],\n",
       "        [True, True, True, True, True, True],\n",
       "        [True, True, True, True, True, True],\n",
       "        [True, True, True, True, True, True],\n",
       "        [True, True, True, True, True, True],\n",
       "        [True, True, True, True, True, True],\n",
       "        [True, True, True, True, True, True],\n",
       "        [True, True, True, True, True, True],\n",
       "        [True, True, True, True, True, True],\n",
       "        [True, True, True, True, True, True],\n",
       "        [True, True, True, True, True, True],\n",
       "        [True, True, True, True, True, True],\n",
       "        [True, True, True, True, True, True],\n",
       "        [True, True, True, True, True, True],\n",
       "        [True, True, True, True, True, True],\n",
       "        [True, True, True, True, True, True],\n",
       "        [True, True, True, True, True, True],\n",
       "        [True, True, True, True, True, True],\n",
       "        [True, True, True, True, True, True],\n",
       "        [True, True, True, True, True, True],\n",
       "        [True, True, True, True, True, True],\n",
       "        [True, True, True, True, True, True],\n",
       "        [True, True, True, True, True, True],\n",
       "        [True, True, True, True, True, True],\n",
       "        [True, True, True, True, True, True]])"
      ]
     },
     "execution_count": 66,
     "metadata": {},
     "output_type": "execute_result"
    }
   ],
   "source": [
    "emb.view(36, 6) == torch.cat(torch.unbind(emb, 1), 1)"
   ]
  },
  {
   "cell_type": "markdown",
   "metadata": {},
   "source": [
    "Element wise comparison proves that view is equal to cat(unbind)"
   ]
  },
  {
   "cell_type": "code",
   "execution_count": 67,
   "metadata": {
    "ExecuteTime": {
     "end_time": "2023-02-08T05:47:32.538876Z",
     "start_time": "2023-02-08T05:47:32.538838Z"
    }
   },
   "outputs": [
    {
     "data": {
      "text/plain": [
       "tensor([[ 0.9988,  0.9969, -0.8849,  ...,  0.9913, -0.9999, -0.9221],\n",
       "        [ 0.9992, -0.9688, -0.9553,  ...,  0.9150, -0.9985, -0.6239],\n",
       "        [ 0.8469, -0.9303, -0.9902,  ...,  0.9982, -0.7197,  0.9150],\n",
       "        ...,\n",
       "        [-0.5266, -0.1498, -0.7658,  ..., -0.9861,  0.9993, -0.8392],\n",
       "        [-0.8574,  0.9922, -0.9428,  ..., -1.0000,  1.0000, -0.6005],\n",
       "        [ 0.9185, -0.9999,  0.3922,  ..., -1.0000,  0.9569, -0.9943]])"
      ]
     },
     "execution_count": 67,
     "metadata": {},
     "output_type": "execute_result"
    }
   ],
   "source": [
    "h = torch.tanh(emb.view(-1, 6) @ W1 + b1)\n",
    "h"
   ]
  },
  {
   "cell_type": "code",
   "execution_count": 68,
   "metadata": {
    "ExecuteTime": {
     "end_time": "2023-02-08T05:47:32.545348Z",
     "start_time": "2023-02-08T05:47:32.545317Z"
    }
   },
   "outputs": [
    {
     "data": {
      "text/plain": [
       "torch.Size([36, 100])"
      ]
     },
     "execution_count": 68,
     "metadata": {},
     "output_type": "execute_result"
    }
   ],
   "source": [
    "h.shape"
   ]
  },
  {
   "cell_type": "markdown",
   "metadata": {},
   "source": [
    "Make sure broadcasting is done right"
   ]
  },
  {
   "cell_type": "code",
   "execution_count": 70,
   "metadata": {
    "ExecuteTime": {
     "end_time": "2023-02-08T05:47:32.550674Z",
     "start_time": "2023-02-08T05:47:32.550632Z"
    }
   },
   "outputs": [
    {
     "data": {
      "text/plain": [
       "torch.Size([36, 100])"
      ]
     },
     "execution_count": 70,
     "metadata": {},
     "output_type": "execute_result"
    }
   ],
   "source": [
    "(emb.view(36, 6) @ W1).shape"
   ]
  },
  {
   "cell_type": "code",
   "execution_count": null,
   "metadata": {
    "ExecuteTime": {
     "end_time": "2023-02-08T05:47:32.554705Z",
     "start_time": "2023-02-08T05:47:32.554665Z"
    }
   },
   "outputs": [
    {
     "data": {
      "text/plain": [
       "torch.Size([100])"
      ]
     },
     "execution_count": 36,
     "metadata": {},
     "output_type": "execute_result"
    }
   ],
   "source": [
    "b1.shape"
   ]
  },
  {
   "cell_type": "markdown",
   "metadata": {},
   "source": [
    "32, 100\n",
    "1 , 100\n",
    "\n",
    "* broadcasting 32, 100 to 100\n",
    "* broadcasting aligns from right abd creates a  fake dimension (1)\n",
    "* Then 32 will be copied vertically for every element of 100"
   ]
  },
  {
   "cell_type": "markdown",
   "metadata": {},
   "source": [
    "## Implementing output layer"
   ]
  },
  {
   "cell_type": "code",
   "execution_count": null,
   "metadata": {},
   "outputs": [],
   "source": [
    "W2 = torch.randn((100, # Inputs layer size\n",
    "                  27 # Output layer 27 characters\n",
    "                 ))\n",
    "b2 = torch.randn(27)"
   ]
  },
  {
   "cell_type": "code",
   "execution_count": null,
   "metadata": {},
   "outputs": [
    {
     "data": {
      "text/plain": [
       "torch.Size([32, 27])"
      ]
     },
     "execution_count": 38,
     "metadata": {},
     "output_type": "execute_result"
    }
   ],
   "source": [
    "logits = h @ W2 + b2\n",
    "logits.shape"
   ]
  },
  {
   "cell_type": "markdown",
   "metadata": {},
   "source": [
    "## Implmenting negative log likelihood loss"
   ]
  },
  {
   "cell_type": "code",
   "execution_count": null,
   "metadata": {},
   "outputs": [],
   "source": [
    "# Fake counts -> logits exp\n",
    "counts = logits.exp()"
   ]
  },
  {
   "cell_type": "code",
   "execution_count": null,
   "metadata": {},
   "outputs": [
    {
     "data": {
      "text/plain": [
       "torch.Size([32, 27])"
      ]
     },
     "execution_count": 40,
     "metadata": {},
     "output_type": "execute_result"
    }
   ],
   "source": [
    "# Normalize fake counts\n",
    "prob = counts / counts.sum(1, keepdims=True)\n",
    "prob.shape"
   ]
  },
  {
   "cell_type": "code",
   "execution_count": null,
   "metadata": {},
   "outputs": [
    {
     "data": {
      "text/plain": [
       "torch.Size([32])"
      ]
     },
     "execution_count": 41,
     "metadata": {},
     "output_type": "execute_result"
    }
   ],
   "source": [
    "Y.shape"
   ]
  },
  {
   "cell_type": "code",
   "execution_count": null,
   "metadata": {},
   "outputs": [
    {
     "data": {
      "text/plain": [
       "tensor([2.0302e-12, 3.0087e-11, 2.2926e-04, 4.6576e-08, 4.9097e-10, 7.6412e-07,\n",
       "        6.5631e-08, 1.0698e-06, 2.2241e-01, 4.2247e-08, 2.2134e-02, 2.9667e-02,\n",
       "        9.0340e-06, 1.9233e-02, 8.2616e-04, 4.3171e-10, 1.9756e-05, 4.2781e-12,\n",
       "        3.9354e-01, 8.5710e-11, 1.7523e-01, 3.2123e-13, 4.5706e-08, 9.0118e-07,\n",
       "        2.4984e-08, 1.5934e-06, 4.8878e-01, 1.4339e-08, 2.4175e-05, 2.0196e-11,\n",
       "        8.6646e-01, 5.8889e-14])"
      ]
     },
     "execution_count": 42,
     "metadata": {},
     "output_type": "execute_result"
    }
   ],
   "source": [
    "# Indexing probabalites based on Y\n",
    "# This probabalities in future will be the probabalities by neural network\n",
    "prob[torch.arange(32), Y]"
   ]
  },
  {
   "cell_type": "code",
   "execution_count": null,
   "metadata": {},
   "outputs": [
    {
     "data": {
      "text/plain": [
       "tensor(14.0688)"
      ]
     },
     "execution_count": 43,
     "metadata": {},
     "output_type": "execute_result"
    }
   ],
   "source": [
    "loss = - prob[torch.arange(32), Y].log().mean()\n",
    "loss"
   ]
  },
  {
   "cell_type": "markdown",
   "metadata": {},
   "source": [
    "## Summary of full network"
   ]
  },
  {
   "cell_type": "code",
   "execution_count": null,
   "metadata": {},
   "outputs": [],
   "source": [
    "g = torch.Generator().manual_seed(2147483647)\n",
    "C = torch.randn((27, 2), generator=g)\n",
    "W1 = torch.randn((6, 100), generator=g)\n",
    "b1 = torch.randn(100, generator=g)\n",
    "W2 = torch.randn((100, 27), generator=g)\n",
    "b2 = torch.randn(27, generator=g)\n",
    "paramerters = [C, W1, b1, W2, b2]"
   ]
  },
  {
   "cell_type": "code",
   "execution_count": null,
   "metadata": {},
   "outputs": [
    {
     "data": {
      "text/plain": [
       "3481"
      ]
     },
     "execution_count": 45,
     "metadata": {},
     "output_type": "execute_result"
    }
   ],
   "source": [
    "# Number of parameters in total\n",
    "sum(p.nelement() for p in paramerters)"
   ]
  },
  {
   "cell_type": "code",
   "execution_count": null,
   "metadata": {},
   "outputs": [
    {
     "data": {
      "text/plain": [
       "tensor(17.7697)"
      ]
     },
     "execution_count": 46,
     "metadata": {},
     "output_type": "execute_result"
    }
   ],
   "source": [
    "emb = C[X]\n",
    "h = torch.tanh(emb.view(-1, 6) @ W1 + b1)\n",
    "logits = h @ W2 + b2\n",
    "counts = logits.exp()\n",
    "prob = counts / counts.sum(1, keepdim=True)\n",
    "loss = - prob[torch.arange(32), Y].log().mean()\n",
    "loss"
   ]
  },
  {
   "cell_type": "markdown",
   "metadata": {},
   "source": [
    "## Cross entropy why?\n",
    "\n",
    "```\n",
    "counts = logits.exp()\n",
    "prob = counts / counts.sum(1, keepdim=True)\n",
    "loss = - prob[torch.arange(32), Y].log().mean()\n",
    "```\n",
    "\n",
    "PyTorch creates a seperate tensor for each of these step\n",
    "\n",
    "1. Uses a fused kernel which combines all the above operations\n",
    "2. In backward pass, expression takes much simpler form mathametically\n",
    "3. Under the hood, this is numerically well behaved\n",
    "4. Forward pass and backward pass are much more efficient"
   ]
  },
  {
   "cell_type": "code",
   "execution_count": null,
   "metadata": {},
   "outputs": [
    {
     "data": {
      "text/plain": [
       "tensor(17.7697)"
      ]
     },
     "execution_count": 47,
     "metadata": {},
     "output_type": "execute_result"
    }
   ],
   "source": [
    "loss = F.cross_entropy(logits, Y)\n",
    "loss"
   ]
  },
  {
   "cell_type": "code",
   "execution_count": null,
   "metadata": {},
   "outputs": [
    {
     "data": {
      "text/plain": [
       "tensor([9.0466e-04, 3.3281e-04, 6.6846e-03, 9.9208e-01])"
      ]
     },
     "execution_count": 48,
     "metadata": {},
     "output_type": "execute_result"
    }
   ],
   "source": [
    "# Numerical stability difference\n",
    "logits = torch.tensor([-2, -3, 0, 5])\n",
    "counts = logits.exp()\n",
    "probs = counts / counts.sum()\n",
    "probs"
   ]
  },
  {
   "cell_type": "code",
   "execution_count": null,
   "metadata": {},
   "outputs": [
    {
     "name": "stdout",
     "output_type": "stream",
     "text": [
      "Counts: tensor([3.7835e-44, 4.9787e-02, 1.0000e+00,        inf])\n"
     ]
    },
    {
     "data": {
      "text/plain": [
       "tensor([0., 0., 0., nan])"
      ]
     },
     "execution_count": 49,
     "metadata": {},
     "output_type": "execute_result"
    }
   ],
   "source": [
    "# Numerical stability difference\n",
    "# With more extreme values, which will occur in backpropgation\n",
    "logits = torch.tensor([-100, -3, 0, 100])\n",
    "counts = logits.exp()\n",
    "print(f\"Counts: {counts}\")\n",
    "probs = counts / counts.sum()\n",
    "probs"
   ]
  },
  {
   "cell_type": "markdown",
   "metadata": {},
   "source": [
    "What's happening above is the floating point ran out of dynamic range for exp(100) returning inf\n",
    "and for negative 100 the probs is near zero.\n",
    "\n",
    "So we cannot pass very larger number to our logits --> loss expression"
   ]
  },
  {
   "cell_type": "code",
   "execution_count": null,
   "metadata": {},
   "outputs": [
    {
     "name": "stdout",
     "output_type": "stream",
     "text": [
      "Counts: tensor([0.0000e+00, 1.4013e-45, 3.7835e-44, 1.0000e+00])\n"
     ]
    },
    {
     "data": {
      "text/plain": [
       "tensor([0.0000e+00, 1.4013e-45, 3.7835e-44, 1.0000e+00])"
      ]
     },
     "execution_count": 50,
     "metadata": {},
     "output_type": "execute_result"
    }
   ],
   "source": [
    "# How PyTorch handles this is\n",
    "# By finding maximum of the logits and offsets it from the logits to avoid it\n",
    "logits = torch.tensor([-100, -3, 0, 100]) - 100\n",
    "counts = logits.exp()\n",
    "print(f\"Counts: {counts}\")\n",
    "probs = counts / counts.sum()\n",
    "probs"
   ]
  },
  {
   "cell_type": "markdown",
   "metadata": {},
   "source": [
    "## Implementing training loop, overfitting one batch"
   ]
  },
  {
   "cell_type": "code",
   "execution_count": null,
   "metadata": {},
   "outputs": [
    {
     "name": "stdout",
     "output_type": "stream",
     "text": [
      "0.2561391294002533\n"
     ]
    }
   ],
   "source": [
    "# Set requires grad\n",
    "for p in paramerters:\n",
    "    p.requires_grad = True\n",
    "for _ in range(1000):\n",
    "    # Forward pass\n",
    "    emb = C[X] # [32, 3, 2]\n",
    "    h = torch.tanh(emb.view(-1, 6) @ W1 + b1) # (32, 100)\n",
    "    logits = h @ W2 + b2 # (100, 27)\n",
    "    loss = F.cross_entropy(logits, Y)\n",
    "    # Backward pass\n",
    "    for p in paramerters:\n",
    "        p.grad = None\n",
    "    loss.backward()\n",
    "    \n",
    "    # Update parametrs\n",
    "    for p in paramerters:\n",
    "        p.data += -0.1 * p.grad\n",
    "print(loss.item())"
   ]
  },
  {
   "cell_type": "markdown",
   "metadata": {},
   "source": [
    "We've achieved a very good loss. Why?\n",
    "Because we're fitting the model for only 5 words i.e 32 inputs and with 3481 parameters.\n",
    "Lots of paramters for very less data.\n",
    "What we're doing it overfitting the model for one batch of data.\n",
    "\n",
    "> Note: Based on this overfitting can be defined as tuning many parameters for few samples or a batch of data."
   ]
  },
  {
   "cell_type": "markdown",
   "metadata": {},
   "source": [
    "Why loss of 0 is not achieved?"
   ]
  },
  {
   "cell_type": "code",
   "execution_count": null,
   "metadata": {},
   "outputs": [
    {
     "data": {
      "text/plain": [
       "torch.return_types.max(\n",
       "values=tensor([13.3348, 17.7904, 20.6014, 20.6121, 16.7355, 13.3348, 15.9983, 14.1722,\n",
       "        15.9145, 18.3614, 15.9395, 20.9265, 13.3348, 17.1090, 17.1319, 20.0602,\n",
       "        13.3348, 16.5893, 15.1017, 17.0581, 18.5860, 15.9670, 10.8740, 10.6871,\n",
       "        15.5056, 13.3348, 16.1795, 16.9743, 12.7426, 16.2009, 19.0845, 16.0196],\n",
       "       grad_fn=<MaxBackward0>),\n",
       "indices=tensor([19, 13, 13,  1,  0, 19, 12,  9, 22,  9,  1,  0, 19, 22,  1,  0, 19, 19,\n",
       "         1,  2,  5, 12, 12,  1,  0, 19, 15, 16,  8,  9,  1,  0]))"
      ]
     },
     "execution_count": 52,
     "metadata": {},
     "output_type": "execute_result"
    }
   ],
   "source": [
    "logits.max(1)"
   ]
  },
  {
   "cell_type": "code",
   "execution_count": null,
   "metadata": {},
   "outputs": [
    {
     "data": {
      "text/plain": [
       "tensor([ 5, 13, 13,  1,  0, 15, 12,  9, 22,  9,  1,  0,  1, 22,  1,  0,  9, 19,\n",
       "         1,  2,  5, 12, 12,  1,  0, 19, 15, 16,  8,  9,  1,  0])"
      ]
     },
     "execution_count": 53,
     "metadata": {},
     "output_type": "execute_result"
    }
   ],
   "source": [
    "Y"
   ]
  },
  {
   "cell_type": "markdown",
   "metadata": {},
   "source": [
    "We can see the indices of logits and output are same for most of the cases, these are inputs overfitted to outputs. But the missing ones are \n",
    "\n",
    "* ... --> e (emma)\n",
    "* ... --> o (olivia)\n",
    "* ... --> a (ava)\n",
    "* ... --> s (sophia)\n",
    "\n",
    "for different outptus for the same input.\n",
    "\n",
    "To overcome this, let's train on the full dataset."
   ]
  },
  {
   "cell_type": "markdown",
   "metadata": {},
   "source": [
    "## Training on full dataset, minibatches"
   ]
  },
  {
   "cell_type": "code",
   "execution_count": null,
   "metadata": {},
   "outputs": [],
   "source": [
    "X, Y = build_dataset(block_size=3, number_of_words=len(words),logs=False)"
   ]
  },
  {
   "cell_type": "code",
   "execution_count": null,
   "metadata": {},
   "outputs": [
    {
     "data": {
      "text/plain": [
       "(torch.Size([228146, 3]), torch.int64, torch.Size([228146]), torch.int64)"
      ]
     },
     "execution_count": 55,
     "metadata": {},
     "output_type": "execute_result"
    }
   ],
   "source": [
    "X.shape, X.dtype, Y.shape, Y.dtype"
   ]
  },
  {
   "cell_type": "code",
   "execution_count": null,
   "metadata": {},
   "outputs": [
    {
     "name": "stdout",
     "output_type": "stream",
     "text": [
      "Total parameters: 3481\n",
      "19.505226135253906\n",
      "17.084495544433594\n",
      "15.013856887817383\n",
      "13.038172721862793\n",
      "11.437594413757324\n",
      "10.590070724487305\n",
      "9.906834602355957\n",
      "9.059294700622559\n",
      "8.551025390625\n",
      "8.10305118560791\n",
      "Final loss: 8.10305118560791\n"
     ]
    }
   ],
   "source": [
    "# Reinitializing parameters for full batch training\n",
    "g = torch.Generator().manual_seed(2147483647)\n",
    "C = torch.randn((27, 2), generator=g)\n",
    "W1 = torch.randn((6, 100), generator=g)\n",
    "b1 = torch.randn(100, generator=g)\n",
    "W2 = torch.randn((100, 27), generator=g)\n",
    "b2 = torch.randn(27, generator=g)\n",
    "parameters = [C, W1, b1, W2, b2]\n",
    "print(f\"Total parameters: {sum(p.nelement() for p in parameters)}\")\n",
    "\n",
    "# Setting requires_grad for forward and backward pass\n",
    "for p in parameters:\n",
    "    p.requires_grad = True\n",
    "\n",
    "# Full training\n",
    "for _ in range(10):\n",
    "    \n",
    "    # Forward pass\n",
    "    emb = C[X]\n",
    "    h = torch.tanh(emb.view(-1, 6) @ W1 + b1)\n",
    "    logits = h @ W2 + b2\n",
    "    loss = F.cross_entropy(logits, Y)\n",
    "    print(loss.item())\n",
    "\n",
    "    # Set gradients to None\n",
    "    for p in paramerters:\n",
    "        p.grad = None\n",
    "\n",
    "    # Backward pass\n",
    "    loss.backward()\n",
    "\n",
    "    # Update weights\n",
    "    for p in parameters:\n",
    "        p.data += -0.1 * p.grad\n",
    "\n",
    "print(f\"Final loss: {loss.item()}\")"
   ]
  },
  {
   "cell_type": "markdown",
   "metadata": {},
   "source": [
    "Each epoch is taking more time, becuase forwarding and backwarding for 228146 samples compared to 32 samples.\n",
    "We can overcome this by training on minibatches instead of training on entire dataset"
   ]
  },
  {
   "cell_type": "code",
   "execution_count": null,
   "metadata": {},
   "outputs": [
    {
     "data": {
      "text/plain": [
       "tensor([133389, 170367, 171642, 185281, 122222,  97551,    246, 213195,  48626,\n",
       "        131523, 132314, 136782,  87017, 221884, 136272, 158338,  24075,  84146,\n",
       "        148179,  12556,  49282, 206798, 170648, 116141, 203928, 152969, 176780,\n",
       "         71657,  46643, 102359, 119842,   6829])"
      ]
     },
     "execution_count": 57,
     "metadata": {},
     "output_type": "execute_result"
    }
   ],
   "source": [
    "# Mini batch size of 32\n",
    "# from 0 to number of samples which is X.shape[0]\n",
    "# This willl index 32 random samples in X\n",
    "torch.randint(0, X.shape[0], (32,))"
   ]
  },
  {
   "cell_type": "code",
   "execution_count": null,
   "metadata": {},
   "outputs": [
    {
     "name": "stdout",
     "output_type": "stream",
     "text": [
      "Total parameters: 3481\n",
      "18.95673370361328\n",
      "17.42254638671875\n",
      "12.630152702331543\n",
      "13.045025825500488\n",
      "9.12990951538086\n",
      "10.035116195678711\n",
      "8.557498931884766\n",
      "11.08382511138916\n",
      "9.528258323669434\n",
      "8.964183807373047\n",
      "10.115828514099121\n",
      "9.677383422851562\n",
      "11.079150199890137\n",
      "9.796181678771973\n",
      "9.937837600708008\n",
      "9.526925086975098\n",
      "10.806981086730957\n",
      "9.747477531433105\n",
      "11.103167533874512\n",
      "14.12124252319336\n",
      "9.104704856872559\n",
      "14.226822853088379\n",
      "11.040562629699707\n",
      "12.05095100402832\n",
      "13.552815437316895\n",
      "10.876388549804688\n",
      "12.439581871032715\n",
      "10.587907791137695\n",
      "13.555068969726562\n",
      "9.734114646911621\n",
      "11.511343002319336\n",
      "8.97689437866211\n",
      "10.525503158569336\n",
      "10.96102237701416\n",
      "10.543774604797363\n",
      "11.637333869934082\n",
      "13.332690238952637\n",
      "10.781798362731934\n",
      "10.427427291870117\n",
      "10.113097190856934\n",
      "10.02184772491455\n",
      "9.452690124511719\n",
      "12.526015281677246\n",
      "8.948640823364258\n",
      "10.771397590637207\n",
      "11.478919982910156\n",
      "8.886293411254883\n",
      "12.030909538269043\n",
      "11.14488697052002\n",
      "12.509180068969727\n",
      "11.619462013244629\n",
      "10.044418334960938\n",
      "13.003093719482422\n",
      "13.894103050231934\n",
      "13.20317268371582\n",
      "8.242280960083008\n",
      "13.375776290893555\n",
      "11.482522010803223\n",
      "14.534679412841797\n",
      "11.425276756286621\n",
      "12.126764297485352\n",
      "14.70323371887207\n",
      "11.86579704284668\n",
      "13.065909385681152\n",
      "14.503159523010254\n",
      "12.311685562133789\n",
      "15.515766143798828\n",
      "18.65286636352539\n",
      "14.176679611206055\n",
      "16.33412742614746\n",
      "12.426237106323242\n",
      "12.578161239624023\n",
      "13.383711814880371\n",
      "11.406105995178223\n",
      "12.915091514587402\n",
      "11.885019302368164\n",
      "12.718117713928223\n",
      "12.287893295288086\n",
      "12.24366283416748\n",
      "18.21212387084961\n",
      "13.759339332580566\n",
      "14.689712524414062\n",
      "11.133636474609375\n",
      "16.2276668548584\n",
      "15.141504287719727\n",
      "16.922500610351562\n",
      "15.95606803894043\n",
      "18.79279899597168\n",
      "15.413049697875977\n",
      "18.65778923034668\n",
      "21.03896141052246\n",
      "20.44736671447754\n",
      "15.247902870178223\n",
      "14.443692207336426\n",
      "16.65787124633789\n",
      "16.950225830078125\n",
      "14.997651100158691\n",
      "19.885892868041992\n",
      "12.269415855407715\n",
      "14.988787651062012\n",
      "Final loss: 14.988787651062012\n"
     ]
    }
   ],
   "source": [
    "# Reinitializing parameters for full batch training\n",
    "g = torch.Generator().manual_seed(2147483647)\n",
    "C = torch.randn((27, 2), generator=g)\n",
    "W1 = torch.randn((6, 100), generator=g)\n",
    "b1 = torch.randn(100, generator=g)\n",
    "W2 = torch.randn((100, 27), generator=g)\n",
    "b2 = torch.randn(27, generator=g)\n",
    "parameters = [C, W1, b1, W2, b2]\n",
    "print(f\"Total parameters: {sum(p.nelement() for p in parameters)}\")\n",
    "\n",
    "# Setting requires_grad for forward and backward pass\n",
    "for p in parameters:\n",
    "    p.requires_grad = True\n",
    "\n",
    "# Full training\n",
    "for _ in range(100):\n",
    "\n",
    "    # mini batch indexes\n",
    "    ix = torch.randint(0, X.shape[0], (32,))\n",
    "    \n",
    "    # Forward pass\n",
    "    emb = C[X[ix]]\n",
    "    h = torch.tanh(emb.view(-1, 6) @ W1 + b1)\n",
    "    logits = h @ W2 + b2\n",
    "    loss = F.cross_entropy(logits, Y[ix])\n",
    "    print(loss.item())\n",
    "\n",
    "    # Set gradients to None\n",
    "    for p in paramerters:\n",
    "        p.grad = None\n",
    "\n",
    "    # Backward pass\n",
    "    loss.backward()\n",
    "\n",
    "    # Update weights\n",
    "    for p in parameters:\n",
    "        p.data += -0.1 * p.grad\n",
    "\n",
    "print(f\"Final loss: {loss.item()}\")"
   ]
  },
  {
   "cell_type": "markdown",
   "metadata": {},
   "source": [
    "Adavantages with mini batching:\n",
    "\n",
    "* Faster training cycle\n",
    "* Random indexing leads to differnt data for each mini batch\n",
    "\n",
    "> Since model's trained on mini batches, the quality of gradient is lower and is not reliable. It's not the actual gradient direction. But the gradient direction is good enough even when estimated on a mini batch(32 samples) to be useful.\n",
    "It's much better to have a approximate gradient direction and more steps than an exact or actual gradient with much fewer steps.\n",
    "That's why this works in practice."
   ]
  },
  {
   "cell_type": "code",
   "execution_count": null,
   "metadata": {},
   "outputs": [
    {
     "data": {
      "text/plain": [
       "tensor(17.1861, grad_fn=<NllLossBackward0>)"
      ]
     },
     "execution_count": 59,
     "metadata": {},
     "output_type": "execute_result"
    }
   ],
   "source": [
    "# Evaluation loss for entire dataset\n",
    "emb = C[X]\n",
    "h = torch.tanh(emb.view(-1, 6) @ W1 + b1)\n",
    "logits = h @ W2 + b2\n",
    "loss = F.cross_entropy(logits, Y)\n",
    "loss"
   ]
  },
  {
   "cell_type": "markdown",
   "metadata": {},
   "source": [
    "## Finding a good learning rate"
   ]
  },
  {
   "attachments": {},
   "cell_type": "markdown",
   "metadata": {},
   "source": [
    "To find a good learnning rate...\n",
    "\n",
    "We need to find a good lower limt and an upper limit where loss is improving."
   ]
  },
  {
   "cell_type": "code",
   "execution_count": null,
   "metadata": {},
   "outputs": [
    {
     "name": "stdout",
     "output_type": "stream",
     "text": [
      "Total parameters: 3481\n",
      "20.148361206054688\n",
      "15.050707817077637\n",
      "18.712387084960938\n",
      "20.79283905029297\n",
      "16.606122970581055\n",
      "14.798345565795898\n",
      "23.448040008544922\n",
      "26.29581642150879\n",
      "18.202688217163086\n",
      "29.81456184387207\n",
      "25.67377281188965\n",
      "26.829753875732422\n",
      "28.772035598754883\n",
      "44.843162536621094\n",
      "45.72543716430664\n",
      "48.91575622558594\n",
      "47.13222885131836\n",
      "45.722450256347656\n",
      "53.842079162597656\n",
      "51.96746063232422\n",
      "39.033870697021484\n",
      "45.76651382446289\n",
      "42.57117462158203\n",
      "43.8768196105957\n",
      "40.501346588134766\n",
      "37.41219711303711\n",
      "52.57552719116211\n",
      "60.38792037963867\n",
      "53.53440475463867\n",
      "59.46855545043945\n",
      "56.20912170410156\n",
      "68.50389099121094\n",
      "65.18240356445312\n",
      "60.44708251953125\n",
      "64.49718475341797\n",
      "66.65176391601562\n",
      "62.1620979309082\n",
      "58.81123733520508\n",
      "51.62526321411133\n",
      "62.23068618774414\n",
      "63.7938346862793\n",
      "68.99462890625\n",
      "97.50465393066406\n",
      "77.49337005615234\n",
      "96.84265899658203\n",
      "102.60186004638672\n",
      "110.24796295166016\n",
      "105.42243957519531\n",
      "95.50444030761719\n",
      "73.69699096679688\n",
      "84.7665786743164\n",
      "117.14938354492188\n",
      "110.01004791259766\n",
      "62.21091842651367\n",
      "66.57603454589844\n",
      "93.08038330078125\n",
      "93.78607177734375\n",
      "81.86536407470703\n",
      "84.56145477294922\n",
      "98.70860290527344\n",
      "113.94136047363281\n",
      "106.61039733886719\n",
      "110.5908203125\n",
      "94.07252502441406\n",
      "78.310302734375\n",
      "98.44519805908203\n",
      "113.70892333984375\n",
      "97.20226287841797\n",
      "108.96919250488281\n",
      "101.53065490722656\n",
      "117.52909851074219\n",
      "128.12742614746094\n",
      "135.66455078125\n",
      "123.3685531616211\n",
      "105.49256896972656\n",
      "84.85160064697266\n",
      "121.6170654296875\n",
      "134.30955505371094\n",
      "113.33292388916016\n",
      "139.82716369628906\n",
      "152.11033630371094\n",
      "154.04481506347656\n",
      "162.458984375\n",
      "140.69381713867188\n",
      "137.82383728027344\n",
      "153.0908203125\n",
      "168.72293090820312\n",
      "169.08189392089844\n",
      "162.11868286132812\n",
      "172.05628967285156\n",
      "116.46961975097656\n",
      "164.62203979492188\n",
      "134.0088348388672\n",
      "156.21893310546875\n",
      "180.01731872558594\n",
      "223.61485290527344\n",
      "186.07847595214844\n",
      "144.6857147216797\n",
      "172.67063903808594\n",
      "171.29115295410156\n",
      "Final loss: 171.29115295410156\n"
     ]
    }
   ],
   "source": [
    "# Reinitializing parameters for full batch training\n",
    "g = torch.Generator().manual_seed(2147483647)\n",
    "C = torch.randn((27, 2), generator=g)\n",
    "W1 = torch.randn((6, 100), generator=g)\n",
    "b1 = torch.randn(100, generator=g)\n",
    "W2 = torch.randn((100, 27), generator=g)\n",
    "b2 = torch.randn(27, generator=g)\n",
    "parameters = [C, W1, b1, W2, b2]\n",
    "print(f\"Total parameters: {sum(p.nelement() for p in parameters)}\")\n",
    "\n",
    "# Setting requires_grad for forward and backward pass\n",
    "for p in parameters:\n",
    "    p.requires_grad = True\n",
    "\n",
    "# Full training\n",
    "for _ in range(100):\n",
    "\n",
    "    # mini batch indexes\n",
    "    ix = torch.randint(0, X.shape[0], (32,))\n",
    "    \n",
    "    # Forward pass\n",
    "    emb = C[X[ix]]\n",
    "    h = torch.tanh(emb.view(-1, 6) @ W1 + b1)\n",
    "    logits = h @ W2 + b2\n",
    "    loss = F.cross_entropy(logits, Y[ix])\n",
    "    print(loss.item())\n",
    "\n",
    "    # Set gradients to None\n",
    "    for p in paramerters:\n",
    "        p.grad = None\n",
    "\n",
    "    # Backward pass\n",
    "    loss.backward()\n",
    "\n",
    "    # Update weights\n",
    "    for p in parameters:\n",
    "        p.data += -1 * p.grad\n",
    "\n",
    "print(f\"Final loss: {loss.item()}\")"
   ]
  },
  {
   "attachments": {},
   "cell_type": "markdown",
   "metadata": {},
   "source": [
    "After trying out different learning rates from -0.0001 and -10.. Good lower limit and upper limit are -0.01 and -1 respectivley.\n",
    "With these learning rates the convergence is not really slow or exploding."
   ]
  },
  {
   "cell_type": "code",
   "execution_count": null,
   "metadata": {},
   "outputs": [],
   "source": [
    "lre = torch.linspace(\n",
    "    -3, # 10**2-3 = 0.01\n",
    "    0, # 10**0 = 1\n",
    "    1000 # 1000 learning rates from upper limit and lower limit exponentially stepped\n",
    ")\n",
    "lrs = 10**lre"
   ]
  },
  {
   "cell_type": "code",
   "execution_count": null,
   "metadata": {},
   "outputs": [
    {
     "name": "stdout",
     "output_type": "stream",
     "text": [
      "Total parametrs: 3481\n",
      "13.98857307434082\n",
      "13.427151679992676\n",
      "12.359247207641602\n",
      "14.027222633361816\n",
      "13.295552253723145\n",
      "13.379878044128418\n",
      "13.199939727783203\n",
      "13.153809547424316\n",
      "10.42131233215332\n",
      "9.028179168701172\n",
      "13.993346214294434\n",
      "12.002320289611816\n",
      "12.500282287597656\n",
      "13.362969398498535\n",
      "13.290543556213379\n",
      "13.114940643310547\n",
      "12.48984432220459\n",
      "13.29937744140625\n",
      "14.543453216552734\n",
      "11.367942810058594\n",
      "14.493165016174316\n",
      "12.865060806274414\n",
      "12.219062805175781\n",
      "14.321101188659668\n",
      "13.913798332214355\n",
      "14.795360565185547\n",
      "13.251361846923828\n",
      "11.954629898071289\n",
      "14.85689640045166\n",
      "11.425674438476562\n",
      "14.298286437988281\n",
      "12.596880912780762\n",
      "12.68897533416748\n",
      "12.303581237792969\n",
      "12.209415435791016\n",
      "13.273768424987793\n",
      "11.619229316711426\n",
      "12.523968696594238\n",
      "10.579257011413574\n",
      "11.485825538635254\n",
      "11.944574356079102\n",
      "13.416412353515625\n",
      "13.872958183288574\n",
      "12.709575653076172\n",
      "12.126797676086426\n",
      "13.867707252502441\n",
      "15.350515365600586\n",
      "15.066499710083008\n",
      "12.38978385925293\n",
      "12.698241233825684\n",
      "11.416839599609375\n",
      "14.174243927001953\n",
      "13.857746124267578\n",
      "13.391982078552246\n",
      "15.112130165100098\n",
      "11.014106750488281\n",
      "9.931270599365234\n",
      "12.0321683883667\n",
      "12.016040802001953\n",
      "10.87452220916748\n",
      "13.181902885437012\n",
      "13.354656219482422\n",
      "10.24794864654541\n",
      "11.902366638183594\n",
      "12.931109428405762\n",
      "13.18178939819336\n",
      "10.251461029052734\n",
      "12.092069625854492\n",
      "11.508756637573242\n",
      "11.73958683013916\n",
      "13.234856605529785\n",
      "9.713935852050781\n",
      "10.901802062988281\n",
      "11.053045272827148\n",
      "12.423580169677734\n",
      "11.087234497070312\n",
      "15.828518867492676\n",
      "12.438261032104492\n",
      "12.79488754272461\n",
      "11.898539543151855\n",
      "10.684152603149414\n",
      "12.225732803344727\n",
      "11.69913387298584\n",
      "10.824207305908203\n",
      "12.898999214172363\n",
      "11.14399528503418\n",
      "13.606456756591797\n",
      "14.550556182861328\n",
      "10.323526382446289\n",
      "12.821284294128418\n",
      "11.823606491088867\n",
      "12.914816856384277\n",
      "13.510086059570312\n",
      "12.475116729736328\n",
      "10.728127479553223\n",
      "9.043408393859863\n",
      "11.714754104614258\n",
      "12.588349342346191\n",
      "10.705293655395508\n",
      "9.373812675476074\n",
      "12.522238731384277\n",
      "12.229260444641113\n",
      "12.500692367553711\n",
      "10.981083869934082\n",
      "11.31578540802002\n",
      "10.409565925598145\n",
      "11.407449722290039\n",
      "10.902241706848145\n",
      "12.085503578186035\n",
      "10.947184562683105\n",
      "10.582548141479492\n",
      "10.299817085266113\n",
      "10.042941093444824\n",
      "10.707013130187988\n",
      "8.646228790283203\n",
      "13.483771324157715\n",
      "12.173521995544434\n",
      "10.788558959960938\n",
      "11.307319641113281\n",
      "12.275691032409668\n",
      "11.08859920501709\n",
      "13.12269401550293\n",
      "9.172577857971191\n",
      "11.294127464294434\n",
      "10.117084503173828\n",
      "13.970113754272461\n",
      "12.752705574035645\n",
      "9.500815391540527\n",
      "9.965519905090332\n",
      "11.204767227172852\n",
      "11.973191261291504\n",
      "11.195199012756348\n",
      "9.936113357543945\n",
      "9.923206329345703\n",
      "11.915288925170898\n",
      "13.48969554901123\n",
      "11.077936172485352\n",
      "11.459506034851074\n",
      "8.144006729125977\n",
      "13.268203735351562\n",
      "13.7672758102417\n",
      "14.17527961730957\n",
      "11.661455154418945\n",
      "12.08039665222168\n",
      "10.55805778503418\n",
      "15.468708992004395\n",
      "12.943634033203125\n",
      "12.449638366699219\n",
      "9.42840576171875\n",
      "12.727020263671875\n",
      "11.639910697937012\n",
      "11.693374633789062\n",
      "12.800515174865723\n",
      "11.787453651428223\n",
      "9.293353080749512\n",
      "9.544503211975098\n",
      "13.756904602050781\n",
      "12.230052947998047\n",
      "7.7229905128479\n",
      "10.211712837219238\n",
      "13.681180000305176\n",
      "12.419713973999023\n",
      "12.6045560836792\n",
      "12.824211120605469\n",
      "10.78566837310791\n",
      "11.183176040649414\n",
      "10.825321197509766\n",
      "9.479175567626953\n",
      "10.478941917419434\n",
      "10.54770278930664\n",
      "10.959980010986328\n",
      "11.895947456359863\n",
      "10.359566688537598\n",
      "10.685378074645996\n",
      "9.349015235900879\n",
      "8.908730506896973\n",
      "8.312711715698242\n",
      "10.546886444091797\n",
      "10.768425941467285\n",
      "12.34856128692627\n",
      "9.580995559692383\n",
      "10.325784683227539\n",
      "11.697145462036133\n",
      "10.23524284362793\n",
      "11.187376022338867\n",
      "11.56547737121582\n",
      "11.742623329162598\n",
      "14.806907653808594\n",
      "9.784728050231934\n",
      "8.93997859954834\n",
      "10.856313705444336\n",
      "9.929509162902832\n",
      "11.09200668334961\n",
      "7.913414478302002\n",
      "11.004680633544922\n",
      "8.363951683044434\n",
      "9.113126754760742\n",
      "12.06570816040039\n",
      "10.856805801391602\n",
      "10.599872589111328\n",
      "8.41435432434082\n",
      "8.530633926391602\n",
      "11.03715991973877\n",
      "8.137426376342773\n",
      "9.050524711608887\n",
      "11.791752815246582\n",
      "10.247840881347656\n",
      "8.687882423400879\n",
      "11.545294761657715\n",
      "11.468064308166504\n",
      "12.015554428100586\n",
      "8.770343780517578\n",
      "10.320843696594238\n",
      "11.366304397583008\n",
      "9.6441068649292\n",
      "9.793100357055664\n",
      "11.514056205749512\n",
      "9.457771301269531\n",
      "9.097413063049316\n",
      "7.931300640106201\n",
      "10.804133415222168\n",
      "9.839751243591309\n",
      "7.326359272003174\n",
      "10.0103178024292\n",
      "9.265146255493164\n",
      "10.57905101776123\n",
      "9.571160316467285\n",
      "9.855762481689453\n",
      "12.169381141662598\n",
      "8.12120532989502\n",
      "7.927152633666992\n",
      "10.597065925598145\n",
      "9.35936164855957\n",
      "8.883794784545898\n",
      "9.58838939666748\n",
      "8.62464427947998\n",
      "11.823790550231934\n",
      "9.58272933959961\n",
      "10.196181297302246\n",
      "9.492778778076172\n",
      "12.026026725769043\n",
      "9.187232971191406\n",
      "7.144178867340088\n",
      "10.204501152038574\n",
      "11.984456062316895\n",
      "9.187082290649414\n",
      "8.781747817993164\n",
      "8.43854808807373\n",
      "8.130090713500977\n",
      "9.593420028686523\n",
      "9.252925872802734\n",
      "11.169864654541016\n",
      "9.435995101928711\n",
      "6.954078674316406\n",
      "9.548233985900879\n",
      "10.185409545898438\n",
      "8.024587631225586\n",
      "9.667601585388184\n",
      "8.731112480163574\n",
      "8.634089469909668\n",
      "7.555174350738525\n",
      "8.883087158203125\n",
      "8.01828384399414\n",
      "9.848441123962402\n",
      "8.391491889953613\n",
      "10.875157356262207\n",
      "8.13712215423584\n",
      "9.361791610717773\n",
      "7.323423862457275\n",
      "7.042710781097412\n",
      "8.41259765625\n",
      "9.90214729309082\n",
      "11.273326873779297\n",
      "9.304147720336914\n",
      "7.158509731292725\n",
      "9.726475715637207\n",
      "9.73501205444336\n",
      "9.204511642456055\n",
      "8.779976844787598\n",
      "10.163125038146973\n",
      "8.68533992767334\n",
      "7.4652180671691895\n",
      "7.598437786102295\n",
      "8.030329704284668\n",
      "8.258018493652344\n",
      "8.099262237548828\n",
      "8.808740615844727\n",
      "8.77670669555664\n",
      "7.760894775390625\n",
      "7.09694766998291\n",
      "7.073330879211426\n",
      "7.049661159515381\n",
      "8.055290222167969\n",
      "8.760072708129883\n",
      "7.916112899780273\n",
      "7.693427085876465\n",
      "8.04886245727539\n",
      "11.141576766967773\n",
      "7.500095844268799\n",
      "7.257796287536621\n",
      "9.21537971496582\n",
      "7.455784320831299\n",
      "7.654961585998535\n",
      "8.647750854492188\n",
      "8.232536315917969\n",
      "9.049315452575684\n",
      "9.248541831970215\n",
      "6.9216766357421875\n",
      "7.539322853088379\n",
      "7.789860725402832\n",
      "7.52133846282959\n",
      "7.852575778961182\n",
      "8.700105667114258\n",
      "10.700310707092285\n",
      "7.943336486816406\n",
      "6.238104820251465\n",
      "6.466139793395996\n",
      "8.515477180480957\n",
      "7.1843342781066895\n",
      "6.435308456420898\n",
      "7.326606750488281\n",
      "8.714951515197754\n",
      "6.221262454986572\n",
      "8.107542037963867\n",
      "7.648700714111328\n",
      "7.361649036407471\n",
      "6.3444671630859375\n",
      "7.716747283935547\n",
      "7.964015007019043\n",
      "9.3377685546875\n",
      "7.371617317199707\n",
      "6.812506675720215\n",
      "10.39064884185791\n",
      "6.74456787109375\n",
      "8.16639518737793\n",
      "7.187722682952881\n",
      "8.262185096740723\n",
      "5.3124680519104\n",
      "6.642823696136475\n",
      "7.393326759338379\n",
      "8.571043014526367\n",
      "7.975080490112305\n",
      "8.058557510375977\n",
      "8.015375137329102\n",
      "6.382192611694336\n",
      "6.990450859069824\n",
      "7.281110763549805\n",
      "6.405728340148926\n",
      "7.818660259246826\n",
      "6.5815935134887695\n",
      "5.761240482330322\n",
      "7.537160396575928\n",
      "6.979386329650879\n",
      "7.357167720794678\n",
      "7.165427207946777\n",
      "6.852853298187256\n",
      "6.026174545288086\n",
      "9.057194709777832\n",
      "5.339941024780273\n",
      "6.639842510223389\n",
      "8.968935012817383\n",
      "7.600208282470703\n",
      "7.599698066711426\n",
      "6.511172294616699\n",
      "8.505474090576172\n",
      "7.303662300109863\n",
      "6.815375328063965\n",
      "5.987969398498535\n",
      "8.28835678100586\n",
      "5.8342604637146\n",
      "7.978427410125732\n",
      "6.560493469238281\n",
      "5.886237144470215\n",
      "6.934722900390625\n",
      "7.514470100402832\n",
      "6.413559436798096\n",
      "5.989644527435303\n",
      "5.690060138702393\n",
      "5.780130386352539\n",
      "6.565225601196289\n",
      "6.003385543823242\n",
      "6.529844760894775\n",
      "5.972479343414307\n",
      "6.935284614562988\n",
      "6.398203372955322\n",
      "6.778522491455078\n",
      "5.4478840827941895\n",
      "5.757015228271484\n",
      "7.257157802581787\n",
      "6.882303237915039\n",
      "6.172396183013916\n",
      "7.230632781982422\n",
      "5.2577619552612305\n",
      "7.231420040130615\n",
      "4.9343366622924805\n",
      "5.9891743659973145\n",
      "6.660886764526367\n",
      "5.923193454742432\n",
      "5.577736854553223\n",
      "7.489736080169678\n",
      "6.583707332611084\n",
      "6.796873092651367\n",
      "6.2954511642456055\n",
      "6.901745796203613\n",
      "6.15908670425415\n",
      "5.444519996643066\n",
      "6.3006157875061035\n",
      "6.77060604095459\n",
      "6.357306003570557\n",
      "4.257074356079102\n",
      "6.138546943664551\n",
      "5.2267913818359375\n",
      "7.08566427230835\n",
      "6.604427337646484\n",
      "7.920626163482666\n",
      "4.879601001739502\n",
      "5.727163314819336\n",
      "5.181057453155518\n",
      "5.805859565734863\n",
      "6.336029529571533\n",
      "5.737619876861572\n",
      "6.15425443649292\n",
      "7.758382797241211\n",
      "6.424424648284912\n",
      "6.4325432777404785\n",
      "7.103261947631836\n",
      "5.162502288818359\n",
      "6.568388938903809\n",
      "6.049144268035889\n",
      "6.919517993927002\n",
      "5.8826003074646\n",
      "6.015444755554199\n",
      "5.776764869689941\n",
      "5.905215740203857\n",
      "7.078721046447754\n",
      "4.444019794464111\n",
      "6.099207401275635\n",
      "7.703471660614014\n",
      "5.697153091430664\n",
      "5.269714832305908\n",
      "6.84078311920166\n",
      "5.012448310852051\n",
      "6.2582316398620605\n",
      "6.084099769592285\n",
      "4.66909646987915\n",
      "3.9553158283233643\n",
      "5.5466179847717285\n",
      "5.5037522315979\n",
      "6.855967044830322\n",
      "6.270469665527344\n",
      "6.253891944885254\n",
      "4.54959774017334\n",
      "5.8548197746276855\n",
      "4.978368759155273\n",
      "5.769338607788086\n",
      "3.664370536804199\n",
      "4.949061393737793\n",
      "6.655146598815918\n",
      "5.8344807624816895\n",
      "5.097401142120361\n",
      "5.21505069732666\n",
      "5.40507698059082\n",
      "5.861766338348389\n",
      "5.332522392272949\n",
      "4.098550319671631\n",
      "4.430592060089111\n",
      "4.106488227844238\n",
      "4.677255630493164\n",
      "4.835329532623291\n",
      "4.252177715301514\n",
      "4.741222381591797\n",
      "4.452187538146973\n",
      "5.757639408111572\n",
      "5.308511734008789\n",
      "5.840466022491455\n",
      "5.2631683349609375\n",
      "5.482315540313721\n",
      "4.378431797027588\n",
      "6.7761030197143555\n",
      "4.824495315551758\n",
      "3.400128126144409\n",
      "5.042423725128174\n",
      "5.781735420227051\n",
      "5.999236106872559\n",
      "4.384039878845215\n",
      "5.822987079620361\n",
      "4.164776802062988\n",
      "4.404201984405518\n",
      "4.12483024597168\n",
      "4.409691333770752\n",
      "5.197109699249268\n",
      "4.094337463378906\n",
      "4.624953746795654\n",
      "4.273110389709473\n",
      "4.442764759063721\n",
      "4.341805934906006\n",
      "5.084316730499268\n",
      "4.6399664878845215\n",
      "4.101728916168213\n",
      "5.555080413818359\n",
      "5.452070713043213\n",
      "4.550698757171631\n",
      "5.011895179748535\n",
      "3.958547353744507\n",
      "3.4482243061065674\n",
      "3.945122480392456\n",
      "5.1182475090026855\n",
      "3.8558261394500732\n",
      "3.748260498046875\n",
      "3.770683526992798\n",
      "3.8802545070648193\n",
      "4.417229652404785\n",
      "4.921529769897461\n",
      "4.383514404296875\n",
      "3.8146467208862305\n",
      "4.264450550079346\n",
      "3.484295129776001\n",
      "4.611849784851074\n",
      "4.135775089263916\n",
      "3.607865571975708\n",
      "4.689180850982666\n",
      "3.845848798751831\n",
      "4.909194469451904\n",
      "2.826007843017578\n",
      "3.5883305072784424\n",
      "4.200359344482422\n",
      "4.401462078094482\n",
      "4.857293605804443\n",
      "3.889045476913452\n",
      "5.835762977600098\n",
      "2.647099494934082\n",
      "3.1744441986083984\n",
      "4.022452354431152\n",
      "3.586387872695923\n",
      "4.386329174041748\n",
      "3.718703269958496\n",
      "3.5618135929107666\n",
      "4.195544242858887\n",
      "4.234187126159668\n",
      "4.718259811401367\n",
      "4.931205749511719\n",
      "3.894676446914673\n",
      "3.703767776489258\n",
      "3.684356212615967\n",
      "3.110308885574341\n",
      "4.7621588706970215\n",
      "3.725301504135132\n",
      "3.553086280822754\n",
      "4.605167388916016\n",
      "3.0149381160736084\n",
      "4.038610935211182\n",
      "3.883742094039917\n",
      "4.232370853424072\n",
      "3.3079833984375\n",
      "3.1071600914001465\n",
      "5.9576239585876465\n",
      "3.95771861076355\n",
      "3.004737138748169\n",
      "2.8714189529418945\n",
      "4.083274841308594\n",
      "3.2954421043395996\n",
      "2.7163655757904053\n",
      "3.9474496841430664\n",
      "3.2923943996429443\n",
      "3.9605674743652344\n",
      "3.189882278442383\n",
      "3.8065247535705566\n",
      "4.105014324188232\n",
      "4.289316177368164\n",
      "3.698847770690918\n",
      "3.101902723312378\n",
      "3.7316513061523438\n",
      "3.560696601867676\n",
      "2.826737403869629\n",
      "4.074549674987793\n",
      "3.575709819793701\n",
      "2.886986017227173\n",
      "3.3179233074188232\n",
      "3.269862651824951\n",
      "3.3433499336242676\n",
      "3.919581174850464\n",
      "3.8175809383392334\n",
      "3.626156806945801\n",
      "3.358452081680298\n",
      "3.336714267730713\n",
      "3.5929877758026123\n",
      "3.547081708908081\n",
      "3.9131953716278076\n",
      "3.0566141605377197\n",
      "3.6407713890075684\n",
      "2.9100189208984375\n",
      "2.6418561935424805\n",
      "2.901499032974243\n",
      "3.5969958305358887\n",
      "3.4476377964019775\n",
      "3.813159704208374\n",
      "3.433039665222168\n",
      "4.290914535522461\n",
      "3.638636827468872\n",
      "4.228172302246094\n",
      "3.528078079223633\n",
      "3.2204694747924805\n",
      "3.7974486351013184\n",
      "3.103848695755005\n",
      "3.0349268913269043\n",
      "3.036015033721924\n",
      "3.242908239364624\n",
      "3.481745719909668\n",
      "3.3302364349365234\n",
      "2.8599700927734375\n",
      "2.91050386428833\n",
      "2.986513614654541\n",
      "3.789792060852051\n",
      "3.138629913330078\n",
      "4.34920597076416\n",
      "3.3290107250213623\n",
      "2.8133859634399414\n",
      "4.322762966156006\n",
      "3.0479907989501953\n",
      "3.350527286529541\n",
      "3.045611619949341\n",
      "2.80169939994812\n",
      "2.8587801456451416\n",
      "3.521310806274414\n",
      "2.8877041339874268\n",
      "2.9034533500671387\n",
      "3.7578914165496826\n",
      "2.884692907333374\n",
      "2.6909596920013428\n",
      "3.072267770767212\n",
      "3.2474095821380615\n",
      "3.4267807006835938\n",
      "3.3054001331329346\n",
      "2.8484673500061035\n",
      "3.2444710731506348\n",
      "3.446903944015503\n",
      "3.338390350341797\n",
      "3.179490566253662\n",
      "2.908557653427124\n",
      "3.5825560092926025\n",
      "3.648174524307251\n",
      "3.0216522216796875\n",
      "2.6582720279693604\n",
      "3.990017890930176\n",
      "4.229822635650635\n",
      "3.2210311889648438\n",
      "2.5916082859039307\n",
      "2.796823024749756\n",
      "2.890098810195923\n",
      "2.7422189712524414\n",
      "3.5141122341156006\n",
      "2.741920232772827\n",
      "3.5797924995422363\n",
      "3.0704052448272705\n",
      "3.151432752609253\n",
      "2.7074403762817383\n",
      "3.137429714202881\n",
      "2.5143892765045166\n",
      "2.6952314376831055\n",
      "3.2404119968414307\n",
      "3.1712937355041504\n",
      "2.736431837081909\n",
      "3.423126697540283\n",
      "3.3362717628479004\n",
      "3.1158299446105957\n",
      "2.8995323181152344\n",
      "3.2421035766601562\n",
      "2.8297619819641113\n",
      "3.8978891372680664\n",
      "3.2647409439086914\n",
      "3.0018811225891113\n",
      "3.0941622257232666\n",
      "3.3316643238067627\n",
      "2.836035966873169\n",
      "2.9527957439422607\n",
      "3.019780397415161\n",
      "2.6007509231567383\n",
      "3.709484338760376\n",
      "3.160979747772217\n",
      "3.187246561050415\n",
      "3.73287296295166\n",
      "2.868528366088867\n",
      "3.36422061920166\n",
      "2.735581874847412\n",
      "2.983410120010376\n",
      "2.6429316997528076\n",
      "2.8328723907470703\n",
      "2.727217674255371\n",
      "2.9449715614318848\n",
      "3.025847911834717\n",
      "2.2716190814971924\n",
      "3.042706251144409\n",
      "2.813988447189331\n",
      "3.353539228439331\n",
      "3.0666003227233887\n",
      "3.219909429550171\n",
      "3.3349506855010986\n",
      "3.1401896476745605\n",
      "3.2117042541503906\n",
      "2.5173025131225586\n",
      "3.4457309246063232\n",
      "4.269491672515869\n",
      "3.092973232269287\n",
      "3.645164966583252\n",
      "4.051429271697998\n",
      "3.574280261993408\n",
      "2.940612316131592\n",
      "2.8677382469177246\n",
      "3.3329410552978516\n",
      "2.817206621170044\n",
      "3.404451370239258\n",
      "2.9629065990448\n",
      "3.195758581161499\n",
      "2.486541271209717\n",
      "2.744739055633545\n",
      "3.457648277282715\n",
      "3.9750070571899414\n",
      "3.3894243240356445\n",
      "3.7092182636260986\n",
      "2.5501527786254883\n",
      "3.969287395477295\n",
      "3.608757257461548\n",
      "2.862168788909912\n",
      "2.85198712348938\n",
      "3.1310720443725586\n",
      "3.7832608222961426\n",
      "2.872617244720459\n",
      "3.675863027572632\n",
      "3.8806064128875732\n",
      "3.2780003547668457\n",
      "3.5744876861572266\n",
      "3.5875823497772217\n",
      "3.070549726486206\n",
      "3.587277889251709\n",
      "3.112555503845215\n",
      "3.5783350467681885\n",
      "3.499107599258423\n",
      "3.023528575897217\n",
      "2.7352349758148193\n",
      "3.397392988204956\n",
      "2.9669227600097656\n",
      "3.4905316829681396\n",
      "3.1517088413238525\n",
      "2.710195302963257\n",
      "4.672186374664307\n",
      "4.7396392822265625\n",
      "3.3563389778137207\n",
      "3.6183924674987793\n",
      "3.0915632247924805\n",
      "3.1807854175567627\n",
      "2.580151319503784\n",
      "3.4970014095306396\n",
      "3.5475540161132812\n",
      "2.9592888355255127\n",
      "2.9362587928771973\n",
      "3.243241548538208\n",
      "3.767570972442627\n",
      "3.1245813369750977\n",
      "2.8422577381134033\n",
      "3.6067378520965576\n",
      "3.354447603225708\n",
      "3.0758724212646484\n",
      "3.3286023139953613\n",
      "3.0897533893585205\n",
      "4.469247817993164\n",
      "3.2707674503326416\n",
      "3.555530309677124\n",
      "3.599717617034912\n",
      "3.755079746246338\n",
      "3.899383068084717\n",
      "3.1054508686065674\n",
      "3.013460397720337\n",
      "3.4321420192718506\n",
      "3.121932029724121\n",
      "3.4402613639831543\n",
      "3.5476417541503906\n",
      "3.6129884719848633\n",
      "3.8687338829040527\n",
      "5.071380615234375\n",
      "4.367741584777832\n",
      "3.440567970275879\n",
      "3.807857036590576\n",
      "4.076400279998779\n",
      "4.806583881378174\n",
      "4.358706951141357\n",
      "4.170714855194092\n",
      "4.166570663452148\n",
      "3.984914541244507\n",
      "4.057643890380859\n",
      "3.715982437133789\n",
      "3.9341559410095215\n",
      "3.334218978881836\n",
      "3.227644920349121\n",
      "3.224606513977051\n",
      "3.406778335571289\n",
      "3.6113882064819336\n",
      "3.4066367149353027\n",
      "3.2185122966766357\n",
      "3.4434714317321777\n",
      "4.169003963470459\n",
      "3.2755813598632812\n",
      "5.742551803588867\n",
      "4.709167957305908\n",
      "3.565302610397339\n",
      "3.7053236961364746\n",
      "4.229626178741455\n",
      "4.762903213500977\n",
      "6.080405235290527\n",
      "5.245143413543701\n",
      "5.095468521118164\n",
      "3.9715476036071777\n",
      "4.859279155731201\n",
      "6.682387351989746\n",
      "4.519662857055664\n",
      "2.606799602508545\n",
      "4.213669300079346\n",
      "3.7307167053222656\n",
      "3.6515400409698486\n",
      "4.34249210357666\n",
      "4.203249454498291\n",
      "4.307680606842041\n",
      "3.525172710418701\n",
      "4.821017742156982\n",
      "5.510027885437012\n",
      "3.125939130783081\n",
      "3.935241222381592\n",
      "3.3773226737976074\n",
      "3.965372085571289\n",
      "4.117093086242676\n",
      "4.5894551277160645\n",
      "4.901235103607178\n",
      "3.290104389190674\n",
      "4.325854778289795\n",
      "4.361999988555908\n",
      "4.248146057128906\n",
      "4.81718111038208\n",
      "3.541835308074951\n",
      "3.104534387588501\n",
      "4.459090709686279\n",
      "5.380941390991211\n",
      "7.441462516784668\n",
      "8.34369945526123\n",
      "5.516284942626953\n",
      "4.3995747566223145\n",
      "3.562084674835205\n",
      "4.002598762512207\n",
      "4.008794784545898\n",
      "4.1191086769104\n",
      "4.10904598236084\n",
      "5.08064603805542\n",
      "3.1306309700012207\n",
      "3.079730749130249\n",
      "4.238340377807617\n",
      "3.866828203201294\n",
      "2.840409994125366\n",
      "4.101563453674316\n",
      "3.2954177856445312\n",
      "4.059986591339111\n",
      "3.723745346069336\n",
      "3.617330551147461\n",
      "4.847354888916016\n",
      "4.046231269836426\n",
      "4.755828380584717\n",
      "3.358400821685791\n",
      "3.866504669189453\n",
      "5.1829328536987305\n",
      "6.011693954467773\n",
      "6.742509841918945\n",
      "5.515066146850586\n",
      "5.694427967071533\n",
      "6.437478065490723\n",
      "4.233896255493164\n",
      "4.985616683959961\n",
      "5.406848907470703\n",
      "6.058566570281982\n",
      "7.5021467208862305\n",
      "4.768727779388428\n",
      "5.077951431274414\n",
      "6.1130852699279785\n",
      "5.054653644561768\n",
      "7.177783966064453\n",
      "7.037313461303711\n",
      "5.936135768890381\n",
      "4.136126518249512\n",
      "4.620622158050537\n",
      "4.995535373687744\n",
      "5.535281181335449\n",
      "3.2294156551361084\n",
      "3.244198799133301\n",
      "4.0046916007995605\n",
      "6.454415798187256\n",
      "5.278540134429932\n",
      "5.77498722076416\n",
      "6.507983684539795\n",
      "5.062532424926758\n",
      "5.129567623138428\n",
      "4.205414772033691\n",
      "6.08415412902832\n",
      "5.802284240722656\n",
      "5.421277046203613\n",
      "4.728623390197754\n",
      "5.925051689147949\n",
      "8.307263374328613\n",
      "7.093290328979492\n",
      "4.446808815002441\n",
      "6.45815372467041\n",
      "7.803661823272705\n",
      "7.473532676696777\n",
      "9.353377342224121\n",
      "6.5347490310668945\n",
      "5.604767322540283\n",
      "4.434142589569092\n",
      "4.484392166137695\n",
      "4.808894634246826\n",
      "4.794394493103027\n",
      "5.740131855010986\n",
      "5.3488898277282715\n",
      "5.145820140838623\n",
      "4.9028143882751465\n",
      "5.4896345138549805\n",
      "4.773249626159668\n",
      "7.093777656555176\n",
      "6.031494140625\n",
      "4.382291793823242\n",
      "4.868564605712891\n",
      "5.005343914031982\n",
      "5.398863792419434\n",
      "5.5952653884887695\n",
      "6.495903968811035\n",
      "6.3557353019714355\n",
      "4.505380630493164\n",
      "6.320278167724609\n",
      "7.398686408996582\n",
      "6.65019416809082\n",
      "5.275150775909424\n",
      "5.152102470397949\n",
      "5.135165214538574\n",
      "7.273173809051514\n",
      "7.046452045440674\n",
      "7.843954563140869\n",
      "5.761758327484131\n",
      "5.747836112976074\n",
      "5.091816425323486\n",
      "6.203030586242676\n",
      "5.709126949310303\n",
      "5.771702289581299\n",
      "6.180700778961182\n",
      "6.386416435241699\n",
      "6.142497539520264\n",
      "4.963517665863037\n",
      "5.191024303436279\n",
      "5.726184844970703\n",
      "5.537586688995361\n",
      "6.217933177947998\n",
      "7.24798059463501\n",
      "4.467215061187744\n",
      "6.444011688232422\n",
      "7.209132671356201\n",
      "4.9093828201293945\n",
      "5.233793258666992\n",
      "6.8177337646484375\n",
      "4.560227394104004\n",
      "5.447183609008789\n",
      "6.545119285583496\n",
      "8.167405128479004\n",
      "6.305071830749512\n",
      "6.206100940704346\n",
      "6.177513122558594\n",
      "6.719752311706543\n",
      "7.731762409210205\n",
      "7.579662799835205\n",
      "8.373552322387695\n",
      "8.561788558959961\n",
      "7.391018390655518\n",
      "6.38383674621582\n",
      "8.73599624633789\n",
      "7.267614364624023\n",
      "10.1096773147583\n",
      "6.614211082458496\n",
      "5.625386714935303\n",
      "9.00589370727539\n",
      "6.431082725524902\n",
      "7.170849800109863\n",
      "8.116436958312988\n",
      "11.898032188415527\n",
      "8.985955238342285\n",
      "5.583209037780762\n",
      "11.673397064208984\n",
      "13.493977546691895\n",
      "9.775158882141113\n",
      "11.575448036193848\n",
      "13.097238540649414\n",
      "7.06498384475708\n",
      "8.893806457519531\n",
      "5.328585624694824\n",
      "7.6396307945251465\n",
      "8.693632125854492\n",
      "8.061995506286621\n",
      "6.951470375061035\n",
      "7.648529052734375\n",
      "Final loss: 7.648529052734375\n"
     ]
    }
   ],
   "source": [
    "# Finding the ideal learning rate\n",
    "# Parameters\n",
    "C = torch.randn((27, 2), generator=g)\n",
    "W1 = torch.randn((6, 100), generator=g)\n",
    "b1 = torch.randn(100, generator=g)\n",
    "W2 = torch.randn((100, 27), generator=g)\n",
    "b2 = torch.randn(27, generator=g)\n",
    "parameters = [C, W1, b1, W2, b2]\n",
    "print(f\"Total parametrs: {sum(p.nelement() for p in parameters)}\")\n",
    "\n",
    "for p in parameters:\n",
    "    p.requires_grad = True\n",
    "\n",
    "# Metrics\n",
    "lri = []\n",
    "lossi = []\n",
    "for i in range(1000):\n",
    "\n",
    "    ix = torch.randint(0, X.shape[0], (32,))\n",
    "    \n",
    "    # Forward pass\n",
    "    emb = C[X[ix]]\n",
    "    h = torch.tanh(emb.view(-1, 6) @ W1 + b1)\n",
    "    logits = h @ W2 + b2\n",
    "    loss = F.cross_entropy(logits, Y[ix])\n",
    "    print(loss.item())\n",
    "\n",
    "    # Set gradient to None\n",
    "    for p in parameters:\n",
    "        p.grad = None\n",
    "\n",
    "    loss.backward()\n",
    "\n",
    "    # Update weights\n",
    "    lr = lrs[i]\n",
    "    for p in parameters:\n",
    "        p.data += - lr * p.grad\n",
    "\n",
    "    lri.append(lre[i])\n",
    "    lossi.append(loss.item())\n",
    "print(f\"Final loss: {loss.item()}\")"
   ]
  },
  {
   "cell_type": "code",
   "execution_count": null,
   "metadata": {},
   "outputs": [
    {
     "data": {
      "text/plain": [
       "[<matplotlib.lines.Line2D at 0x7fe5a8838c10>]"
      ]
     },
     "execution_count": 63,
     "metadata": {},
     "output_type": "execute_result"
    },
    {
     "data": {
      "image/png": "[encoded data removed]",
      "text/plain": [
       "<Figure size 640x480 with 1 Axes>"
      ]
     },
     "metadata": {},
     "output_type": "display_data"
    }
   ],
   "source": [
    "plt.plot(lri, lossi)"
   ]
  },
  {
   "attachments": {},
   "cell_type": "markdown",
   "metadata": {},
   "source": [
    "Base on the plot, loss is less before exploding is exponent of -1.0 which is 0.1 which was our initial learning rate.\n",
    "Now we can be certain that the learning rate is good.\n",
    "Let's set lr to 0.1 and train for a longer period."
   ]
  },
  {
   "cell_type": "code",
   "execution_count": null,
   "metadata": {},
   "outputs": [
    {
     "name": "stdout",
     "output_type": "stream",
     "text": [
      "Total parametrs: 3481\n"
     ]
    }
   ],
   "source": [
    "# Parameters\n",
    "C = torch.randn((27, 2), generator=g)\n",
    "W1 = torch.randn((6, 100), generator=g)\n",
    "b1 = torch.randn(100, generator=g)\n",
    "W2 = torch.randn((100, 27), generator=g)\n",
    "b2 = torch.randn(27, generator=g)\n",
    "parameters = [C, W1, b1, W2, b2]\n",
    "print(f\"Total parametrs: {sum(p.nelement() for p in parameters)}\")\n",
    "\n",
    "for p in parameters:\n",
    "    p.requires_grad = True"
   ]
  },
  {
   "cell_type": "code",
   "execution_count": null,
   "metadata": {},
   "outputs": [
    {
     "name": "stdout",
     "output_type": "stream",
     "text": [
      "Final loss: 2.6249172687530518\n"
     ]
    }
   ],
   "source": [
    "# Good learning rate from metrics\n",
    "for i in range(10000):\n",
    "\n",
    "    ix = torch.randint(0, X.shape[0], (32,))\n",
    "    \n",
    "    # Forward pass\n",
    "    emb = C[X[ix]]\n",
    "    h = torch.tanh(emb.view(-1, 6) @ W1 + b1)\n",
    "    logits = h @ W2 + b2\n",
    "    loss = F.cross_entropy(logits, Y[ix])\n",
    "\n",
    "    # Set gradient to None\n",
    "    for p in parameters:\n",
    "        p.grad = None\n",
    "\n",
    "    loss.backward()\n",
    "\n",
    "    # Update weights\n",
    "    lr = 0.1\n",
    "    for p in parameters:\n",
    "        p.data += - lr * p.grad\n",
    "\n",
    "\n",
    "print(f\"Final loss: {loss.item()}\")"
   ]
  },
  {
   "cell_type": "code",
   "execution_count": null,
   "metadata": {},
   "outputs": [
    {
     "data": {
      "text/plain": [
       "tensor(2.4645, grad_fn=<NllLossBackward0>)"
      ]
     },
     "execution_count": 66,
     "metadata": {},
     "output_type": "execute_result"
    }
   ],
   "source": [
    "# Evaluation loss for entire dataset\n",
    "emb = C[X]\n",
    "h = torch.tanh(emb.view(-1, 6) @ W1 + b1)\n",
    "logits = h @ W2 + b2\n",
    "loss = F.cross_entropy(logits, Y)\n",
    "loss"
   ]
  },
  {
   "attachments": {},
   "cell_type": "markdown",
   "metadata": {},
   "source": [
    "After running traing for more than 10000 steps multiple times, we've overcome the loss of bigram model.\n",
    "Now we've arrived at a point where we are near the minima. Let's do a decay of learning rate to slowly reach there.\n",
    "\n",
    "And train."
   ]
  },
  {
   "cell_type": "code",
   "execution_count": null,
   "metadata": {},
   "outputs": [
    {
     "name": "stdout",
     "output_type": "stream",
     "text": [
      "Final loss: 1.9187628030776978\n"
     ]
    }
   ],
   "source": [
    "# Learning rate Decay\n",
    "for i in range(10000):\n",
    "\n",
    "    ix = torch.randint(0, X.shape[0], (32,))\n",
    "    \n",
    "    # Forward pass\n",
    "    emb = C[X[ix]]\n",
    "    h = torch.tanh(emb.view(-1, 6) @ W1 + b1)\n",
    "    logits = h @ W2 + b2\n",
    "    loss = F.cross_entropy(logits, Y[ix])\n",
    "\n",
    "    # Set gradient to None\n",
    "    for p in parameters:\n",
    "        p.grad = None\n",
    "\n",
    "    loss.backward()\n",
    "\n",
    "    # Update weights\n",
    "    lr = 0.01\n",
    "    for p in parameters:\n",
    "        p.data += - lr * p.grad\n",
    "\n",
    "\n",
    "print(f\"Final loss: {loss.item()}\")"
   ]
  },
  {
   "cell_type": "markdown",
   "metadata": {},
   "source": []
  },
  {
   "attachments": {},
   "cell_type": "markdown",
   "metadata": {},
   "source": [
    "### Summary\n",
    "\n",
    "* Find a good leaarning rate between lower and upper limit\n",
    "* Train on the ideal learning rate and check for improvement in loss\n",
    "* Verify that and do a learning rate decay by a small factor and train again\n",
    "* Validate loss again on entitre dataset"
   ]
  },
  {
   "attachments": {},
   "cell_type": "markdown",
   "metadata": {},
   "source": [
    "## Splitting up the staset into train/val/test and why?\n",
    "\n",
    "We said the loss above is lesser than the bigram model it is, but this might not be true in all cases.\n",
    "Because right now we've only 3481 parameters, as the model scales up number of parameters can go up to millions and more.\n",
    "At this point model will start overfitting for the data in parameters and will be able to identify only those and unseen data will fail terribly.\n",
    "\n",
    "To avoid this, we create three splits of data from entire dataset,\n",
    "\n",
    "1. train - to tune the parameters itself\n",
    "2. val/dev - to tune hyperparameters. Like number of hidden units, loss, learning rate etc.\n",
    "3. test - to validate the model on unseen data.\n",
    "\n",
    "And test should not be used very frequently as it will lead taking the inputs or feedback from that and incorprating into training set.\n",
    "We should use test set very less number of times."
   ]
  },
  {
   "cell_type": "code",
   "execution_count": null,
   "metadata": {},
   "outputs": [],
   "source": [
    "def build_dataset_v1(words, block_size, logs=False):\n",
    "    block_size = block_size # Context ength: how many characters do we take to predict the next one?\n",
    "    X, Y = [], []\n",
    "    for w in words:\n",
    "        if logs:\n",
    "            print(w)\n",
    "        context = [0] * block_size\n",
    "        for ch in w + '.':\n",
    "            if logs:\n",
    "                print(f\"Context: {context}\")\n",
    "            ix = stoi[ch]\n",
    "            X.append(context)\n",
    "            Y.append(ix)\n",
    "            if logs:\n",
    "                print(''.join(itos[i] for i in context), '--->', itos[ix])\n",
    "            context = context[1:] + [ix]\n",
    "            if logs:\n",
    "                print(f\"Context after append: {context}\")\n",
    "\n",
    "\n",
    "    X = torch.tensor(X)\n",
    "    Y = torch.tensor(Y)\n",
    "    print(X.shape, Y.shape)\n",
    "    return X, Y\n"
   ]
  },
  {
   "cell_type": "code",
   "execution_count": null,
   "metadata": {},
   "outputs": [
    {
     "name": "stdout",
     "output_type": "stream",
     "text": [
      "torch.Size([182400, 3]) torch.Size([182400])\n",
      "torch.Size([22962, 3]) torch.Size([22962])\n",
      "torch.Size([22784, 3]) torch.Size([22784])\n"
     ]
    }
   ],
   "source": [
    "import random\n",
    "random.seed(42)\n",
    "random.shuffle(words)\n",
    "n1 = int(0.8 * len(words))\n",
    "n2 = int(0.9 * len(words))\n",
    "\n",
    "Xtr, Ytr = build_dataset_v1(words=words[:n1], block_size=3)\n",
    "Xdev, Ydev = build_dataset_v1(words=words[n1:n2], block_size=3)\n",
    "Xte, Yte = build_dataset_v1(words=words[n2:], block_size=3)"
   ]
  },
  {
   "cell_type": "code",
   "execution_count": null,
   "metadata": {},
   "outputs": [
    {
     "data": {
      "text/plain": [
       "(torch.Size([182580, 3]), torch.Size([182580]))"
      ]
     },
     "execution_count": 88,
     "metadata": {},
     "output_type": "execute_result"
    }
   ],
   "source": [
    "# Train dataset\n",
    "Xtr.shape, Ytr.shape"
   ]
  },
  {
   "cell_type": "code",
   "execution_count": null,
   "metadata": {},
   "outputs": [],
   "source": [
    "# Resetting network\n",
    "C = torch.randn((27, 2), generator=g)\n",
    "W1 = torch.randn((6, 100), generator=g)\n",
    "b1 = torch.randn(100, generator=g)\n",
    "W2 = torch.randn((100, 27), generator=g)\n",
    "b2 = torch.randn(27, generator=g)\n",
    "parameters = [C, W1, b1, W2, b2]"
   ]
  },
  {
   "cell_type": "code",
   "execution_count": null,
   "metadata": {},
   "outputs": [
    {
     "data": {
      "text/plain": [
       "3481"
      ]
     },
     "execution_count": 196,
     "metadata": {},
     "output_type": "execute_result"
    }
   ],
   "source": [
    "sum (p.nelement() for p in parameters)"
   ]
  },
  {
   "cell_type": "code",
   "execution_count": null,
   "metadata": {},
   "outputs": [
    {
     "data": {
      "text/plain": [
       "182400"
      ]
     },
     "execution_count": 197,
     "metadata": {},
     "output_type": "execute_result"
    }
   ],
   "source": [
    "Xtr.shape[0]"
   ]
  },
  {
   "cell_type": "code",
   "execution_count": null,
   "metadata": {},
   "outputs": [],
   "source": [
    "for p in parameters:\n",
    "    p.requires_grad = True\n",
    "\n",
    "lre = torch.linspace(-3, 0, 1000)\n",
    "lrs = 10 ** lre\n",
    "\n",
    "lri = []\n",
    "lrs = []"
   ]
  },
  {
   "cell_type": "code",
   "execution_count": null,
   "metadata": {},
   "outputs": [],
   "source": [
    "for i in range(30000):\n",
    "\n",
    "    # minibatch construct\n",
    "    ix = torch.randint(0, Xtr.shape[0], (32,))\n",
    "\n",
    "    # Forward pass\n",
    "    emb = C[Xtr[ix]] \n",
    "    h = torch.tanh(emb.view(-1, 6) @ W1 + b1)\n",
    "    logits = h @ W2 + b2\n",
    "    loss = F.cross_entropy(logits, Ytr[ix])\n",
    "\n",
    "    for p in parameters:\n",
    "        p.grad = None\n",
    "    loss.backward()\n",
    "\n",
    "    lr = 0.01\n",
    "    for p in parameters:\n",
    "        p.data += -lr * p.grad\n"
   ]
  },
  {
   "cell_type": "code",
   "execution_count": null,
   "metadata": {},
   "outputs": [
    {
     "name": "stdout",
     "output_type": "stream",
     "text": [
      "2.457670211791992\n"
     ]
    }
   ],
   "source": [
    "print(loss.item())"
   ]
  },
  {
   "cell_type": "code",
   "execution_count": null,
   "metadata": {},
   "outputs": [
    {
     "data": {
      "text/plain": [
       "tensor(2.3213, grad_fn=<NllLossBackward0>)"
      ]
     },
     "execution_count": 209,
     "metadata": {},
     "output_type": "execute_result"
    }
   ],
   "source": [
    "# 1. steps = 10000, batch = 32, lr = 0.1, loss = 2.4775\n",
    "# 2. steps = 30000, batch = 32, lr = 0.1, loss = 2.4265\n",
    "# 2. steps = 30000, batch = 32, lr = 0.01, loss = 2.3213\n",
    "\n",
    "emb = C[Xtr]\n",
    "h = torch.tanh(emb.view(-1, 6) @ W1 + b1)\n",
    "logits = h @ W2 + b2\n",
    "loss = F.cross_entropy(logits, Ytr)\n",
    "loss"
   ]
  },
  {
   "cell_type": "code",
   "execution_count": null,
   "metadata": {},
   "outputs": [
    {
     "data": {
      "text/plain": [
       "tensor(2.3276, grad_fn=<NllLossBackward0>)"
      ]
     },
     "execution_count": 210,
     "metadata": {},
     "output_type": "execute_result"
    }
   ],
   "source": [
    "# 1. steps = 10000, batch = 32, lr = 0.1, loss = 2.4830\n",
    "# 2. steps = 10000, batch = 32, lr = 0.1, loss = 2.4347\n",
    "# 2. steps = 30000, batch = 32, lr = 0.01, loss = 2.3276\n",
    "\n",
    "emb = C[Xdev]\n",
    "h = torch.tanh(emb.view(-1, 6) @ W1 + b1)\n",
    "logits = h @ W2 + b2\n",
    "loss = F.cross_entropy(logits, Ydev)\n",
    "loss"
   ]
  },
  {
   "attachments": {},
   "cell_type": "markdown",
   "metadata": {},
   "source": [
    "The training loss and test loss difference is not huge, so we're not overfitting but it's nearly equal. This is underfitting, we don't have a big network to overfit the data. Let's try that next."
   ]
  },
  {
   "attachments": {},
   "cell_type": "markdown",
   "metadata": {},
   "source": [
    "## Experiment: Large Hidden layer\n",
    "\n",
    "100 --> 300 units"
   ]
  },
  {
   "cell_type": "code",
   "execution_count": null,
   "metadata": {},
   "outputs": [
    {
     "name": "stdout",
     "output_type": "stream",
     "text": [
      "10281\n"
     ]
    }
   ],
   "source": [
    "# Resetting network\n",
    "g = torch.Generator().manual_seed(2147483647)\n",
    "C = torch.randn((27, 2), generator=g)\n",
    "W1 = torch.randn((6, 300), generator=g)\n",
    "b1 = torch.randn(300, generator=g)\n",
    "W2 = torch.randn((300, 27), generator=g)\n",
    "b2 = torch.randn(27, generator=g)\n",
    "parameters = [C, W1, b1, W2, b2]\n",
    "print(sum(p.nelement() for p in parameters))\n",
    "\n",
    "for p in parameters:\n",
    "    p.requires_grad = True"
   ]
  },
  {
   "cell_type": "code",
   "execution_count": null,
   "metadata": {},
   "outputs": [],
   "source": [
    "# 1. Try more steps, as network size is increased\n",
    "# 2. Try different batch sizes, since too small a batch size might return a bad thrashing gradient"
   ]
  },
  {
   "cell_type": "code",
   "execution_count": null,
   "metadata": {},
   "outputs": [],
   "source": [
    "# Stats\n",
    "lossi = []\n",
    "stepi = []\n",
    "\n",
    "for i in range(30000):\n",
    "\n",
    "    # minibatch construct\n",
    "    ix = torch.randint(0, Xtr.shape[0], (64,))\n",
    "\n",
    "    # Forward pass\n",
    "    emb = C[Xtr[ix]] \n",
    "    h = torch.tanh(emb.view(-1, 6) @ W1 + b1)\n",
    "    logits = h @ W2 + b2\n",
    "    loss = F.cross_entropy(logits, Ytr[ix])\n",
    "\n",
    "    for p in parameters:\n",
    "        p.grad = None\n",
    "    loss.backward()\n",
    "\n",
    "    lr = 0.01\n",
    "    for p in parameters:\n",
    "        p.data += -lr * p.grad\n",
    "\n",
    "    stepi.append(i)\n",
    "    lossi.append(loss.item())"
   ]
  },
  {
   "cell_type": "code",
   "execution_count": null,
   "metadata": {},
   "outputs": [
    {
     "data": {
      "image/png": "[encoded data removed]",
      "text/plain": [
       "<Figure size 640x480 with 1 Axes>"
      ]
     },
     "metadata": {},
     "output_type": "display_data"
    }
   ],
   "source": [
    "plt.plot(stepi, lossi);"
   ]
  },
  {
   "cell_type": "code",
   "execution_count": null,
   "metadata": {},
   "outputs": [
    {
     "data": {
      "text/plain": [
       "tensor(2.2780, grad_fn=<NllLossBackward0>)"
      ]
     },
     "execution_count": 239,
     "metadata": {},
     "output_type": "execute_result"
    }
   ],
   "source": [
    "# 1. steps = 10000, batch = 32, lr = 0.1, loss = 2.6616\n",
    "# 2. steps = 30000, batch = 64, lr = 0.1, loss = 2.3609\n",
    "# 2. steps = 30000, batch = 64, lr = 0.01, loss = 2.2780\n",
    "\n",
    "emb = C[Xtr]\n",
    "h = torch.tanh(emb.view(-1, 6) @ W1 + b1)\n",
    "logits = h @ W2 + b2\n",
    "loss = F.cross_entropy(logits, Ytr)\n",
    "loss"
   ]
  },
  {
   "cell_type": "code",
   "execution_count": null,
   "metadata": {},
   "outputs": [
    {
     "data": {
      "text/plain": [
       "tensor(2.2898, grad_fn=<NllLossBackward0>)"
      ]
     },
     "execution_count": 240,
     "metadata": {},
     "output_type": "execute_result"
    }
   ],
   "source": [
    "# 1. steps = 10000, batch = 32, lr = 0.1, loss = 2.6711\n",
    "# 2. steps = 30000, batch = 64, lr = 0.1, loss = 2.3696\n",
    "# 2. steps = 30000, batch = 64, lr = 0.01, loss = 2.2898\n",
    "\n",
    "emb = C[Xdev]\n",
    "h = torch.tanh(emb.view(-1, 6) @ W1 + b1)\n",
    "logits = h @ W2 + b2\n",
    "loss = F.cross_entropy(logits, Ydev)\n",
    "loss"
   ]
  },
  {
   "attachments": {},
   "cell_type": "markdown",
   "metadata": {},
   "source": [
    "The dev loss is not decreasing much, even though we've increased number of model parameters.\n",
    "\n",
    "2.3286 (3481 parameters) --> 2.2898(10281 parameters)\n",
    "\n",
    "We've increased the number of units in tanh layer.\n",
    "The bottleneck of the network performance might be the two dimensional embeding layer is not enough. \n",
    "We're scramming way too many characters into embeddings and not able to use that effectivley.\n",
    "\n",
    "One thing before we scale up the embeddings from two dimensions is to visualize them. Once we go beyond two dimensions, we can't visualize the embeddings."
   ]
  },
  {
   "attachments": {},
   "cell_type": "markdown",
   "metadata": {},
   "source": [
    "## Visualizing the character embeddings"
   ]
  },
  {
   "cell_type": "code",
   "execution_count": null,
   "metadata": {},
   "outputs": [
    {
     "data": {
      "text/plain": [
       "torch.Size([27, 2])"
      ]
     },
     "execution_count": 241,
     "metadata": {},
     "output_type": "execute_result"
    }
   ],
   "source": [
    "C.shape"
   ]
  },
  {
   "cell_type": "code",
   "execution_count": null,
   "metadata": {},
   "outputs": [
    {
     "data": {
      "text/plain": [
       "27"
      ]
     },
     "execution_count": 242,
     "metadata": {},
     "output_type": "execute_result"
    }
   ],
   "source": [
    "C.shape[0]"
   ]
  },
  {
   "cell_type": "code",
   "execution_count": null,
   "metadata": {},
   "outputs": [
    {
     "data": {
      "image/png": "[encoded data removed]",
      "text/plain": [
       "<Figure size 800x800 with 1 Axes>"
      ]
     },
     "metadata": {},
     "output_type": "display_data"
    }
   ],
   "source": [
    "plt.figure(figsize=(8, 8))\n",
    "plt.scatter(C[:, 0].data, C[:, 1].data, s=200)\n",
    "for i in range(C.shape[0]):\n",
    "    plt.text(C[i, 0].item(), C[i, 1].item(), itos[i], ha=\"center\", va=\"center\", color=\"white\")\n",
    "plt.grid('minor')"
   ]
  },
  {
   "cell_type": "markdown",
   "metadata": {},
   "source": [
    "## Increasing embedding dimension"
   ]
  },
  {
   "cell_type": "code",
   "execution_count": null,
   "metadata": {},
   "outputs": [
    {
     "name": "stdout",
     "output_type": "stream",
     "text": [
      "11897\n"
     ]
    }
   ],
   "source": [
    "# Resetting network\n",
    "# Incresing embedding dimension 2 --> 10\n",
    "g = torch.Generator().manual_seed(2147483647)\n",
    "C = torch.randn((27, 10), generator=g)\n",
    "W1 = torch.randn((30, 200), generator=g)\n",
    "b1 = torch.randn(200, generator=g)\n",
    "W2 = torch.randn((200, 27), generator=g)\n",
    "b2 = torch.randn(27, generator=g)\n",
    "parameters = [C, W1, b1, W2, b2]\n",
    "print(sum(p.nelement() for p in parameters))\n",
    "\n",
    "for p in parameters:\n",
    "    p.requires_grad = True"
   ]
  },
  {
   "cell_type": "code",
   "execution_count": null,
   "metadata": {},
   "outputs": [],
   "source": [
    "# Stats\n",
    "lossi = []\n",
    "stepi = []"
   ]
  },
  {
   "cell_type": "code",
   "execution_count": null,
   "metadata": {},
   "outputs": [],
   "source": [
    "for i in range(50000):\n",
    "\n",
    "    # minibatch construct\n",
    "    ix = torch.randint(0, Xtr.shape[0], (32,))\n",
    "\n",
    "    # Forward pass\n",
    "    emb = C[Xtr[ix]] \n",
    "    h = torch.tanh(emb.view(-1, 30) @ W1 + b1)\n",
    "    logits = h @ W2 + b2\n",
    "    loss = F.cross_entropy(logits, Ytr[ix])\n",
    "\n",
    "    for p in parameters:\n",
    "        p.grad = None\n",
    "    loss.backward()\n",
    "\n",
    "    lr = 0.01\n",
    "    for p in parameters:\n",
    "        p.data += -lr * p.grad\n",
    "\n",
    "    stepi.append(i)\n",
    "    lossi.append(loss.log10().item())"
   ]
  },
  {
   "cell_type": "code",
   "execution_count": null,
   "metadata": {},
   "outputs": [
    {
     "data": {
      "text/plain": [
       "[<matplotlib.lines.Line2D at 0x7fe440665f00>]"
      ]
     },
     "execution_count": 263,
     "metadata": {},
     "output_type": "execute_result"
    },
    {
     "data": {
      "image/png": "[encoded data removed]",
      "text/plain": [
       "<Figure size 640x480 with 1 Axes>"
      ]
     },
     "metadata": {},
     "output_type": "display_data"
    }
   ],
   "source": [
    "plt.plot(stepi, lossi)"
   ]
  },
  {
   "cell_type": "code",
   "execution_count": null,
   "metadata": {},
   "outputs": [
    {
     "data": {
      "text/plain": [
       "tensor(2.1150, grad_fn=<NllLossBackward0>)"
      ]
     },
     "execution_count": 260,
     "metadata": {},
     "output_type": "execute_result"
    }
   ],
   "source": [
    "# 1. steps = 10000, batch = 32, lr = 0.1, loss = 2.5751\n",
    "# 2. steps = 50000, batch = 64, lr = 0.1, loss = 2.2206\n",
    "# 3. steps = 50000, batch = 64, lr = 0.01, loss = 2.1150\n",
    "# 4. steps = 50000, batch = 32, lr = 0.01, loss = 2.1150\n",
    "\n",
    "emb = C[Xtr]\n",
    "h = torch.tanh(emb.view(-1, 30) @ W1 + b1)\n",
    "logits = h @ W2 + b2\n",
    "loss = F.cross_entropy(logits, Ytr)\n",
    "loss"
   ]
  },
  {
   "cell_type": "code",
   "execution_count": null,
   "metadata": {},
   "outputs": [
    {
     "data": {
      "text/plain": [
       "tensor(2.1655, grad_fn=<NllLossBackward0>)"
      ]
     },
     "execution_count": 261,
     "metadata": {},
     "output_type": "execute_result"
    }
   ],
   "source": [
    "# 1. steps = 10000, batch = 32, lr = 0.1, loss = 2.6035\n",
    "# 2. steps = 50000, batch = 64, lr = 0.1, loss = 2.2707\n",
    "# 3. steps = 50000, batch = 64, lr = 0.01, loss = 2.1655\n",
    "# 4. steps = 50000, batch = 32, lr = 0.01, loss = 2.1150\n",
    "\n",
    "emb = C[Xdev]\n",
    "h = torch.tanh(emb.view(-1, 30) @ W1 + b1)\n",
    "logits = h @ W2 + b2\n",
    "loss = F.cross_entropy(logits, Ydev)\n",
    "loss"
   ]
  },
  {
   "cell_type": "code",
   "execution_count": null,
   "metadata": {},
   "outputs": [
    {
     "data": {
      "text/plain": [
       "tensor(2.1785, grad_fn=<NllLossBackward0>)"
      ]
     },
     "execution_count": 264,
     "metadata": {},
     "output_type": "execute_result"
    }
   ],
   "source": [
    "emb = C[Xte]\n",
    "h = torch.tanh(emb.view(-1, 30) @ W1 + b1)\n",
    "logits = h @ W2 + b2\n",
    "loss = F.cross_entropy(logits, Yte)\n",
    "loss"
   ]
  },
  {
   "attachments": {},
   "cell_type": "markdown",
   "metadata": {},
   "source": [
    "> Note: So use the paramters where dev loss is good and use that to train the network. Use this network to evaluate the loss on test set once."
   ]
  },
  {
   "attachments": {},
   "cell_type": "markdown",
   "metadata": {},
   "source": [
    "## Sampling from the model"
   ]
  },
  {
   "cell_type": "code",
   "execution_count": null,
   "metadata": {},
   "outputs": [],
   "source": [
    "g = torch.Generator().manual_seed(2147483647)\n",
    "\n",
    "for _ in range(20):\n",
    "    out = []\n",
    "    context = [0]\n",
    "    while True:\n",
    "        emb = C[torch.tensor([context])]\n",
    "        h = torch.tanh(emb.view)"
   ]
  }
 ],
 "metadata": {
  "kernelspec": {
   "display_name": "Python 3 (ipykernel)",
   "language": "python",
   "name": "python3"
  },
  "language_info": {
   "codemirror_mode": {
    "name": "ipython",
    "version": 3
   },
   "file_extension": ".py",
   "mimetype": "text/x-python",
   "name": "python",
   "nbconvert_exporter": "python",
   "pygments_lexer": "ipython3",
   "version": "3.10.6"
  },
  "toc": {
   "base_numbering": 1,
   "nav_menu": {},
   "number_sections": true,
   "sideBar": true,
   "skip_h1_title": false,
   "title_cell": "Table of Contents",
   "title_sidebar": "Contents",
   "toc_cell": false,
   "toc_position": {
    "height": "calc(100% - 180px)",
    "left": "10px",
    "top": "150px",
    "width": "206px"
   },
   "toc_section_display": true,
   "toc_window_display": false
  },
  "vscode": {
   "interpreter": {
    "hash": "21a124e163c92121797d725bed844fa6fdaf2c4e47bf1f149ef174ae791c682a"
   }
  }
 },
 "nbformat": 4,
 "nbformat_minor": 2
}
