{
 "cells": [
  {
   "cell_type": "markdown",
   "metadata": {},
   "source": [
    "# MLP"
   ]
  },
  {
   "cell_type": "markdown",
   "metadata": {},
   "source": [
    "The bigram model using probablities based on normalized counts has it's limitations.\n",
    "\n",
    "To extend it to have more context like a two characters as input the probabalities matrix will have (27*27) possilities and for three characters (27 * 27 * 27) and becomes too big.\n",
    "\n",
    "To overcome this we're gonna try out [Bengion et al.2003 MLP model paper](https://www.youtube.com/redirect?event=video_description&redir_token=QUFFLUhqbVhPSHNrVkluYVY5elh4RDZrOWd4R2xVNVRQd3xBQ3Jtc0tsUDE0UFVRQURUTTlWckExZWp4eGxFa3lRYlQ3amtYX3kxdDI1ZW5uU1pxZERidUYyZkJjSVlzd21rMndCMFlYRW5kYmZISkxfSDR1TzhaOXI1bXptUnUxU0xyUXJYeEpTZlRrTkRjTS0wTkMxNjFnSQ&q=https%3A%2F%2Fwww.jmlr.org%2Fpapers%2Fvolume3%2Fbengio03a%2Fbengio03a.pdf&v=TCH_1BHY58I)\n",
    "\n",
    "* This paper uses words but we'll proceed with characters\n",
    "* Each character will be represented as a 30 dimensional vector \n",
    "* The advantages of embeddings is knowledge transference, for examples animals like dog, cat might be closer to each other in 30 dimensional space. If cat was not in training set but this knowledge transfer will help in this case.\n",
    "\n",
    "Let's implement the below architecture in this notebook\n",
    "![fully connected MLP](https://pbs.twimg.com/media/Fhzl42hVUAI9U8V?format=jpg&name=large)\n",
    "\n",
    "* Three input characters with 30 dimensional embedding each\n",
    "* A Lookup table for characters\n",
    "* Tanh activation connected to three inputs\n",
    "* since we have 27 characters a final layer with 27 units(logits)\n",
    "* softmax on top of it to normalize the probabality\n",
    "* pluck the label based on probabality"
   ]
  },
  {
   "cell_type": "code",
   "execution_count": 1,
   "metadata": {
    "ExecuteTime": {
     "end_time": "2023-02-08T05:47:31.313008Z",
     "start_time": "2023-02-08T05:47:25.987840Z"
    }
   },
   "outputs": [],
   "source": [
    "import torch\n",
    "import torch.nn.functional as F\n",
    "import matplotlib.pyplot as plt\n",
    "%matplotlib inline"
   ]
  },
  {
   "cell_type": "markdown",
   "metadata": {},
   "source": [
    "## Rebuilding training dataset"
   ]
  },
  {
   "cell_type": "code",
   "execution_count": 2,
   "metadata": {
    "ExecuteTime": {
     "end_time": "2023-02-08T05:47:31.330066Z",
     "start_time": "2023-02-08T05:47:31.317289Z"
    }
   },
   "outputs": [],
   "source": [
    "# Read all words\n",
    "def read_words():\n",
    "    words = open(\"names.txt\").read().splitlines()\n",
    "    return words\n",
    "words = read_words()"
   ]
  },
  {
   "cell_type": "code",
   "execution_count": 3,
   "metadata": {
    "ExecuteTime": {
     "end_time": "2023-02-08T05:47:31.376304Z",
     "start_time": "2023-02-08T05:47:31.339831Z"
    }
   },
   "outputs": [
    {
     "data": {
      "text/plain": [
       "32033"
      ]
     },
     "execution_count": 3,
     "metadata": {},
     "output_type": "execute_result"
    }
   ],
   "source": [
    "len(words)"
   ]
  },
  {
   "cell_type": "code",
   "execution_count": 4,
   "metadata": {
    "ExecuteTime": {
     "end_time": "2023-02-08T05:47:31.403383Z",
     "start_time": "2023-02-08T05:47:31.390165Z"
    }
   },
   "outputs": [
    {
     "name": "stdout",
     "output_type": "stream",
     "text": [
      "{1: 'a', 2: 'b', 3: 'c', 4: 'd', 5: 'e', 6: 'f', 7: 'g', 8: 'h', 9: 'i', 10: 'j', 11: 'k', 12: 'l', 13: 'm', 14: 'n', 15: 'o', 16: 'p', 17: 'q', 18: 'r', 19: 's', 20: 't', 21: 'u', 22: 'v', 23: 'w', 24: 'x', 25: 'y', 26: 'z', 0: '.'}\n"
     ]
    }
   ],
   "source": [
    "# build the vocabulary of characters and mappings to/from integers\n",
    "chars = sorted(list(set(''.join(words))))\n",
    "stoi  = {s:i+1 for i, s in enumerate(chars)}\n",
    "stoi['.'] = 0\n",
    "itos = {i:s for s, i in stoi.items()}\n",
    "print(itos)"
   ]
  },
  {
   "cell_type": "markdown",
   "metadata": {},
   "source": [
    "### Build the dataset"
   ]
  },
  {
   "cell_type": "code",
   "execution_count": 5,
   "metadata": {
    "ExecuteTime": {
     "end_time": "2023-02-08T05:47:31.426980Z",
     "start_time": "2023-02-08T05:47:31.413084Z"
    }
   },
   "outputs": [],
   "source": [
    "def build_dataset(block_size, number_of_words: int, logs=False):\n",
    "\n",
    "    block_size = block_size # Context ength: how many characters do we take to predict the next one?\n",
    "    X, Y = [], []\n",
    "    for w in words[:number_of_words]:\n",
    "        if logs:\n",
    "            print(w)\n",
    "        context = [0] * block_size\n",
    "        for ch in w + '.':\n",
    "            if logs:\n",
    "                print(f\"Context: {context}\")\n",
    "            ix = stoi[ch]\n",
    "            X.append(context)\n",
    "            Y.append(ix)\n",
    "            if logs:\n",
    "                print(''.join(itos[i] for i in context), '--->', itos[ix])\n",
    "            context = context[1:] + [ix]\n",
    "            if logs:\n",
    "                print(f\"Context after append: {context}\")\n",
    "\n",
    "    X = torch.tensor(X)\n",
    "    Y = torch.tensor(Y)\n",
    "    return X, Y"
   ]
  },
  {
   "cell_type": "code",
   "execution_count": 6,
   "metadata": {
    "ExecuteTime": {
     "end_time": "2023-02-08T05:47:31.442227Z",
     "start_time": "2023-02-08T05:47:31.434452Z"
    }
   },
   "outputs": [
    {
     "name": "stdout",
     "output_type": "stream",
     "text": [
      "emma\n",
      "Context: [0, 0, 0]\n",
      "... ---> e\n",
      "Context after append: [0, 0, 5]\n",
      "Context: [0, 0, 5]\n",
      "..e ---> m\n",
      "Context after append: [0, 5, 13]\n",
      "Context: [0, 5, 13]\n",
      ".em ---> m\n",
      "Context after append: [5, 13, 13]\n",
      "Context: [5, 13, 13]\n",
      "emm ---> a\n",
      "Context after append: [13, 13, 1]\n",
      "Context: [13, 13, 1]\n",
      "mma ---> .\n",
      "Context after append: [13, 1, 0]\n",
      "olivia\n",
      "Context: [0, 0, 0]\n",
      "... ---> o\n",
      "Context after append: [0, 0, 15]\n",
      "Context: [0, 0, 15]\n",
      "..o ---> l\n",
      "Context after append: [0, 15, 12]\n",
      "Context: [0, 15, 12]\n",
      ".ol ---> i\n",
      "Context after append: [15, 12, 9]\n",
      "Context: [15, 12, 9]\n",
      "oli ---> v\n",
      "Context after append: [12, 9, 22]\n",
      "Context: [12, 9, 22]\n",
      "liv ---> i\n",
      "Context after append: [9, 22, 9]\n",
      "Context: [9, 22, 9]\n",
      "ivi ---> a\n",
      "Context after append: [22, 9, 1]\n",
      "Context: [22, 9, 1]\n",
      "via ---> .\n",
      "Context after append: [9, 1, 0]\n",
      "ava\n",
      "Context: [0, 0, 0]\n",
      "... ---> a\n",
      "Context after append: [0, 0, 1]\n",
      "Context: [0, 0, 1]\n",
      "..a ---> v\n",
      "Context after append: [0, 1, 22]\n",
      "Context: [0, 1, 22]\n",
      ".av ---> a\n",
      "Context after append: [1, 22, 1]\n",
      "Context: [1, 22, 1]\n",
      "ava ---> .\n",
      "Context after append: [22, 1, 0]\n",
      "isabella\n",
      "Context: [0, 0, 0]\n",
      "... ---> i\n",
      "Context after append: [0, 0, 9]\n",
      "Context: [0, 0, 9]\n",
      "..i ---> s\n",
      "Context after append: [0, 9, 19]\n",
      "Context: [0, 9, 19]\n",
      ".is ---> a\n",
      "Context after append: [9, 19, 1]\n",
      "Context: [9, 19, 1]\n",
      "isa ---> b\n",
      "Context after append: [19, 1, 2]\n",
      "Context: [19, 1, 2]\n",
      "sab ---> e\n",
      "Context after append: [1, 2, 5]\n",
      "Context: [1, 2, 5]\n",
      "abe ---> l\n",
      "Context after append: [2, 5, 12]\n",
      "Context: [2, 5, 12]\n",
      "bel ---> l\n",
      "Context after append: [5, 12, 12]\n",
      "Context: [5, 12, 12]\n",
      "ell ---> a\n",
      "Context after append: [12, 12, 1]\n",
      "Context: [12, 12, 1]\n",
      "lla ---> .\n",
      "Context after append: [12, 1, 0]\n",
      "sophia\n",
      "Context: [0, 0, 0]\n",
      "... ---> s\n",
      "Context after append: [0, 0, 19]\n",
      "Context: [0, 0, 19]\n",
      "..s ---> o\n",
      "Context after append: [0, 19, 15]\n",
      "Context: [0, 19, 15]\n",
      ".so ---> p\n",
      "Context after append: [19, 15, 16]\n",
      "Context: [19, 15, 16]\n",
      "sop ---> h\n",
      "Context after append: [15, 16, 8]\n",
      "Context: [15, 16, 8]\n",
      "oph ---> i\n",
      "Context after append: [16, 8, 9]\n",
      "Context: [16, 8, 9]\n",
      "phi ---> a\n",
      "Context after append: [8, 9, 1]\n",
      "Context: [8, 9, 1]\n",
      "hia ---> .\n",
      "Context after append: [9, 1, 0]\n"
     ]
    }
   ],
   "source": [
    "X, Y = build_dataset(block_size=3, number_of_words=5, logs=True)"
   ]
  },
  {
   "cell_type": "code",
   "execution_count": 7,
   "metadata": {
    "ExecuteTime": {
     "end_time": "2023-02-08T05:47:31.459477Z",
     "start_time": "2023-02-08T05:47:31.448995Z"
    }
   },
   "outputs": [
    {
     "data": {
      "text/plain": [
       "(torch.Size([32, 3]), torch.int64, torch.Size([32]), torch.int64)"
      ]
     },
     "execution_count": 7,
     "metadata": {},
     "output_type": "execute_result"
    }
   ],
   "source": [
    "X.shape, X.dtype, Y.shape, Y.dtype"
   ]
  },
  {
   "cell_type": "code",
   "execution_count": 8,
   "metadata": {
    "ExecuteTime": {
     "end_time": "2023-02-08T05:47:31.471780Z",
     "start_time": "2023-02-08T05:47:31.462583Z"
    }
   },
   "outputs": [
    {
     "data": {
      "text/plain": [
       "tensor([[ 0,  0,  0],\n",
       "        [ 0,  0,  5],\n",
       "        [ 0,  5, 13],\n",
       "        [ 5, 13, 13],\n",
       "        [13, 13,  1],\n",
       "        [ 0,  0,  0],\n",
       "        [ 0,  0, 15],\n",
       "        [ 0, 15, 12],\n",
       "        [15, 12,  9],\n",
       "        [12,  9, 22],\n",
       "        [ 9, 22,  9],\n",
       "        [22,  9,  1],\n",
       "        [ 0,  0,  0],\n",
       "        [ 0,  0,  1],\n",
       "        [ 0,  1, 22],\n",
       "        [ 1, 22,  1],\n",
       "        [ 0,  0,  0],\n",
       "        [ 0,  0,  9],\n",
       "        [ 0,  9, 19],\n",
       "        [ 9, 19,  1],\n",
       "        [19,  1,  2],\n",
       "        [ 1,  2,  5],\n",
       "        [ 2,  5, 12],\n",
       "        [ 5, 12, 12],\n",
       "        [12, 12,  1],\n",
       "        [ 0,  0,  0],\n",
       "        [ 0,  0, 19],\n",
       "        [ 0, 19, 15],\n",
       "        [19, 15, 16],\n",
       "        [15, 16,  8],\n",
       "        [16,  8,  9],\n",
       "        [ 8,  9,  1]])"
      ]
     },
     "execution_count": 8,
     "metadata": {},
     "output_type": "execute_result"
    }
   ],
   "source": [
    "X"
   ]
  },
  {
   "cell_type": "code",
   "execution_count": 9,
   "metadata": {
    "ExecuteTime": {
     "end_time": "2023-02-08T05:47:31.487751Z",
     "start_time": "2023-02-08T05:47:31.475262Z"
    }
   },
   "outputs": [
    {
     "data": {
      "text/plain": [
       "tensor([ 5, 13, 13,  1,  0, 15, 12,  9, 22,  9,  1,  0,  1, 22,  1,  0,  9, 19,\n",
       "         1,  2,  5, 12, 12,  1,  0, 19, 15, 16,  8,  9,  1,  0])"
      ]
     },
     "execution_count": 9,
     "metadata": {},
     "output_type": "execute_result"
    }
   ],
   "source": [
    "Y"
   ]
  },
  {
   "cell_type": "markdown",
   "metadata": {},
   "source": [
    "Now we've the dataset, let's build the embedding lookup table\n",
    "\n",
    "## Embedding lookup table\n",
    "\n",
    "For 1700 words, 30 dimension space was used in paper. For 27 possiblities(characters) let's try a 2 dimensionsal embedding."
   ]
  },
  {
   "cell_type": "code",
   "execution_count": 10,
   "metadata": {
    "ExecuteTime": {
     "end_time": "2023-02-08T05:47:31.528393Z",
     "start_time": "2023-02-08T05:47:31.509917Z"
    }
   },
   "outputs": [
    {
     "data": {
      "text/plain": [
       "(tensor([[ 1.0654, -0.4189],\n",
       "         [-0.1886,  0.6077],\n",
       "         [-0.6493, -1.2236],\n",
       "         [ 0.0520, -1.1606],\n",
       "         [-0.2647,  0.2973],\n",
       "         [-0.8276,  0.2831],\n",
       "         [-0.0419,  0.4953],\n",
       "         [-0.5341, -0.0607],\n",
       "         [-0.8142,  1.5791],\n",
       "         [ 0.6127, -1.3213],\n",
       "         [ 1.3088, -0.8507],\n",
       "         [ 1.8939,  2.4032],\n",
       "         [ 1.0523,  0.7024],\n",
       "         [ 0.4999,  0.7069],\n",
       "         [ 0.7210,  0.6423],\n",
       "         [-0.4966, -0.9387],\n",
       "         [-0.4950, -0.1859],\n",
       "         [ 0.0176,  2.2793],\n",
       "         [ 0.2297,  2.8804],\n",
       "         [-0.9615, -0.6350],\n",
       "         [ 0.6027,  2.3288],\n",
       "         [ 1.5895,  1.1990],\n",
       "         [-0.1330,  0.0134],\n",
       "         [-0.8035,  0.2756],\n",
       "         [-1.5771,  0.3892],\n",
       "         [ 0.7817, -0.1250],\n",
       "         [ 0.2701, -1.2812]]),\n",
       " torch.Size([27, 2]))"
      ]
     },
     "execution_count": 10,
     "metadata": {},
     "output_type": "execute_result"
    }
   ],
   "source": [
    "# Initialized randomnly\n",
    "C = torch.randn((27, 2))\n",
    "C, C.shape"
   ]
  },
  {
   "cell_type": "code",
   "execution_count": 11,
   "metadata": {
    "ExecuteTime": {
     "end_time": "2023-02-08T05:47:31.552439Z",
     "start_time": "2023-02-08T05:47:31.537264Z"
    }
   },
   "outputs": [
    {
     "data": {
      "text/plain": [
       "tensor([-0.8276,  0.2831])"
      ]
     },
     "execution_count": 11,
     "metadata": {},
     "output_type": "execute_result"
    }
   ],
   "source": [
    "# The lookup of embedding for single character can be done two ways\n",
    "# 1. Indexing\n",
    "C[5]"
   ]
  },
  {
   "cell_type": "code",
   "execution_count": 12,
   "metadata": {
    "ExecuteTime": {
     "end_time": "2023-02-08T05:47:31.574585Z",
     "start_time": "2023-02-08T05:47:31.560462Z"
    }
   },
   "outputs": [
    {
     "data": {
      "text/plain": [
       "tensor([-0.8276,  0.2831])"
      ]
     },
     "execution_count": 12,
     "metadata": {},
     "output_type": "execute_result"
    }
   ],
   "source": [
    "# 2. Onehot\n",
    "F.one_hot(torch.tensor(5), num_classes=27).float() @ C"
   ]
  },
  {
   "cell_type": "markdown",
   "metadata": {},
   "source": [
    "Indexing and one hot encoding gives the same results. We'll use indexing as it's faster."
   ]
  },
  {
   "cell_type": "code",
   "execution_count": 13,
   "metadata": {
    "ExecuteTime": {
     "end_time": "2023-02-08T05:47:31.600985Z",
     "start_time": "2023-02-08T05:47:31.585045Z"
    }
   },
   "outputs": [
    {
     "name": "stdout",
     "output_type": "stream",
     "text": [
      "tensor([[-0.8276,  0.2831],\n",
      "        [-0.0419,  0.4953],\n",
      "        [-0.5341, -0.0607]])\n",
      "tensor([[-0.8276,  0.2831],\n",
      "        [-0.0419,  0.4953],\n",
      "        [-0.5341, -0.0607]])\n"
     ]
    }
   ],
   "source": [
    "# Indexing multiple values\n",
    "# Singce our shape of input is 32, 3\n",
    "print(C[[5, 6, 7]])\n",
    "# Works also with tensor\n",
    "print(C[torch.tensor([5, 6, 7])])"
   ]
  },
  {
   "cell_type": "code",
   "execution_count": 14,
   "metadata": {
    "ExecuteTime": {
     "end_time": "2023-02-08T05:47:31.623028Z",
     "start_time": "2023-02-08T05:47:31.607657Z"
    }
   },
   "outputs": [
    {
     "data": {
      "text/plain": [
       "tensor([[[ 1.0654, -0.4189],\n",
       "         [ 1.0654, -0.4189],\n",
       "         [ 1.0654, -0.4189]],\n",
       "\n",
       "        [[ 1.0654, -0.4189],\n",
       "         [ 1.0654, -0.4189],\n",
       "         [-0.8276,  0.2831]],\n",
       "\n",
       "        [[ 1.0654, -0.4189],\n",
       "         [-0.8276,  0.2831],\n",
       "         [ 0.4999,  0.7069]],\n",
       "\n",
       "        [[-0.8276,  0.2831],\n",
       "         [ 0.4999,  0.7069],\n",
       "         [ 0.4999,  0.7069]],\n",
       "\n",
       "        [[ 0.4999,  0.7069],\n",
       "         [ 0.4999,  0.7069],\n",
       "         [-0.1886,  0.6077]],\n",
       "\n",
       "        [[ 1.0654, -0.4189],\n",
       "         [ 1.0654, -0.4189],\n",
       "         [ 1.0654, -0.4189]],\n",
       "\n",
       "        [[ 1.0654, -0.4189],\n",
       "         [ 1.0654, -0.4189],\n",
       "         [-0.4966, -0.9387]],\n",
       "\n",
       "        [[ 1.0654, -0.4189],\n",
       "         [-0.4966, -0.9387],\n",
       "         [ 1.0523,  0.7024]],\n",
       "\n",
       "        [[-0.4966, -0.9387],\n",
       "         [ 1.0523,  0.7024],\n",
       "         [ 0.6127, -1.3213]],\n",
       "\n",
       "        [[ 1.0523,  0.7024],\n",
       "         [ 0.6127, -1.3213],\n",
       "         [-0.1330,  0.0134]],\n",
       "\n",
       "        [[ 0.6127, -1.3213],\n",
       "         [-0.1330,  0.0134],\n",
       "         [ 0.6127, -1.3213]],\n",
       "\n",
       "        [[-0.1330,  0.0134],\n",
       "         [ 0.6127, -1.3213],\n",
       "         [-0.1886,  0.6077]],\n",
       "\n",
       "        [[ 1.0654, -0.4189],\n",
       "         [ 1.0654, -0.4189],\n",
       "         [ 1.0654, -0.4189]],\n",
       "\n",
       "        [[ 1.0654, -0.4189],\n",
       "         [ 1.0654, -0.4189],\n",
       "         [-0.1886,  0.6077]],\n",
       "\n",
       "        [[ 1.0654, -0.4189],\n",
       "         [-0.1886,  0.6077],\n",
       "         [-0.1330,  0.0134]],\n",
       "\n",
       "        [[-0.1886,  0.6077],\n",
       "         [-0.1330,  0.0134],\n",
       "         [-0.1886,  0.6077]],\n",
       "\n",
       "        [[ 1.0654, -0.4189],\n",
       "         [ 1.0654, -0.4189],\n",
       "         [ 1.0654, -0.4189]],\n",
       "\n",
       "        [[ 1.0654, -0.4189],\n",
       "         [ 1.0654, -0.4189],\n",
       "         [ 0.6127, -1.3213]],\n",
       "\n",
       "        [[ 1.0654, -0.4189],\n",
       "         [ 0.6127, -1.3213],\n",
       "         [-0.9615, -0.6350]],\n",
       "\n",
       "        [[ 0.6127, -1.3213],\n",
       "         [-0.9615, -0.6350],\n",
       "         [-0.1886,  0.6077]],\n",
       "\n",
       "        [[-0.9615, -0.6350],\n",
       "         [-0.1886,  0.6077],\n",
       "         [-0.6493, -1.2236]],\n",
       "\n",
       "        [[-0.1886,  0.6077],\n",
       "         [-0.6493, -1.2236],\n",
       "         [-0.8276,  0.2831]],\n",
       "\n",
       "        [[-0.6493, -1.2236],\n",
       "         [-0.8276,  0.2831],\n",
       "         [ 1.0523,  0.7024]],\n",
       "\n",
       "        [[-0.8276,  0.2831],\n",
       "         [ 1.0523,  0.7024],\n",
       "         [ 1.0523,  0.7024]],\n",
       "\n",
       "        [[ 1.0523,  0.7024],\n",
       "         [ 1.0523,  0.7024],\n",
       "         [-0.1886,  0.6077]],\n",
       "\n",
       "        [[ 1.0654, -0.4189],\n",
       "         [ 1.0654, -0.4189],\n",
       "         [ 1.0654, -0.4189]],\n",
       "\n",
       "        [[ 1.0654, -0.4189],\n",
       "         [ 1.0654, -0.4189],\n",
       "         [-0.9615, -0.6350]],\n",
       "\n",
       "        [[ 1.0654, -0.4189],\n",
       "         [-0.9615, -0.6350],\n",
       "         [-0.4966, -0.9387]],\n",
       "\n",
       "        [[-0.9615, -0.6350],\n",
       "         [-0.4966, -0.9387],\n",
       "         [-0.4950, -0.1859]],\n",
       "\n",
       "        [[-0.4966, -0.9387],\n",
       "         [-0.4950, -0.1859],\n",
       "         [-0.8142,  1.5791]],\n",
       "\n",
       "        [[-0.4950, -0.1859],\n",
       "         [-0.8142,  1.5791],\n",
       "         [ 0.6127, -1.3213]],\n",
       "\n",
       "        [[-0.8142,  1.5791],\n",
       "         [ 0.6127, -1.3213],\n",
       "         [-0.1886,  0.6077]]])"
      ]
     },
     "execution_count": 14,
     "metadata": {},
     "output_type": "execute_result"
    }
   ],
   "source": [
    "# The total equivalent would be\n",
    "C[X]"
   ]
  },
  {
   "cell_type": "code",
   "execution_count": 15,
   "metadata": {
    "ExecuteTime": {
     "end_time": "2023-02-08T05:47:31.638506Z",
     "start_time": "2023-02-08T05:47:31.627352Z"
    }
   },
   "outputs": [
    {
     "data": {
      "text/plain": [
       "torch.Size([32, 3, 2])"
      ]
     },
     "execution_count": 15,
     "metadata": {},
     "output_type": "execute_result"
    }
   ],
   "source": [
    "# Let's verify this\n",
    "C[X].shape"
   ]
  },
  {
   "cell_type": "markdown",
   "metadata": {},
   "source": [
    "32 is total number of inputs with shape 3 and dimensional embedding 2."
   ]
  },
  {
   "cell_type": "code",
   "execution_count": 16,
   "metadata": {
    "ExecuteTime": {
     "end_time": "2023-02-08T05:47:31.653540Z",
     "start_time": "2023-02-08T05:47:31.644716Z"
    }
   },
   "outputs": [
    {
     "data": {
      "text/plain": [
       "tensor(1)"
      ]
     },
     "execution_count": 16,
     "metadata": {},
     "output_type": "execute_result"
    }
   ],
   "source": [
    "X[13, 2]"
   ]
  },
  {
   "cell_type": "code",
   "execution_count": 17,
   "metadata": {
    "ExecuteTime": {
     "end_time": "2023-02-08T05:47:31.678282Z",
     "start_time": "2023-02-08T05:47:31.662373Z"
    }
   },
   "outputs": [
    {
     "data": {
      "text/plain": [
       "tensor([-0.1886,  0.6077])"
      ]
     },
     "execution_count": 17,
     "metadata": {},
     "output_type": "execute_result"
    }
   ],
   "source": [
    "C[X][13, 2]"
   ]
  },
  {
   "cell_type": "code",
   "execution_count": 18,
   "metadata": {
    "ExecuteTime": {
     "end_time": "2023-02-08T05:47:31.697727Z",
     "start_time": "2023-02-08T05:47:31.684945Z"
    }
   },
   "outputs": [
    {
     "data": {
      "text/plain": [
       "tensor([-0.1886,  0.6077])"
      ]
     },
     "execution_count": 18,
     "metadata": {},
     "output_type": "execute_result"
    }
   ],
   "source": [
    "C[1]"
   ]
  },
  {
   "cell_type": "code",
   "execution_count": 19,
   "metadata": {
    "ExecuteTime": {
     "end_time": "2023-02-08T05:47:31.716937Z",
     "start_time": "2023-02-08T05:47:31.705431Z"
    }
   },
   "outputs": [
    {
     "data": {
      "text/plain": [
       "torch.Size([32, 3, 2])"
      ]
     },
     "execution_count": 19,
     "metadata": {},
     "output_type": "execute_result"
    }
   ],
   "source": [
    "emb = C[X]\n",
    "emb.shape"
   ]
  },
  {
   "cell_type": "markdown",
   "metadata": {},
   "source": [
    "Now the embedding lookup table is completed."
   ]
  },
  {
   "cell_type": "markdown",
   "metadata": {},
   "source": [
    "## Implementing the hidden layer plus internals of torch.Tensor, storage and views"
   ]
  },
  {
   "cell_type": "code",
   "execution_count": 20,
   "metadata": {
    "ExecuteTime": {
     "end_time": "2023-02-08T05:47:31.735053Z",
     "start_time": "2023-02-08T05:47:31.727489Z"
    }
   },
   "outputs": [],
   "source": [
    "# Intitializing weights and biases\n",
    "W1 = torch.randn((\n",
    "    6, # 3(inputs) * 2(embedding dim)\n",
    "    100 # Number of neurons\n",
    "))\n",
    "b1 = torch.randn(100)"
   ]
  },
  {
   "cell_type": "code",
   "execution_count": 21,
   "metadata": {
    "ExecuteTime": {
     "end_time": "2023-02-08T05:47:31.753513Z",
     "start_time": "2023-02-08T05:47:31.742269Z"
    }
   },
   "outputs": [
    {
     "data": {
      "text/plain": [
       "torch.Size([6, 100])"
      ]
     },
     "execution_count": 21,
     "metadata": {},
     "output_type": "execute_result"
    }
   ],
   "source": [
    "W1.shape"
   ]
  },
  {
   "cell_type": "code",
   "execution_count": 22,
   "metadata": {
    "ExecuteTime": {
     "end_time": "2023-02-08T05:47:32.434474Z",
     "start_time": "2023-02-08T05:47:31.760805Z"
    }
   },
   "outputs": [
    {
     "ename": "RuntimeError",
     "evalue": "mat1 and mat2 shapes cannot be multiplied (96x2 and 6x100)",
     "output_type": "error",
     "traceback": [
      "\u001b[0;31m---------------------------------------------------------------------------\u001b[0m",
      "\u001b[0;31mRuntimeError\u001b[0m                              Traceback (most recent call last)",
      "\u001b[1;32m/Users/jayaprakashsivagami/Documents/Tech/ML/makemore/3-mlp.ipynb Cell 31\u001b[0m in \u001b[0;36m<cell line: 5>\u001b[0;34m()\u001b[0m\n\u001b[1;32m      <a href='vscode-notebook-cell:/Users/jayaprakashsivagami/Documents/Tech/ML/makemore/3-mlp.ipynb#X42sZmlsZQ%3D%3D?line=0'>1</a>\u001b[0m \u001b[39m# Inputs * weights + bias will not work  now\u001b[39;00m\n\u001b[1;32m      <a href='vscode-notebook-cell:/Users/jayaprakashsivagami/Documents/Tech/ML/makemore/3-mlp.ipynb#X42sZmlsZQ%3D%3D?line=1'>2</a>\u001b[0m \u001b[39m# as dimensions of weighs and input doesn't abide\u001b[39;00m\n\u001b[1;32m      <a href='vscode-notebook-cell:/Users/jayaprakashsivagami/Documents/Tech/ML/makemore/3-mlp.ipynb#X42sZmlsZQ%3D%3D?line=2'>3</a>\u001b[0m \u001b[39m# by matrix multiplication rulees\u001b[39;00m\n\u001b[1;32m      <a href='vscode-notebook-cell:/Users/jayaprakashsivagami/Documents/Tech/ML/makemore/3-mlp.ipynb#X42sZmlsZQ%3D%3D?line=3'>4</a>\u001b[0m \u001b[39m# shape of input [32, 3, 2], weights [6, 100]\u001b[39;00m\n\u001b[0;32m----> <a href='vscode-notebook-cell:/Users/jayaprakashsivagami/Documents/Tech/ML/makemore/3-mlp.ipynb#X42sZmlsZQ%3D%3D?line=4'>5</a>\u001b[0m emb \u001b[39m@\u001b[39;49m W1 \u001b[39m+\u001b[39m b1\n",
      "\u001b[0;31mRuntimeError\u001b[0m: mat1 and mat2 shapes cannot be multiplied (96x2 and 6x100)"
     ]
    }
   ],
   "source": [
    "# # Inputs * weights + bias will not work  now\n",
    "# # as dimensions of weighs and input doesn't abide\n",
    "# # by matrix multiplication rulees\n",
    "# # shape of input [32, 3, 2], weights [6, 100]\n",
    "# emb @ W1 + b1"
   ]
  },
  {
   "cell_type": "markdown",
   "metadata": {},
   "source": [
    "PyTorch's tensor's a really powerful, because ut has tons of methods to allow us to create modify and perfom lot's of operations on it.\n",
    "\n",
    "We're gonna use [torch.cat](https://pytorch.org/docs/stable/generated/torch.cat.html) to tackle the above problem."
   ]
  },
  {
   "cell_type": "code",
   "execution_count": 23,
   "metadata": {
    "ExecuteTime": {
     "end_time": "2023-02-08T05:47:32.440581Z",
     "start_time": "2023-02-08T05:47:32.440548Z"
    }
   },
   "outputs": [
    {
     "data": {
      "text/plain": [
       "torch.Size([32, 6])"
      ]
     },
     "execution_count": 23,
     "metadata": {},
     "output_type": "execute_result"
    }
   ],
   "source": [
    "cat_tensors = torch.cat([emb[:, 0, :], emb[:, 1, :], emb[:, 2, :]], 1)\n",
    "cat_tensors.shape"
   ]
  },
  {
   "cell_type": "code",
   "execution_count": 24,
   "metadata": {
    "ExecuteTime": {
     "end_time": "2023-02-08T05:47:32.444904Z",
     "start_time": "2023-02-08T05:47:32.444856Z"
    }
   },
   "outputs": [
    {
     "data": {
      "text/plain": [
       "3"
      ]
     },
     "execution_count": 24,
     "metadata": {},
     "output_type": "execute_result"
    }
   ],
   "source": [
    "# To generalize this in case of diffrent block size\n",
    "# We'll use unbind with cat\n",
    "unbind_tensors = torch.unbind(emb, 1)\n",
    "# Gives a list which is exactly the same\n",
    "# as cat_tensors abov\n",
    "len(unbind_tensors)"
   ]
  },
  {
   "cell_type": "code",
   "execution_count": 25,
   "metadata": {
    "ExecuteTime": {
     "end_time": "2023-02-08T05:47:32.448000Z",
     "start_time": "2023-02-08T05:47:32.447968Z"
    }
   },
   "outputs": [
    {
     "data": {
      "text/plain": [
       "torch.Size([32, 6])"
      ]
     },
     "execution_count": 25,
     "metadata": {},
     "output_type": "execute_result"
    }
   ],
   "source": [
    "cat_unbind_tensors = torch.cat(unbind_tensors, 1)\n",
    "cat_unbind_tensors.shape"
   ]
  },
  {
   "cell_type": "markdown",
   "metadata": {},
   "source": [
    "Now irrespective of block size the above code will run.\n",
    "\n",
    "But there's an efficient way to do this."
   ]
  },
  {
   "cell_type": "code",
   "execution_count": 26,
   "metadata": {
    "ExecuteTime": {
     "end_time": "2023-02-08T05:47:32.499894Z",
     "start_time": "2023-02-08T05:47:32.499844Z"
    }
   },
   "outputs": [
    {
     "data": {
      "text/plain": [
       "tensor([ 0,  1,  2,  3,  4,  5,  6,  7,  8,  9, 10, 11, 12, 13, 14, 15, 16, 17])"
      ]
     },
     "execution_count": 26,
     "metadata": {},
     "output_type": "execute_result"
    }
   ],
   "source": [
    "a = torch.arange(18)\n",
    "a"
   ]
  },
  {
   "cell_type": "code",
   "execution_count": 27,
   "metadata": {
    "ExecuteTime": {
     "end_time": "2023-02-08T05:47:32.504939Z",
     "start_time": "2023-02-08T05:47:32.504899Z"
    }
   },
   "outputs": [
    {
     "data": {
      "text/plain": [
       "torch.Size([18])"
      ]
     },
     "execution_count": 27,
     "metadata": {},
     "output_type": "execute_result"
    }
   ],
   "source": [
    "a.shape"
   ]
  },
  {
   "cell_type": "code",
   "execution_count": 28,
   "metadata": {
    "ExecuteTime": {
     "end_time": "2023-02-08T05:47:32.510427Z",
     "start_time": "2023-02-08T05:47:32.510355Z"
    }
   },
   "outputs": [
    {
     "data": {
      "text/plain": [
       "tensor([[[ 0,  1],\n",
       "         [ 2,  3],\n",
       "         [ 4,  5]],\n",
       "\n",
       "        [[ 6,  7],\n",
       "         [ 8,  9],\n",
       "         [10, 11]],\n",
       "\n",
       "        [[12, 13],\n",
       "         [14, 15],\n",
       "         [16, 17]]])"
      ]
     },
     "execution_count": 28,
     "metadata": {},
     "output_type": "execute_result"
    }
   ],
   "source": [
    "a.view(3, 3, 2)"
   ]
  },
  {
   "cell_type": "code",
   "execution_count": 29,
   "metadata": {
    "ExecuteTime": {
     "end_time": "2023-02-08T05:47:32.518799Z",
     "start_time": "2023-02-08T05:47:32.518763Z"
    }
   },
   "outputs": [
    {
     "data": {
      "text/plain": [
       " 0\n",
       " 1\n",
       " 2\n",
       " 3\n",
       " 4\n",
       " 5\n",
       " 6\n",
       " 7\n",
       " 8\n",
       " 9\n",
       " 10\n",
       " 11\n",
       " 12\n",
       " 13\n",
       " 14\n",
       " 15\n",
       " 16\n",
       " 17\n",
       "[torch.storage._TypedStorage(dtype=torch.int64, device=cpu) of size 18]"
      ]
     },
     "execution_count": 29,
     "metadata": {},
     "output_type": "execute_result"
    }
   ],
   "source": [
    "a.storage()"
   ]
  },
  {
   "cell_type": "markdown",
   "metadata": {},
   "source": [
    "Every tensor has view and storage,\n",
    "* Using tensor.view(shape) we can manipulate the shape of an tensor\n",
    "* But tensor.storage() in memory will still remain a single dimension vector\n",
    "* And using view just changes some attributes like offest etc and tensor in memory remains same to the multiples"
   ]
  },
  {
   "cell_type": "code",
   "execution_count": 30,
   "metadata": {
    "ExecuteTime": {
     "end_time": "2023-02-08T05:47:32.522136Z",
     "start_time": "2023-02-08T05:47:32.522104Z"
    }
   },
   "outputs": [
    {
     "data": {
      "text/plain": [
       "tensor([[ 1.0654, -0.4189,  1.0654, -0.4189,  1.0654, -0.4189],\n",
       "        [ 1.0654, -0.4189,  1.0654, -0.4189, -0.8276,  0.2831],\n",
       "        [ 1.0654, -0.4189, -0.8276,  0.2831,  0.4999,  0.7069],\n",
       "        [-0.8276,  0.2831,  0.4999,  0.7069,  0.4999,  0.7069],\n",
       "        [ 0.4999,  0.7069,  0.4999,  0.7069, -0.1886,  0.6077],\n",
       "        [ 1.0654, -0.4189,  1.0654, -0.4189,  1.0654, -0.4189],\n",
       "        [ 1.0654, -0.4189,  1.0654, -0.4189, -0.4966, -0.9387],\n",
       "        [ 1.0654, -0.4189, -0.4966, -0.9387,  1.0523,  0.7024],\n",
       "        [-0.4966, -0.9387,  1.0523,  0.7024,  0.6127, -1.3213],\n",
       "        [ 1.0523,  0.7024,  0.6127, -1.3213, -0.1330,  0.0134],\n",
       "        [ 0.6127, -1.3213, -0.1330,  0.0134,  0.6127, -1.3213],\n",
       "        [-0.1330,  0.0134,  0.6127, -1.3213, -0.1886,  0.6077],\n",
       "        [ 1.0654, -0.4189,  1.0654, -0.4189,  1.0654, -0.4189],\n",
       "        [ 1.0654, -0.4189,  1.0654, -0.4189, -0.1886,  0.6077],\n",
       "        [ 1.0654, -0.4189, -0.1886,  0.6077, -0.1330,  0.0134],\n",
       "        [-0.1886,  0.6077, -0.1330,  0.0134, -0.1886,  0.6077],\n",
       "        [ 1.0654, -0.4189,  1.0654, -0.4189,  1.0654, -0.4189],\n",
       "        [ 1.0654, -0.4189,  1.0654, -0.4189,  0.6127, -1.3213],\n",
       "        [ 1.0654, -0.4189,  0.6127, -1.3213, -0.9615, -0.6350],\n",
       "        [ 0.6127, -1.3213, -0.9615, -0.6350, -0.1886,  0.6077],\n",
       "        [-0.9615, -0.6350, -0.1886,  0.6077, -0.6493, -1.2236],\n",
       "        [-0.1886,  0.6077, -0.6493, -1.2236, -0.8276,  0.2831],\n",
       "        [-0.6493, -1.2236, -0.8276,  0.2831,  1.0523,  0.7024],\n",
       "        [-0.8276,  0.2831,  1.0523,  0.7024,  1.0523,  0.7024],\n",
       "        [ 1.0523,  0.7024,  1.0523,  0.7024, -0.1886,  0.6077],\n",
       "        [ 1.0654, -0.4189,  1.0654, -0.4189,  1.0654, -0.4189],\n",
       "        [ 1.0654, -0.4189,  1.0654, -0.4189, -0.9615, -0.6350],\n",
       "        [ 1.0654, -0.4189, -0.9615, -0.6350, -0.4966, -0.9387],\n",
       "        [-0.9615, -0.6350, -0.4966, -0.9387, -0.4950, -0.1859],\n",
       "        [-0.4966, -0.9387, -0.4950, -0.1859, -0.8142,  1.5791],\n",
       "        [-0.4950, -0.1859, -0.8142,  1.5791,  0.6127, -1.3213],\n",
       "        [-0.8142,  1.5791,  0.6127, -1.3213, -0.1886,  0.6077]])"
      ]
     },
     "execution_count": 30,
     "metadata": {},
     "output_type": "execute_result"
    }
   ],
   "source": [
    "# Let's use view() to reshape the tensor from [32, 3, 2] to [32, 6]\n",
    "emb.view(32, 6)"
   ]
  },
  {
   "cell_type": "markdown",
   "metadata": {},
   "source": [
    "The way this happens is dimension 1 get stacked up as a single dimension."
   ]
  },
  {
   "cell_type": "code",
   "execution_count": 31,
   "metadata": {
    "ExecuteTime": {
     "end_time": "2023-02-08T05:47:32.530603Z",
     "start_time": "2023-02-08T05:47:32.530557Z"
    }
   },
   "outputs": [
    {
     "data": {
      "text/plain": [
       "torch.Size([32, 6])"
      ]
     },
     "execution_count": 31,
     "metadata": {},
     "output_type": "execute_result"
    }
   ],
   "source": [
    "emb.view(32, 6).shape"
   ]
  },
  {
   "cell_type": "code",
   "execution_count": 32,
   "metadata": {
    "ExecuteTime": {
     "end_time": "2023-02-08T05:47:32.535899Z",
     "start_time": "2023-02-08T05:47:32.535862Z"
    }
   },
   "outputs": [
    {
     "data": {
      "text/plain": [
       "tensor([[True, True, True, True, True, True],\n",
       "        [True, True, True, True, True, True],\n",
       "        [True, True, True, True, True, True],\n",
       "        [True, True, True, True, True, True],\n",
       "        [True, True, True, True, True, True],\n",
       "        [True, True, True, True, True, True],\n",
       "        [True, True, True, True, True, True],\n",
       "        [True, True, True, True, True, True],\n",
       "        [True, True, True, True, True, True],\n",
       "        [True, True, True, True, True, True],\n",
       "        [True, True, True, True, True, True],\n",
       "        [True, True, True, True, True, True],\n",
       "        [True, True, True, True, True, True],\n",
       "        [True, True, True, True, True, True],\n",
       "        [True, True, True, True, True, True],\n",
       "        [True, True, True, True, True, True],\n",
       "        [True, True, True, True, True, True],\n",
       "        [True, True, True, True, True, True],\n",
       "        [True, True, True, True, True, True],\n",
       "        [True, True, True, True, True, True],\n",
       "        [True, True, True, True, True, True],\n",
       "        [True, True, True, True, True, True],\n",
       "        [True, True, True, True, True, True],\n",
       "        [True, True, True, True, True, True],\n",
       "        [True, True, True, True, True, True],\n",
       "        [True, True, True, True, True, True],\n",
       "        [True, True, True, True, True, True],\n",
       "        [True, True, True, True, True, True],\n",
       "        [True, True, True, True, True, True],\n",
       "        [True, True, True, True, True, True],\n",
       "        [True, True, True, True, True, True],\n",
       "        [True, True, True, True, True, True]])"
      ]
     },
     "execution_count": 32,
     "metadata": {},
     "output_type": "execute_result"
    }
   ],
   "source": [
    "emb.view(32, 6) == torch.cat(torch.unbind(emb, 1), 1)"
   ]
  },
  {
   "cell_type": "markdown",
   "metadata": {},
   "source": [
    "Element wise comparison proves that view is equal to cat(unbind)"
   ]
  },
  {
   "cell_type": "code",
   "execution_count": 33,
   "metadata": {
    "ExecuteTime": {
     "end_time": "2023-02-08T05:47:32.538876Z",
     "start_time": "2023-02-08T05:47:32.538838Z"
    }
   },
   "outputs": [
    {
     "data": {
      "text/plain": [
       "tensor([[ 0.4853,  0.2888, -0.2918,  ..., -0.8167,  0.9480,  0.9694],\n",
       "        [ 0.9108, -0.0636, -0.7560,  ...,  0.4664, -0.0676, -0.9405],\n",
       "        [ 0.4041, -0.9960,  0.0799,  ..., -0.9908, -0.1369,  0.9820],\n",
       "        ...,\n",
       "        [ 0.9995, -0.9983, -0.3057,  ..., -0.3614, -0.9605, -0.9880],\n",
       "        [-0.4247, -0.9971,  0.9978,  ...,  0.9490, -0.0748,  0.9997],\n",
       "        [ 0.9996,  0.9533, -0.9478,  ..., -0.8885,  0.3754, -0.2169]])"
      ]
     },
     "execution_count": 33,
     "metadata": {},
     "output_type": "execute_result"
    }
   ],
   "source": [
    "h = torch.tanh(emb.view(-1, 6) @ W1 + b1)\n",
    "h"
   ]
  },
  {
   "cell_type": "code",
   "execution_count": 34,
   "metadata": {
    "ExecuteTime": {
     "end_time": "2023-02-08T05:47:32.545348Z",
     "start_time": "2023-02-08T05:47:32.545317Z"
    }
   },
   "outputs": [
    {
     "data": {
      "text/plain": [
       "torch.Size([32, 100])"
      ]
     },
     "execution_count": 34,
     "metadata": {},
     "output_type": "execute_result"
    }
   ],
   "source": [
    "h.shape"
   ]
  },
  {
   "cell_type": "markdown",
   "metadata": {},
   "source": [
    "Make sure broadcasting is done right"
   ]
  },
  {
   "cell_type": "code",
   "execution_count": 35,
   "metadata": {
    "ExecuteTime": {
     "end_time": "2023-02-08T05:47:32.550674Z",
     "start_time": "2023-02-08T05:47:32.550632Z"
    }
   },
   "outputs": [
    {
     "data": {
      "text/plain": [
       "torch.Size([32, 100])"
      ]
     },
     "execution_count": 35,
     "metadata": {},
     "output_type": "execute_result"
    }
   ],
   "source": [
    "(emb.view(32, 6) @ W1).shape"
   ]
  },
  {
   "cell_type": "code",
   "execution_count": 36,
   "metadata": {
    "ExecuteTime": {
     "end_time": "2023-02-08T05:47:32.554705Z",
     "start_time": "2023-02-08T05:47:32.554665Z"
    }
   },
   "outputs": [
    {
     "data": {
      "text/plain": [
       "torch.Size([100])"
      ]
     },
     "execution_count": 36,
     "metadata": {},
     "output_type": "execute_result"
    }
   ],
   "source": [
    "b1.shape"
   ]
  },
  {
   "cell_type": "markdown",
   "metadata": {},
   "source": [
    "32, 100\n",
    "1 , 100\n",
    "\n",
    "* broadcasting 32, 100 to 100\n",
    "* broadcasting aligns from right abd creates a  fake dimension (1)\n",
    "* Then 32 will be copied vertically for every element of 100"
   ]
  },
  {
   "cell_type": "markdown",
   "metadata": {},
   "source": [
    "## Implementing output layer"
   ]
  },
  {
   "cell_type": "code",
   "execution_count": 37,
   "metadata": {},
   "outputs": [],
   "source": [
    "W2 = torch.randn((100, # Inputs layer size\n",
    "                  27 # Output layer 27 characters\n",
    "                 ))\n",
    "b2 = torch.randn(27)"
   ]
  },
  {
   "cell_type": "code",
   "execution_count": 38,
   "metadata": {},
   "outputs": [
    {
     "data": {
      "text/plain": [
       "torch.Size([32, 27])"
      ]
     },
     "execution_count": 38,
     "metadata": {},
     "output_type": "execute_result"
    }
   ],
   "source": [
    "logits = h @ W2 + b2\n",
    "logits.shape"
   ]
  },
  {
   "cell_type": "markdown",
   "metadata": {},
   "source": [
    "## Implmenting negative log likelihood loss"
   ]
  },
  {
   "cell_type": "code",
   "execution_count": 39,
   "metadata": {},
   "outputs": [],
   "source": [
    "# Fake counts -> logits exp\n",
    "counts = logits.exp()"
   ]
  },
  {
   "cell_type": "code",
   "execution_count": 40,
   "metadata": {},
   "outputs": [
    {
     "data": {
      "text/plain": [
       "torch.Size([32, 27])"
      ]
     },
     "execution_count": 40,
     "metadata": {},
     "output_type": "execute_result"
    }
   ],
   "source": [
    "# Normalize fake counts\n",
    "prob = counts / counts.sum(1, keepdims=True)\n",
    "prob.shape"
   ]
  },
  {
   "cell_type": "code",
   "execution_count": 41,
   "metadata": {},
   "outputs": [
    {
     "data": {
      "text/plain": [
       "torch.Size([32])"
      ]
     },
     "execution_count": 41,
     "metadata": {},
     "output_type": "execute_result"
    }
   ],
   "source": [
    "Y.shape"
   ]
  },
  {
   "cell_type": "code",
   "execution_count": 42,
   "metadata": {},
   "outputs": [
    {
     "data": {
      "text/plain": [
       "tensor([1.3058e-08, 1.2767e-04, 8.5712e-07, 1.2972e-04, 5.1670e-07, 7.7393e-05,\n",
       "        4.4319e-05, 2.3391e-02, 4.8847e-05, 8.2222e-02, 1.3864e-03, 4.6708e-07,\n",
       "        1.8181e-07, 5.0070e-06, 6.5440e-02, 2.9453e-03, 1.9222e-03, 2.6597e-04,\n",
       "        7.5348e-03, 1.0611e-08, 1.5309e-09, 4.2748e-09, 5.2080e-08, 1.1132e-05,\n",
       "        7.7567e-08, 1.3574e-04, 1.5560e-02, 2.1154e-12, 8.6029e-03, 4.0230e-10,\n",
       "        2.1846e-06, 3.0058e-04])"
      ]
     },
     "execution_count": 42,
     "metadata": {},
     "output_type": "execute_result"
    }
   ],
   "source": [
    "# Indexing probabalites based on Y\n",
    "# This probabalities in future will be the probabalities by neural network\n",
    "prob[torch.arange(32), Y]"
   ]
  },
  {
   "cell_type": "code",
   "execution_count": 43,
   "metadata": {},
   "outputs": [
    {
     "data": {
      "text/plain": [
       "tensor(11.4675)"
      ]
     },
     "execution_count": 43,
     "metadata": {},
     "output_type": "execute_result"
    }
   ],
   "source": [
    "loss = - prob[torch.arange(32), Y].log().mean()\n",
    "loss"
   ]
  },
  {
   "cell_type": "markdown",
   "metadata": {},
   "source": [
    "## Summary of full network"
   ]
  },
  {
   "cell_type": "code",
   "execution_count": 44,
   "metadata": {},
   "outputs": [],
   "source": [
    "g = torch.Generator().manual_seed(2147483647)\n",
    "C = torch.randn((27, 2), generator=g)\n",
    "W1 = torch.randn((6, 100), generator=g)\n",
    "b1 = torch.randn(100, generator=g)\n",
    "W2 = torch.randn((100, 27), generator=g)\n",
    "b2 = torch.randn(27, generator=g)\n",
    "paramerters = [C, W1, b1, W2, b2]"
   ]
  },
  {
   "cell_type": "code",
   "execution_count": 45,
   "metadata": {},
   "outputs": [
    {
     "data": {
      "text/plain": [
       "3481"
      ]
     },
     "execution_count": 45,
     "metadata": {},
     "output_type": "execute_result"
    }
   ],
   "source": [
    "# Number of parameters in total\n",
    "sum(p.nelement() for p in paramerters)"
   ]
  },
  {
   "cell_type": "code",
   "execution_count": 46,
   "metadata": {},
   "outputs": [
    {
     "data": {
      "text/plain": [
       "tensor(17.7697)"
      ]
     },
     "execution_count": 46,
     "metadata": {},
     "output_type": "execute_result"
    }
   ],
   "source": [
    "emb = C[X]\n",
    "h = torch.tanh(emb.view(-1, 6) @ W1 + b1)\n",
    "logits = h @ W2 + b2\n",
    "counts = logits.exp()\n",
    "prob = counts / counts.sum(1, keepdim=True)\n",
    "loss = - prob[torch.arange(32), Y].log().mean()\n",
    "loss"
   ]
  },
  {
   "cell_type": "markdown",
   "metadata": {},
   "source": [
    "## Cross entropy why?\n",
    "\n",
    "```\n",
    "counts = logits.exp()\n",
    "prob = counts / counts.sum(1, keepdim=True)\n",
    "loss = - prob[torch.arange(32), Y].log().mean()\n",
    "```\n",
    "\n",
    "PyTorch creates a seperate tensor for each of these step\n",
    "\n",
    "1. Uses a fused kernel which combines all the above operations\n",
    "2. In backward pass, expression takes much simpler form mathametically\n",
    "3. Under the hood, this is numerically well behaved\n",
    "4. Forward pass and backward pass are much more efficient"
   ]
  },
  {
   "cell_type": "code",
   "execution_count": 47,
   "metadata": {},
   "outputs": [
    {
     "data": {
      "text/plain": [
       "tensor(17.7697)"
      ]
     },
     "execution_count": 47,
     "metadata": {},
     "output_type": "execute_result"
    }
   ],
   "source": [
    "loss = F.cross_entropy(logits, Y)\n",
    "loss"
   ]
  },
  {
   "cell_type": "code",
   "execution_count": 48,
   "metadata": {},
   "outputs": [
    {
     "data": {
      "text/plain": [
       "tensor([9.0466e-04, 3.3281e-04, 6.6846e-03, 9.9208e-01])"
      ]
     },
     "execution_count": 48,
     "metadata": {},
     "output_type": "execute_result"
    }
   ],
   "source": [
    "# Numerical stability difference\n",
    "logits = torch.tensor([-2, -3, 0, 5])\n",
    "counts = logits.exp()\n",
    "probs = counts / counts.sum()\n",
    "probs"
   ]
  },
  {
   "cell_type": "code",
   "execution_count": 49,
   "metadata": {},
   "outputs": [
    {
     "name": "stdout",
     "output_type": "stream",
     "text": [
      "Counts: tensor([3.7835e-44, 4.9787e-02, 1.0000e+00,        inf])\n"
     ]
    },
    {
     "data": {
      "text/plain": [
       "tensor([0., 0., 0., nan])"
      ]
     },
     "execution_count": 49,
     "metadata": {},
     "output_type": "execute_result"
    }
   ],
   "source": [
    "# Numerical stability difference\n",
    "# With more extreme values, which will occur in backpropgation\n",
    "logits = torch.tensor([-100, -3, 0, 100])\n",
    "counts = logits.exp()\n",
    "print(f\"Counts: {counts}\")\n",
    "probs = counts / counts.sum()\n",
    "probs"
   ]
  },
  {
   "cell_type": "markdown",
   "metadata": {},
   "source": [
    "What's happening above is the floating point ran out of dynamic range for exp(100) returning inf\n",
    "and for negative 100 the probs is near zero.\n",
    "\n",
    "So we cannot pass very larger number to our logits --> loss expression"
   ]
  },
  {
   "cell_type": "code",
   "execution_count": 50,
   "metadata": {},
   "outputs": [
    {
     "name": "stdout",
     "output_type": "stream",
     "text": [
      "Counts: tensor([0.0000e+00, 1.4013e-45, 3.7835e-44, 1.0000e+00])\n"
     ]
    },
    {
     "data": {
      "text/plain": [
       "tensor([0.0000e+00, 1.4013e-45, 3.7835e-44, 1.0000e+00])"
      ]
     },
     "execution_count": 50,
     "metadata": {},
     "output_type": "execute_result"
    }
   ],
   "source": [
    "# How PyTorch handles this is\n",
    "# By finding maximum of the logits and offsets it from the logits to avoid it\n",
    "logits = torch.tensor([-100, -3, 0, 100]) - 100\n",
    "counts = logits.exp()\n",
    "print(f\"Counts: {counts}\")\n",
    "probs = counts / counts.sum()\n",
    "probs"
   ]
  },
  {
   "cell_type": "markdown",
   "metadata": {},
   "source": [
    "## Implementing training loop, overfitting one batch"
   ]
  },
  {
   "cell_type": "code",
   "execution_count": 51,
   "metadata": {},
   "outputs": [
    {
     "name": "stdout",
     "output_type": "stream",
     "text": [
      "0.2561391294002533\n"
     ]
    }
   ],
   "source": [
    "# Set requires grad\n",
    "for p in paramerters:\n",
    "    p.requires_grad = True\n",
    "for _ in range(1000):\n",
    "    # Forward pass\n",
    "    emb = C[X] # [32, 3, 2]\n",
    "    h = torch.tanh(emb.view(-1, 6) @ W1 + b1) # (32, 100)\n",
    "    logits = h @ W2 + b2 # (100, 27)\n",
    "    loss = F.cross_entropy(logits, Y)\n",
    "    # Backward pass\n",
    "    for p in paramerters:\n",
    "        p.grad = None\n",
    "    loss.backward()\n",
    "    \n",
    "    # Update parametrs\n",
    "    for p in paramerters:\n",
    "        p.data += -0.1 * p.grad\n",
    "print(loss.item())"
   ]
  },
  {
   "cell_type": "markdown",
   "metadata": {},
   "source": [
    "We've achieved a very good loss. Why?\n",
    "Because we're fitting the model for only 5 words i.e 32 inputs and with 3481 parameters.\n",
    "Lots of paramters for very less data.\n",
    "What we're doing it overfitting the model for one batch of data.\n",
    "\n",
    "> Note: Based on this overfitting can be defined as tuning many parameters for few samples or a batch of data."
   ]
  },
  {
   "cell_type": "markdown",
   "metadata": {},
   "source": [
    "Why loss of 0 is not achieved?"
   ]
  },
  {
   "cell_type": "code",
   "execution_count": 52,
   "metadata": {},
   "outputs": [
    {
     "data": {
      "text/plain": [
       "torch.return_types.max(\n",
       "values=tensor([13.3348, 17.7904, 20.6014, 20.6121, 16.7355, 13.3348, 15.9983, 14.1722,\n",
       "        15.9145, 18.3614, 15.9395, 20.9265, 13.3348, 17.1090, 17.1319, 20.0602,\n",
       "        13.3348, 16.5893, 15.1017, 17.0581, 18.5860, 15.9670, 10.8740, 10.6871,\n",
       "        15.5056, 13.3348, 16.1795, 16.9743, 12.7426, 16.2009, 19.0845, 16.0196],\n",
       "       grad_fn=<MaxBackward0>),\n",
       "indices=tensor([19, 13, 13,  1,  0, 19, 12,  9, 22,  9,  1,  0, 19, 22,  1,  0, 19, 19,\n",
       "         1,  2,  5, 12, 12,  1,  0, 19, 15, 16,  8,  9,  1,  0]))"
      ]
     },
     "execution_count": 52,
     "metadata": {},
     "output_type": "execute_result"
    }
   ],
   "source": [
    "logits.max(1)"
   ]
  },
  {
   "cell_type": "code",
   "execution_count": 53,
   "metadata": {},
   "outputs": [
    {
     "data": {
      "text/plain": [
       "tensor([ 5, 13, 13,  1,  0, 15, 12,  9, 22,  9,  1,  0,  1, 22,  1,  0,  9, 19,\n",
       "         1,  2,  5, 12, 12,  1,  0, 19, 15, 16,  8,  9,  1,  0])"
      ]
     },
     "execution_count": 53,
     "metadata": {},
     "output_type": "execute_result"
    }
   ],
   "source": [
    "Y"
   ]
  },
  {
   "cell_type": "markdown",
   "metadata": {},
   "source": [
    "We can see the indices of logits and output are same for most of the cases, these are inputs overfitted to outputs. But the missing ones are \n",
    "\n",
    "* ... --> e (emma)\n",
    "* ... --> o (olivia)\n",
    "* ... --> a (ava)\n",
    "* ... --> s (sophia)\n",
    "\n",
    "for different outptus for the same input.\n",
    "\n",
    "To overcome this, let's train on the full dataset."
   ]
  },
  {
   "cell_type": "markdown",
   "metadata": {},
   "source": [
    "## Training on full dataset, minibatches"
   ]
  },
  {
   "cell_type": "code",
   "execution_count": 71,
   "metadata": {},
   "outputs": [],
   "source": [
    "X, Y = build_dataset(block_size=3, number_of_words=len(words),logs=False)"
   ]
  },
  {
   "cell_type": "code",
   "execution_count": 72,
   "metadata": {},
   "outputs": [
    {
     "data": {
      "text/plain": [
       "(torch.Size([228146, 3]), torch.int64, torch.Size([228146]), torch.int64)"
      ]
     },
     "execution_count": 72,
     "metadata": {},
     "output_type": "execute_result"
    }
   ],
   "source": [
    "X.shape, X.dtype, Y.shape, Y.dtype"
   ]
  },
  {
   "cell_type": "code",
   "execution_count": 84,
   "metadata": {},
   "outputs": [
    {
     "name": "stdout",
     "output_type": "stream",
     "text": [
      "Total parameters: 3481\n",
      "19.505226135253906\n",
      "17.08448600769043\n",
      "15.01388168334961\n",
      "13.038187026977539\n",
      "11.437609672546387\n",
      "10.590084075927734\n",
      "9.906832695007324\n",
      "9.05928897857666\n",
      "8.551031112670898\n",
      "8.103048324584961\n",
      "Final loss: 8.103048324584961\n"
     ]
    }
   ],
   "source": [
    "# Reinitializing parameters for full batch training\n",
    "g = torch.Generator().manual_seed(2147483647)\n",
    "C = torch.randn((27, 2), generator=g)\n",
    "W1 = torch.randn((6, 100), generator=g)\n",
    "b1 = torch.randn(100, generator=g)\n",
    "W2 = torch.randn((100, 27), generator=g)\n",
    "b2 = torch.randn(27, generator=g)\n",
    "parameters = [C, W1, b1, W2, b2]\n",
    "print(f\"Total parameters: {sum(p.nelement() for p in parameters)}\")\n",
    "\n",
    "# Setting requires_grad for forward and backward pass\n",
    "for p in parameters:\n",
    "    p.requires_grad = True\n",
    "\n",
    "# Full training\n",
    "for _ in range(10):\n",
    "    \n",
    "    # Forward pass\n",
    "    emb = C[X]\n",
    "    h = torch.tanh(emb.view(-1, 6) @ W1 + b1)\n",
    "    logits = h @ W2 + b2\n",
    "    loss = F.cross_entropy(logits, Y)\n",
    "    print(loss.item())\n",
    "\n",
    "    # Set gradients to None\n",
    "    for p in paramerters:\n",
    "        p.grad = None\n",
    "\n",
    "    # Backward pass\n",
    "    loss.backward()\n",
    "\n",
    "    # Update weights\n",
    "    for p in parameters:\n",
    "        p.data += -0.1 * p.grad\n",
    "\n",
    "print(f\"Final loss: {loss.item()}\")"
   ]
  },
  {
   "cell_type": "markdown",
   "metadata": {},
   "source": [
    "Each epoch is taking more time, becuase forwarding and backwarding for 228146 samples compared to 32 samples.\n",
    "We can overcome this by training on minibatches instead of training on entire dataset"
   ]
  },
  {
   "cell_type": "code",
   "execution_count": 56,
   "metadata": {},
   "outputs": [
    {
     "data": {
      "text/plain": [
       "tensor([ 11935, 124211,  72353, 134168,  19590, 179257,  35262, 151701, 207486,\n",
       "        209831, 160545, 200320, 216752, 131008, 162158,  14874, 155237,  69108,\n",
       "        134049, 175288,  36177, 191279, 220363,   8856, 157049, 155053,  47109,\n",
       "         39437, 165389, 176877,  49441, 180473])"
      ]
     },
     "execution_count": 56,
     "metadata": {},
     "output_type": "execute_result"
    }
   ],
   "source": [
    "# Mini batch size of 32\n",
    "# from 0 to number of samples which is X.shape[0]\n",
    "# This willl index 32 random samples in X\n",
    "torch.randint(0, X.shape[0], (32,))"
   ]
  },
  {
   "cell_type": "code",
   "execution_count": 95,
   "metadata": {},
   "outputs": [
    {
     "name": "stdout",
     "output_type": "stream",
     "text": [
      "Total parameters: 3481\n",
      "19.702402114868164\n",
      "16.064176559448242\n",
      "14.076654434204102\n",
      "14.768239974975586\n",
      "12.371623039245605\n",
      "9.560648918151855\n",
      "10.0352783203125\n",
      "11.724791526794434\n",
      "8.231781959533691\n",
      "10.529947280883789\n",
      "9.846911430358887\n",
      "9.746484756469727\n",
      "10.548674583435059\n",
      "8.493870735168457\n",
      "11.265069007873535\n",
      "8.331384658813477\n",
      "13.268254280090332\n",
      "9.70434856414795\n",
      "11.153634071350098\n",
      "9.92152214050293\n",
      "10.438732147216797\n",
      "8.24794864654541\n",
      "7.637126922607422\n",
      "11.956585884094238\n",
      "10.920798301696777\n",
      "15.176382064819336\n",
      "13.008596420288086\n",
      "9.217453956604004\n",
      "8.517247200012207\n",
      "8.055900573730469\n",
      "10.785613059997559\n",
      "12.562047958374023\n",
      "14.770636558532715\n",
      "9.51086711883545\n",
      "9.841085433959961\n",
      "11.990396499633789\n",
      "11.04257869720459\n",
      "12.187171936035156\n",
      "9.408275604248047\n",
      "11.243504524230957\n",
      "8.065425872802734\n",
      "9.206563949584961\n",
      "10.430734634399414\n",
      "12.36136245727539\n",
      "10.052800178527832\n",
      "8.389205932617188\n",
      "9.108859062194824\n",
      "9.29414176940918\n",
      "10.46970272064209\n",
      "9.092045783996582\n",
      "9.868001937866211\n",
      "7.277458667755127\n",
      "9.16922664642334\n",
      "10.721840858459473\n",
      "8.645291328430176\n",
      "9.26922607421875\n",
      "9.469657897949219\n",
      "8.617011070251465\n",
      "10.779376029968262\n",
      "6.185026168823242\n",
      "7.496553897857666\n",
      "10.378456115722656\n",
      "7.76173734664917\n",
      "7.967223167419434\n",
      "8.624605178833008\n",
      "6.679420471191406\n",
      "10.068009376525879\n",
      "11.345060348510742\n",
      "11.627767562866211\n",
      "11.122184753417969\n",
      "8.022132873535156\n",
      "13.700371742248535\n",
      "9.163331031799316\n",
      "9.116392135620117\n",
      "8.774090766906738\n",
      "11.657366752624512\n",
      "9.19992446899414\n",
      "9.337817192077637\n",
      "7.812110424041748\n",
      "13.1530122756958\n",
      "9.239370346069336\n",
      "8.62656307220459\n",
      "12.806925773620605\n",
      "14.232527732849121\n",
      "14.52181625366211\n",
      "12.021632194519043\n",
      "7.837029933929443\n",
      "7.466141700744629\n",
      "9.435796737670898\n",
      "12.442342758178711\n",
      "16.11588478088379\n",
      "12.670682907104492\n",
      "20.90538787841797\n",
      "9.760855674743652\n",
      "12.509658813476562\n",
      "15.567769050598145\n",
      "15.035888671875\n",
      "17.027626037597656\n",
      "17.39141082763672\n",
      "12.330612182617188\n",
      "Final loss: 12.330612182617188\n"
     ]
    }
   ],
   "source": [
    "# Reinitializing parameters for full batch training\n",
    "g = torch.Generator().manual_seed(2147483647)\n",
    "C = torch.randn((27, 2), generator=g)\n",
    "W1 = torch.randn((6, 100), generator=g)\n",
    "b1 = torch.randn(100, generator=g)\n",
    "W2 = torch.randn((100, 27), generator=g)\n",
    "b2 = torch.randn(27, generator=g)\n",
    "parameters = [C, W1, b1, W2, b2]\n",
    "print(f\"Total parameters: {sum(p.nelement() for p in parameters)}\")\n",
    "\n",
    "# Setting requires_grad for forward and backward pass\n",
    "for p in parameters:\n",
    "    p.requires_grad = True\n",
    "\n",
    "# Full training\n",
    "for _ in range(100):\n",
    "\n",
    "    # mini batch indexes\n",
    "    ix = torch.randint(0, X.shape[0], (32,))\n",
    "    \n",
    "    # Forward pass\n",
    "    emb = C[X[ix]]\n",
    "    h = torch.tanh(emb.view(-1, 6) @ W1 + b1)\n",
    "    logits = h @ W2 + b2\n",
    "    loss = F.cross_entropy(logits, Y[ix])\n",
    "    print(loss.item())\n",
    "\n",
    "    # Set gradients to None\n",
    "    for p in paramerters:\n",
    "        p.grad = None\n",
    "\n",
    "    # Backward pass\n",
    "    loss.backward()\n",
    "\n",
    "    # Update weights\n",
    "    for p in parameters:\n",
    "        p.data += -0.1 * p.grad\n",
    "\n",
    "print(f\"Final loss: {loss.item()}\")"
   ]
  },
  {
   "cell_type": "markdown",
   "metadata": {},
   "source": [
    "Adavantages with mini batching:\n",
    "\n",
    "* Faster training cycle\n",
    "* Random indexing leads to differnt data for each mini batch\n",
    "\n",
    "> Since model's trained on mini batches, the quality of gradient is lower and is not reliable. It's not the actual gradient direction. But the gradient direction is good enough even when estimated on a mini batch(32 samples) to be useful.\n",
    "It's much better to have a approximate gradient direction and more steps than an exact or actual gradient with much fewer steps.\n",
    "That's why this works in practice."
   ]
  },
  {
   "cell_type": "code",
   "execution_count": 96,
   "metadata": {},
   "outputs": [
    {
     "data": {
      "text/plain": [
       "tensor(16.3061, grad_fn=<NllLossBackward0>)"
      ]
     },
     "execution_count": 96,
     "metadata": {},
     "output_type": "execute_result"
    }
   ],
   "source": [
    "# Evaluation loss for entire dataset\n",
    "emb = C[X]\n",
    "h = torch.tanh(emb.view(-1, 6) @ W1 + b1)\n",
    "logits = h @ W2 + b2\n",
    "loss = F.cross_entropy(logits, Y)\n",
    "loss"
   ]
  },
  {
   "cell_type": "markdown",
   "metadata": {},
   "source": [
    "## Finding a good learning rate"
   ]
  },
  {
   "cell_type": "code",
   "execution_count": null,
   "metadata": {},
   "outputs": [],
   "source": []
  }
 ],
 "metadata": {
  "kernelspec": {
   "display_name": "Python 3 (ipykernel)",
   "language": "python",
   "name": "python3"
  },
  "language_info": {
   "codemirror_mode": {
    "name": "ipython",
    "version": 3
   },
   "file_extension": ".py",
   "mimetype": "text/x-python",
   "name": "python",
   "nbconvert_exporter": "python",
   "pygments_lexer": "ipython3",
   "version": "3.10.6"
  },
  "toc": {
   "base_numbering": 1,
   "nav_menu": {},
   "number_sections": true,
   "sideBar": true,
   "skip_h1_title": false,
   "title_cell": "Table of Contents",
   "title_sidebar": "Contents",
   "toc_cell": false,
   "toc_position": {
    "height": "calc(100% - 180px)",
    "left": "10px",
    "top": "150px",
    "width": "206px"
   },
   "toc_section_display": true,
   "toc_window_display": false
  },
  "vscode": {
   "interpreter": {
    "hash": "21a124e163c92121797d725bed844fa6fdaf2c4e47bf1f149ef174ae791c682a"
   }
  }
 },
 "nbformat": 4,
 "nbformat_minor": 2
}
