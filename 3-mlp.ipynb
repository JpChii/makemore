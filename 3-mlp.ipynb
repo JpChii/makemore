{
 "cells": [
  {
   "cell_type": "markdown",
   "metadata": {},
   "source": [
    "# MLP"
   ]
  },
  {
   "cell_type": "markdown",
   "metadata": {},
   "source": [
    "The bigram model using probablities based on normalized counts has it's limitations.\n",
    "\n",
    "To extend it to have more context like a two characters as input the probabalities matrix will have (27*27) possilities and for three characters (27 * 27 * 27) and becomes too big.\n",
    "\n",
    "To overcome this we're gonna try out [Bengion et al.2003 MLP model paper](https://www.youtube.com/redirect?event=video_description&redir_token=QUFFLUhqbVhPSHNrVkluYVY5elh4RDZrOWd4R2xVNVRQd3xBQ3Jtc0tsUDE0UFVRQURUTTlWckExZWp4eGxFa3lRYlQ3amtYX3kxdDI1ZW5uU1pxZERidUYyZkJjSVlzd21rMndCMFlYRW5kYmZISkxfSDR1TzhaOXI1bXptUnUxU0xyUXJYeEpTZlRrTkRjTS0wTkMxNjFnSQ&q=https%3A%2F%2Fwww.jmlr.org%2Fpapers%2Fvolume3%2Fbengio03a%2Fbengio03a.pdf&v=TCH_1BHY58I)\n",
    "\n",
    "* This paper uses words but we'll proceed with characters\n",
    "* Each character will be represented as a 30 dimensional vector \n",
    "* The advantages of embeddings is knowledge transference, for examples animals like dog, cat might be closer to each other in 30 dimensional space. If cat was not in training set but this knowledge transfer will help in this case.\n",
    "\n",
    "Let's implement the below architecture in this notebook\n",
    "![fully connected MLP](https://pbs.twimg.com/media/Fhzl42hVUAI9U8V?format=jpg&name=large)\n",
    "\n",
    "* Three input characters with 30 dimensional embedding each\n",
    "* A Lookup table for characters\n",
    "* Tanh activation connected to three inputs\n",
    "* since we have 27 characters a final layer with 27 units(logits)\n",
    "* softmax on top of it to normalize the probabality\n",
    "* pluck the label based on probabality"
   ]
  },
  {
   "cell_type": "code",
   "execution_count": 1,
   "metadata": {
    "ExecuteTime": {
     "end_time": "2023-02-08T05:47:31.313008Z",
     "start_time": "2023-02-08T05:47:25.987840Z"
    }
   },
   "outputs": [],
   "source": [
    "import torch\n",
    "import torch.nn.functional as F\n",
    "import matplotlib.pyplot as plt\n",
    "%matplotlib inline"
   ]
  },
  {
   "cell_type": "markdown",
   "metadata": {},
   "source": [
    "## Rebuilding training dataset"
   ]
  },
  {
   "cell_type": "code",
   "execution_count": 2,
   "metadata": {
    "ExecuteTime": {
     "end_time": "2023-02-08T05:47:31.330066Z",
     "start_time": "2023-02-08T05:47:31.317289Z"
    }
   },
   "outputs": [],
   "source": [
    "# Read all words\n",
    "def read_words():\n",
    "    words = open(\"names.txt\").read().splitlines()\n",
    "    return words\n",
    "words = read_words()"
   ]
  },
  {
   "cell_type": "code",
   "execution_count": 3,
   "metadata": {
    "ExecuteTime": {
     "end_time": "2023-02-08T05:47:31.376304Z",
     "start_time": "2023-02-08T05:47:31.339831Z"
    }
   },
   "outputs": [
    {
     "data": {
      "text/plain": [
       "32033"
      ]
     },
     "execution_count": 3,
     "metadata": {},
     "output_type": "execute_result"
    }
   ],
   "source": [
    "len(words)"
   ]
  },
  {
   "cell_type": "code",
   "execution_count": 4,
   "metadata": {
    "ExecuteTime": {
     "end_time": "2023-02-08T05:47:31.403383Z",
     "start_time": "2023-02-08T05:47:31.390165Z"
    }
   },
   "outputs": [
    {
     "name": "stdout",
     "output_type": "stream",
     "text": [
      "{1: 'a', 2: 'b', 3: 'c', 4: 'd', 5: 'e', 6: 'f', 7: 'g', 8: 'h', 9: 'i', 10: 'j', 11: 'k', 12: 'l', 13: 'm', 14: 'n', 15: 'o', 16: 'p', 17: 'q', 18: 'r', 19: 's', 20: 't', 21: 'u', 22: 'v', 23: 'w', 24: 'x', 25: 'y', 26: 'z', 0: '.'}\n"
     ]
    }
   ],
   "source": [
    "# build the vocabulary of characters and mappings to/from integers\n",
    "chars = sorted(list(set(''.join(words))))\n",
    "stoi  = {s:i+1 for i, s in enumerate(chars)}\n",
    "stoi['.'] = 0\n",
    "itos = {i:s for s, i in stoi.items()}\n",
    "print(itos)"
   ]
  },
  {
   "cell_type": "markdown",
   "metadata": {},
   "source": [
    "### Build the dataset"
   ]
  },
  {
   "cell_type": "code",
   "execution_count": 5,
   "metadata": {
    "ExecuteTime": {
     "end_time": "2023-02-08T05:47:31.426980Z",
     "start_time": "2023-02-08T05:47:31.413084Z"
    }
   },
   "outputs": [],
   "source": [
    "def build_dataset(block_size, number_of_words: int, logs=False):\n",
    "\n",
    "    block_size = block_size # Context ength: how many characters do we take to predict the next one?\n",
    "    X, Y = [], []\n",
    "    for w in words[:number_of_words]:\n",
    "        if logs:\n",
    "            print(w)\n",
    "        context = [0] * block_size\n",
    "        for ch in w + '.':\n",
    "            if logs:\n",
    "                print(f\"Context: {context}\")\n",
    "            ix = stoi[ch]\n",
    "            X.append(context)\n",
    "            Y.append(ix)\n",
    "            if logs:\n",
    "                print(''.join(itos[i] for i in context), '--->', itos[ix])\n",
    "            context = context[1:] + [ix]\n",
    "            if logs:\n",
    "                print(f\"Context after append: {context}\")\n",
    "\n",
    "    X = torch.tensor(X)\n",
    "    Y = torch.tensor(Y)\n",
    "    return X, Y"
   ]
  },
  {
   "cell_type": "code",
   "execution_count": 6,
   "metadata": {
    "ExecuteTime": {
     "end_time": "2023-02-08T05:47:31.442227Z",
     "start_time": "2023-02-08T05:47:31.434452Z"
    }
   },
   "outputs": [
    {
     "name": "stdout",
     "output_type": "stream",
     "text": [
      "emma\n",
      "Context: [0, 0, 0]\n",
      "... ---> e\n",
      "Context after append: [0, 0, 5]\n",
      "Context: [0, 0, 5]\n",
      "..e ---> m\n",
      "Context after append: [0, 5, 13]\n",
      "Context: [0, 5, 13]\n",
      ".em ---> m\n",
      "Context after append: [5, 13, 13]\n",
      "Context: [5, 13, 13]\n",
      "emm ---> a\n",
      "Context after append: [13, 13, 1]\n",
      "Context: [13, 13, 1]\n",
      "mma ---> .\n",
      "Context after append: [13, 1, 0]\n",
      "olivia\n",
      "Context: [0, 0, 0]\n",
      "... ---> o\n",
      "Context after append: [0, 0, 15]\n",
      "Context: [0, 0, 15]\n",
      "..o ---> l\n",
      "Context after append: [0, 15, 12]\n",
      "Context: [0, 15, 12]\n",
      ".ol ---> i\n",
      "Context after append: [15, 12, 9]\n",
      "Context: [15, 12, 9]\n",
      "oli ---> v\n",
      "Context after append: [12, 9, 22]\n",
      "Context: [12, 9, 22]\n",
      "liv ---> i\n",
      "Context after append: [9, 22, 9]\n",
      "Context: [9, 22, 9]\n",
      "ivi ---> a\n",
      "Context after append: [22, 9, 1]\n",
      "Context: [22, 9, 1]\n",
      "via ---> .\n",
      "Context after append: [9, 1, 0]\n",
      "ava\n",
      "Context: [0, 0, 0]\n",
      "... ---> a\n",
      "Context after append: [0, 0, 1]\n",
      "Context: [0, 0, 1]\n",
      "..a ---> v\n",
      "Context after append: [0, 1, 22]\n",
      "Context: [0, 1, 22]\n",
      ".av ---> a\n",
      "Context after append: [1, 22, 1]\n",
      "Context: [1, 22, 1]\n",
      "ava ---> .\n",
      "Context after append: [22, 1, 0]\n",
      "isabella\n",
      "Context: [0, 0, 0]\n",
      "... ---> i\n",
      "Context after append: [0, 0, 9]\n",
      "Context: [0, 0, 9]\n",
      "..i ---> s\n",
      "Context after append: [0, 9, 19]\n",
      "Context: [0, 9, 19]\n",
      ".is ---> a\n",
      "Context after append: [9, 19, 1]\n",
      "Context: [9, 19, 1]\n",
      "isa ---> b\n",
      "Context after append: [19, 1, 2]\n",
      "Context: [19, 1, 2]\n",
      "sab ---> e\n",
      "Context after append: [1, 2, 5]\n",
      "Context: [1, 2, 5]\n",
      "abe ---> l\n",
      "Context after append: [2, 5, 12]\n",
      "Context: [2, 5, 12]\n",
      "bel ---> l\n",
      "Context after append: [5, 12, 12]\n",
      "Context: [5, 12, 12]\n",
      "ell ---> a\n",
      "Context after append: [12, 12, 1]\n",
      "Context: [12, 12, 1]\n",
      "lla ---> .\n",
      "Context after append: [12, 1, 0]\n",
      "sophia\n",
      "Context: [0, 0, 0]\n",
      "... ---> s\n",
      "Context after append: [0, 0, 19]\n",
      "Context: [0, 0, 19]\n",
      "..s ---> o\n",
      "Context after append: [0, 19, 15]\n",
      "Context: [0, 19, 15]\n",
      ".so ---> p\n",
      "Context after append: [19, 15, 16]\n",
      "Context: [19, 15, 16]\n",
      "sop ---> h\n",
      "Context after append: [15, 16, 8]\n",
      "Context: [15, 16, 8]\n",
      "oph ---> i\n",
      "Context after append: [16, 8, 9]\n",
      "Context: [16, 8, 9]\n",
      "phi ---> a\n",
      "Context after append: [8, 9, 1]\n",
      "Context: [8, 9, 1]\n",
      "hia ---> .\n",
      "Context after append: [9, 1, 0]\n"
     ]
    }
   ],
   "source": [
    "X, Y = build_dataset(block_size=3, number_of_words=5, logs=True)"
   ]
  },
  {
   "cell_type": "code",
   "execution_count": 7,
   "metadata": {
    "ExecuteTime": {
     "end_time": "2023-02-08T05:47:31.459477Z",
     "start_time": "2023-02-08T05:47:31.448995Z"
    }
   },
   "outputs": [
    {
     "data": {
      "text/plain": [
       "(torch.Size([32, 3]), torch.int64, torch.Size([32]), torch.int64)"
      ]
     },
     "execution_count": 7,
     "metadata": {},
     "output_type": "execute_result"
    }
   ],
   "source": [
    "X.shape, X.dtype, Y.shape, Y.dtype"
   ]
  },
  {
   "cell_type": "code",
   "execution_count": 8,
   "metadata": {
    "ExecuteTime": {
     "end_time": "2023-02-08T05:47:31.471780Z",
     "start_time": "2023-02-08T05:47:31.462583Z"
    }
   },
   "outputs": [
    {
     "data": {
      "text/plain": [
       "tensor([[ 0,  0,  0],\n",
       "        [ 0,  0,  5],\n",
       "        [ 0,  5, 13],\n",
       "        [ 5, 13, 13],\n",
       "        [13, 13,  1],\n",
       "        [ 0,  0,  0],\n",
       "        [ 0,  0, 15],\n",
       "        [ 0, 15, 12],\n",
       "        [15, 12,  9],\n",
       "        [12,  9, 22],\n",
       "        [ 9, 22,  9],\n",
       "        [22,  9,  1],\n",
       "        [ 0,  0,  0],\n",
       "        [ 0,  0,  1],\n",
       "        [ 0,  1, 22],\n",
       "        [ 1, 22,  1],\n",
       "        [ 0,  0,  0],\n",
       "        [ 0,  0,  9],\n",
       "        [ 0,  9, 19],\n",
       "        [ 9, 19,  1],\n",
       "        [19,  1,  2],\n",
       "        [ 1,  2,  5],\n",
       "        [ 2,  5, 12],\n",
       "        [ 5, 12, 12],\n",
       "        [12, 12,  1],\n",
       "        [ 0,  0,  0],\n",
       "        [ 0,  0, 19],\n",
       "        [ 0, 19, 15],\n",
       "        [19, 15, 16],\n",
       "        [15, 16,  8],\n",
       "        [16,  8,  9],\n",
       "        [ 8,  9,  1]])"
      ]
     },
     "execution_count": 8,
     "metadata": {},
     "output_type": "execute_result"
    }
   ],
   "source": [
    "X"
   ]
  },
  {
   "cell_type": "code",
   "execution_count": 9,
   "metadata": {
    "ExecuteTime": {
     "end_time": "2023-02-08T05:47:31.487751Z",
     "start_time": "2023-02-08T05:47:31.475262Z"
    }
   },
   "outputs": [
    {
     "data": {
      "text/plain": [
       "tensor([ 5, 13, 13,  1,  0, 15, 12,  9, 22,  9,  1,  0,  1, 22,  1,  0,  9, 19,\n",
       "         1,  2,  5, 12, 12,  1,  0, 19, 15, 16,  8,  9,  1,  0])"
      ]
     },
     "execution_count": 9,
     "metadata": {},
     "output_type": "execute_result"
    }
   ],
   "source": [
    "Y"
   ]
  },
  {
   "cell_type": "markdown",
   "metadata": {},
   "source": [
    "Now we've the dataset, let's build the embedding lookup table\n",
    "\n",
    "## Embedding lookup table\n",
    "\n",
    "For 1700 words, 30 dimension space was used in paper. For 27 possiblities(characters) let's try a 2 dimensionsal embedding."
   ]
  },
  {
   "cell_type": "code",
   "execution_count": 10,
   "metadata": {
    "ExecuteTime": {
     "end_time": "2023-02-08T05:47:31.528393Z",
     "start_time": "2023-02-08T05:47:31.509917Z"
    }
   },
   "outputs": [
    {
     "data": {
      "text/plain": [
       "(tensor([[ 1.0654, -0.4189],\n",
       "         [-0.1886,  0.6077],\n",
       "         [-0.6493, -1.2236],\n",
       "         [ 0.0520, -1.1606],\n",
       "         [-0.2647,  0.2973],\n",
       "         [-0.8276,  0.2831],\n",
       "         [-0.0419,  0.4953],\n",
       "         [-0.5341, -0.0607],\n",
       "         [-0.8142,  1.5791],\n",
       "         [ 0.6127, -1.3213],\n",
       "         [ 1.3088, -0.8507],\n",
       "         [ 1.8939,  2.4032],\n",
       "         [ 1.0523,  0.7024],\n",
       "         [ 0.4999,  0.7069],\n",
       "         [ 0.7210,  0.6423],\n",
       "         [-0.4966, -0.9387],\n",
       "         [-0.4950, -0.1859],\n",
       "         [ 0.0176,  2.2793],\n",
       "         [ 0.2297,  2.8804],\n",
       "         [-0.9615, -0.6350],\n",
       "         [ 0.6027,  2.3288],\n",
       "         [ 1.5895,  1.1990],\n",
       "         [-0.1330,  0.0134],\n",
       "         [-0.8035,  0.2756],\n",
       "         [-1.5771,  0.3892],\n",
       "         [ 0.7817, -0.1250],\n",
       "         [ 0.2701, -1.2812]]),\n",
       " torch.Size([27, 2]))"
      ]
     },
     "execution_count": 10,
     "metadata": {},
     "output_type": "execute_result"
    }
   ],
   "source": [
    "# Initialized randomnly\n",
    "C = torch.randn((27, 2))\n",
    "C, C.shape"
   ]
  },
  {
   "cell_type": "code",
   "execution_count": 11,
   "metadata": {
    "ExecuteTime": {
     "end_time": "2023-02-08T05:47:31.552439Z",
     "start_time": "2023-02-08T05:47:31.537264Z"
    }
   },
   "outputs": [
    {
     "data": {
      "text/plain": [
       "tensor([-0.8276,  0.2831])"
      ]
     },
     "execution_count": 11,
     "metadata": {},
     "output_type": "execute_result"
    }
   ],
   "source": [
    "# The lookup of embedding for single character can be done two ways\n",
    "# 1. Indexing\n",
    "C[5]"
   ]
  },
  {
   "cell_type": "code",
   "execution_count": 12,
   "metadata": {
    "ExecuteTime": {
     "end_time": "2023-02-08T05:47:31.574585Z",
     "start_time": "2023-02-08T05:47:31.560462Z"
    }
   },
   "outputs": [
    {
     "data": {
      "text/plain": [
       "tensor([-0.8276,  0.2831])"
      ]
     },
     "execution_count": 12,
     "metadata": {},
     "output_type": "execute_result"
    }
   ],
   "source": [
    "# 2. Onehot\n",
    "F.one_hot(torch.tensor(5), num_classes=27).float() @ C"
   ]
  },
  {
   "cell_type": "markdown",
   "metadata": {},
   "source": [
    "Indexing and one hot encoding gives the same results. We'll use indexing as it's faster."
   ]
  },
  {
   "cell_type": "code",
   "execution_count": 13,
   "metadata": {
    "ExecuteTime": {
     "end_time": "2023-02-08T05:47:31.600985Z",
     "start_time": "2023-02-08T05:47:31.585045Z"
    }
   },
   "outputs": [
    {
     "name": "stdout",
     "output_type": "stream",
     "text": [
      "tensor([[-0.8276,  0.2831],\n",
      "        [-0.0419,  0.4953],\n",
      "        [-0.5341, -0.0607]])\n",
      "tensor([[-0.8276,  0.2831],\n",
      "        [-0.0419,  0.4953],\n",
      "        [-0.5341, -0.0607]])\n"
     ]
    }
   ],
   "source": [
    "# Indexing multiple values\n",
    "# Singce our shape of input is 32, 3\n",
    "print(C[[5, 6, 7]])\n",
    "# Works also with tensor\n",
    "print(C[torch.tensor([5, 6, 7])])"
   ]
  },
  {
   "cell_type": "code",
   "execution_count": 14,
   "metadata": {
    "ExecuteTime": {
     "end_time": "2023-02-08T05:47:31.623028Z",
     "start_time": "2023-02-08T05:47:31.607657Z"
    }
   },
   "outputs": [
    {
     "data": {
      "text/plain": [
       "tensor([[[ 1.0654, -0.4189],\n",
       "         [ 1.0654, -0.4189],\n",
       "         [ 1.0654, -0.4189]],\n",
       "\n",
       "        [[ 1.0654, -0.4189],\n",
       "         [ 1.0654, -0.4189],\n",
       "         [-0.8276,  0.2831]],\n",
       "\n",
       "        [[ 1.0654, -0.4189],\n",
       "         [-0.8276,  0.2831],\n",
       "         [ 0.4999,  0.7069]],\n",
       "\n",
       "        [[-0.8276,  0.2831],\n",
       "         [ 0.4999,  0.7069],\n",
       "         [ 0.4999,  0.7069]],\n",
       "\n",
       "        [[ 0.4999,  0.7069],\n",
       "         [ 0.4999,  0.7069],\n",
       "         [-0.1886,  0.6077]],\n",
       "\n",
       "        [[ 1.0654, -0.4189],\n",
       "         [ 1.0654, -0.4189],\n",
       "         [ 1.0654, -0.4189]],\n",
       "\n",
       "        [[ 1.0654, -0.4189],\n",
       "         [ 1.0654, -0.4189],\n",
       "         [-0.4966, -0.9387]],\n",
       "\n",
       "        [[ 1.0654, -0.4189],\n",
       "         [-0.4966, -0.9387],\n",
       "         [ 1.0523,  0.7024]],\n",
       "\n",
       "        [[-0.4966, -0.9387],\n",
       "         [ 1.0523,  0.7024],\n",
       "         [ 0.6127, -1.3213]],\n",
       "\n",
       "        [[ 1.0523,  0.7024],\n",
       "         [ 0.6127, -1.3213],\n",
       "         [-0.1330,  0.0134]],\n",
       "\n",
       "        [[ 0.6127, -1.3213],\n",
       "         [-0.1330,  0.0134],\n",
       "         [ 0.6127, -1.3213]],\n",
       "\n",
       "        [[-0.1330,  0.0134],\n",
       "         [ 0.6127, -1.3213],\n",
       "         [-0.1886,  0.6077]],\n",
       "\n",
       "        [[ 1.0654, -0.4189],\n",
       "         [ 1.0654, -0.4189],\n",
       "         [ 1.0654, -0.4189]],\n",
       "\n",
       "        [[ 1.0654, -0.4189],\n",
       "         [ 1.0654, -0.4189],\n",
       "         [-0.1886,  0.6077]],\n",
       "\n",
       "        [[ 1.0654, -0.4189],\n",
       "         [-0.1886,  0.6077],\n",
       "         [-0.1330,  0.0134]],\n",
       "\n",
       "        [[-0.1886,  0.6077],\n",
       "         [-0.1330,  0.0134],\n",
       "         [-0.1886,  0.6077]],\n",
       "\n",
       "        [[ 1.0654, -0.4189],\n",
       "         [ 1.0654, -0.4189],\n",
       "         [ 1.0654, -0.4189]],\n",
       "\n",
       "        [[ 1.0654, -0.4189],\n",
       "         [ 1.0654, -0.4189],\n",
       "         [ 0.6127, -1.3213]],\n",
       "\n",
       "        [[ 1.0654, -0.4189],\n",
       "         [ 0.6127, -1.3213],\n",
       "         [-0.9615, -0.6350]],\n",
       "\n",
       "        [[ 0.6127, -1.3213],\n",
       "         [-0.9615, -0.6350],\n",
       "         [-0.1886,  0.6077]],\n",
       "\n",
       "        [[-0.9615, -0.6350],\n",
       "         [-0.1886,  0.6077],\n",
       "         [-0.6493, -1.2236]],\n",
       "\n",
       "        [[-0.1886,  0.6077],\n",
       "         [-0.6493, -1.2236],\n",
       "         [-0.8276,  0.2831]],\n",
       "\n",
       "        [[-0.6493, -1.2236],\n",
       "         [-0.8276,  0.2831],\n",
       "         [ 1.0523,  0.7024]],\n",
       "\n",
       "        [[-0.8276,  0.2831],\n",
       "         [ 1.0523,  0.7024],\n",
       "         [ 1.0523,  0.7024]],\n",
       "\n",
       "        [[ 1.0523,  0.7024],\n",
       "         [ 1.0523,  0.7024],\n",
       "         [-0.1886,  0.6077]],\n",
       "\n",
       "        [[ 1.0654, -0.4189],\n",
       "         [ 1.0654, -0.4189],\n",
       "         [ 1.0654, -0.4189]],\n",
       "\n",
       "        [[ 1.0654, -0.4189],\n",
       "         [ 1.0654, -0.4189],\n",
       "         [-0.9615, -0.6350]],\n",
       "\n",
       "        [[ 1.0654, -0.4189],\n",
       "         [-0.9615, -0.6350],\n",
       "         [-0.4966, -0.9387]],\n",
       "\n",
       "        [[-0.9615, -0.6350],\n",
       "         [-0.4966, -0.9387],\n",
       "         [-0.4950, -0.1859]],\n",
       "\n",
       "        [[-0.4966, -0.9387],\n",
       "         [-0.4950, -0.1859],\n",
       "         [-0.8142,  1.5791]],\n",
       "\n",
       "        [[-0.4950, -0.1859],\n",
       "         [-0.8142,  1.5791],\n",
       "         [ 0.6127, -1.3213]],\n",
       "\n",
       "        [[-0.8142,  1.5791],\n",
       "         [ 0.6127, -1.3213],\n",
       "         [-0.1886,  0.6077]]])"
      ]
     },
     "execution_count": 14,
     "metadata": {},
     "output_type": "execute_result"
    }
   ],
   "source": [
    "# The total equivalent would be\n",
    "C[X]"
   ]
  },
  {
   "cell_type": "code",
   "execution_count": 15,
   "metadata": {
    "ExecuteTime": {
     "end_time": "2023-02-08T05:47:31.638506Z",
     "start_time": "2023-02-08T05:47:31.627352Z"
    }
   },
   "outputs": [
    {
     "data": {
      "text/plain": [
       "torch.Size([32, 3, 2])"
      ]
     },
     "execution_count": 15,
     "metadata": {},
     "output_type": "execute_result"
    }
   ],
   "source": [
    "# Let's verify this\n",
    "C[X].shape"
   ]
  },
  {
   "cell_type": "markdown",
   "metadata": {},
   "source": [
    "32 is total number of inputs with shape 3 and dimensional embedding 2."
   ]
  },
  {
   "cell_type": "code",
   "execution_count": 16,
   "metadata": {
    "ExecuteTime": {
     "end_time": "2023-02-08T05:47:31.653540Z",
     "start_time": "2023-02-08T05:47:31.644716Z"
    }
   },
   "outputs": [
    {
     "data": {
      "text/plain": [
       "tensor(1)"
      ]
     },
     "execution_count": 16,
     "metadata": {},
     "output_type": "execute_result"
    }
   ],
   "source": [
    "X[13, 2]"
   ]
  },
  {
   "cell_type": "code",
   "execution_count": 17,
   "metadata": {
    "ExecuteTime": {
     "end_time": "2023-02-08T05:47:31.678282Z",
     "start_time": "2023-02-08T05:47:31.662373Z"
    }
   },
   "outputs": [
    {
     "data": {
      "text/plain": [
       "tensor([-0.1886,  0.6077])"
      ]
     },
     "execution_count": 17,
     "metadata": {},
     "output_type": "execute_result"
    }
   ],
   "source": [
    "C[X][13, 2]"
   ]
  },
  {
   "cell_type": "code",
   "execution_count": 18,
   "metadata": {
    "ExecuteTime": {
     "end_time": "2023-02-08T05:47:31.697727Z",
     "start_time": "2023-02-08T05:47:31.684945Z"
    }
   },
   "outputs": [
    {
     "data": {
      "text/plain": [
       "tensor([-0.1886,  0.6077])"
      ]
     },
     "execution_count": 18,
     "metadata": {},
     "output_type": "execute_result"
    }
   ],
   "source": [
    "C[1]"
   ]
  },
  {
   "cell_type": "code",
   "execution_count": 19,
   "metadata": {
    "ExecuteTime": {
     "end_time": "2023-02-08T05:47:31.716937Z",
     "start_time": "2023-02-08T05:47:31.705431Z"
    }
   },
   "outputs": [
    {
     "data": {
      "text/plain": [
       "torch.Size([32, 3, 2])"
      ]
     },
     "execution_count": 19,
     "metadata": {},
     "output_type": "execute_result"
    }
   ],
   "source": [
    "emb = C[X]\n",
    "emb.shape"
   ]
  },
  {
   "cell_type": "markdown",
   "metadata": {},
   "source": [
    "Now the embedding lookup table is completed."
   ]
  },
  {
   "cell_type": "markdown",
   "metadata": {},
   "source": [
    "## Implementing the hidden layer plus internals of torch.Tensor, storage and views"
   ]
  },
  {
   "cell_type": "code",
   "execution_count": 20,
   "metadata": {
    "ExecuteTime": {
     "end_time": "2023-02-08T05:47:31.735053Z",
     "start_time": "2023-02-08T05:47:31.727489Z"
    }
   },
   "outputs": [],
   "source": [
    "# Intitializing weights and biases\n",
    "W1 = torch.randn((\n",
    "    6, # 3(inputs) * 2(embedding dim)\n",
    "    100 # Number of neurons\n",
    "))\n",
    "b1 = torch.randn(100)"
   ]
  },
  {
   "cell_type": "code",
   "execution_count": 21,
   "metadata": {
    "ExecuteTime": {
     "end_time": "2023-02-08T05:47:31.753513Z",
     "start_time": "2023-02-08T05:47:31.742269Z"
    }
   },
   "outputs": [
    {
     "data": {
      "text/plain": [
       "torch.Size([6, 100])"
      ]
     },
     "execution_count": 21,
     "metadata": {},
     "output_type": "execute_result"
    }
   ],
   "source": [
    "W1.shape"
   ]
  },
  {
   "cell_type": "code",
   "execution_count": 22,
   "metadata": {
    "ExecuteTime": {
     "end_time": "2023-02-08T05:47:32.434474Z",
     "start_time": "2023-02-08T05:47:31.760805Z"
    }
   },
   "outputs": [
    {
     "ename": "RuntimeError",
     "evalue": "mat1 and mat2 shapes cannot be multiplied (96x2 and 6x100)",
     "output_type": "error",
     "traceback": [
      "\u001b[0;31m---------------------------------------------------------------------------\u001b[0m",
      "\u001b[0;31mRuntimeError\u001b[0m                              Traceback (most recent call last)",
      "\u001b[1;32m/Users/jayaprakashsivagami/Documents/Tech/ML/makemore/3-mlp.ipynb Cell 31\u001b[0m in \u001b[0;36m<cell line: 5>\u001b[0;34m()\u001b[0m\n\u001b[1;32m      <a href='vscode-notebook-cell:/Users/jayaprakashsivagami/Documents/Tech/ML/makemore/3-mlp.ipynb#X42sZmlsZQ%3D%3D?line=0'>1</a>\u001b[0m \u001b[39m# Inputs * weights + bias will not work  now\u001b[39;00m\n\u001b[1;32m      <a href='vscode-notebook-cell:/Users/jayaprakashsivagami/Documents/Tech/ML/makemore/3-mlp.ipynb#X42sZmlsZQ%3D%3D?line=1'>2</a>\u001b[0m \u001b[39m# as dimensions of weighs and input doesn't abide\u001b[39;00m\n\u001b[1;32m      <a href='vscode-notebook-cell:/Users/jayaprakashsivagami/Documents/Tech/ML/makemore/3-mlp.ipynb#X42sZmlsZQ%3D%3D?line=2'>3</a>\u001b[0m \u001b[39m# by matrix multiplication rulees\u001b[39;00m\n\u001b[1;32m      <a href='vscode-notebook-cell:/Users/jayaprakashsivagami/Documents/Tech/ML/makemore/3-mlp.ipynb#X42sZmlsZQ%3D%3D?line=3'>4</a>\u001b[0m \u001b[39m# shape of input [32, 3, 2], weights [6, 100]\u001b[39;00m\n\u001b[0;32m----> <a href='vscode-notebook-cell:/Users/jayaprakashsivagami/Documents/Tech/ML/makemore/3-mlp.ipynb#X42sZmlsZQ%3D%3D?line=4'>5</a>\u001b[0m emb \u001b[39m@\u001b[39;49m W1 \u001b[39m+\u001b[39m b1\n",
      "\u001b[0;31mRuntimeError\u001b[0m: mat1 and mat2 shapes cannot be multiplied (96x2 and 6x100)"
     ]
    }
   ],
   "source": [
    "# # Inputs * weights + bias will not work  now\n",
    "# # as dimensions of weighs and input doesn't abide\n",
    "# # by matrix multiplication rulees\n",
    "# # shape of input [32, 3, 2], weights [6, 100]\n",
    "# emb @ W1 + b1"
   ]
  },
  {
   "cell_type": "markdown",
   "metadata": {},
   "source": [
    "PyTorch's tensor's a really powerful, because ut has tons of methods to allow us to create modify and perfom lot's of operations on it.\n",
    "\n",
    "We're gonna use [torch.cat](https://pytorch.org/docs/stable/generated/torch.cat.html) to tackle the above problem."
   ]
  },
  {
   "cell_type": "code",
   "execution_count": 23,
   "metadata": {
    "ExecuteTime": {
     "end_time": "2023-02-08T05:47:32.440581Z",
     "start_time": "2023-02-08T05:47:32.440548Z"
    }
   },
   "outputs": [
    {
     "data": {
      "text/plain": [
       "torch.Size([32, 6])"
      ]
     },
     "execution_count": 23,
     "metadata": {},
     "output_type": "execute_result"
    }
   ],
   "source": [
    "cat_tensors = torch.cat([emb[:, 0, :], emb[:, 1, :], emb[:, 2, :]], 1)\n",
    "cat_tensors.shape"
   ]
  },
  {
   "cell_type": "code",
   "execution_count": 24,
   "metadata": {
    "ExecuteTime": {
     "end_time": "2023-02-08T05:47:32.444904Z",
     "start_time": "2023-02-08T05:47:32.444856Z"
    }
   },
   "outputs": [
    {
     "data": {
      "text/plain": [
       "3"
      ]
     },
     "execution_count": 24,
     "metadata": {},
     "output_type": "execute_result"
    }
   ],
   "source": [
    "# To generalize this in case of diffrent block size\n",
    "# We'll use unbind with cat\n",
    "unbind_tensors = torch.unbind(emb, 1)\n",
    "# Gives a list which is exactly the same\n",
    "# as cat_tensors abov\n",
    "len(unbind_tensors)"
   ]
  },
  {
   "cell_type": "code",
   "execution_count": 25,
   "metadata": {
    "ExecuteTime": {
     "end_time": "2023-02-08T05:47:32.448000Z",
     "start_time": "2023-02-08T05:47:32.447968Z"
    }
   },
   "outputs": [
    {
     "data": {
      "text/plain": [
       "torch.Size([32, 6])"
      ]
     },
     "execution_count": 25,
     "metadata": {},
     "output_type": "execute_result"
    }
   ],
   "source": [
    "cat_unbind_tensors = torch.cat(unbind_tensors, 1)\n",
    "cat_unbind_tensors.shape"
   ]
  },
  {
   "cell_type": "markdown",
   "metadata": {},
   "source": [
    "Now irrespective of block size the above code will run.\n",
    "\n",
    "But there's an efficient way to do this."
   ]
  },
  {
   "cell_type": "code",
   "execution_count": 26,
   "metadata": {
    "ExecuteTime": {
     "end_time": "2023-02-08T05:47:32.499894Z",
     "start_time": "2023-02-08T05:47:32.499844Z"
    }
   },
   "outputs": [
    {
     "data": {
      "text/plain": [
       "tensor([ 0,  1,  2,  3,  4,  5,  6,  7,  8,  9, 10, 11, 12, 13, 14, 15, 16, 17])"
      ]
     },
     "execution_count": 26,
     "metadata": {},
     "output_type": "execute_result"
    }
   ],
   "source": [
    "a = torch.arange(18)\n",
    "a"
   ]
  },
  {
   "cell_type": "code",
   "execution_count": 27,
   "metadata": {
    "ExecuteTime": {
     "end_time": "2023-02-08T05:47:32.504939Z",
     "start_time": "2023-02-08T05:47:32.504899Z"
    }
   },
   "outputs": [
    {
     "data": {
      "text/plain": [
       "torch.Size([18])"
      ]
     },
     "execution_count": 27,
     "metadata": {},
     "output_type": "execute_result"
    }
   ],
   "source": [
    "a.shape"
   ]
  },
  {
   "cell_type": "code",
   "execution_count": 28,
   "metadata": {
    "ExecuteTime": {
     "end_time": "2023-02-08T05:47:32.510427Z",
     "start_time": "2023-02-08T05:47:32.510355Z"
    }
   },
   "outputs": [
    {
     "data": {
      "text/plain": [
       "tensor([[[ 0,  1],\n",
       "         [ 2,  3],\n",
       "         [ 4,  5]],\n",
       "\n",
       "        [[ 6,  7],\n",
       "         [ 8,  9],\n",
       "         [10, 11]],\n",
       "\n",
       "        [[12, 13],\n",
       "         [14, 15],\n",
       "         [16, 17]]])"
      ]
     },
     "execution_count": 28,
     "metadata": {},
     "output_type": "execute_result"
    }
   ],
   "source": [
    "a.view(3, 3, 2)"
   ]
  },
  {
   "cell_type": "code",
   "execution_count": 29,
   "metadata": {
    "ExecuteTime": {
     "end_time": "2023-02-08T05:47:32.518799Z",
     "start_time": "2023-02-08T05:47:32.518763Z"
    }
   },
   "outputs": [
    {
     "data": {
      "text/plain": [
       " 0\n",
       " 1\n",
       " 2\n",
       " 3\n",
       " 4\n",
       " 5\n",
       " 6\n",
       " 7\n",
       " 8\n",
       " 9\n",
       " 10\n",
       " 11\n",
       " 12\n",
       " 13\n",
       " 14\n",
       " 15\n",
       " 16\n",
       " 17\n",
       "[torch.storage._TypedStorage(dtype=torch.int64, device=cpu) of size 18]"
      ]
     },
     "execution_count": 29,
     "metadata": {},
     "output_type": "execute_result"
    }
   ],
   "source": [
    "a.storage()"
   ]
  },
  {
   "cell_type": "markdown",
   "metadata": {},
   "source": [
    "Every tensor has view and storage,\n",
    "* Using tensor.view(shape) we can manipulate the shape of an tensor\n",
    "* But tensor.storage() in memory will still remain a single dimension vector\n",
    "* And using view just changes some attributes like offest etc and tensor in memory remains same to the multiples"
   ]
  },
  {
   "cell_type": "code",
   "execution_count": 30,
   "metadata": {
    "ExecuteTime": {
     "end_time": "2023-02-08T05:47:32.522136Z",
     "start_time": "2023-02-08T05:47:32.522104Z"
    }
   },
   "outputs": [
    {
     "data": {
      "text/plain": [
       "tensor([[ 1.0654, -0.4189,  1.0654, -0.4189,  1.0654, -0.4189],\n",
       "        [ 1.0654, -0.4189,  1.0654, -0.4189, -0.8276,  0.2831],\n",
       "        [ 1.0654, -0.4189, -0.8276,  0.2831,  0.4999,  0.7069],\n",
       "        [-0.8276,  0.2831,  0.4999,  0.7069,  0.4999,  0.7069],\n",
       "        [ 0.4999,  0.7069,  0.4999,  0.7069, -0.1886,  0.6077],\n",
       "        [ 1.0654, -0.4189,  1.0654, -0.4189,  1.0654, -0.4189],\n",
       "        [ 1.0654, -0.4189,  1.0654, -0.4189, -0.4966, -0.9387],\n",
       "        [ 1.0654, -0.4189, -0.4966, -0.9387,  1.0523,  0.7024],\n",
       "        [-0.4966, -0.9387,  1.0523,  0.7024,  0.6127, -1.3213],\n",
       "        [ 1.0523,  0.7024,  0.6127, -1.3213, -0.1330,  0.0134],\n",
       "        [ 0.6127, -1.3213, -0.1330,  0.0134,  0.6127, -1.3213],\n",
       "        [-0.1330,  0.0134,  0.6127, -1.3213, -0.1886,  0.6077],\n",
       "        [ 1.0654, -0.4189,  1.0654, -0.4189,  1.0654, -0.4189],\n",
       "        [ 1.0654, -0.4189,  1.0654, -0.4189, -0.1886,  0.6077],\n",
       "        [ 1.0654, -0.4189, -0.1886,  0.6077, -0.1330,  0.0134],\n",
       "        [-0.1886,  0.6077, -0.1330,  0.0134, -0.1886,  0.6077],\n",
       "        [ 1.0654, -0.4189,  1.0654, -0.4189,  1.0654, -0.4189],\n",
       "        [ 1.0654, -0.4189,  1.0654, -0.4189,  0.6127, -1.3213],\n",
       "        [ 1.0654, -0.4189,  0.6127, -1.3213, -0.9615, -0.6350],\n",
       "        [ 0.6127, -1.3213, -0.9615, -0.6350, -0.1886,  0.6077],\n",
       "        [-0.9615, -0.6350, -0.1886,  0.6077, -0.6493, -1.2236],\n",
       "        [-0.1886,  0.6077, -0.6493, -1.2236, -0.8276,  0.2831],\n",
       "        [-0.6493, -1.2236, -0.8276,  0.2831,  1.0523,  0.7024],\n",
       "        [-0.8276,  0.2831,  1.0523,  0.7024,  1.0523,  0.7024],\n",
       "        [ 1.0523,  0.7024,  1.0523,  0.7024, -0.1886,  0.6077],\n",
       "        [ 1.0654, -0.4189,  1.0654, -0.4189,  1.0654, -0.4189],\n",
       "        [ 1.0654, -0.4189,  1.0654, -0.4189, -0.9615, -0.6350],\n",
       "        [ 1.0654, -0.4189, -0.9615, -0.6350, -0.4966, -0.9387],\n",
       "        [-0.9615, -0.6350, -0.4966, -0.9387, -0.4950, -0.1859],\n",
       "        [-0.4966, -0.9387, -0.4950, -0.1859, -0.8142,  1.5791],\n",
       "        [-0.4950, -0.1859, -0.8142,  1.5791,  0.6127, -1.3213],\n",
       "        [-0.8142,  1.5791,  0.6127, -1.3213, -0.1886,  0.6077]])"
      ]
     },
     "execution_count": 30,
     "metadata": {},
     "output_type": "execute_result"
    }
   ],
   "source": [
    "# Let's use view() to reshape the tensor from [32, 3, 2] to [32, 6]\n",
    "emb.view(32, 6)"
   ]
  },
  {
   "cell_type": "markdown",
   "metadata": {},
   "source": [
    "The way this happens is dimension 1 get stacked up as a single dimension."
   ]
  },
  {
   "cell_type": "code",
   "execution_count": 31,
   "metadata": {
    "ExecuteTime": {
     "end_time": "2023-02-08T05:47:32.530603Z",
     "start_time": "2023-02-08T05:47:32.530557Z"
    }
   },
   "outputs": [
    {
     "data": {
      "text/plain": [
       "torch.Size([32, 6])"
      ]
     },
     "execution_count": 31,
     "metadata": {},
     "output_type": "execute_result"
    }
   ],
   "source": [
    "emb.view(32, 6).shape"
   ]
  },
  {
   "cell_type": "code",
   "execution_count": 32,
   "metadata": {
    "ExecuteTime": {
     "end_time": "2023-02-08T05:47:32.535899Z",
     "start_time": "2023-02-08T05:47:32.535862Z"
    }
   },
   "outputs": [
    {
     "data": {
      "text/plain": [
       "tensor([[True, True, True, True, True, True],\n",
       "        [True, True, True, True, True, True],\n",
       "        [True, True, True, True, True, True],\n",
       "        [True, True, True, True, True, True],\n",
       "        [True, True, True, True, True, True],\n",
       "        [True, True, True, True, True, True],\n",
       "        [True, True, True, True, True, True],\n",
       "        [True, True, True, True, True, True],\n",
       "        [True, True, True, True, True, True],\n",
       "        [True, True, True, True, True, True],\n",
       "        [True, True, True, True, True, True],\n",
       "        [True, True, True, True, True, True],\n",
       "        [True, True, True, True, True, True],\n",
       "        [True, True, True, True, True, True],\n",
       "        [True, True, True, True, True, True],\n",
       "        [True, True, True, True, True, True],\n",
       "        [True, True, True, True, True, True],\n",
       "        [True, True, True, True, True, True],\n",
       "        [True, True, True, True, True, True],\n",
       "        [True, True, True, True, True, True],\n",
       "        [True, True, True, True, True, True],\n",
       "        [True, True, True, True, True, True],\n",
       "        [True, True, True, True, True, True],\n",
       "        [True, True, True, True, True, True],\n",
       "        [True, True, True, True, True, True],\n",
       "        [True, True, True, True, True, True],\n",
       "        [True, True, True, True, True, True],\n",
       "        [True, True, True, True, True, True],\n",
       "        [True, True, True, True, True, True],\n",
       "        [True, True, True, True, True, True],\n",
       "        [True, True, True, True, True, True],\n",
       "        [True, True, True, True, True, True]])"
      ]
     },
     "execution_count": 32,
     "metadata": {},
     "output_type": "execute_result"
    }
   ],
   "source": [
    "emb.view(32, 6) == torch.cat(torch.unbind(emb, 1), 1)"
   ]
  },
  {
   "cell_type": "markdown",
   "metadata": {},
   "source": [
    "Element wise comparison proves that view is equal to cat(unbind)"
   ]
  },
  {
   "cell_type": "code",
   "execution_count": 33,
   "metadata": {
    "ExecuteTime": {
     "end_time": "2023-02-08T05:47:32.538876Z",
     "start_time": "2023-02-08T05:47:32.538838Z"
    }
   },
   "outputs": [
    {
     "data": {
      "text/plain": [
       "tensor([[ 0.4853,  0.2888, -0.2918,  ..., -0.8167,  0.9480,  0.9694],\n",
       "        [ 0.9108, -0.0636, -0.7560,  ...,  0.4664, -0.0676, -0.9405],\n",
       "        [ 0.4041, -0.9960,  0.0799,  ..., -0.9908, -0.1369,  0.9820],\n",
       "        ...,\n",
       "        [ 0.9995, -0.9983, -0.3057,  ..., -0.3614, -0.9605, -0.9880],\n",
       "        [-0.4247, -0.9971,  0.9978,  ...,  0.9490, -0.0748,  0.9997],\n",
       "        [ 0.9996,  0.9533, -0.9478,  ..., -0.8885,  0.3754, -0.2169]])"
      ]
     },
     "execution_count": 33,
     "metadata": {},
     "output_type": "execute_result"
    }
   ],
   "source": [
    "h = torch.tanh(emb.view(-1, 6) @ W1 + b1)\n",
    "h"
   ]
  },
  {
   "cell_type": "code",
   "execution_count": 34,
   "metadata": {
    "ExecuteTime": {
     "end_time": "2023-02-08T05:47:32.545348Z",
     "start_time": "2023-02-08T05:47:32.545317Z"
    }
   },
   "outputs": [
    {
     "data": {
      "text/plain": [
       "torch.Size([32, 100])"
      ]
     },
     "execution_count": 34,
     "metadata": {},
     "output_type": "execute_result"
    }
   ],
   "source": [
    "h.shape"
   ]
  },
  {
   "cell_type": "markdown",
   "metadata": {},
   "source": [
    "Make sure broadcasting is done right"
   ]
  },
  {
   "cell_type": "code",
   "execution_count": 35,
   "metadata": {
    "ExecuteTime": {
     "end_time": "2023-02-08T05:47:32.550674Z",
     "start_time": "2023-02-08T05:47:32.550632Z"
    }
   },
   "outputs": [
    {
     "data": {
      "text/plain": [
       "torch.Size([32, 100])"
      ]
     },
     "execution_count": 35,
     "metadata": {},
     "output_type": "execute_result"
    }
   ],
   "source": [
    "(emb.view(32, 6) @ W1).shape"
   ]
  },
  {
   "cell_type": "code",
   "execution_count": 36,
   "metadata": {
    "ExecuteTime": {
     "end_time": "2023-02-08T05:47:32.554705Z",
     "start_time": "2023-02-08T05:47:32.554665Z"
    }
   },
   "outputs": [
    {
     "data": {
      "text/plain": [
       "torch.Size([100])"
      ]
     },
     "execution_count": 36,
     "metadata": {},
     "output_type": "execute_result"
    }
   ],
   "source": [
    "b1.shape"
   ]
  },
  {
   "cell_type": "markdown",
   "metadata": {},
   "source": [
    "32, 100\n",
    "1 , 100\n",
    "\n",
    "* broadcasting 32, 100 to 100\n",
    "* broadcasting aligns from right abd creates a  fake dimension (1)\n",
    "* Then 32 will be copied vertically for every element of 100"
   ]
  },
  {
   "cell_type": "markdown",
   "metadata": {},
   "source": [
    "## Implementing output layer"
   ]
  },
  {
   "cell_type": "code",
   "execution_count": 37,
   "metadata": {},
   "outputs": [],
   "source": [
    "W2 = torch.randn((100, # Inputs layer size\n",
    "                  27 # Output layer 27 characters\n",
    "                 ))\n",
    "b2 = torch.randn(27)"
   ]
  },
  {
   "cell_type": "code",
   "execution_count": 38,
   "metadata": {},
   "outputs": [
    {
     "data": {
      "text/plain": [
       "torch.Size([32, 27])"
      ]
     },
     "execution_count": 38,
     "metadata": {},
     "output_type": "execute_result"
    }
   ],
   "source": [
    "logits = h @ W2 + b2\n",
    "logits.shape"
   ]
  },
  {
   "cell_type": "markdown",
   "metadata": {},
   "source": [
    "## Implmenting negative log likelihood loss"
   ]
  },
  {
   "cell_type": "code",
   "execution_count": 39,
   "metadata": {},
   "outputs": [],
   "source": [
    "# Fake counts -> logits exp\n",
    "counts = logits.exp()"
   ]
  },
  {
   "cell_type": "code",
   "execution_count": 40,
   "metadata": {},
   "outputs": [
    {
     "data": {
      "text/plain": [
       "torch.Size([32, 27])"
      ]
     },
     "execution_count": 40,
     "metadata": {},
     "output_type": "execute_result"
    }
   ],
   "source": [
    "# Normalize fake counts\n",
    "prob = counts / counts.sum(1, keepdims=True)\n",
    "prob.shape"
   ]
  },
  {
   "cell_type": "code",
   "execution_count": 41,
   "metadata": {},
   "outputs": [
    {
     "data": {
      "text/plain": [
       "torch.Size([32])"
      ]
     },
     "execution_count": 41,
     "metadata": {},
     "output_type": "execute_result"
    }
   ],
   "source": [
    "Y.shape"
   ]
  },
  {
   "cell_type": "code",
   "execution_count": 42,
   "metadata": {},
   "outputs": [
    {
     "data": {
      "text/plain": [
       "tensor([1.3058e-08, 1.2767e-04, 8.5712e-07, 1.2972e-04, 5.1670e-07, 7.7393e-05,\n",
       "        4.4319e-05, 2.3391e-02, 4.8847e-05, 8.2222e-02, 1.3864e-03, 4.6708e-07,\n",
       "        1.8181e-07, 5.0070e-06, 6.5440e-02, 2.9453e-03, 1.9222e-03, 2.6597e-04,\n",
       "        7.5348e-03, 1.0611e-08, 1.5309e-09, 4.2748e-09, 5.2080e-08, 1.1132e-05,\n",
       "        7.7567e-08, 1.3574e-04, 1.5560e-02, 2.1154e-12, 8.6029e-03, 4.0230e-10,\n",
       "        2.1846e-06, 3.0058e-04])"
      ]
     },
     "execution_count": 42,
     "metadata": {},
     "output_type": "execute_result"
    }
   ],
   "source": [
    "# Indexing probabalites based on Y\n",
    "# This probabalities in future will be the probabalities by neural network\n",
    "prob[torch.arange(32), Y]"
   ]
  },
  {
   "cell_type": "code",
   "execution_count": 43,
   "metadata": {},
   "outputs": [
    {
     "data": {
      "text/plain": [
       "tensor(11.4675)"
      ]
     },
     "execution_count": 43,
     "metadata": {},
     "output_type": "execute_result"
    }
   ],
   "source": [
    "loss = - prob[torch.arange(32), Y].log().mean()\n",
    "loss"
   ]
  },
  {
   "cell_type": "markdown",
   "metadata": {},
   "source": [
    "## Summary of full network"
   ]
  },
  {
   "cell_type": "code",
   "execution_count": 44,
   "metadata": {},
   "outputs": [],
   "source": [
    "g = torch.Generator().manual_seed(2147483647)\n",
    "C = torch.randn((27, 2), generator=g)\n",
    "W1 = torch.randn((6, 100), generator=g)\n",
    "b1 = torch.randn(100, generator=g)\n",
    "W2 = torch.randn((100, 27), generator=g)\n",
    "b2 = torch.randn(27, generator=g)\n",
    "paramerters = [C, W1, b1, W2, b2]"
   ]
  },
  {
   "cell_type": "code",
   "execution_count": 45,
   "metadata": {},
   "outputs": [
    {
     "data": {
      "text/plain": [
       "3481"
      ]
     },
     "execution_count": 45,
     "metadata": {},
     "output_type": "execute_result"
    }
   ],
   "source": [
    "# Number of parameters in total\n",
    "sum(p.nelement() for p in paramerters)"
   ]
  },
  {
   "cell_type": "code",
   "execution_count": 46,
   "metadata": {},
   "outputs": [
    {
     "data": {
      "text/plain": [
       "tensor(17.7697)"
      ]
     },
     "execution_count": 46,
     "metadata": {},
     "output_type": "execute_result"
    }
   ],
   "source": [
    "emb = C[X]\n",
    "h = torch.tanh(emb.view(-1, 6) @ W1 + b1)\n",
    "logits = h @ W2 + b2\n",
    "counts = logits.exp()\n",
    "prob = counts / counts.sum(1, keepdim=True)\n",
    "loss = - prob[torch.arange(32), Y].log().mean()\n",
    "loss"
   ]
  },
  {
   "cell_type": "markdown",
   "metadata": {},
   "source": [
    "## Cross entropy why?\n",
    "\n",
    "```\n",
    "counts = logits.exp()\n",
    "prob = counts / counts.sum(1, keepdim=True)\n",
    "loss = - prob[torch.arange(32), Y].log().mean()\n",
    "```\n",
    "\n",
    "PyTorch creates a seperate tensor for each of these step\n",
    "\n",
    "1. Uses a fused kernel which combines all the above operations\n",
    "2. In backward pass, expression takes much simpler form mathametically\n",
    "3. Under the hood, this is numerically well behaved\n",
    "4. Forward pass and backward pass are much more efficient"
   ]
  },
  {
   "cell_type": "code",
   "execution_count": 47,
   "metadata": {},
   "outputs": [
    {
     "data": {
      "text/plain": [
       "tensor(17.7697)"
      ]
     },
     "execution_count": 47,
     "metadata": {},
     "output_type": "execute_result"
    }
   ],
   "source": [
    "loss = F.cross_entropy(logits, Y)\n",
    "loss"
   ]
  },
  {
   "cell_type": "code",
   "execution_count": 48,
   "metadata": {},
   "outputs": [
    {
     "data": {
      "text/plain": [
       "tensor([9.0466e-04, 3.3281e-04, 6.6846e-03, 9.9208e-01])"
      ]
     },
     "execution_count": 48,
     "metadata": {},
     "output_type": "execute_result"
    }
   ],
   "source": [
    "# Numerical stability difference\n",
    "logits = torch.tensor([-2, -3, 0, 5])\n",
    "counts = logits.exp()\n",
    "probs = counts / counts.sum()\n",
    "probs"
   ]
  },
  {
   "cell_type": "code",
   "execution_count": 49,
   "metadata": {},
   "outputs": [
    {
     "name": "stdout",
     "output_type": "stream",
     "text": [
      "Counts: tensor([3.7835e-44, 4.9787e-02, 1.0000e+00,        inf])\n"
     ]
    },
    {
     "data": {
      "text/plain": [
       "tensor([0., 0., 0., nan])"
      ]
     },
     "execution_count": 49,
     "metadata": {},
     "output_type": "execute_result"
    }
   ],
   "source": [
    "# Numerical stability difference\n",
    "# With more extreme values, which will occur in backpropgation\n",
    "logits = torch.tensor([-100, -3, 0, 100])\n",
    "counts = logits.exp()\n",
    "print(f\"Counts: {counts}\")\n",
    "probs = counts / counts.sum()\n",
    "probs"
   ]
  },
  {
   "cell_type": "markdown",
   "metadata": {},
   "source": [
    "What's happening above is the floating point ran out of dynamic range for exp(100) returning inf\n",
    "and for negative 100 the probs is near zero.\n",
    "\n",
    "So we cannot pass very larger number to our logits --> loss expression"
   ]
  },
  {
   "cell_type": "code",
   "execution_count": 50,
   "metadata": {},
   "outputs": [
    {
     "name": "stdout",
     "output_type": "stream",
     "text": [
      "Counts: tensor([0.0000e+00, 1.4013e-45, 3.7835e-44, 1.0000e+00])\n"
     ]
    },
    {
     "data": {
      "text/plain": [
       "tensor([0.0000e+00, 1.4013e-45, 3.7835e-44, 1.0000e+00])"
      ]
     },
     "execution_count": 50,
     "metadata": {},
     "output_type": "execute_result"
    }
   ],
   "source": [
    "# How PyTorch handles this is\n",
    "# By finding maximum of the logits and offsets it from the logits to avoid it\n",
    "logits = torch.tensor([-100, -3, 0, 100]) - 100\n",
    "counts = logits.exp()\n",
    "print(f\"Counts: {counts}\")\n",
    "probs = counts / counts.sum()\n",
    "probs"
   ]
  },
  {
   "cell_type": "markdown",
   "metadata": {},
   "source": [
    "## Implementing training loop, overfitting one batch"
   ]
  },
  {
   "cell_type": "code",
   "execution_count": 51,
   "metadata": {},
   "outputs": [
    {
     "name": "stdout",
     "output_type": "stream",
     "text": [
      "0.2561391294002533\n"
     ]
    }
   ],
   "source": [
    "# Set requires grad\n",
    "for p in paramerters:\n",
    "    p.requires_grad = True\n",
    "for _ in range(1000):\n",
    "    # Forward pass\n",
    "    emb = C[X] # [32, 3, 2]\n",
    "    h = torch.tanh(emb.view(-1, 6) @ W1 + b1) # (32, 100)\n",
    "    logits = h @ W2 + b2 # (100, 27)\n",
    "    loss = F.cross_entropy(logits, Y)\n",
    "    # Backward pass\n",
    "    for p in paramerters:\n",
    "        p.grad = None\n",
    "    loss.backward()\n",
    "    \n",
    "    # Update parametrs\n",
    "    for p in paramerters:\n",
    "        p.data += -0.1 * p.grad\n",
    "print(loss.item())"
   ]
  },
  {
   "cell_type": "markdown",
   "metadata": {},
   "source": [
    "We've achieved a very good loss. Why?\n",
    "Because we're fitting the model for only 5 words i.e 32 inputs and with 3481 parameters.\n",
    "Lots of paramters for very less data.\n",
    "What we're doing it overfitting the model for one batch of data.\n",
    "\n",
    "> Note: Based on this overfitting can be defined as tuning many parameters for few samples or a batch of data."
   ]
  },
  {
   "cell_type": "markdown",
   "metadata": {},
   "source": [
    "Why loss of 0 is not achieved?"
   ]
  },
  {
   "cell_type": "code",
   "execution_count": 52,
   "metadata": {},
   "outputs": [
    {
     "data": {
      "text/plain": [
       "torch.return_types.max(\n",
       "values=tensor([13.3348, 17.7904, 20.6014, 20.6121, 16.7355, 13.3348, 15.9983, 14.1722,\n",
       "        15.9145, 18.3614, 15.9395, 20.9265, 13.3348, 17.1090, 17.1319, 20.0602,\n",
       "        13.3348, 16.5893, 15.1017, 17.0581, 18.5860, 15.9670, 10.8740, 10.6871,\n",
       "        15.5056, 13.3348, 16.1795, 16.9743, 12.7426, 16.2009, 19.0845, 16.0196],\n",
       "       grad_fn=<MaxBackward0>),\n",
       "indices=tensor([19, 13, 13,  1,  0, 19, 12,  9, 22,  9,  1,  0, 19, 22,  1,  0, 19, 19,\n",
       "         1,  2,  5, 12, 12,  1,  0, 19, 15, 16,  8,  9,  1,  0]))"
      ]
     },
     "execution_count": 52,
     "metadata": {},
     "output_type": "execute_result"
    }
   ],
   "source": [
    "logits.max(1)"
   ]
  },
  {
   "cell_type": "code",
   "execution_count": 53,
   "metadata": {},
   "outputs": [
    {
     "data": {
      "text/plain": [
       "tensor([ 5, 13, 13,  1,  0, 15, 12,  9, 22,  9,  1,  0,  1, 22,  1,  0,  9, 19,\n",
       "         1,  2,  5, 12, 12,  1,  0, 19, 15, 16,  8,  9,  1,  0])"
      ]
     },
     "execution_count": 53,
     "metadata": {},
     "output_type": "execute_result"
    }
   ],
   "source": [
    "Y"
   ]
  },
  {
   "cell_type": "markdown",
   "metadata": {},
   "source": [
    "We can see the indices of logits and output are same for most of the cases, these are inputs overfitted to outputs. But the missing ones are \n",
    "\n",
    "* ... --> e (emma)\n",
    "* ... --> o (olivia)\n",
    "* ... --> a (ava)\n",
    "* ... --> s (sophia)\n",
    "\n",
    "for different outptus for the same input.\n",
    "\n",
    "To overcome this, let's train on the full dataset."
   ]
  },
  {
   "cell_type": "markdown",
   "metadata": {},
   "source": [
    "## Training on full dataset, minibatches"
   ]
  },
  {
   "cell_type": "code",
   "execution_count": 71,
   "metadata": {},
   "outputs": [],
   "source": [
    "X, Y = build_dataset(block_size=3, number_of_words=len(words),logs=False)"
   ]
  },
  {
   "cell_type": "code",
   "execution_count": 72,
   "metadata": {},
   "outputs": [
    {
     "data": {
      "text/plain": [
       "(torch.Size([228146, 3]), torch.int64, torch.Size([228146]), torch.int64)"
      ]
     },
     "execution_count": 72,
     "metadata": {},
     "output_type": "execute_result"
    }
   ],
   "source": [
    "X.shape, X.dtype, Y.shape, Y.dtype"
   ]
  },
  {
   "cell_type": "code",
   "execution_count": 84,
   "metadata": {},
   "outputs": [
    {
     "name": "stdout",
     "output_type": "stream",
     "text": [
      "Total parameters: 3481\n",
      "19.505226135253906\n",
      "17.08448600769043\n",
      "15.01388168334961\n",
      "13.038187026977539\n",
      "11.437609672546387\n",
      "10.590084075927734\n",
      "9.906832695007324\n",
      "9.05928897857666\n",
      "8.551031112670898\n",
      "8.103048324584961\n",
      "Final loss: 8.103048324584961\n"
     ]
    }
   ],
   "source": [
    "# Reinitializing parameters for full batch training\n",
    "g = torch.Generator().manual_seed(2147483647)\n",
    "C = torch.randn((27, 2), generator=g)\n",
    "W1 = torch.randn((6, 100), generator=g)\n",
    "b1 = torch.randn(100, generator=g)\n",
    "W2 = torch.randn((100, 27), generator=g)\n",
    "b2 = torch.randn(27, generator=g)\n",
    "parameters = [C, W1, b1, W2, b2]\n",
    "print(f\"Total parameters: {sum(p.nelement() for p in parameters)}\")\n",
    "\n",
    "# Setting requires_grad for forward and backward pass\n",
    "for p in parameters:\n",
    "    p.requires_grad = True\n",
    "\n",
    "# Full training\n",
    "for _ in range(10):\n",
    "    \n",
    "    # Forward pass\n",
    "    emb = C[X]\n",
    "    h = torch.tanh(emb.view(-1, 6) @ W1 + b1)\n",
    "    logits = h @ W2 + b2\n",
    "    loss = F.cross_entropy(logits, Y)\n",
    "    print(loss.item())\n",
    "\n",
    "    # Set gradients to None\n",
    "    for p in paramerters:\n",
    "        p.grad = None\n",
    "\n",
    "    # Backward pass\n",
    "    loss.backward()\n",
    "\n",
    "    # Update weights\n",
    "    for p in parameters:\n",
    "        p.data += -0.1 * p.grad\n",
    "\n",
    "print(f\"Final loss: {loss.item()}\")"
   ]
  },
  {
   "cell_type": "markdown",
   "metadata": {},
   "source": [
    "Each epoch is taking more time, becuase forwarding and backwarding for 228146 samples compared to 32 samples.\n",
    "We can overcome this by training on minibatches instead of training on entire dataset"
   ]
  },
  {
   "cell_type": "code",
   "execution_count": 56,
   "metadata": {},
   "outputs": [
    {
     "data": {
      "text/plain": [
       "tensor([ 11935, 124211,  72353, 134168,  19590, 179257,  35262, 151701, 207486,\n",
       "        209831, 160545, 200320, 216752, 131008, 162158,  14874, 155237,  69108,\n",
       "        134049, 175288,  36177, 191279, 220363,   8856, 157049, 155053,  47109,\n",
       "         39437, 165389, 176877,  49441, 180473])"
      ]
     },
     "execution_count": 56,
     "metadata": {},
     "output_type": "execute_result"
    }
   ],
   "source": [
    "# Mini batch size of 32\n",
    "# from 0 to number of samples which is X.shape[0]\n",
    "# This willl index 32 random samples in X\n",
    "torch.randint(0, X.shape[0], (32,))"
   ]
  },
  {
   "cell_type": "code",
   "execution_count": 95,
   "metadata": {},
   "outputs": [
    {
     "name": "stdout",
     "output_type": "stream",
     "text": [
      "Total parameters: 3481\n",
      "19.702402114868164\n",
      "16.064176559448242\n",
      "14.076654434204102\n",
      "14.768239974975586\n",
      "12.371623039245605\n",
      "9.560648918151855\n",
      "10.0352783203125\n",
      "11.724791526794434\n",
      "8.231781959533691\n",
      "10.529947280883789\n",
      "9.846911430358887\n",
      "9.746484756469727\n",
      "10.548674583435059\n",
      "8.493870735168457\n",
      "11.265069007873535\n",
      "8.331384658813477\n",
      "13.268254280090332\n",
      "9.70434856414795\n",
      "11.153634071350098\n",
      "9.92152214050293\n",
      "10.438732147216797\n",
      "8.24794864654541\n",
      "7.637126922607422\n",
      "11.956585884094238\n",
      "10.920798301696777\n",
      "15.176382064819336\n",
      "13.008596420288086\n",
      "9.217453956604004\n",
      "8.517247200012207\n",
      "8.055900573730469\n",
      "10.785613059997559\n",
      "12.562047958374023\n",
      "14.770636558532715\n",
      "9.51086711883545\n",
      "9.841085433959961\n",
      "11.990396499633789\n",
      "11.04257869720459\n",
      "12.187171936035156\n",
      "9.408275604248047\n",
      "11.243504524230957\n",
      "8.065425872802734\n",
      "9.206563949584961\n",
      "10.430734634399414\n",
      "12.36136245727539\n",
      "10.052800178527832\n",
      "8.389205932617188\n",
      "9.108859062194824\n",
      "9.29414176940918\n",
      "10.46970272064209\n",
      "9.092045783996582\n",
      "9.868001937866211\n",
      "7.277458667755127\n",
      "9.16922664642334\n",
      "10.721840858459473\n",
      "8.645291328430176\n",
      "9.26922607421875\n",
      "9.469657897949219\n",
      "8.617011070251465\n",
      "10.779376029968262\n",
      "6.185026168823242\n",
      "7.496553897857666\n",
      "10.378456115722656\n",
      "7.76173734664917\n",
      "7.967223167419434\n",
      "8.624605178833008\n",
      "6.679420471191406\n",
      "10.068009376525879\n",
      "11.345060348510742\n",
      "11.627767562866211\n",
      "11.122184753417969\n",
      "8.022132873535156\n",
      "13.700371742248535\n",
      "9.163331031799316\n",
      "9.116392135620117\n",
      "8.774090766906738\n",
      "11.657366752624512\n",
      "9.19992446899414\n",
      "9.337817192077637\n",
      "7.812110424041748\n",
      "13.1530122756958\n",
      "9.239370346069336\n",
      "8.62656307220459\n",
      "12.806925773620605\n",
      "14.232527732849121\n",
      "14.52181625366211\n",
      "12.021632194519043\n",
      "7.837029933929443\n",
      "7.466141700744629\n",
      "9.435796737670898\n",
      "12.442342758178711\n",
      "16.11588478088379\n",
      "12.670682907104492\n",
      "20.90538787841797\n",
      "9.760855674743652\n",
      "12.509658813476562\n",
      "15.567769050598145\n",
      "15.035888671875\n",
      "17.027626037597656\n",
      "17.39141082763672\n",
      "12.330612182617188\n",
      "Final loss: 12.330612182617188\n"
     ]
    }
   ],
   "source": [
    "# Reinitializing parameters for full batch training\n",
    "g = torch.Generator().manual_seed(2147483647)\n",
    "C = torch.randn((27, 2), generator=g)\n",
    "W1 = torch.randn((6, 100), generator=g)\n",
    "b1 = torch.randn(100, generator=g)\n",
    "W2 = torch.randn((100, 27), generator=g)\n",
    "b2 = torch.randn(27, generator=g)\n",
    "parameters = [C, W1, b1, W2, b2]\n",
    "print(f\"Total parameters: {sum(p.nelement() for p in parameters)}\")\n",
    "\n",
    "# Setting requires_grad for forward and backward pass\n",
    "for p in parameters:\n",
    "    p.requires_grad = True\n",
    "\n",
    "# Full training\n",
    "for _ in range(100):\n",
    "\n",
    "    # mini batch indexes\n",
    "    ix = torch.randint(0, X.shape[0], (32,))\n",
    "    \n",
    "    # Forward pass\n",
    "    emb = C[X[ix]]\n",
    "    h = torch.tanh(emb.view(-1, 6) @ W1 + b1)\n",
    "    logits = h @ W2 + b2\n",
    "    loss = F.cross_entropy(logits, Y[ix])\n",
    "    print(loss.item())\n",
    "\n",
    "    # Set gradients to None\n",
    "    for p in paramerters:\n",
    "        p.grad = None\n",
    "\n",
    "    # Backward pass\n",
    "    loss.backward()\n",
    "\n",
    "    # Update weights\n",
    "    for p in parameters:\n",
    "        p.data += -0.1 * p.grad\n",
    "\n",
    "print(f\"Final loss: {loss.item()}\")"
   ]
  },
  {
   "cell_type": "markdown",
   "metadata": {},
   "source": [
    "Adavantages with mini batching:\n",
    "\n",
    "* Faster training cycle\n",
    "* Random indexing leads to differnt data for each mini batch\n",
    "\n",
    "> Since model's trained on mini batches, the quality of gradient is lower and is not reliable. It's not the actual gradient direction. But the gradient direction is good enough even when estimated on a mini batch(32 samples) to be useful.\n",
    "It's much better to have a approximate gradient direction and more steps than an exact or actual gradient with much fewer steps.\n",
    "That's why this works in practice."
   ]
  },
  {
   "cell_type": "code",
   "execution_count": 96,
   "metadata": {},
   "outputs": [
    {
     "data": {
      "text/plain": [
       "tensor(16.3061, grad_fn=<NllLossBackward0>)"
      ]
     },
     "execution_count": 96,
     "metadata": {},
     "output_type": "execute_result"
    }
   ],
   "source": [
    "# Evaluation loss for entire dataset\n",
    "emb = C[X]\n",
    "h = torch.tanh(emb.view(-1, 6) @ W1 + b1)\n",
    "logits = h @ W2 + b2\n",
    "loss = F.cross_entropy(logits, Y)\n",
    "loss"
   ]
  },
  {
   "cell_type": "markdown",
   "metadata": {},
   "source": [
    "## Finding a good learning rate"
   ]
  },
  {
   "attachments": {},
   "cell_type": "markdown",
   "metadata": {},
   "source": [
    "To find a good learnning rate...\n",
    "\n",
    "We need to find a good lower limt and an upper limit where loss is improving."
   ]
  },
  {
   "cell_type": "code",
   "execution_count": 100,
   "metadata": {},
   "outputs": [
    {
     "name": "stdout",
     "output_type": "stream",
     "text": [
      "Total parameters: 3481\n",
      "20.37920379638672\n",
      "15.407710075378418\n",
      "16.412675857543945\n",
      "17.54568099975586\n",
      "18.5762939453125\n",
      "22.405019760131836\n",
      "18.445533752441406\n",
      "20.647733688354492\n",
      "28.81016731262207\n",
      "25.190343856811523\n",
      "29.80751609802246\n",
      "26.821218490600586\n",
      "29.669536590576172\n",
      "37.06035614013672\n",
      "35.266849517822266\n",
      "40.93330001831055\n",
      "32.43244934082031\n",
      "34.60240173339844\n",
      "40.897247314453125\n",
      "36.45936965942383\n",
      "44.24363327026367\n",
      "66.030029296875\n",
      "55.85255813598633\n",
      "46.87792205810547\n",
      "50.18940353393555\n",
      "53.130191802978516\n",
      "53.6685791015625\n",
      "53.440494537353516\n",
      "72.30339050292969\n",
      "48.312564849853516\n",
      "51.28059005737305\n",
      "62.9600830078125\n",
      "65.65316772460938\n",
      "64.85567474365234\n",
      "104.67060852050781\n",
      "72.69252014160156\n",
      "57.01382827758789\n",
      "72.72966766357422\n",
      "73.5486068725586\n",
      "79.130615234375\n",
      "73.91726684570312\n",
      "71.82252502441406\n",
      "55.20343017578125\n",
      "81.92620849609375\n",
      "99.6612548828125\n",
      "80.14088439941406\n",
      "100.89100646972656\n",
      "109.7134780883789\n",
      "111.91908264160156\n",
      "150.85977172851562\n",
      "110.28511047363281\n",
      "101.30892944335938\n",
      "132.65773010253906\n",
      "117.78099822998047\n",
      "140.22377014160156\n",
      "124.61674499511719\n",
      "137.62283325195312\n",
      "133.80929565429688\n",
      "110.05054473876953\n",
      "147.5557861328125\n",
      "106.35201263427734\n",
      "132.02410888671875\n",
      "135.0079345703125\n",
      "129.6615753173828\n",
      "153.99136352539062\n",
      "175.47613525390625\n",
      "123.5595474243164\n",
      "117.9556655883789\n",
      "124.50348663330078\n",
      "151.954345703125\n",
      "161.3374481201172\n",
      "150.83029174804688\n",
      "170.9187774658203\n",
      "170.23631286621094\n",
      "180.96275329589844\n",
      "175.54428100585938\n",
      "180.71804809570312\n",
      "208.80101013183594\n",
      "176.5261993408203\n",
      "211.3900146484375\n",
      "171.9788818359375\n",
      "167.6028289794922\n",
      "245.276611328125\n",
      "191.60186767578125\n",
      "233.2962188720703\n",
      "213.4855194091797\n",
      "213.18031311035156\n",
      "235.92955017089844\n",
      "173.8316650390625\n",
      "179.3195343017578\n",
      "143.92782592773438\n",
      "196.8228302001953\n",
      "167.15057373046875\n",
      "256.45458984375\n",
      "200.33445739746094\n",
      "243.5708465576172\n",
      "182.8363800048828\n",
      "263.2546691894531\n",
      "191.7423095703125\n",
      "206.25723266601562\n",
      "Final loss: 206.25723266601562\n"
     ]
    }
   ],
   "source": [
    "# Reinitializing parameters for full batch training\n",
    "g = torch.Generator().manual_seed(2147483647)\n",
    "C = torch.randn((27, 2), generator=g)\n",
    "W1 = torch.randn((6, 100), generator=g)\n",
    "b1 = torch.randn(100, generator=g)\n",
    "W2 = torch.randn((100, 27), generator=g)\n",
    "b2 = torch.randn(27, generator=g)\n",
    "parameters = [C, W1, b1, W2, b2]\n",
    "print(f\"Total parameters: {sum(p.nelement() for p in parameters)}\")\n",
    "\n",
    "# Setting requires_grad for forward and backward pass\n",
    "for p in parameters:\n",
    "    p.requires_grad = True\n",
    "\n",
    "# Full training\n",
    "for _ in range(100):\n",
    "\n",
    "    # mini batch indexes\n",
    "    ix = torch.randint(0, X.shape[0], (32,))\n",
    "    \n",
    "    # Forward pass\n",
    "    emb = C[X[ix]]\n",
    "    h = torch.tanh(emb.view(-1, 6) @ W1 + b1)\n",
    "    logits = h @ W2 + b2\n",
    "    loss = F.cross_entropy(logits, Y[ix])\n",
    "    print(loss.item())\n",
    "\n",
    "    # Set gradients to None\n",
    "    for p in paramerters:\n",
    "        p.grad = None\n",
    "\n",
    "    # Backward pass\n",
    "    loss.backward()\n",
    "\n",
    "    # Update weights\n",
    "    for p in parameters:\n",
    "        p.data += -1 * p.grad\n",
    "\n",
    "print(f\"Final loss: {loss.item()}\")"
   ]
  },
  {
   "attachments": {},
   "cell_type": "markdown",
   "metadata": {},
   "source": [
    "After trying out different learning rates from -0.0001 and -10.. Good lower limit and upper limit are -0.01 and -1 respectivley.\n",
    "With these learning rates the convergence is not really slow or exploding."
   ]
  },
  {
   "cell_type": "code",
   "execution_count": 118,
   "metadata": {},
   "outputs": [],
   "source": [
    "lre = torch.linspace(\n",
    "    -3, # 10**2-3 = 0.01\n",
    "    0, # 10**0 = 1\n",
    "    1000 # 1000 learning rates from upper limit and lower limit exponentially stepped\n",
    ")\n",
    "lrs = 10**lre"
   ]
  },
  {
   "cell_type": "code",
   "execution_count": 124,
   "metadata": {},
   "outputs": [
    {
     "name": "stdout",
     "output_type": "stream",
     "text": [
      "Total parametrs: 3481\n",
      "18.40856170654297\n",
      "17.719409942626953\n",
      "18.340105056762695\n",
      "17.293140411376953\n",
      "17.35254669189453\n",
      "15.357095718383789\n",
      "17.14730453491211\n",
      "16.20711898803711\n",
      "18.068002700805664\n",
      "18.942245483398438\n",
      "19.66343116760254\n",
      "18.771602630615234\n",
      "17.0129337310791\n",
      "18.918018341064453\n",
      "18.866239547729492\n",
      "19.30284309387207\n",
      "18.15118408203125\n",
      "17.497875213623047\n",
      "19.82731056213379\n",
      "14.825553894042969\n",
      "18.89386558532715\n",
      "16.869924545288086\n",
      "17.26644515991211\n",
      "19.305879592895508\n",
      "15.9006929397583\n",
      "17.038116455078125\n",
      "17.259765625\n",
      "14.113883018493652\n",
      "18.43065643310547\n",
      "17.829343795776367\n",
      "13.794561386108398\n",
      "18.443574905395508\n",
      "16.30689811706543\n",
      "17.15144920349121\n",
      "19.55670928955078\n",
      "16.40468978881836\n",
      "14.635644912719727\n",
      "19.18668556213379\n",
      "16.15546989440918\n",
      "15.72612476348877\n",
      "17.107269287109375\n",
      "14.026529312133789\n",
      "19.77104949951172\n",
      "16.71856689453125\n",
      "16.514358520507812\n",
      "13.421768188476562\n",
      "16.951494216918945\n",
      "16.240299224853516\n",
      "18.620641708374023\n",
      "16.506704330444336\n",
      "18.084793090820312\n",
      "17.371612548828125\n",
      "15.185467720031738\n",
      "13.040621757507324\n",
      "15.475895881652832\n",
      "15.277630805969238\n",
      "17.18817710876465\n",
      "14.203689575195312\n",
      "14.51739501953125\n",
      "16.529321670532227\n",
      "15.705306053161621\n",
      "17.077800750732422\n",
      "15.641571998596191\n",
      "16.51267433166504\n",
      "19.328643798828125\n",
      "17.49331283569336\n",
      "20.029712677001953\n",
      "14.438898086547852\n",
      "15.762077331542969\n",
      "18.13980484008789\n",
      "14.848148345947266\n",
      "19.40007781982422\n",
      "15.315601348876953\n",
      "14.561521530151367\n",
      "17.69639778137207\n",
      "16.860546112060547\n",
      "16.512067794799805\n",
      "17.659000396728516\n",
      "13.506077766418457\n",
      "16.304250717163086\n",
      "13.525729179382324\n",
      "17.444467544555664\n",
      "16.846817016601562\n",
      "16.15239715576172\n",
      "16.865020751953125\n",
      "16.00120735168457\n",
      "15.276840209960938\n",
      "15.401061058044434\n",
      "14.379570007324219\n",
      "18.187198638916016\n",
      "15.64793872833252\n",
      "13.537896156311035\n",
      "14.015091896057129\n",
      "15.845391273498535\n",
      "15.934653282165527\n",
      "14.444786071777344\n",
      "15.207313537597656\n",
      "15.364156723022461\n",
      "15.204218864440918\n",
      "15.692951202392578\n",
      "14.603323936462402\n",
      "17.462495803833008\n",
      "15.98267936706543\n",
      "14.885257720947266\n",
      "14.285956382751465\n",
      "18.49252700805664\n",
      "16.52735710144043\n",
      "13.94791030883789\n",
      "16.784881591796875\n",
      "14.29461669921875\n",
      "13.468986511230469\n",
      "17.010793685913086\n",
      "15.892274856567383\n",
      "15.02125358581543\n",
      "15.452902793884277\n",
      "13.465361595153809\n",
      "17.802745819091797\n",
      "14.887721061706543\n",
      "15.136423110961914\n",
      "17.35032844543457\n",
      "14.99093246459961\n",
      "16.26801300048828\n",
      "16.2004451751709\n",
      "14.440089225769043\n",
      "14.81385612487793\n",
      "15.850691795349121\n",
      "12.137360572814941\n",
      "14.367033004760742\n",
      "14.79954719543457\n",
      "16.417266845703125\n",
      "16.588857650756836\n",
      "16.08413314819336\n",
      "12.187387466430664\n",
      "14.919342041015625\n",
      "14.640918731689453\n",
      "14.169142723083496\n",
      "15.167892456054688\n",
      "14.990151405334473\n",
      "14.15903091430664\n",
      "14.0613374710083\n",
      "16.4175968170166\n",
      "16.239463806152344\n",
      "15.050797462463379\n",
      "13.644845008850098\n",
      "14.794093132019043\n",
      "16.06292152404785\n",
      "13.99741268157959\n",
      "16.737728118896484\n",
      "16.672683715820312\n",
      "15.83018970489502\n",
      "12.98117446899414\n",
      "14.287178993225098\n",
      "12.808745384216309\n",
      "15.762665748596191\n",
      "15.69675064086914\n",
      "14.843871116638184\n",
      "13.763543128967285\n",
      "12.845831871032715\n",
      "14.583086967468262\n",
      "14.918920516967773\n",
      "13.135716438293457\n",
      "12.856471061706543\n",
      "15.22501277923584\n",
      "16.492097854614258\n",
      "16.456491470336914\n",
      "16.307708740234375\n",
      "15.053966522216797\n",
      "15.740930557250977\n",
      "16.306970596313477\n",
      "13.982016563415527\n",
      "14.732074737548828\n",
      "17.297487258911133\n",
      "14.134751319885254\n",
      "10.024338722229004\n",
      "13.01278305053711\n",
      "16.397693634033203\n",
      "14.770896911621094\n",
      "14.789785385131836\n",
      "13.154217720031738\n",
      "11.140446662902832\n",
      "16.323808670043945\n",
      "18.62364959716797\n",
      "14.900196075439453\n",
      "14.9029541015625\n",
      "13.320035934448242\n",
      "15.995529174804688\n",
      "12.648664474487305\n",
      "14.308650016784668\n",
      "15.992435455322266\n",
      "14.587789535522461\n",
      "16.77167320251465\n",
      "13.445528030395508\n",
      "14.618427276611328\n",
      "12.539555549621582\n",
      "13.150721549987793\n",
      "16.36263084411621\n",
      "11.44878101348877\n",
      "12.493728637695312\n",
      "13.184026718139648\n",
      "10.933272361755371\n",
      "14.363658905029297\n",
      "14.045995712280273\n",
      "12.349481582641602\n",
      "10.799763679504395\n",
      "15.279589653015137\n",
      "11.174098014831543\n",
      "17.296581268310547\n",
      "13.909006118774414\n",
      "13.403569221496582\n",
      "10.751524925231934\n",
      "13.351290702819824\n",
      "13.225395202636719\n",
      "12.943554878234863\n",
      "14.336538314819336\n",
      "11.569571495056152\n",
      "14.43799114227295\n",
      "15.568169593811035\n",
      "14.454416275024414\n",
      "12.772139549255371\n",
      "14.235771179199219\n",
      "12.840085983276367\n",
      "14.807738304138184\n",
      "14.989779472351074\n",
      "14.089458465576172\n",
      "12.900117874145508\n",
      "14.903120994567871\n",
      "13.080528259277344\n",
      "13.898828506469727\n",
      "11.936121940612793\n",
      "13.307964324951172\n",
      "13.088813781738281\n",
      "14.1068696975708\n",
      "14.343193054199219\n",
      "13.54862117767334\n",
      "13.338561058044434\n",
      "12.961875915527344\n",
      "15.455774307250977\n",
      "12.932028770446777\n",
      "11.387681007385254\n",
      "11.288647651672363\n",
      "13.077885627746582\n",
      "13.799422264099121\n",
      "14.007343292236328\n",
      "10.145062446594238\n",
      "13.261534690856934\n",
      "13.585504531860352\n",
      "13.38049602508545\n",
      "12.11259937286377\n",
      "12.337858200073242\n",
      "12.215519905090332\n",
      "11.842535018920898\n",
      "11.667643547058105\n",
      "13.615538597106934\n",
      "14.870823860168457\n",
      "10.626153945922852\n",
      "12.449109077453613\n",
      "12.287506103515625\n",
      "12.444025039672852\n",
      "11.217907905578613\n",
      "11.704901695251465\n",
      "12.135913848876953\n",
      "12.807548522949219\n",
      "9.140632629394531\n",
      "14.243926048278809\n",
      "12.460529327392578\n",
      "13.343295097351074\n",
      "13.282486915588379\n",
      "10.747922897338867\n",
      "12.578084945678711\n",
      "12.19099235534668\n",
      "12.55887222290039\n",
      "7.657298564910889\n",
      "11.44111442565918\n",
      "12.694293975830078\n",
      "11.78170108795166\n",
      "11.57570743560791\n",
      "12.672210693359375\n",
      "10.04702091217041\n",
      "11.045687675476074\n",
      "9.083961486816406\n",
      "12.263649940490723\n",
      "10.935042381286621\n",
      "10.222566604614258\n",
      "10.922508239746094\n",
      "13.1536226272583\n",
      "10.75554370880127\n",
      "11.312844276428223\n",
      "12.632792472839355\n",
      "10.89857006072998\n",
      "9.688342094421387\n",
      "11.78468132019043\n",
      "9.401041030883789\n",
      "9.104962348937988\n",
      "12.106501579284668\n",
      "10.747014999389648\n",
      "10.65234088897705\n",
      "10.806781768798828\n",
      "9.296135902404785\n",
      "10.448583602905273\n",
      "9.8267822265625\n",
      "11.854891777038574\n",
      "11.544097900390625\n",
      "10.830656051635742\n",
      "10.718188285827637\n",
      "11.946939468383789\n",
      "10.751418113708496\n",
      "12.485061645507812\n",
      "10.815839767456055\n",
      "10.638511657714844\n",
      "11.023995399475098\n",
      "12.45511531829834\n",
      "10.327531814575195\n",
      "14.094819068908691\n",
      "9.857378005981445\n",
      "10.796282768249512\n",
      "8.948864936828613\n",
      "10.675904273986816\n",
      "10.757243156433105\n",
      "9.724085807800293\n",
      "8.513525009155273\n",
      "9.626110076904297\n",
      "10.313959121704102\n",
      "9.816570281982422\n",
      "9.147692680358887\n",
      "11.01689338684082\n",
      "9.785416603088379\n",
      "8.516109466552734\n",
      "7.539109706878662\n",
      "8.717226028442383\n",
      "11.223974227905273\n",
      "9.714492797851562\n",
      "11.02951717376709\n",
      "10.03664779663086\n",
      "10.030768394470215\n",
      "7.5223002433776855\n",
      "9.46426010131836\n",
      "10.94852066040039\n",
      "11.172480583190918\n",
      "11.097553253173828\n",
      "9.410770416259766\n",
      "9.41028118133545\n",
      "9.249074935913086\n",
      "8.975244522094727\n",
      "10.312887191772461\n",
      "10.856061935424805\n",
      "9.232939720153809\n",
      "10.585594177246094\n",
      "7.14732027053833\n",
      "11.508423805236816\n",
      "8.106534004211426\n",
      "9.348033905029297\n",
      "11.362343788146973\n",
      "6.84049129486084\n",
      "10.817841529846191\n",
      "9.269675254821777\n",
      "9.94784164428711\n",
      "9.882887840270996\n",
      "10.685049057006836\n",
      "7.2797651290893555\n",
      "9.70179271697998\n",
      "11.488687515258789\n",
      "8.231929779052734\n",
      "9.795042991638184\n",
      "7.492391109466553\n",
      "7.7062788009643555\n",
      "9.317342758178711\n",
      "9.595948219299316\n",
      "7.916853427886963\n",
      "10.217494010925293\n",
      "8.679940223693848\n",
      "8.341797828674316\n",
      "7.152782917022705\n",
      "8.815406799316406\n",
      "8.99419116973877\n",
      "7.522397518157959\n",
      "7.062939643859863\n",
      "7.9471869468688965\n",
      "7.338494300842285\n",
      "6.6394734382629395\n",
      "8.023626327514648\n",
      "6.614532947540283\n",
      "10.711403846740723\n",
      "9.113948822021484\n",
      "6.643902778625488\n",
      "8.312013626098633\n",
      "5.84282922744751\n",
      "7.739659786224365\n",
      "7.642482757568359\n",
      "6.543283462524414\n",
      "7.623591423034668\n",
      "6.824116230010986\n",
      "6.682894706726074\n",
      "6.913642883300781\n",
      "6.507900238037109\n",
      "8.490614891052246\n",
      "7.085048675537109\n",
      "5.784600257873535\n",
      "6.436953067779541\n",
      "6.892958164215088\n",
      "7.727288722991943\n",
      "6.116581439971924\n",
      "5.510592460632324\n",
      "7.316522121429443\n",
      "7.132019996643066\n",
      "7.098186492919922\n",
      "5.983424663543701\n",
      "6.462995529174805\n",
      "7.745397567749023\n",
      "7.031184196472168\n",
      "6.113436698913574\n",
      "6.237428665161133\n",
      "7.329853534698486\n",
      "7.238510608673096\n",
      "6.088775634765625\n",
      "10.143604278564453\n",
      "5.885068893432617\n",
      "7.908700466156006\n",
      "5.570178985595703\n",
      "6.84552001953125\n",
      "5.340991020202637\n",
      "7.273758411407471\n",
      "7.640613079071045\n",
      "5.658376216888428\n",
      "6.117895126342773\n",
      "5.242367744445801\n",
      "5.320322513580322\n",
      "5.707038402557373\n",
      "6.581857681274414\n",
      "6.650576114654541\n",
      "6.025746822357178\n",
      "5.175989151000977\n",
      "5.904669284820557\n",
      "5.653076171875\n",
      "7.041077136993408\n",
      "6.972332000732422\n",
      "7.487135410308838\n",
      "5.997528553009033\n",
      "7.1285176277160645\n",
      "6.659600734710693\n",
      "7.652913570404053\n",
      "5.672374725341797\n",
      "6.230837345123291\n",
      "5.988131999969482\n",
      "5.56312894821167\n",
      "6.913629531860352\n",
      "5.54844856262207\n",
      "7.057718276977539\n",
      "5.840906143188477\n",
      "6.671653747558594\n",
      "5.458735942840576\n",
      "7.564720153808594\n",
      "7.232619285583496\n",
      "6.1416802406311035\n",
      "5.07193660736084\n",
      "3.8308892250061035\n",
      "4.7371673583984375\n",
      "4.838964939117432\n",
      "5.750948905944824\n",
      "4.7327423095703125\n",
      "5.501468181610107\n",
      "6.795473098754883\n",
      "3.8115060329437256\n",
      "6.8184123039245605\n",
      "5.712019920349121\n",
      "6.276068687438965\n",
      "5.069484710693359\n",
      "5.2428717613220215\n",
      "4.08136510848999\n",
      "6.028714656829834\n",
      "4.588868618011475\n",
      "6.212089538574219\n",
      "5.041914463043213\n",
      "6.159596920013428\n",
      "4.6420087814331055\n",
      "6.245718002319336\n",
      "4.780372142791748\n",
      "5.2802653312683105\n",
      "4.710434436798096\n",
      "5.486145973205566\n",
      "3.9937655925750732\n",
      "5.9279327392578125\n",
      "5.239286422729492\n",
      "3.8652994632720947\n",
      "3.4117989540100098\n",
      "5.00499153137207\n",
      "4.158966541290283\n",
      "5.508181095123291\n",
      "6.513759613037109\n",
      "4.405284881591797\n",
      "5.14586877822876\n",
      "3.7409050464630127\n",
      "3.9124462604522705\n",
      "4.7141900062561035\n",
      "4.780683517456055\n",
      "5.294166088104248\n",
      "4.4462103843688965\n",
      "3.8820509910583496\n",
      "5.264283180236816\n",
      "4.233163833618164\n",
      "4.916440010070801\n",
      "5.0952606201171875\n",
      "4.595503807067871\n",
      "4.365120887756348\n",
      "4.691381931304932\n",
      "5.0077009201049805\n",
      "3.9373669624328613\n",
      "4.561709403991699\n",
      "4.280008792877197\n",
      "5.199629306793213\n",
      "4.139196395874023\n",
      "5.259610176086426\n",
      "4.393763065338135\n",
      "4.483091831207275\n",
      "4.912574768066406\n",
      "4.402356147766113\n",
      "5.489288330078125\n",
      "5.292395114898682\n",
      "4.797728061676025\n",
      "4.962027549743652\n",
      "3.5516209602355957\n",
      "4.854546070098877\n",
      "4.941614151000977\n",
      "4.665370941162109\n",
      "4.338842391967773\n",
      "4.18110466003418\n",
      "3.322399377822876\n",
      "4.69537353515625\n",
      "4.121555805206299\n",
      "4.973320484161377\n",
      "3.404341459274292\n",
      "5.194975852966309\n",
      "4.823459625244141\n",
      "3.147590398788452\n",
      "4.8230180740356445\n",
      "4.636656761169434\n",
      "3.539262533187866\n",
      "3.124363422393799\n",
      "3.6558961868286133\n",
      "4.298759937286377\n",
      "4.106279373168945\n",
      "4.430235385894775\n",
      "4.745416164398193\n",
      "3.932953357696533\n",
      "4.816493034362793\n",
      "3.274017810821533\n",
      "4.145781993865967\n",
      "3.1956210136413574\n",
      "5.129812717437744\n",
      "4.1670355796813965\n",
      "4.1447930335998535\n",
      "4.337336540222168\n",
      "3.4680771827697754\n",
      "3.985111951828003\n",
      "4.165875434875488\n",
      "4.060172080993652\n",
      "4.203032970428467\n",
      "3.8853280544281006\n",
      "3.962561845779419\n",
      "4.575880527496338\n",
      "3.506380319595337\n",
      "3.5180580615997314\n",
      "4.910589694976807\n",
      "3.156216859817505\n",
      "3.9804694652557373\n",
      "3.6472418308258057\n",
      "3.720679521560669\n",
      "3.493952989578247\n",
      "4.091154098510742\n",
      "3.662816286087036\n",
      "3.3935248851776123\n",
      "3.4204139709472656\n",
      "4.054011821746826\n",
      "3.0683226585388184\n",
      "3.851916551589966\n",
      "3.402296304702759\n",
      "4.501344203948975\n",
      "3.872035026550293\n",
      "3.7012526988983154\n",
      "3.9847967624664307\n",
      "4.124131202697754\n",
      "3.791757106781006\n",
      "4.08024263381958\n",
      "3.8128113746643066\n",
      "2.8364508152008057\n",
      "3.70023775100708\n",
      "3.624866008758545\n",
      "3.328779458999634\n",
      "3.415194511413574\n",
      "3.0788567066192627\n",
      "3.2298338413238525\n",
      "2.9698002338409424\n",
      "3.082777261734009\n",
      "3.752819061279297\n",
      "4.752536296844482\n",
      "4.090614318847656\n",
      "3.7028181552886963\n",
      "3.572092294692993\n",
      "3.1335506439208984\n",
      "3.432230234146118\n",
      "2.9082300662994385\n",
      "3.6425719261169434\n",
      "3.9003617763519287\n",
      "3.1694233417510986\n",
      "3.4197704792022705\n",
      "3.9261250495910645\n",
      "3.504655361175537\n",
      "2.966402292251587\n",
      "2.602017402648926\n",
      "4.134428024291992\n",
      "5.205659866333008\n",
      "3.5917022228240967\n",
      "3.092893123626709\n",
      "3.134664535522461\n",
      "2.9559574127197266\n",
      "4.041383266448975\n",
      "4.934363842010498\n",
      "3.182105302810669\n",
      "3.404606819152832\n",
      "3.8770813941955566\n",
      "3.0556352138519287\n",
      "3.126648426055908\n",
      "2.9338219165802\n",
      "3.802443027496338\n",
      "3.4116451740264893\n",
      "3.2764313220977783\n",
      "3.7230262756347656\n",
      "3.420316696166992\n",
      "3.527808904647827\n",
      "2.824198007583618\n",
      "2.786712408065796\n",
      "3.1745831966400146\n",
      "2.879678249359131\n",
      "3.8843395709991455\n",
      "2.8080179691314697\n",
      "2.886155605316162\n",
      "3.631784677505493\n",
      "3.6199073791503906\n",
      "2.8942246437072754\n",
      "2.827833414077759\n",
      "2.583588123321533\n",
      "2.790894031524658\n",
      "2.8086538314819336\n",
      "4.052684783935547\n",
      "3.0323219299316406\n",
      "3.478381872177124\n",
      "3.253450632095337\n",
      "3.414245128631592\n",
      "2.7064952850341797\n",
      "2.591726541519165\n",
      "3.061180353164673\n",
      "3.4143755435943604\n",
      "3.067478656768799\n",
      "3.27402925491333\n",
      "2.741150379180908\n",
      "3.3555238246917725\n",
      "3.340144634246826\n",
      "3.0440754890441895\n",
      "2.680009365081787\n",
      "3.4850735664367676\n",
      "3.876116991043091\n",
      "2.7165141105651855\n",
      "3.123551368713379\n",
      "3.3032774925231934\n",
      "3.4447476863861084\n",
      "3.3237175941467285\n",
      "3.228152275085449\n",
      "2.559340238571167\n",
      "3.4037673473358154\n",
      "2.493147373199463\n",
      "2.6870200634002686\n",
      "3.037076473236084\n",
      "3.44100284576416\n",
      "2.8614890575408936\n",
      "2.768899440765381\n",
      "2.9465794563293457\n",
      "3.1065711975097656\n",
      "3.3522486686706543\n",
      "3.473801374435425\n",
      "3.2375340461730957\n",
      "3.402247428894043\n",
      "2.931101083755493\n",
      "2.607149124145508\n",
      "2.8261847496032715\n",
      "3.268670082092285\n",
      "3.1372408866882324\n",
      "2.8335912227630615\n",
      "2.8152871131896973\n",
      "3.3082878589630127\n",
      "3.286792755126953\n",
      "3.8926377296447754\n",
      "2.937842845916748\n",
      "3.343235969543457\n",
      "3.378918409347534\n",
      "3.5437071323394775\n",
      "3.249493360519409\n",
      "2.956608533859253\n",
      "2.533949375152588\n",
      "2.9303033351898193\n",
      "3.162491798400879\n",
      "3.284301280975342\n",
      "2.953711986541748\n",
      "3.3476006984710693\n",
      "2.56770658493042\n",
      "3.273019313812256\n",
      "3.0329580307006836\n",
      "2.7773818969726562\n",
      "2.6709518432617188\n",
      "2.8874382972717285\n",
      "2.782214879989624\n",
      "3.0453248023986816\n",
      "4.07985258102417\n",
      "3.492722749710083\n",
      "3.0238962173461914\n",
      "3.7618026733398438\n",
      "3.2650368213653564\n",
      "3.2597198486328125\n",
      "3.1022913455963135\n",
      "2.610294818878174\n",
      "4.0307745933532715\n",
      "3.1899802684783936\n",
      "2.74399733543396\n",
      "2.5985348224639893\n",
      "2.8930013179779053\n",
      "3.0645742416381836\n",
      "3.6967785358428955\n",
      "3.5656516551971436\n",
      "3.5606369972229004\n",
      "2.9955177307128906\n",
      "2.9555180072784424\n",
      "3.319535493850708\n",
      "2.8828256130218506\n",
      "3.026362419128418\n",
      "2.795319080352783\n",
      "2.860213279724121\n",
      "3.8617286682128906\n",
      "3.143113851547241\n",
      "3.476536750793457\n",
      "3.5462753772735596\n",
      "2.561617136001587\n",
      "2.439570903778076\n",
      "3.094974994659424\n",
      "2.343700408935547\n",
      "3.2005910873413086\n",
      "2.804602861404419\n",
      "3.252902030944824\n",
      "3.271667957305908\n",
      "3.5457115173339844\n",
      "3.691164016723633\n",
      "3.1616873741149902\n",
      "3.6955909729003906\n",
      "3.5022871494293213\n",
      "2.81069278717041\n",
      "3.0936992168426514\n",
      "2.9288482666015625\n",
      "3.2970967292785645\n",
      "2.6630349159240723\n",
      "3.0097482204437256\n",
      "3.0640029907226562\n",
      "3.627645969390869\n",
      "3.7542269229888916\n",
      "3.782548427581787\n",
      "3.597501516342163\n",
      "2.8858377933502197\n",
      "2.6797738075256348\n",
      "2.403812885284424\n",
      "3.062069892883301\n",
      "2.7374110221862793\n",
      "3.03902268409729\n",
      "3.0228490829467773\n",
      "2.6275405883789062\n",
      "3.5522074699401855\n",
      "3.4372966289520264\n",
      "3.4874446392059326\n",
      "4.348320960998535\n",
      "4.424899101257324\n",
      "3.248392105102539\n",
      "2.768378496170044\n",
      "3.7645084857940674\n",
      "3.810471773147583\n",
      "2.9748356342315674\n",
      "3.1028144359588623\n",
      "4.342587471008301\n",
      "4.88463020324707\n",
      "3.0152218341827393\n",
      "3.4046332836151123\n",
      "3.364896059036255\n",
      "3.2649221420288086\n",
      "3.1879618167877197\n",
      "3.1478562355041504\n",
      "3.7806146144866943\n",
      "4.350872993469238\n",
      "4.093657970428467\n",
      "3.623396396636963\n",
      "3.6238770484924316\n",
      "3.061932325363159\n",
      "2.685920238494873\n",
      "3.593657970428467\n",
      "2.583578586578369\n",
      "3.3311526775360107\n",
      "3.174792766571045\n",
      "3.3493781089782715\n",
      "2.862717866897583\n",
      "3.130369186401367\n",
      "4.275666236877441\n",
      "3.827807664871216\n",
      "3.4023773670196533\n",
      "3.3126916885375977\n",
      "3.5971903800964355\n",
      "3.1494688987731934\n",
      "4.228878974914551\n",
      "3.3575851917266846\n",
      "2.9763946533203125\n",
      "4.6081438064575195\n",
      "4.222837448120117\n",
      "3.774507522583008\n",
      "3.6313400268554688\n",
      "3.0761044025421143\n",
      "3.795215129852295\n",
      "2.8879947662353516\n",
      "3.391639471054077\n",
      "3.563333749771118\n",
      "3.322439193725586\n",
      "3.7046096324920654\n",
      "2.935865879058838\n",
      "3.0306286811828613\n",
      "4.4952545166015625\n",
      "6.666348934173584\n",
      "3.8337652683258057\n",
      "3.4597926139831543\n",
      "4.032570838928223\n",
      "3.86635684967041\n",
      "4.0791473388671875\n",
      "4.459021091461182\n",
      "3.325119972229004\n",
      "4.887445449829102\n",
      "3.764955997467041\n",
      "4.995646953582764\n",
      "4.879306316375732\n",
      "3.2193877696990967\n",
      "3.6392951011657715\n",
      "3.655754804611206\n",
      "3.5678603649139404\n",
      "3.641043186187744\n",
      "3.143179416656494\n",
      "3.523768186569214\n",
      "3.443964958190918\n",
      "3.181264877319336\n",
      "3.163816213607788\n",
      "2.881279230117798\n",
      "3.7011618614196777\n",
      "4.380613327026367\n",
      "4.83017635345459\n",
      "3.937605142593384\n",
      "4.499337196350098\n",
      "4.460763931274414\n",
      "4.349172115325928\n",
      "3.465439796447754\n",
      "3.6921679973602295\n",
      "3.147054672241211\n",
      "3.191957473754883\n",
      "3.3855178356170654\n",
      "3.9701907634735107\n",
      "4.059905529022217\n",
      "5.470564365386963\n",
      "3.859811782836914\n",
      "3.4984378814697266\n",
      "3.7478644847869873\n",
      "3.98930287361145\n",
      "3.581118583679199\n",
      "4.445273399353027\n",
      "3.834737539291382\n",
      "4.178360462188721\n",
      "3.9035141468048096\n",
      "4.184782028198242\n",
      "4.04674768447876\n",
      "4.349334716796875\n",
      "5.791870594024658\n",
      "7.2491631507873535\n",
      "4.757250785827637\n",
      "4.7839484214782715\n",
      "4.421754360198975\n",
      "3.8965141773223877\n",
      "3.990248203277588\n",
      "3.810070753097534\n",
      "4.071158409118652\n",
      "4.70634126663208\n",
      "5.62563943862915\n",
      "3.5376851558685303\n",
      "3.9212260246276855\n",
      "3.64125919342041\n",
      "3.2774643898010254\n",
      "4.312809944152832\n",
      "6.006783962249756\n",
      "4.128579139709473\n",
      "4.7215752601623535\n",
      "6.4241814613342285\n",
      "4.404778480529785\n",
      "4.23411226272583\n",
      "4.711030960083008\n",
      "3.9998528957366943\n",
      "4.405123233795166\n",
      "3.6565608978271484\n",
      "4.4241533279418945\n",
      "4.912998199462891\n",
      "5.468926429748535\n",
      "4.237133026123047\n",
      "4.72775936126709\n",
      "4.231461524963379\n",
      "4.749027252197266\n",
      "4.105771064758301\n",
      "4.375158309936523\n",
      "3.978790760040283\n",
      "5.777502059936523\n",
      "3.8091516494750977\n",
      "4.279061317443848\n",
      "4.726765155792236\n",
      "4.994780540466309\n",
      "4.775427341461182\n",
      "5.48806619644165\n",
      "4.147103309631348\n",
      "5.390119552612305\n",
      "4.276027202606201\n",
      "4.126376152038574\n",
      "4.492622375488281\n",
      "4.394174575805664\n",
      "3.8615596294403076\n",
      "5.3506388664245605\n",
      "5.214042663574219\n",
      "6.498241424560547\n",
      "5.980344772338867\n",
      "6.783231258392334\n",
      "5.517638683319092\n",
      "6.608185291290283\n",
      "5.382946014404297\n",
      "5.702431678771973\n",
      "4.110931396484375\n",
      "5.605212211608887\n",
      "5.874320983886719\n",
      "4.5511064529418945\n",
      "7.6456732749938965\n",
      "5.986496448516846\n",
      "6.455755233764648\n",
      "7.734212875366211\n",
      "6.0388336181640625\n",
      "6.480405807495117\n",
      "5.505479335784912\n",
      "7.40268611907959\n",
      "7.992928981781006\n",
      "8.823745727539062\n",
      "6.7332963943481445\n",
      "6.5259552001953125\n",
      "5.660985946655273\n",
      "7.005611419677734\n",
      "7.305471897125244\n",
      "10.981298446655273\n",
      "7.716037273406982\n",
      "6.169497966766357\n",
      "7.16051721572876\n",
      "6.134083271026611\n",
      "5.650358200073242\n",
      "7.391262054443359\n",
      "5.319962501525879\n",
      "6.571099281311035\n",
      "7.7840776443481445\n",
      "6.40421724319458\n",
      "4.662928104400635\n",
      "4.816431999206543\n",
      "5.11085319519043\n",
      "7.930141448974609\n",
      "5.219119071960449\n",
      "10.519536972045898\n",
      "6.871555805206299\n",
      "5.703021049499512\n",
      "4.548720359802246\n",
      "6.378541946411133\n",
      "5.075074195861816\n",
      "5.152325630187988\n",
      "5.182839870452881\n",
      "5.5526442527771\n",
      "6.107744216918945\n",
      "6.445827484130859\n",
      "6.7906999588012695\n",
      "4.7066192626953125\n",
      "5.505977153778076\n",
      "5.544979572296143\n",
      "7.560120582580566\n",
      "7.288840293884277\n",
      "6.472123146057129\n",
      "8.164451599121094\n",
      "7.016399383544922\n",
      "6.658350944519043\n",
      "7.054104804992676\n",
      "6.413156986236572\n",
      "6.81736421585083\n",
      "5.818386554718018\n",
      "9.020242691040039\n",
      "7.508543491363525\n",
      "6.001935005187988\n",
      "6.6922454833984375\n",
      "9.2393798828125\n",
      "Final loss: 9.2393798828125\n"
     ]
    }
   ],
   "source": [
    "# Finding the ideal learning rate\n",
    "# Parameters\n",
    "C = torch.randn((27, 2), generator=g)\n",
    "W1 = torch.randn((6, 100), generator=g)\n",
    "b1 = torch.randn(100, generator=g)\n",
    "W2 = torch.randn((100, 27), generator=g)\n",
    "b2 = torch.randn(27, generator=g)\n",
    "parameters = [C, W1, b1, W2, b2]\n",
    "print(f\"Total parametrs: {sum(p.nelement() for p in parameters)}\")\n",
    "\n",
    "for p in parameters:\n",
    "    p.requires_grad = True\n",
    "\n",
    "# Metrics\n",
    "lri = []\n",
    "lossi = []\n",
    "for i in range(1000):\n",
    "\n",
    "    ix = torch.randint(0, X.shape[0], (32,))\n",
    "    \n",
    "    # Forward pass\n",
    "    emb = C[X[ix]]\n",
    "    h = torch.tanh(emb.view(-1, 6) @ W1 + b1)\n",
    "    logits = h @ W2 + b2\n",
    "    loss = F.cross_entropy(logits, Y[ix])\n",
    "    print(loss.item())\n",
    "\n",
    "    # Set gradient to None\n",
    "    for p in parameters:\n",
    "        p.grad = None\n",
    "\n",
    "    loss.backward()\n",
    "\n",
    "    # Update weights\n",
    "    lr = lrs[i]\n",
    "    for p in parameters:\n",
    "        p.data += - lr * p.grad\n",
    "\n",
    "    lri.append(lre[i])\n",
    "    lossi.append(loss.item())\n",
    "print(f\"Final loss: {loss.item()}\")"
   ]
  },
  {
   "cell_type": "code",
   "execution_count": 125,
   "metadata": {},
   "outputs": [
    {
     "data": {
      "text/plain": [
       "[<matplotlib.lines.Line2D at 0x7fac9afe2950>]"
      ]
     },
     "execution_count": 125,
     "metadata": {},
     "output_type": "execute_result"
    },
    {
     "data": {
      "image/png": "[encoded data removed]",
      "text/plain": [
       "<Figure size 640x480 with 1 Axes>"
      ]
     },
     "metadata": {},
     "output_type": "display_data"
    }
   ],
   "source": [
    "plt.plot(lri, lossi)"
   ]
  },
  {
   "attachments": {},
   "cell_type": "markdown",
   "metadata": {},
   "source": [
    "Base on the plot, loss is less before exploding is exponent of -1.0 which is 0.1 which was our initial learning rate.\n",
    "Now we can be certain that the learning rate is good.\n",
    "Let's set lr to 0.1 and train for a longer period."
   ]
  },
  {
   "cell_type": "code",
   "execution_count": 127,
   "metadata": {},
   "outputs": [
    {
     "name": "stdout",
     "output_type": "stream",
     "text": [
      "Total parametrs: 3481\n"
     ]
    }
   ],
   "source": [
    "# Parameters\n",
    "C = torch.randn((27, 2), generator=g)\n",
    "W1 = torch.randn((6, 100), generator=g)\n",
    "b1 = torch.randn(100, generator=g)\n",
    "W2 = torch.randn((100, 27), generator=g)\n",
    "b2 = torch.randn(27, generator=g)\n",
    "parameters = [C, W1, b1, W2, b2]\n",
    "print(f\"Total parametrs: {sum(p.nelement() for p in parameters)}\")\n",
    "\n",
    "for p in parameters:\n",
    "    p.requires_grad = True"
   ]
  },
  {
   "cell_type": "code",
   "execution_count": 131,
   "metadata": {},
   "outputs": [
    {
     "name": "stdout",
     "output_type": "stream",
     "text": [
      "Final loss: 2.0804283618927\n"
     ]
    }
   ],
   "source": [
    "# Good learning rate from metrics\n",
    "for i in range(10000):\n",
    "\n",
    "    ix = torch.randint(0, X.shape[0], (32,))\n",
    "    \n",
    "    # Forward pass\n",
    "    emb = C[X[ix]]\n",
    "    h = torch.tanh(emb.view(-1, 6) @ W1 + b1)\n",
    "    logits = h @ W2 + b2\n",
    "    loss = F.cross_entropy(logits, Y[ix])\n",
    "\n",
    "    # Set gradient to None\n",
    "    for p in parameters:\n",
    "        p.grad = None\n",
    "\n",
    "    loss.backward()\n",
    "\n",
    "    # Update weights\n",
    "    lr = 0.1\n",
    "    for p in parameters:\n",
    "        p.data += - lr * p.grad\n",
    "\n",
    "\n",
    "print(f\"Final loss: {loss.item()}\")"
   ]
  },
  {
   "cell_type": "code",
   "execution_count": 132,
   "metadata": {},
   "outputs": [
    {
     "data": {
      "text/plain": [
       "tensor(2.3025, grad_fn=<NllLossBackward0>)"
      ]
     },
     "execution_count": 132,
     "metadata": {},
     "output_type": "execute_result"
    }
   ],
   "source": [
    "# Evaluation loss for entire dataset\n",
    "emb = C[X]\n",
    "h = torch.tanh(emb.view(-1, 6) @ W1 + b1)\n",
    "logits = h @ W2 + b2\n",
    "loss = F.cross_entropy(logits, Y)\n",
    "loss"
   ]
  },
  {
   "attachments": {},
   "cell_type": "markdown",
   "metadata": {},
   "source": [
    "After running traing for more than 10000 steps multiple times, we've overcome the loss of bigram model.\n",
    "Now we've arrived at a point where we are near the minima. Let's do a decay of learning rate to slowly reach there.\n",
    "\n",
    "And train."
   ]
  },
  {
   "cell_type": "code",
   "execution_count": 133,
   "metadata": {},
   "outputs": [
    {
     "name": "stdout",
     "output_type": "stream",
     "text": [
      "Final loss: 2.0946085453033447\n"
     ]
    }
   ],
   "source": [
    "# Learning rate Decay\n",
    "for i in range(10000):\n",
    "\n",
    "    ix = torch.randint(0, X.shape[0], (32,))\n",
    "    \n",
    "    # Forward pass\n",
    "    emb = C[X[ix]]\n",
    "    h = torch.tanh(emb.view(-1, 6) @ W1 + b1)\n",
    "    logits = h @ W2 + b2\n",
    "    loss = F.cross_entropy(logits, Y[ix])\n",
    "\n",
    "    # Set gradient to None\n",
    "    for p in parameters:\n",
    "        p.grad = None\n",
    "\n",
    "    loss.backward()\n",
    "\n",
    "    # Update weights\n",
    "    lr = 0.01\n",
    "    for p in parameters:\n",
    "        p.data += - lr * p.grad\n",
    "\n",
    "\n",
    "print(f\"Final loss: {loss.item()}\")"
   ]
  },
  {
   "attachments": {},
   "cell_type": "markdown",
   "metadata": {},
   "source": [
    "### Summary\n",
    "\n",
    "* Find a good leaarning rate between lower and upper limit\n",
    "* Train on the ideal learning rate and check for improvement in loss\n",
    "* Verify that and do a learning rate decay by a small factor and train again\n",
    "* Validate loss again on entitre dataset"
   ]
  },
  {
   "cell_type": "markdown",
   "metadata": {},
   "source": []
  }
 ],
 "metadata": {
  "kernelspec": {
   "display_name": "Python 3 (ipykernel)",
   "language": "python",
   "name": "python3"
  },
  "language_info": {
   "codemirror_mode": {
    "name": "ipython",
    "version": 3
   },
   "file_extension": ".py",
   "mimetype": "text/x-python",
   "name": "python",
   "nbconvert_exporter": "python",
   "pygments_lexer": "ipython3",
   "version": "3.10.6"
  },
  "toc": {
   "base_numbering": 1,
   "nav_menu": {},
   "number_sections": true,
   "sideBar": true,
   "skip_h1_title": false,
   "title_cell": "Table of Contents",
   "title_sidebar": "Contents",
   "toc_cell": false,
   "toc_position": {
    "height": "calc(100% - 180px)",
    "left": "10px",
    "top": "150px",
    "width": "206px"
   },
   "toc_section_display": true,
   "toc_window_display": false
  },
  "vscode": {
   "interpreter": {
    "hash": "21a124e163c92121797d725bed844fa6fdaf2c4e47bf1f149ef174ae791c682a"
   }
  }
 },
 "nbformat": 4,
 "nbformat_minor": 2
}
