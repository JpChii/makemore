{
 "cells": [
  {
   "cell_type": "markdown",
   "id": "bfdafc5b",
   "metadata": {},
   "source": [
    "# Makemore 3"
   ]
  },
  {
   "cell_type": "code",
   "execution_count": 1,
   "id": "2b9de959",
   "metadata": {},
   "outputs": [],
   "source": [
    "import torch\n",
    "import torch.nn.functional as F\n",
    "import matplotlib.pyplot as plt # for making figures\n",
    "%matplotlib inline"
   ]
  },
  {
   "cell_type": "code",
   "execution_count": 2,
   "id": "fbf49bb7",
   "metadata": {},
   "outputs": [
    {
     "data": {
      "text/plain": [
       "['emma', 'olivia', 'ava', 'isabella', 'sophia', 'charlotte', 'mia', 'amelia']"
      ]
     },
     "execution_count": 2,
     "metadata": {},
     "output_type": "execute_result"
    }
   ],
   "source": [
    "# read in all the words\n",
    "words = open('names.txt', 'r').read().splitlines()\n",
    "words[:8]"
   ]
  },
  {
   "cell_type": "code",
   "execution_count": 3,
   "id": "2b16b3af",
   "metadata": {},
   "outputs": [
    {
     "data": {
      "text/plain": [
       "32033"
      ]
     },
     "execution_count": 3,
     "metadata": {},
     "output_type": "execute_result"
    }
   ],
   "source": [
    "len(words)"
   ]
  },
  {
   "cell_type": "code",
   "execution_count": 4,
   "id": "a3dbb48b",
   "metadata": {},
   "outputs": [
    {
     "name": "stdout",
     "output_type": "stream",
     "text": [
      "{1: 'a', 2: 'b', 3: 'c', 4: 'd', 5: 'e', 6: 'f', 7: 'g', 8: 'h', 9: 'i', 10: 'j', 11: 'k', 12: 'l', 13: 'm', 14: 'n', 15: 'o', 16: 'p', 17: 'q', 18: 'r', 19: 's', 20: 't', 21: 'u', 22: 'v', 23: 'w', 24: 'x', 25: 'y', 26: 'z', 0: '.'}\n",
      "27\n"
     ]
    }
   ],
   "source": [
    "# build the vocabulary of characters and mappings to/from integers\n",
    "chars = sorted(list(set(''.join(words))))\n",
    "stoi = {s:i+1 for i,s in enumerate(chars)}\n",
    "stoi['.'] = 0\n",
    "itos = {i:s for s,i in stoi.items()}\n",
    "vocab_size = len(itos)\n",
    "print(itos)\n",
    "print(vocab_size)"
   ]
  },
  {
   "cell_type": "code",
   "execution_count": 5,
   "id": "60fcba56",
   "metadata": {},
   "outputs": [
    {
     "name": "stdout",
     "output_type": "stream",
     "text": [
      "torch.Size([182625, 3]) torch.Size([182625])\n",
      "torch.Size([22655, 3]) torch.Size([22655])\n",
      "torch.Size([22866, 3]) torch.Size([22866])\n"
     ]
    }
   ],
   "source": [
    "# build the dataset\n",
    "block_size = 3 # context length: how many characters do we take to predict the next one?\n",
    "\n",
    "def build_dataset(words):  \n",
    "  X, Y = [], []\n",
    "  \n",
    "  for w in words:\n",
    "    context = [0] * block_size\n",
    "    for ch in w + '.':\n",
    "      ix = stoi[ch]\n",
    "      X.append(context)\n",
    "      Y.append(ix)\n",
    "      context = context[1:] + [ix] # crop and append\n",
    "\n",
    "  X = torch.tensor(X)\n",
    "  Y = torch.tensor(Y)\n",
    "  print(X.shape, Y.shape)\n",
    "  return X, Y\n",
    "\n",
    "import random\n",
    "random.seed(42)\n",
    "random.shuffle(words)\n",
    "n1 = int(0.8*len(words))\n",
    "n2 = int(0.9*len(words))\n",
    "\n",
    "Xtr,  Ytr  = build_dataset(words[:n1])     # 80%\n",
    "Xdev, Ydev = build_dataset(words[n1:n2])   # 10%\n",
    "Xte,  Yte  = build_dataset(words[n2:])     # 10%\n"
   ]
  },
  {
   "cell_type": "code",
   "execution_count": 6,
   "id": "a65ad986",
   "metadata": {},
   "outputs": [],
   "source": [
    "torch_seed = 2147483647"
   ]
  },
  {
   "cell_type": "code",
   "execution_count": 7,
   "id": "671446b0",
   "metadata": {},
   "outputs": [
    {
     "name": "stdout",
     "output_type": "stream",
     "text": [
      "11897\n"
     ]
    }
   ],
   "source": [
    "# MLP revisited\n",
    "n_embd = 10 # the dimensionality of the character embedding vectors\n",
    "n_hidden = 200 # the number of neurons in the hidden layer of the MLP\n",
    "\n",
    "g = torch.Generator().manual_seed(torch_seed) # for reproducibility\n",
    "C  = torch.randn((vocab_size, n_embd),            generator=g)\n",
    "W1 = torch.randn((n_embd * block_size, n_hidden), generator=g)\n",
    "b1 = torch.randn(n_hidden,                        generator=g)\n",
    "W2 = torch.randn((n_hidden, vocab_size),          generator=g)\n",
    "b2 = torch.randn(vocab_size,                      generator=g)\n",
    "\n",
    "parameters = [C, W1, W2, b1, b2]\n",
    "print(sum(p.nelement() for p in parameters)) # number of parameters in total\n",
    "for p in parameters:\n",
    "  p.requires_grad = True"
   ]
  },
  {
   "cell_type": "code",
   "execution_count": 8,
   "id": "65e1bb0c",
   "metadata": {},
   "outputs": [
    {
     "name": "stdout",
     "output_type": "stream",
     "text": [
      "      0/ 200000: 27.8817\n",
      "  10000/ 200000: 2.9231\n",
      "  20000/ 200000: 2.5788\n",
      "  30000/ 200000: 2.8875\n",
      "  40000/ 200000: 2.0839\n",
      "  50000/ 200000: 2.4431\n",
      "  60000/ 200000: 2.4559\n",
      "  70000/ 200000: 2.1325\n",
      "  80000/ 200000: 2.3324\n",
      "  90000/ 200000: 2.3568\n",
      " 100000/ 200000: 2.0748\n",
      " 110000/ 200000: 2.4009\n",
      " 120000/ 200000: 1.9218\n",
      " 130000/ 200000: 2.4641\n",
      " 140000/ 200000: 2.2747\n",
      " 150000/ 200000: 2.1304\n",
      " 160000/ 200000: 2.1510\n",
      " 170000/ 200000: 1.7974\n",
      " 180000/ 200000: 1.9913\n",
      " 190000/ 200000: 1.8918\n"
     ]
    }
   ],
   "source": [
    "# same optimization as last time\n",
    "max_steps = 200000\n",
    "batch_size = 32\n",
    "lossi = []\n",
    "\n",
    "for i in range(max_steps):\n",
    "  \n",
    "  # minibatch construct\n",
    "  ix = torch.randint(0, Xtr.shape[0], (batch_size,), generator=g)\n",
    "  Xb, Yb = Xtr[ix], Ytr[ix] # batch X,Y\n",
    "  \n",
    "  # forward pass\n",
    "  emb = C[Xb] # embed the characters into vectors\n",
    "  embcat = emb.view(emb.shape[0], -1) # concatenate the vectors\n",
    "  hpreact = embcat @ W1 + b1 # hidden layer pre-activation\n",
    "  h = torch.tanh(hpreact) # hidden layer\n",
    "  logits = h @ W2 + b2 # output layer\n",
    "  loss = F.cross_entropy(logits, Yb) # loss function\n",
    "  \n",
    "  # backward pass\n",
    "  for p in parameters:\n",
    "    p.grad = None\n",
    "  loss.backward()\n",
    "  \n",
    "  # update\n",
    "  lr = 0.1 if i < 100000 else 0.01 # step learning rate decay\n",
    "  for p in parameters:\n",
    "    p.data += -lr * p.grad\n",
    "\n",
    "  # track stats\n",
    "  if i % 10000 == 0: # print every once in a while\n",
    "    print(f'{i:7d}/{max_steps:7d}: {loss.item():.4f}')\n",
    "  lossi.append(loss.log10().item())\n",
    "  "
   ]
  },
  {
   "cell_type": "code",
   "execution_count": 9,
   "id": "3d72948c",
   "metadata": {},
   "outputs": [
    {
     "data": {
      "text/plain": [
       "[<matplotlib.lines.Line2D at 0x7fdd4803cfd0>]"
      ]
     },
     "execution_count": 9,
     "metadata": {},
     "output_type": "execute_result"
    },
    {
     "data": {
      "image/png": "[encoded data removed]",
      "text/plain": [
       "<Figure size 640x480 with 1 Axes>"
      ]
     },
     "metadata": {},
     "output_type": "display_data"
    }
   ],
   "source": [
    "plt.plot(lossi)"
   ]
  },
  {
   "cell_type": "code",
   "execution_count": 10,
   "id": "adcb83f9",
   "metadata": {},
   "outputs": [
    {
     "name": "stdout",
     "output_type": "stream",
     "text": [
      "train 2.127152919769287\n",
      "val 2.173154830932617\n"
     ]
    }
   ],
   "source": [
    "@torch.no_grad() # decorator disable gradient tracking'\n",
    "def split_loss(split):\n",
    "    x, y = {\n",
    "        'train': (Xtr, Ytr),\n",
    "        'val': (Xdev, Ydev),\n",
    "        'test': (Xte, Yte)\n",
    "    }[split]\n",
    "    emb = C[x] # (N, block_size, n_embd)\n",
    "    embcat = emb.view(emb.shape[0], -1) # concate into (N, block_size * n_embd)\n",
    "    h = torch.tanh(embcat @ W1 + b1) # (N, vocab_size)\n",
    "    logits = h @ W2 + b2\n",
    "    loss = F.cross_entropy(logits, y)\n",
    "    print(split, loss.item())\n",
    "split_loss('train')\n",
    "split_loss('val')"
   ]
  },
  {
   "cell_type": "code",
   "execution_count": 11,
   "id": "b0c2471d",
   "metadata": {},
   "outputs": [
    {
     "name": "stdout",
     "output_type": "stream",
     "text": [
      "train 2.127152919769287\n"
     ]
    }
   ],
   "source": [
    "split_loss('train')"
   ]
  },
  {
   "cell_type": "code",
   "execution_count": 12,
   "id": "3271e1f9",
   "metadata": {},
   "outputs": [
    {
     "name": "stdout",
     "output_type": "stream",
     "text": [
      "dexze.\n",
      "moglynn.\n",
      "rochi.\n",
      "ahnes.\n",
      "jimmana.\n",
      "nella.\n",
      "kama.\n",
      "aristaithuelthariiotom.\n",
      "moriella.\n",
      "kinz.\n",
      "teda.\n",
      "kaley.\n",
      "maside.\n",
      "enkavion.\n",
      "roslst.\n",
      "hani.\n",
      "gavtahlan.\n",
      "kashra.\n",
      "anell.\n",
      "pynn.\n"
     ]
    }
   ],
   "source": [
    "# sample from the model\n",
    "g = torch.Generator().manual_seed(torch_seed)\n",
    "\n",
    "for _ in range(20):\n",
    "    out = []\n",
    "    context = [0] * block_size # initalize with all ...\n",
    "    while True:\n",
    "        # forward pass the neural net\n",
    "        emb = C[torch.tensor([context])] # (1, block_size, embd)\n",
    "        h = torch.tanh(emb.view(1, -1) @ W1 + b1)\n",
    "        logits = h@ W2 + b2\n",
    "        probs = F.softmax(logits, dim=1)\n",
    "        # sample from distribution\n",
    "        ix = torch.multinomial(probs, num_samples=1, generator=g).item()\n",
    "        # shift the context window and track the samples\n",
    "        context = context[1:] + [ix]\n",
    "        out.append(ix)\n",
    "        if ix == 0:\n",
    "            break\n",
    "            \n",
    "    print(''.join(itos[i] for i in out))"
   ]
  },
  {
   "cell_type": "code",
   "execution_count": 13,
   "id": "0047a7cb",
   "metadata": {},
   "outputs": [
    {
     "data": {
      "text/plain": [
       "[2, 3, 4, 5]"
      ]
     },
     "execution_count": 13,
     "metadata": {},
     "output_type": "execute_result"
    }
   ],
   "source": [
    "context = [1, 2, 3, 4, 5]\n",
    "context[1:]"
   ]
  },
  {
   "cell_type": "markdown",
   "id": "f11fab3d",
   "metadata": {},
   "source": [
    "This completes our trigram model.\n",
    "\n",
    "This will be the starting point for this notebook. There are multiple things wrong in this model configuration and we'll be fixing them one by one in this notebook.\n",
    "\n",
    "## Initial loss\n",
    "\n",
    "The inital loss is 27.8817 and it rapidly comes down to 1 or 2 and this initial loss is really high.\n",
    "\n",
    "For this problem setup, There's 27 characters that could come next and at initialisation of model the probabality that any of these characters will come next is same which is uniform distribution.\n",
    "\n",
    "And probabality for each character will be 1/27.0"
   ]
  },
  {
   "cell_type": "code",
   "execution_count": 14,
   "id": "ecbb963e",
   "metadata": {},
   "outputs": [
    {
     "data": {
      "text/plain": [
       "tensor(3.2958)"
      ]
     },
     "execution_count": 14,
     "metadata": {},
     "output_type": "execute_result"
    }
   ],
   "source": [
    "# Is the intial loss we should get\n",
    "-torch.tensor(1/27.0).log()"
   ]
  },
  {
   "cell_type": "markdown",
   "id": "50202a96",
   "metadata": {},
   "source": [
    "### Problem\n",
    "\n",
    "At initialization, the model assigns varaible probablity instead of uniform probabality to all characters which it should. Probabality distributions are all messed up and for some characters it's really confident and for other characters not so much.\n",
    "\n",
    "To sum up, Model is confidently wrong."
   ]
  },
  {
   "cell_type": "code",
   "execution_count": 15,
   "id": "25649e96",
   "metadata": {},
   "outputs": [
    {
     "data": {
      "text/plain": [
       "(tensor([0.2500, 0.2500, 0.2500, 0.2500]), tensor(1.3863))"
      ]
     },
     "execution_count": 15,
     "metadata": {},
     "output_type": "execute_result"
    }
   ],
   "source": [
    "# 4-dimensional example of the issue\n",
    "logits = torch.tensor([0.0, 0.0, 0.0, 0.0])\n",
    "probs = torch.softmax(logits, dim=0)\n",
    "loss = -probs[2].log()\n",
    "probs, loss"
   ]
  },
  {
   "cell_type": "markdown",
   "id": "b3454a23",
   "metadata": {},
   "source": [
    "Logits are uniform, so we get the correct loss. But what if logits varied."
   ]
  },
  {
   "cell_type": "code",
   "execution_count": 16,
   "id": "18bf361d",
   "metadata": {},
   "outputs": [
    {
     "data": {
      "text/plain": [
       "(tensor([0.0066, 0.0066, 0.9802, 0.0066]), tensor(0.0200))"
      ]
     },
     "execution_count": 16,
     "metadata": {},
     "output_type": "execute_result"
    }
   ],
   "source": [
    "# lucked out at initialisation and we get a really good loss\n",
    "logits = torch.tensor([0.0, 0.0, 5.0, 0.0])\n",
    "probs = torch.softmax(logits, dim=0)\n",
    "loss = -probs[2].log()\n",
    "probs, loss"
   ]
  },
  {
   "cell_type": "code",
   "execution_count": 17,
   "id": "51618811",
   "metadata": {},
   "outputs": [
    {
     "data": {
      "text/plain": [
       "(tensor([3.1741e-04, 9.4620e-01, 6.3754e-03, 4.7108e-02]), tensor(5.0553))"
      ]
     },
     "execution_count": 17,
     "metadata": {},
     "output_type": "execute_result"
    }
   ],
   "source": [
    "logits = torch.tensor([-3.0, 5.0, 0.0, 2.0])\n",
    "probs = torch.softmax(logits, dim=0)\n",
    "loss = -probs[2].log()\n",
    "probs, loss"
   ]
  },
  {
   "cell_type": "markdown",
   "id": "0e93e636",
   "metadata": {},
   "source": [
    "When the logits come out and have random extreme values, we record a high loss."
   ]
  },
  {
   "cell_type": "code",
   "execution_count": 18,
   "id": "b063c7c6",
   "metadata": {},
   "outputs": [
    {
     "data": {
      "text/plain": [
       "(tensor([-0.3268, -1.2298,  2.2183, -0.9399]),\n",
       " tensor([0.0681, 0.0276, 0.8675, 0.0369]),\n",
       " tensor(0.1422))"
      ]
     },
     "execution_count": 18,
     "metadata": {},
     "output_type": "execute_result"
    }
   ],
   "source": [
    "# with randn\n",
    "logits = torch.randn(4)\n",
    "probs = torch.softmax(logits, axis=0)\n",
    "loss = -probs[2].log()\n",
    "logits, probs, loss"
   ]
  },
  {
   "cell_type": "markdown",
   "id": "015124d2",
   "metadata": {},
   "source": [
    "Since the values are near zero loss that comes out is good. but incresing logits by ten fold."
   ]
  },
  {
   "cell_type": "code",
   "execution_count": 19,
   "id": "d82a42a7",
   "metadata": {},
   "outputs": [
    {
     "data": {
      "text/plain": [
       "(tensor([ -3.5451, -18.5060,   9.2707,  -5.9584]),\n",
       " tensor([2.7176e-06, 8.6445e-13, 1.0000e+00, 2.4326e-07]),\n",
       " tensor(2.9802e-06))"
      ]
     },
     "execution_count": 19,
     "metadata": {},
     "output_type": "execute_result"
    }
   ],
   "source": [
    "# with randn by tenfold\n",
    "logits = torch.randn(4) * 10\n",
    "probs = torch.softmax(logits, axis=0)\n",
    "loss = -probs[2].log()\n",
    "logits, probs, loss"
   ]
  },
  {
   "cell_type": "code",
   "execution_count": 20,
   "id": "5eaff482",
   "metadata": {},
   "outputs": [
    {
     "data": {
      "text/plain": [
       "(tensor([ 128.8017,  -19.7911, -107.9543,  -23.7986]),\n",
       " tensor([1., 0., 0., 0.]),\n",
       " tensor(inf))"
      ]
     },
     "execution_count": 20,
     "metadata": {},
     "output_type": "execute_result"
    }
   ],
   "source": [
    "# with randn by hundredfold\n",
    "logits = torch.randn(4) * 100\n",
    "probs = torch.softmax(logits, axis=0)\n",
    "loss = -probs[2].log()\n",
    "logits, probs, loss"
   ]
  },
  {
   "cell_type": "markdown",
   "id": "62141640",
   "metadata": {},
   "source": [
    "We get really bad losses for extreme logits.\n",
    "\n",
    "This is not good and what we want logits to be roughly zero or equal(uniform) at initialisation."
   ]
  },
  {
   "cell_type": "markdown",
   "id": "04c75ce2",
   "metadata": {},
   "source": [
    "Let's write some code for getting paramters, and training the model since we'll repeat them a lot."
   ]
  },
  {
   "cell_type": "markdown",
   "id": "c342de2c",
   "metadata": {},
   "source": [
    "## Helpers"
   ]
  },
  {
   "cell_type": "code",
   "execution_count": 21,
   "id": "b1a634e2",
   "metadata": {},
   "outputs": [],
   "source": [
    "    def model_parameters(block_size, vocab_size, n_embd, n_hidden, seed):\n",
    "    \n",
    "        g = torch.Generator().manual_seed(seed)\n",
    "        C = torch.randn((vocab_size, n_embd), generator=g)\n",
    "        W1 = torch.randn((n_embd * block_size, n_hidden), generator=g)\n",
    "        b1 = torch.randn(n_hidden, generator=g)\n",
    "        W2 = torch.randn((n_hidden, vocab_size), generator=g)\n",
    "        b2 = torch.randn(vocab_size, generator=g)\n",
    "        return C, W1, b1, W2, b2\n",
    "            "
   ]
  },
  {
   "cell_type": "code",
   "execution_count": 22,
   "id": "817b2217",
   "metadata": {},
   "outputs": [
    {
     "name": "stdout",
     "output_type": "stream",
     "text": [
      "Total number of parameters: 11897\n"
     ]
    }
   ],
   "source": [
    "# Reinit parameters\n",
    "C, W1, b1, W2, b2 = model_parameters(\n",
    "    block_size=block_size,\n",
    "    vocab_size=vocab_size,\n",
    "    n_embd=n_embd,\n",
    "    n_hidden=n_hidden,\n",
    "    seed=torch_seed\n",
    ")\n",
    "\n",
    "# Let's make some changes to params based on above problem descirption\n",
    "# b2 * 0\n",
    "# W2 * 0.01\n",
    "b2 = b2 * 0\n",
    "W2 = W2 * 0.01\n",
    "\n",
    "parameters = [C, W1, b1, W2, b2]\n",
    "for p in parameters:\n",
    "    # To avoid setting requires_grad multiple times\n",
    "    p.requires_grad = True\n",
    "print(f\"Total number of parameters: {sum(p.nelement() for p in parameters)}\")"
   ]
  },
  {
   "cell_type": "code",
   "execution_count": 23,
   "id": "1856a421",
   "metadata": {},
   "outputs": [
    {
     "name": "stdout",
     "output_type": "stream",
     "text": [
      "      0/ 200000: 3.3179\n"
     ]
    }
   ],
   "source": [
    "# Run training for first step alone\n",
    "max_steps = 200000\n",
    "batch_size = 32\n",
    "lossi = []\n",
    "g = torch.Generator().manual_seed(torch_seed)\n",
    "\n",
    "for i in range(max_steps):\n",
    "  \n",
    "  # minibatch construct\n",
    "  ix = torch.randint(0, Xtr.shape[0], (batch_size,), generator=g)\n",
    "  Xb, Yb = Xtr[ix], Ytr[ix] # batch X,Y\n",
    "  \n",
    "  # forward pass\n",
    "  emb = C[Xb] # embed the characters into vectors\n",
    "  embcat = emb.view(emb.shape[0], -1) # concatenate the vectors\n",
    "  hpreact = embcat @ W1 + b1 # hidden layer pre-activation\n",
    "  h = torch.tanh(hpreact) # hidden layer\n",
    "  logits = h @ W2 + b2 # output layer\n",
    "  loss = F.cross_entropy(logits, Yb) # loss function\n",
    "  \n",
    "  # backward pass\n",
    "  for p in parameters:\n",
    "    p.grad = None\n",
    "  loss.backward()\n",
    "  \n",
    "  # update\n",
    "  lr = 0.1 if i < 100000 else 0.01 # step learning rate decay\n",
    "  for p in parameters:\n",
    "    p.data += -lr * p.grad\n",
    "\n",
    "  # track stats\n",
    "  if i % 10000 == 0: # print every once in a while\n",
    "    print(f'{i:7d}/{max_steps:7d}: {loss.item():.4f}')\n",
    "  lossi.append(loss.log10().item())\n",
    "  break"
   ]
  },
  {
   "cell_type": "markdown",
   "id": "ec30e0de",
   "metadata": {},
   "source": [
    "Initial loss is now squashed from 27 to 3.3"
   ]
  },
  {
   "cell_type": "code",
   "execution_count": 24,
   "id": "c07b7926",
   "metadata": {},
   "outputs": [
    {
     "name": "stdout",
     "output_type": "stream",
     "text": [
      "Total number of parameters: 11897\n",
      "      0/ 200000: 3.3179\n",
      "  10000/ 200000: 2.1848\n",
      "  20000/ 200000: 2.3320\n",
      "  30000/ 200000: 2.4731\n",
      "  40000/ 200000: 1.9858\n",
      "  50000/ 200000: 2.4827\n",
      "  60000/ 200000: 2.1361\n",
      "  70000/ 200000: 2.1642\n",
      "  80000/ 200000: 2.3967\n",
      "  90000/ 200000: 2.0793\n",
      " 100000/ 200000: 2.4436\n",
      " 110000/ 200000: 2.1291\n",
      " 120000/ 200000: 2.2657\n",
      " 130000/ 200000: 1.7314\n",
      " 140000/ 200000: 2.1808\n",
      " 150000/ 200000: 2.2475\n",
      " 160000/ 200000: 2.0536\n",
      " 170000/ 200000: 1.6976\n",
      " 180000/ 200000: 2.4663\n",
      " 190000/ 200000: 2.2927\n"
     ]
    }
   ],
   "source": [
    "# Reinit parameters\n",
    "C, W1, b1, W2, b2 = model_parameters(\n",
    "    block_size=block_size,\n",
    "    vocab_size=vocab_size,\n",
    "    n_embd=n_embd,\n",
    "    n_hidden=n_hidden,\n",
    "    seed=torch_seed\n",
    ")\n",
    "\n",
    "b2 = b2 * 0\n",
    "W2 = W2 * 0.01\n",
    "\n",
    "parameters = [C, W1, b1, W2, b2]\n",
    "for p in parameters:\n",
    "    # To avoid setting requires_grad multiple times\n",
    "    p.requires_grad = True\n",
    "print(f\"Total number of parameters: {sum(p.nelement() for p in parameters)}\")\n",
    "\n",
    "# Run full training with updated parameters\n",
    "max_steps = 200000\n",
    "batch_size = 32\n",
    "lossi = []\n",
    "g = torch.Generator().manual_seed(torch_seed)\n",
    "\n",
    "for i in range(max_steps):\n",
    "  \n",
    "  # minibatch construct\n",
    "  ix = torch.randint(0, Xtr.shape[0], (batch_size,), generator=g)\n",
    "  Xb, Yb = Xtr[ix], Ytr[ix] # batch X,Y\n",
    "  \n",
    "  # forward pass\n",
    "  emb = C[Xb] # embed the characters into vectors\n",
    "  embcat = emb.view(emb.shape[0], -1) # concatenate the vectors\n",
    "  hpreact = embcat @ W1 + b1 # hidden layer pre-activation\n",
    "  h = torch.tanh(hpreact) # hidden layer\n",
    "  logits = h @ W2 + b2 # output layer\n",
    "  loss = F.cross_entropy(logits, Yb) # loss function\n",
    "  \n",
    "  # backward pass\n",
    "  for p in parameters:\n",
    "    p.grad = None\n",
    "  loss.backward()\n",
    "  \n",
    "  # update\n",
    "  lr = 0.1 if i < 100000 else 0.01 # step learning rate decay\n",
    "  for p in parameters:\n",
    "    p.data += -lr * p.grad\n",
    "\n",
    "  # track stats\n",
    "  if i % 10000 == 0: # print every once in a while\n",
    "    print(f'{i:7d}/{max_steps:7d}: {loss.item():.4f}')\n",
    "  lossi.append(loss.log10().item())"
   ]
  },
  {
   "cell_type": "code",
   "execution_count": 25,
   "id": "24d6e615",
   "metadata": {},
   "outputs": [
    {
     "data": {
      "image/png": "[encoded data removed]",
      "text/plain": [
       "<Figure size 640x480 with 1 Axes>"
      ]
     },
     "metadata": {},
     "output_type": "display_data"
    }
   ],
   "source": [
    "plt.plot(lossi);"
   ]
  },
  {
   "cell_type": "markdown",
   "id": "d7dcbf26",
   "metadata": {},
   "source": [
    "We can see in loss plot, the curve bend is squashed after initialising output layer and bias to uniform values."
   ]
  },
  {
   "cell_type": "code",
   "execution_count": 26,
   "id": "62510348",
   "metadata": {},
   "outputs": [
    {
     "name": "stdout",
     "output_type": "stream",
     "text": [
      "train 2.068942070007324\n",
      "val 2.129626750946045\n"
     ]
    }
   ],
   "source": [
    "split_loss('train')\n",
    "split_loss('val')"
   ]
  },
  {
   "cell_type": "markdown",
   "id": "a00639aa",
   "metadata": {},
   "source": [
    "Train loss has improved from 2.17 to 2.06 because, training has not wasted any time squashing the weights and has looked at the data for additional 10000 steps.\n",
    "\n",
    "Initialisation has improved initial loss"
   ]
  },
  {
   "attachments": {},
   "cell_type": "markdown",
   "id": "369c22cd",
   "metadata": {},
   "source": [
    "## Fixing saturated tanh\n",
    "\n",
    "Logits are now okay, but let's explore h."
   ]
  },
  {
   "attachments": {},
   "cell_type": "markdown",
   "id": "cbe5c72b",
   "metadata": {},
   "source": [
    "#"
   ]
  },
  {
   "cell_type": "code",
   "execution_count": 27,
   "id": "a6d48f79",
   "metadata": {},
   "outputs": [
    {
     "data": {
      "text/plain": [
       "tensor([[-0.9999,  0.5069, -1.0000,  ...,  0.9958, -0.9996,  0.9994],\n",
       "        [ 0.2820,  0.2718,  0.9532,  ..., -1.0000,  0.9991,  1.0000],\n",
       "        [-1.0000, -0.9936, -1.0000,  ...,  1.0000, -0.9997, -0.9557],\n",
       "        ...,\n",
       "        [ 0.8435, -0.9986, -1.0000,  ...,  1.0000, -0.9982,  1.0000],\n",
       "        [-1.0000, -0.7951, -0.9999,  ...,  0.9997, -0.9192,  1.0000],\n",
       "        [-1.0000, -0.9999,  0.0653,  ..., -1.0000,  1.0000,  1.0000]],\n",
       "       grad_fn=<TanhBackward0>)"
      ]
     },
     "execution_count": 27,
     "metadata": {},
     "output_type": "execute_result"
    }
   ],
   "source": [
    "h"
   ]
  },
  {
   "cell_type": "code",
   "execution_count": 28,
   "id": "bd3acfb5",
   "metadata": {},
   "outputs": [
    {
     "data": {
      "image/png": "[encoded data removed]",
      "text/plain": [
       "<Figure size 640x480 with 1 Axes>"
      ]
     },
     "metadata": {},
     "output_type": "display_data"
    }
   ],
   "source": [
    "# visualizing h\n",
    "plt.hist(h.view(-1).tolist(), bins=50);"
   ]
  },
  {
   "attachments": {},
   "cell_type": "markdown",
   "id": "573b24ae",
   "metadata": {},
   "source": [
    "we can see most of the values take on -1 or 1, meaning tanh is active. And why this happens, let's take a look at pre activations."
   ]
  },
  {
   "cell_type": "code",
   "execution_count": 29,
   "id": "58a7cac3",
   "metadata": {},
   "outputs": [
    {
     "data": {
      "image/png": "[encoded data removed]",
      "text/plain": [
       "<Figure size 640x480 with 1 Axes>"
      ]
     },
     "metadata": {},
     "output_type": "display_data"
    }
   ],
   "source": [
    "plt.hist(hpreact.view(-1).tolist(), bins=50);"
   ]
  },
  {
   "attachments": {},
   "cell_type": "markdown",
   "id": "4020960d",
   "metadata": {},
   "source": [
    "Since preactivations is really broad from -15 to 15 and that's why tanh takes values from -1 to 1.\n",
    "\n",
    "And why this is a problem. Let's get into the details of it.\n",
    "\n",
    "During backpropogations the gradients pass through tanh activation.\n",
    "\n",
    "Grabbing element wise tanh from micrograd,\n",
    "\n",
    "```Python\n",
    "def tanh(self):\n",
    "        n = self.data\n",
    "        t = (math.exp(2*n)-1)/(math.exp(2*n)+1)\n",
    "        out = Value(t, (self, ), 'tanh')\n",
    "\n",
    "        def _backward():\n",
    "            self.grad = (1 - t**2) * out.grad\n",
    "        out._backward = _backward\n",
    "        \n",
    "```\n",
    "\n",
    "When t(local gradient) is -1 or 1. self.grad becomes zero because `1 - (-1) ** 2, 1 - (1) ** 2` is `0`.\n",
    "This is essentialy stopping backpropgation through this neuron beyond tanh.\n",
    "\n",
    "Intutivley speaking, it tanh's output is close to 1. Changing the input is not going to impact output of tanh, since it's already in flat region of tanh(self.grad = 0). There's no impact on the loss.\n",
    "\n",
    "So with respect to this input, we cannot impact the loss via backpropgation. The gradient will become zero and vanishes.\n",
    "\n",
    "In another case, when t = 1 `1 - (0) ** 2` self.grad is out.grad. Meaning tanh unit is inactive and the gradient just passes through.\n",
    "\n",
    "The gradient flowing through tanh only decreases and the amount it decrease here is proprtional to square (t**2).\n",
    "\n",
    "> To conclude:\n",
    "When the tanh output is in flat lands(-1, 1) the gradient vanishes and backpropgation is not effective."
   ]
  },
  {
   "cell_type": "code",
   "execution_count": 30,
   "id": "6f3acef2",
   "metadata": {},
   "outputs": [
    {
     "data": {
      "text/plain": [
       "(0, 0)"
      ]
     },
     "execution_count": 30,
     "metadata": {},
     "output_type": "execute_result"
    }
   ],
   "source": [
    "1 - (-1) ** 2, 1 - (1) ** 2"
   ]
  },
  {
   "cell_type": "code",
   "execution_count": 31,
   "id": "e288c026",
   "metadata": {},
   "outputs": [
    {
     "data": {
      "text/plain": [
       "1"
      ]
     },
     "execution_count": 31,
     "metadata": {},
     "output_type": "execute_result"
    }
   ],
   "source": [
    "1 - (0) ** 2"
   ]
  },
  {
   "cell_type": "markdown",
   "id": "a619b446",
   "metadata": {},
   "source": [
    "Digging deeper into the problem, visualizing 200 tanh neurons across 32 inputs."
   ]
  },
  {
   "cell_type": "code",
   "execution_count": 32,
   "id": "9f9f59dd",
   "metadata": {},
   "outputs": [
    {
     "data": {
      "image/png": "[encoded data removed]",
      "text/plain": [
       "<Figure size 2000x1000 with 1 Axes>"
      ]
     },
     "metadata": {},
     "output_type": "display_data"
    }
   ],
   "source": [
    "plt.figure(figsize=(20, 10))\n",
    "plt.xlabel('input')\n",
    "plt.ylabel('tanh_activations')\n",
    "plt.imshow(h.abs() > 0.99, cmap='gray', interpolation='nearest',);"
   ]
  },
  {
   "attachments": {},
   "cell_type": "markdown",
   "id": "e12d3855",
   "metadata": {},
   "source": [
    "The plot above is boolean. Thw white dots it plot means tanh is very very active and in flat tail(-1, 1).\n",
    "In all these cases backward gradient is destroyed.\n",
    "\n",
    "We'll be in lot of trouble. For any one of these neurons,\n",
    "If any one of the columns is completley white. In that case this becomes a dead neuron.\n",
    "\n",
    "The initilisation of w and b is such that, no single input activates this neuron for any input. \n",
    "This is a case of dead neuron and it never learns.\n",
    "\n",
    "This is the problem with saturated tanh(and other activations - sigmoid, relu).\n",
    "\n",
    "The redeeming quality with this scenario is we don't have any such dead neurons and some gradient's will flow through and neurons will learn."
   ]
  },
  {
   "attachments": {},
   "cell_type": "markdown",
   "id": "a77226fd",
   "metadata": {},
   "source": [
    "Another scenario of dead neurons will be during optimization.\n",
    "\n",
    "Let's say the learning rate is high and the gradient is pushed off to flat tails of tanh or negative tail of relu. The gradients will be zero from that point and will become dead on future backpropgations.\n",
    "\n",
    "This is called exploding gradients.\n",
    "\n",
    "Leaky ReLu might not suffer much from thes issues, because of absence of flat parts in it's activation."
   ]
  },
  {
   "cell_type": "code",
   "execution_count": 33,
   "id": "afe3b38c",
   "metadata": {},
   "outputs": [
    {
     "data": {
      "image/png": "[encoded data removed]",
      "text/plain": [
       "<Figure size 2000x1000 with 1 Axes>"
      ]
     },
     "metadata": {},
     "output_type": "display_data"
    }
   ],
   "source": [
    "plt.figure(figsize=(20, 10))\n",
    "plt.xlabel('input')\n",
    "plt.ylabel('tanh_activations')\n",
    "plt.imshow(h.abs() > 0.99, cmap='gray', interpolation='nearest',);"
   ]
  },
  {
   "attachments": {},
   "cell_type": "markdown",
   "id": "a25b6068",
   "metadata": {},
   "source": [
    "Going back to h, since we don't have any dead neurons. We should be okay, as the network optimizes and a pretty decent loss.\n",
    "But this is not optimal and we don't want these extreme value during initialisation. `hpreact` is too extreme, leading to flat tails of tanh activations and less training for these neurons(because they update very less frequent)"
   ]
  },
  {
   "attachments": {},
   "cell_type": "markdown",
   "id": "31d03494",
   "metadata": {},
   "source": [
    "embcat -> hpreact(too far from zero which is causing the issue)\n",
    "\n",
    "We want't hpreact to be closer to 0."
   ]
  },
  {
   "cell_type": "code",
   "execution_count": 34,
   "id": "480a6aea",
   "metadata": {},
   "outputs": [
    {
     "name": "stdout",
     "output_type": "stream",
     "text": [
      "Total number of parameters: 11897\n",
      "      0/ 200000: 3.3018\n"
     ]
    }
   ],
   "source": [
    "# Reinit weights\n",
    "C, W1, b1, W2, b2 = model_parameters(\n",
    "    block_size=block_size,\n",
    "    vocab_size=vocab_size,\n",
    "    n_embd=n_embd,\n",
    "    n_hidden=n_hidden,\n",
    "    seed=torch_seed\n",
    ")\n",
    "\n",
    "C = C\n",
    "W1 = W1 * 0.1\n",
    "b1 = b1 * 0.01\n",
    "W2 = W2 * 0.01\n",
    "b2 = b2 * 0\n",
    "\n",
    "parameters = [C, W1, b1, W2, b2]\n",
    "for p in parameters:\n",
    "    # To avoid setting requires_grad multiple times\n",
    "    p.requires_grad = True\n",
    "print(f\"Total number of parameters: {sum(p.nelement() for p in parameters)}\")\n",
    "\n",
    "# Rerun first batch\n",
    "batch_size = 32\n",
    "lossi = []\n",
    "g = torch.Generator().manual_seed(torch_seed)\n",
    "\n",
    "for i in range(max_steps):\n",
    "  \n",
    "  # minibatch construct\n",
    "  ix = torch.randint(0, Xtr.shape[0], (batch_size,), generator=g)\n",
    "  Xb, Yb = Xtr[ix], Ytr[ix] # batch X,Y\n",
    "  \n",
    "  # forward pass\n",
    "  emb = C[Xb] # embed the characters into vectors\n",
    "  embcat = emb.view(emb.shape[0], -1) # concatenate the vectors\n",
    "  hpreact = embcat @ W1 + b1 # hidden layer pre-activation\n",
    "  h = torch.tanh(hpreact) # hidden layer\n",
    "  logits = h @ W2 + b2 # output layer\n",
    "  loss = F.cross_entropy(logits, Yb) # loss function\n",
    "  \n",
    "  # backward pass\n",
    "  for p in parameters:\n",
    "    p.grad = None\n",
    "  loss.backward()\n",
    "  \n",
    "  # update\n",
    "  lr = 0.1 if i < 100000 else 0.01 # step learning rate decay\n",
    "  for p in parameters:\n",
    "    p.data += -lr * p.grad\n",
    "\n",
    "  # track stats\n",
    "  if i % 10000 == 0: # print every once in a while\n",
    "    print(f'{i:7d}/{max_steps:7d}: {loss.item():.4f}')\n",
    "  lossi.append(loss.log10().item())\n",
    "  break"
   ]
  },
  {
   "cell_type": "code",
   "execution_count": 35,
   "id": "ae9379c7",
   "metadata": {},
   "outputs": [
    {
     "data": {
      "image/png": "[encoded data removed]",
      "text/plain": [
       "<Figure size 640x480 with 1 Axes>"
      ]
     },
     "metadata": {},
     "output_type": "display_data"
    }
   ],
   "source": [
    "# Let's look at h distribution\n",
    "plt.hist(h.view(-1).tolist(), bins=50);"
   ]
  },
  {
   "cell_type": "code",
   "execution_count": 36,
   "id": "1da5b9bb",
   "metadata": {},
   "outputs": [
    {
     "data": {
      "image/png": "[encoded data removed]",
      "text/plain": [
       "<Figure size 640x480 with 1 Axes>"
      ]
     },
     "metadata": {},
     "output_type": "display_data"
    }
   ],
   "source": [
    "plt.hist(hpreact.view(-1).tolist(), bins=50);"
   ]
  },
  {
   "cell_type": "code",
   "execution_count": 37,
   "id": "c566aa6c",
   "metadata": {},
   "outputs": [
    {
     "data": {
      "image/png": "[encoded data removed]",
      "text/plain": [
       "<Figure size 2000x1000 with 1 Axes>"
      ]
     },
     "metadata": {},
     "output_type": "display_data"
    }
   ],
   "source": [
    "# And this should have less whites\n",
    "plt.figure(figsize=(20, 10))\n",
    "plt.xlabel('input')\n",
    "plt.ylabel('tanh_activations')\n",
    "plt.imshow(h.abs() > 0.99, cmap='gray', interpolation='nearest',);"
   ]
  },
  {
   "cell_type": "code",
   "execution_count": 38,
   "id": "6d4b04bf",
   "metadata": {},
   "outputs": [
    {
     "name": "stdout",
     "output_type": "stream",
     "text": [
      "Total number of parameters: 11897\n",
      "      0/ 200000: 3.3070\n"
     ]
    }
   ],
   "source": [
    "# Reinit weights\n",
    "C, W1, b1, W2, b2 = model_parameters(\n",
    "    block_size=block_size,\n",
    "    vocab_size=vocab_size,\n",
    "    n_embd=n_embd,\n",
    "    n_hidden=n_hidden,\n",
    "    seed=torch_seed\n",
    ")\n",
    "\n",
    "C = C\n",
    "W1 = W1 * 0.2\n",
    "b1 = b1 * 0.01\n",
    "W2 = W2 * 0.01\n",
    "b2 = b2 * 0\n",
    "\n",
    "parameters = [C, W1, b1, W2, b2]\n",
    "for p in parameters:\n",
    "    # To avoid setting requires_grad multiple times\n",
    "    p.requires_grad = True\n",
    "print(f\"Total number of parameters: {sum(p.nelement() for p in parameters)}\")\n",
    "\n",
    "# Rerun first batch\n",
    "batch_size = 32\n",
    "lossi = []\n",
    "g = torch.Generator().manual_seed(torch_seed)\n",
    "\n",
    "for i in range(max_steps):\n",
    "  \n",
    "  # minibatch construct\n",
    "  ix = torch.randint(0, Xtr.shape[0], (batch_size,), generator=g)\n",
    "  Xb, Yb = Xtr[ix], Ytr[ix] # batch X,Y\n",
    "  \n",
    "  # forward pass\n",
    "  emb = C[Xb] # embed the characters into vectors\n",
    "  embcat = emb.view(emb.shape[0], -1) # concatenate the vectors\n",
    "  hpreact = embcat @ W1 + b1 # hidden layer pre-activation\n",
    "  h = torch.tanh(hpreact) # hidden layer\n",
    "  logits = h @ W2 + b2 # output layer\n",
    "  loss = F.cross_entropy(logits, Yb) # loss function\n",
    "  \n",
    "  # backward pass\n",
    "  for p in parameters:\n",
    "    p.grad = None\n",
    "  loss.backward()\n",
    "  \n",
    "  # update\n",
    "  lr = 0.1 if i < 100000 else 0.01 # step learning rate decay\n",
    "  for p in parameters:\n",
    "    p.data += -lr * p.grad\n",
    "\n",
    "  # track stats\n",
    "  if i % 10000 == 0: # print every once in a while\n",
    "    print(f'{i:7d}/{max_steps:7d}: {loss.item():.4f}')\n",
    "  lossi.append(loss.log10().item())\n",
    "  break"
   ]
  },
  {
   "cell_type": "code",
   "execution_count": 39,
   "id": "04b88d7b",
   "metadata": {},
   "outputs": [
    {
     "data": {
      "image/png": "[encoded data removed]",
      "text/plain": [
       "<Figure size 2000x1000 with 1 Axes>"
      ]
     },
     "metadata": {},
     "output_type": "display_data"
    }
   ],
   "source": [
    "# And this should have less whites\n",
    "plt.figure(figsize=(20, 10))\n",
    "plt.xlabel('input')\n",
    "plt.ylabel('tanh_activations')\n",
    "plt.imshow(h.abs() > 0.99, cmap='gray', interpolation='nearest',);"
   ]
  },
  {
   "cell_type": "code",
   "execution_count": 40,
   "id": "b3f322bb",
   "metadata": {},
   "outputs": [
    {
     "name": "stdout",
     "output_type": "stream",
     "text": [
      "Total number of parameters: 11897\n",
      "      0/ 200000: 3.3070\n",
      "  10000/ 200000: 2.0390\n",
      "  20000/ 200000: 2.3337\n",
      "  30000/ 200000: 2.1899\n",
      "  40000/ 200000: 2.0281\n",
      "  50000/ 200000: 2.3006\n",
      "  60000/ 200000: 1.9184\n",
      "  70000/ 200000: 2.0165\n",
      "  80000/ 200000: 2.1462\n",
      "  90000/ 200000: 2.0186\n",
      " 100000/ 200000: 2.1868\n",
      " 110000/ 200000: 2.0560\n",
      " 120000/ 200000: 2.0876\n",
      " 130000/ 200000: 1.6509\n",
      " 140000/ 200000: 2.2062\n",
      " 150000/ 200000: 2.2495\n",
      " 160000/ 200000: 2.0697\n",
      " 170000/ 200000: 1.6954\n",
      " 180000/ 200000: 2.5340\n",
      " 190000/ 200000: 2.2555\n"
     ]
    }
   ],
   "source": [
    "# Reinit weights\n",
    "C, W1, b1, W2, b2 = model_parameters(\n",
    "    block_size=block_size,\n",
    "    vocab_size=vocab_size,\n",
    "    n_embd=n_embd,\n",
    "    n_hidden=n_hidden,\n",
    "    seed=torch_seed\n",
    ")\n",
    "\n",
    "C = C\n",
    "W1 = W1 * 0.2\n",
    "b1 = b1 * 0.01\n",
    "W2 = W2 * 0.01\n",
    "b2 = b2 * 0\n",
    "\n",
    "parameters = [C, W1, b1, W2, b2]\n",
    "for p in parameters:\n",
    "    # To avoid setting requires_grad multiple times\n",
    "    p.requires_grad = True\n",
    "print(f\"Total number of parameters: {sum(p.nelement() for p in parameters)}\")\n",
    "\n",
    "# Full training\n",
    "batch_size = 32\n",
    "lossi = []\n",
    "g = torch.Generator().manual_seed(torch_seed)\n",
    "\n",
    "for i in range(max_steps):\n",
    "  \n",
    "  # minibatch construct\n",
    "  ix = torch.randint(0, Xtr.shape[0], (batch_size,), generator=g)\n",
    "  Xb, Yb = Xtr[ix], Ytr[ix] # batch X,Y\n",
    "  \n",
    "  # forward pass\n",
    "  emb = C[Xb] # embed the characters into vectors\n",
    "  embcat = emb.view(emb.shape[0], -1) # concatenate the vectors\n",
    "  hpreact = embcat @ W1 + b1 # hidden layer pre-activation\n",
    "  h = torch.tanh(hpreact) # hidden layer\n",
    "  logits = h @ W2 + b2 # output layer\n",
    "  loss = F.cross_entropy(logits, Yb) # loss function\n",
    "  \n",
    "  # backward pass\n",
    "  for p in parameters:\n",
    "    p.grad = None\n",
    "  loss.backward()\n",
    "  \n",
    "  # update\n",
    "  lr = 0.1 if i < 100000 else 0.01 # step learning rate decay\n",
    "  for p in parameters:\n",
    "    p.data += -lr * p.grad\n",
    "\n",
    "  # track stats\n",
    "  if i % 10000 == 0: # print every once in a while\n",
    "    print(f'{i:7d}/{max_steps:7d}: {loss.item():.4f}')\n",
    "  lossi.append(loss.log10().item())"
   ]
  },
  {
   "cell_type": "code",
   "execution_count": 41,
   "id": "76ecce50",
   "metadata": {},
   "outputs": [
    {
     "name": "stdout",
     "output_type": "stream",
     "text": [
      "train 2.036576986312866\n",
      "val 2.1043293476104736\n"
     ]
    }
   ],
   "source": [
    "split_loss('train')\n",
    "split_loss('val')"
   ]
  },
  {
   "attachments": {},
   "cell_type": "markdown",
   "id": "3a8d2d88",
   "metadata": {},
   "source": [
    "Losses after initial loss fix\n",
    "\n",
    "* train 2.068942070007324\n",
    "* val 2.129626750946045\n",
    "\n",
    "Losses after tanh saturation fix \n",
    "\n",
    "* train 2.036576986312866\n",
    "* val 2.1043293476104736\n",
    "\n",
    "The loss is improved because. Network has more time to train and neurons are learning more frequently by avoiding vanishing and exploding gradients."
   ]
  },
  {
   "attachments": {},
   "cell_type": "markdown",
   "id": "1ef165d8",
   "metadata": {},
   "source": [
    "Since this is a single layer mlp, the initialisation problem was not big issue. But for bigger networks with lots of layers.\n",
    "These problems will stack up and without proper intilisation the model will not train at all."
   ]
  },
  {
   "attachments": {},
   "cell_type": "markdown",
   "id": "f77bcdfa",
   "metadata": {},
   "source": [
    "How do we come up with these magic number like 0.2 for a larger network with lots of layers.\n",
    "\n",
    "## Calculating the init scale: \"Kaiming init\""
   ]
  },
  {
   "cell_type": "code",
   "execution_count": 42,
   "id": "bb47d2f1",
   "metadata": {},
   "outputs": [
    {
     "name": "stdout",
     "output_type": "stream",
     "text": [
      "tensor(0.0024) tensor(0.9909)\n",
      "tensor(0.0037) tensor(3.1921)\n"
     ]
    },
    {
     "data": {
      "image/png": "[encoded data removed]",
      "text/plain": [
       "<Figure size 2000x500 with 2 Axes>"
      ]
     },
     "metadata": {},
     "output_type": "display_data"
    }
   ],
   "source": [
    "x = torch.randn(1000, 10)\n",
    "w = torch.randn(10, 200)\n",
    "y = x @ w\n",
    "print(x.mean(), x.std())\n",
    "print(y.mean(), y.std())\n",
    "plt.figure(figsize=(20, 5))\n",
    "plt.subplot(121)\n",
    "plt.hist(x.view(-1).tolist(), 50, density=True);\n",
    "plt.subplot(122)\n",
    "plt.hist(y.view(-1).tolist(), 50, density=True);"
   ]
  },
  {
   "attachments": {},
   "cell_type": "markdown",
   "id": "e31a73ce",
   "metadata": {},
   "source": [
    "x has zero mean and unit standard deviation, in y, the standard deviation has increased to 3. Meaning gaussian has expanded.\n",
    "We don't want this in our neural networks, it'll be good if the activations remain the same throught the networks (x->y)"
   ]
  },
  {
   "cell_type": "code",
   "execution_count": 43,
   "id": "f859b782",
   "metadata": {},
   "outputs": [
    {
     "name": "stdout",
     "output_type": "stream",
     "text": [
      "tensor(-0.0097) tensor(0.9965)\n",
      "tensor(-0.0318) tensor(46.8872)\n"
     ]
    },
    {
     "data": {
      "image/png": "[encoded data removed]",
      "text/plain": [
       "<Figure size 2000x500 with 2 Axes>"
      ]
     },
     "metadata": {},
     "output_type": "display_data"
    }
   ],
   "source": [
    "# Let's try to guess the magical number like we did before\n",
    "x = torch.randn(1000, 10)\n",
    "w = torch.randn(10, 200) * 15\n",
    "y = x @ w\n",
    "print(x.mean(), x.std())\n",
    "print(y.mean(), y.std())\n",
    "plt.figure(figsize=(20, 5))\n",
    "plt.subplot(121)\n",
    "plt.hist(x.view(-1).tolist(), 50, density=True);\n",
    "plt.subplot(122)\n",
    "plt.hist(y.view(-1).tolist(), 50, density=True);"
   ]
  },
  {
   "attachments": {},
   "cell_type": "markdown",
   "id": "e0a9319b",
   "metadata": {},
   "source": [
    "The gaussian expands...."
   ]
  },
  {
   "cell_type": "code",
   "execution_count": 44,
   "id": "dc27ecab",
   "metadata": {},
   "outputs": [
    {
     "name": "stdout",
     "output_type": "stream",
     "text": [
      "tensor(0.0214) tensor(0.9981)\n",
      "tensor(-0.0003) tensor(0.6492)\n"
     ]
    },
    {
     "data": {
      "image/png": "[encoded data removed]",
      "text/plain": [
       "<Figure size 2000x500 with 2 Axes>"
      ]
     },
     "metadata": {},
     "output_type": "display_data"
    }
   ],
   "source": [
    "# Let's try to guess the magical number like we did before\n",
    "x = torch.randn(1000, 10)\n",
    "w = torch.randn(10, 200) * 0.2\n",
    "y = x @ w\n",
    "print(x.mean(), x.std())\n",
    "print(y.mean(), y.std())\n",
    "plt.figure(figsize=(20, 5))\n",
    "plt.subplot(121)\n",
    "plt.hist(x.view(-1).tolist(), 50, density=True);\n",
    "plt.subplot(122)\n",
    "plt.hist(y.view(-1).tolist(), 50, density=True);"
   ]
  },
  {
   "cell_type": "markdown",
   "id": "4f9c0fed",
   "metadata": {},
   "source": [
    "The gaussian shrinks...."
   ]
  },
  {
   "attachments": {},
   "cell_type": "markdown",
   "id": "f79c27cd",
   "metadata": {},
   "source": [
    "The correct answer to preserve the standard deviation of 1 mathametically is to divide weights by square root of fan_in(-1 index of w)."
   ]
  },
  {
   "cell_type": "code",
   "execution_count": 45,
   "id": "d432c4d6",
   "metadata": {},
   "outputs": [
    {
     "name": "stdout",
     "output_type": "stream",
     "text": [
      "tensor(-0.0071) tensor(1.0096)\n",
      "tensor(0.0010) tensor(1.0265)\n"
     ]
    },
    {
     "data": {
      "image/png": "[encoded data removed]",
      "text/plain": [
       "<Figure size 2000x500 with 2 Axes>"
      ]
     },
     "metadata": {},
     "output_type": "display_data"
    }
   ],
   "source": [
    "# Square root of fan in\n",
    "x = torch.randn(1000, 10)\n",
    "w = torch.randn(10, 200) / 10 ** 0.5\n",
    "print(x.mean(), x.std())\n",
    "y = x @ w\n",
    "print(y.mean(), y.std())\n",
    "plt.figure(figsize=(20, 5))\n",
    "plt.subplot(121)\n",
    "plt.hist(x.view(-1).tolist(), 50, density=True);\n",
    "plt.subplot(122)\n",
    "plt.hist(y.view(-1).tolist(), 50, density=True);"
   ]
  },
  {
   "attachments": {},
   "cell_type": "markdown",
   "id": "50757954",
   "metadata": {},
   "source": [
    "In case of multi layer perceptrons, there are lot's of layers with different kinds of non-linearities.\n",
    "We want the activations in such networks to behave without expanding infinitley or shringking to zero.\n",
    "\n",
    "How do we initialise the rates, so that activations stay good?\n",
    "\n",
    "[kaiminig he's paper discusses this in detail](https://arxiv.org/pdf/1502.01852v1.pdf)\n",
    "\n",
    "Few excerpts from the paper.\n",
    "\n",
    "* In case of relu, \n",
    "    * The value is discarded if it's negative, essentially discarding half distribution. \n",
    "    * To accodomate this, weights are initialised by square root 2 / fan_in.\n",
    "    * relu will have zero mean and standard deviation of square root 2 / fan_in.\n",
    "\n",
    "* If the initialisation is done properly in forward pass, this also takes holds good for backward propogation.\n",
    "\n",
    "This is also implement in pytorch - [torch.nn.init.kaiming_normal_](https://pytorch.org/docs/stable/nn.init.html)\n",
    "\n",
    "This might probably be the most commom way of initialising neural networks.\n",
    "\n",
    "The gain in case of relu 2 and multiplication 1 changes with respect to activation. kaming_normal_ accepts a nonlinearity variable which changes the gain based on the nonlinearity used.\n",
    "\n",
    "In our case for tanh gain is 5/3.\n",
    "\n",
    "> **Note:** Reiterating why the gain in addition to initialisation. In case of tanh the values gets squashed between -1 and 1. To go back to the actual distirbution of unit standard deviation we use the gain.\n",
    "\n",
    "In 2016, without initialisation of weights the networks's wouldn't have learned at all. But now with modern innovations like batch normalization, better optimizers(adam, rmsprop) have overcome this limitaion of initialisation."
   ]
  },
  {
   "cell_type": "code",
   "execution_count": 46,
   "id": "e9102fbc",
   "metadata": {},
   "outputs": [
    {
     "data": {
      "text/plain": [
       "(tensor(0.2016), tensor(15.0840))"
      ]
     },
     "execution_count": 46,
     "metadata": {},
     "output_type": "execute_result"
    }
   ],
   "source": [
    "# The number we multiply becomes the standard deviation\n",
    "# incase of randn\n",
    "(torch.randn(10000) * 0.2).std(), (torch.randn(10000) * 15).std()"
   ]
  },
  {
   "cell_type": "code",
   "execution_count": 63,
   "id": "832619c2",
   "metadata": {},
   "outputs": [
    {
     "data": {
      "text/plain": [
       "0.3042903097250923"
      ]
     },
     "execution_count": 63,
     "metadata": {},
     "output_type": "execute_result"
    }
   ],
   "source": [
    "(5/3) / (W1.shape[0] ** 0.5) # W1.shape[0] = n_embd * n_hidden = fan_in"
   ]
  },
  {
   "cell_type": "markdown",
   "id": "bf45303a",
   "metadata": {},
   "source": [
    "We've arrived the magical numbe of W! by fiddling with it. But now we've arrived there with concrete explainations behind it.\n",
    "Now we can scale this to a much deeper network."
   ]
  },
  {
   "cell_type": "code",
   "execution_count": 64,
   "id": "8e9654b6",
   "metadata": {},
   "outputs": [
    {
     "name": "stdout",
     "output_type": "stream",
     "text": [
      "Total number of parameters: 11897\n",
      "      0/ 200000: 3.3097\n",
      "  10000/ 200000: 2.0894\n",
      "  20000/ 200000: 2.2969\n",
      "  30000/ 200000: 2.2137\n",
      "  40000/ 200000: 2.0346\n",
      "  50000/ 200000: 2.3579\n",
      "  60000/ 200000: 1.9309\n",
      "  70000/ 200000: 2.0086\n",
      "  80000/ 200000: 2.1751\n",
      "  90000/ 200000: 1.9542\n",
      " 100000/ 200000: 2.1990\n",
      " 110000/ 200000: 2.1659\n",
      " 120000/ 200000: 2.2354\n",
      " 130000/ 200000: 1.5944\n",
      " 140000/ 200000: 2.0789\n",
      " 150000/ 200000: 2.2208\n",
      " 160000/ 200000: 2.0440\n",
      " 170000/ 200000: 1.6595\n",
      " 180000/ 200000: 2.6510\n",
      " 190000/ 200000: 2.2066\n"
     ]
    }
   ],
   "source": [
    "# Reinit weights with tanh kamining init\n",
    "C, W1, b1, W2, b2 = model_parameters(\n",
    "    block_size=block_size,\n",
    "    vocab_size=vocab_size,\n",
    "    n_embd=n_embd,\n",
    "    n_hidden=n_hidden,\n",
    "    seed=torch_seed\n",
    ")\n",
    "\n",
    "C = C\n",
    "W1 = W1 * ((5/3) / (W1.shape[0] ** 0.5))\n",
    "b1 = b1 * 0.01\n",
    "W2 = W2 * 0.01\n",
    "b2 = b2 * 0\n",
    "\n",
    "parameters = [C, W1, b1, W2, b2]\n",
    "for p in parameters:\n",
    "    # To avoid setting requires_grad multiple times\n",
    "    p.requires_grad = True\n",
    "print(f\"Total number of parameters: {sum(p.nelement() for p in parameters)}\")\n",
    "\n",
    "# Full training\n",
    "batch_size = 32\n",
    "lossi = []\n",
    "g = torch.Generator().manual_seed(torch_seed)\n",
    "\n",
    "for i in range(max_steps):\n",
    "  \n",
    "  # minibatch construct\n",
    "  ix = torch.randint(0, Xtr.shape[0], (batch_size,), generator=g)\n",
    "  Xb, Yb = Xtr[ix], Ytr[ix] # batch X,Y\n",
    "  \n",
    "  # forward pass\n",
    "  emb = C[Xb] # embed the characters into vectors\n",
    "  embcat = emb.view(emb.shape[0], -1) # concatenate the vectors\n",
    "  hpreact = embcat @ W1 + b1 # hidden layer pre-activation\n",
    "  h = torch.tanh(hpreact) # hidden layer\n",
    "  logits = h @ W2 + b2 # output layer\n",
    "  loss = F.cross_entropy(logits, Yb) # loss function\n",
    "  \n",
    "  # backward pass\n",
    "  for p in parameters:\n",
    "    p.grad = None\n",
    "  loss.backward()\n",
    "  \n",
    "  # update\n",
    "  lr = 0.1 if i < 100000 else 0.01 # step learning rate decay\n",
    "  for p in parameters:\n",
    "    p.data += -lr * p.grad\n",
    "\n",
    "  # track stats\n",
    "  if i % 10000 == 0: # print every once in a while\n",
    "    print(f'{i:7d}/{max_steps:7d}: {loss.item():.4f}')\n",
    "  lossi.append(loss.log10().item())"
   ]
  },
  {
   "cell_type": "code",
   "execution_count": 65,
   "metadata": {},
   "outputs": [
    {
     "name": "stdout",
     "output_type": "stream",
     "text": [
      "train 2.1343231201171875\n",
      "val 2.201800584793091\n"
     ]
    }
   ],
   "source": [
    "split_loss('train')\n",
    "split_loss('val')"
   ]
  },
  {
   "attachments": {},
   "cell_type": "markdown",
   "id": "5959ea06",
   "metadata": {},
   "source": [
    "Losses after initial loss fix\n",
    "\n",
    "* train 2.068942070007324\n",
    "* val 2.129626750946045\n",
    "\n",
    "Losses after tanh saturation fix \n",
    "\n",
    "* train 2.036576986312866\n",
    "* val 2.1043293476104736\n",
    "\n",
    "Losses after weights initialisation fix \n",
    "\n",
    "* train 2.1343231201171875\n",
    "* val 2.201800584793091\n",
    "\n",
    "We've arrived at the same loss but with a more methodical approach which will we can refer for future initialisations."
   ]
  },
  {
   "attachments": {},
   "cell_type": "markdown",
   "id": "55a58da8",
   "metadata": {},
   "source": [
    "Let's take a look at one of the modern innovations listed above.\n",
    "\n",
    "## Batch Normalization\n",
    "\n",
    "[Batch normalizatio came out in 2015 from google and it made the possiblity of training neural networks reliably](https://arxiv.org/abs/1502.03167).\n",
    "\n",
    "> Without proper initialisation, the hidden stages(like `hpreact`) might be too small or too large. This will lead to dead neurons(because of vanishing gradient or exploding gradient).\n",
    "It’s good to maintain gaussian(zero mean unit std) across network to train model properly.\n",
    "\n",
    "The inference from batch normalization paper -> If what we need is normalization of gaussian in hidden states, why not do that?\n",
    "\n",
    "Let's standardize/normalize the hidden states."
   ]
  },
  {
   "cell_type": "code",
   "execution_count": 66,
   "id": "b91d1971",
   "metadata": {},
   "outputs": [
    {
     "data": {
      "text/plain": [
       "torch.Size([32, 200])"
      ]
     },
     "execution_count": 66,
     "metadata": {},
     "output_type": "execute_result"
    }
   ],
   "source": [
    "hpreact.shape"
   ]
  },
  {
   "attachments": {},
   "cell_type": "markdown",
   "id": "6fbbc69f",
   "metadata": {},
   "source": [
    "To apply normalization to hidden states and preserve gaussian, We've to subract mean and divide it by standrad deviation of the hidden state itself."
   ]
  },
  {
   "cell_type": "code",
   "execution_count": 77,
   "id": "682212af",
   "metadata": {},
   "outputs": [
    {
     "name": "stdout",
     "output_type": "stream",
     "text": [
      "Total number of parameters: 11897\n",
      "      0/ 200000: 3.3146\n",
      "  10000/ 200000: 2.0181\n",
      "  20000/ 200000: 2.3130\n",
      "  30000/ 200000: 2.1532\n",
      "  40000/ 200000: 1.8909\n",
      "  50000/ 200000: 2.3516\n",
      "  60000/ 200000: 1.9933\n",
      "  70000/ 200000: 2.0182\n",
      "  80000/ 200000: 2.2023\n",
      "  90000/ 200000: 2.1136\n",
      " 100000/ 200000: 2.3918\n",
      " 110000/ 200000: 2.0470\n",
      " 120000/ 200000: 2.1618\n",
      " 130000/ 200000: 1.6430\n",
      " 140000/ 200000: 2.1958\n",
      " 150000/ 200000: 2.2629\n",
      " 160000/ 200000: 2.0515\n",
      " 170000/ 200000: 1.6891\n",
      " 180000/ 200000: 2.4893\n",
      " 190000/ 200000: 2.1984\n"
     ]
    }
   ],
   "source": [
    "# Reinit weights with tanh kamining init\n",
    "C, W1, b1, W2, b2 = model_parameters(\n",
    "    block_size=block_size,\n",
    "    vocab_size=vocab_size,\n",
    "    n_embd=n_embd,\n",
    "    n_hidden=n_hidden,\n",
    "    seed=torch_seed\n",
    ")\n",
    "\n",
    "C = C\n",
    "W1 = W1 * ((5/3) / (W1.shape[0] ** 0.5))\n",
    "b1 = b1 * 0.01\n",
    "W2 = W2 * 0.01\n",
    "b2 = b2 * 0\n",
    "\n",
    "parameters = [C, W1, b1, W2, b2]\n",
    "for p in parameters:\n",
    "    # To avoid setting requires_grad multiple times\n",
    "    p.requires_grad = True\n",
    "print(f\"Total number of parameters: {sum(p.nelement() for p in parameters)}\")\n",
    "\n",
    "# Full training\n",
    "batch_size = 32\n",
    "lossi = []\n",
    "g = torch.Generator().manual_seed(torch_seed)\n",
    "\n",
    "for i in range(max_steps):\n",
    "  \n",
    "  # minibatch construct\n",
    "  ix = torch.randint(0, Xtr.shape[0], (batch_size,), generator=g)\n",
    "  Xb, Yb = Xtr[ix], Ytr[ix] # batch X,Y\n",
    "  \n",
    "  # forward pass\n",
    "  emb = C[Xb] # embed the characters into vectors\n",
    "  embcat = emb.view(emb.shape[0], -1) # concatenate the vectors\n",
    "  hpreact = embcat @ W1 + b1 # hidden layer pre-activation\n",
    "  hpreact = hpreact - hpreact.mean(0, keepdim=True) / hpreact.std(0, keepdim=True)\n",
    "  h = torch.tanh(hpreact) # hidden layer\n",
    "  logits = h @ W2 + b2 # output layer\n",
    "  loss = F.cross_entropy(logits, Yb) # loss function\n",
    "  \n",
    "  # backward pass\n",
    "  for p in parameters:\n",
    "    p.grad = None\n",
    "  loss.backward()\n",
    "  \n",
    "  # update\n",
    "  lr = 0.1 if i < 100000 else 0.01 # step learning rate decay\n",
    "  for p in parameters:\n",
    "    p.data += -lr * p.grad\n",
    "\n",
    "  # track stats\n",
    "  if i % 10000 == 0: # print every once in a while\n",
    "    print(f'{i:7d}/{max_steps:7d}: {loss.item():.4f}')\n",
    "  lossi.append(loss.log10().item())"
   ]
  },
  {
   "cell_type": "code",
   "execution_count": 78,
   "id": "a81dcb15",
   "metadata": {},
   "outputs": [
    {
     "name": "stdout",
     "output_type": "stream",
     "text": [
      "train 2.041414260864258\n",
      "val 2.110731363296509\n"
     ]
    }
   ],
   "source": [
    "@torch.no_grad() # decorator disable gradient tracking'\n",
    "def split_loss(split):\n",
    "    x, y = {\n",
    "        'train': (Xtr, Ytr),\n",
    "        'val': (Xdev, Ydev),\n",
    "        'test': (Xte, Yte)\n",
    "    }[split]\n",
    "    emb = C[x] # (N, block_size, n_embd)\n",
    "    embcat = emb.view(emb.shape[0], -1) # concate into (N, block_size * n_embd)\n",
    "    hpreact = embcat @ W1 + b1 # hidden layer pre-activation\n",
    "    hpreact = hpreact - hpreact.mean(0, keepdim=True) / hpreact.std(0, keepdim=True)\n",
    "    h = torch.tanh(hpreact) # (N, vocab_size)\n",
    "    logits = h @ W2 + b2\n",
    "    loss = F.cross_entropy(logits, y)\n",
    "    print(split, loss.item())\n",
    "split_loss('train')\n",
    "split_loss('val')"
   ]
  },
  {
   "attachments": {},
   "cell_type": "markdown",
   "id": "0c97a753",
   "metadata": {},
   "source": [
    "There is repeating pattern n loss here, This is because hidden states is reset everytime not allowing the model to learn. We want the hidden states be roughly gaussian at initialisation and not to be forced to be gaussian all the time.\n",
    "\n",
    "We would like the neural net to shrink or maximise or make few neurons dead in this distrbution(shringk, maximise, etc happens based on activation).\n",
    "How do we get this information? - `via backpropogation.\n",
    "\n",
    "In addition to standardistaion \n",
    "```hpreact = hpreact - hpreact.mean(0, keepdim=True) / hpreact.std(0, keepdim=True)```\n",
    "We'll have a shift(offset) and scale on inputs. We'll scale them by gain and offset them by shift."
   ]
  },
  {
   "cell_type": "code",
   "execution_count": 79,
   "id": "1f247785",
   "metadata": {},
   "outputs": [
    {
     "name": "stdout",
     "output_type": "stream",
     "text": [
      "Total number of parameters: 12297\n",
      "      0/ 200000: 3.3158\n",
      "  10000/ 200000: 2.0800\n",
      "  20000/ 200000: 2.3868\n",
      "  30000/ 200000: 2.1724\n",
      "  40000/ 200000: 2.0776\n",
      "  50000/ 200000: 2.3625\n",
      "  60000/ 200000: 2.0480\n",
      "  70000/ 200000: 2.0018\n",
      "  80000/ 200000: 2.3193\n",
      "  90000/ 200000: 2.0728\n",
      " 100000/ 200000: 2.1846\n",
      " 110000/ 200000: 2.0521\n",
      " 120000/ 200000: 2.2042\n",
      " 130000/ 200000: 1.7086\n",
      " 140000/ 200000: 2.1710\n",
      " 150000/ 200000: 2.2594\n",
      " 160000/ 200000: 2.1302\n",
      " 170000/ 200000: 1.7330\n",
      " 180000/ 200000: 2.5827\n",
      " 190000/ 200000: 2.3453\n"
     ]
    }
   ],
   "source": [
    "# Adding gain of ones and shift of zeros.\n",
    "# Reinit weights with tanh kamining init\n",
    "C, W1, b1, W2, b2 = model_parameters(\n",
    "    block_size=block_size,\n",
    "    vocab_size=vocab_size,\n",
    "    n_embd=n_embd,\n",
    "    n_hidden=n_hidden,\n",
    "    seed=torch_seed\n",
    ")\n",
    "\n",
    "C = C\n",
    "W1 = W1 * ((5/3) / (W1.shape[-1] ** 0.5))\n",
    "b1 = b1 * 0.01\n",
    "W2 = W2 * 0.01\n",
    "b2 = b2 * 0\n",
    "\n",
    "bngain = torch.ones((1, n_hidden))\n",
    "bnbias = torch.zeros((1, n_hidden))\n",
    "\n",
    "parameters = [C, W1, b1, W2, b2, bngain, bnbias]\n",
    "for p in parameters:\n",
    "    # To avoid setting requires_grad multiple times\n",
    "    p.requires_grad = True\n",
    "print(f\"Total number of parameters: {sum(p.nelement() for p in parameters)}\")\n",
    "\n",
    "# Full training\n",
    "batch_size = 32\n",
    "lossi = []\n",
    "g = torch.Generator().manual_seed(torch_seed)\n",
    "\n",
    "for i in range(max_steps):\n",
    "  \n",
    "  # minibatch construct\n",
    "  ix = torch.randint(0, Xtr.shape[0], (batch_size,), generator=g)\n",
    "  Xb, Yb = Xtr[ix], Ytr[ix] # batch X,Y\n",
    "  \n",
    "  # forward pass\n",
    "  emb = C[Xb] # embed the characters into vectors\n",
    "  embcat = emb.view(emb.shape[0], -1) # concatenate the vectors\n",
    "  hpreact = embcat @ W1 + b1 # hidden layer pre-activation\n",
    "  hpreact = bngain * (hpreact - hpreact.mean(0, keepdim=True)) / hpreact.std(0, keepdim=True) + bnbias\n",
    "  h = torch.tanh(hpreact) # hidden layer\n",
    "  logits = h @ W2 + b2 # output layer\n",
    "  loss = F.cross_entropy(logits, Yb) # loss function\n",
    "  \n",
    "  # backward pass\n",
    "  for p in parameters:\n",
    "    p.grad = None\n",
    "  loss.backward()\n",
    "  \n",
    "  # update\n",
    "  lr = 0.1 if i < 100000 else 0.01 # step learning rate decay\n",
    "  for p in parameters:\n",
    "    p.data += -lr * p.grad\n",
    "\n",
    "  # track stats\n",
    "  if i % 10000 == 0: # print every once in a while\n",
    "    print(f'{i:7d}/{max_steps:7d}: {loss.item():.4f}')\n",
    "  lossi.append(loss.log10().item())"
   ]
  },
  {
   "attachments": {},
   "cell_type": "markdown",
   "id": "2c98fb76",
   "metadata": {},
   "source": [
    "bngain is ones and bnbias is zeros at initialisation, effectivley giving us gaussian distribution with zero mean and unit standard deviation irrespective of what comes in hpreact.(roughly what we want at initialisation)\n",
    "\n",
    "Intution: How we dervied the magical number, bngain mulitpled with inputs meaning inputs has a std of bngain and offset by bnbias meaning input mean of bnbias.\n",
    "\n",
    "During optimization, bngain and bnbias will be backpropagted and network has full abilites to modify them internally - chaning the gaussian."
   ]
  },
  {
   "cell_type": "code",
   "execution_count": 80,
   "id": "f44faaac",
   "metadata": {},
   "outputs": [
    {
     "name": "stdout",
     "output_type": "stream",
     "text": [
      "train 2.0610263347625732\n",
      "val 2.1061418056488037\n"
     ]
    }
   ],
   "source": [
    "@torch.no_grad() # decorator disable gradient tracking'\n",
    "def split_loss(split):\n",
    "    x, y = {\n",
    "        'train': (Xtr, Ytr),\n",
    "        'val': (Xdev, Ydev),\n",
    "        'test': (Xte, Yte)\n",
    "    }[split]\n",
    "    emb = C[x] # (N, block_size, n_embd)\n",
    "    embcat = emb.view(emb.shape[0], -1) # concate into (N, block_size * n_embd)\n",
    "    hpreact = embcat @ W1 + b1 # hidden layer pre-activation\n",
    "    hpreact = bngain * (hpreact - hpreact.mean(0, keepdim=True)) / hpreact.std(0, keepdim=True) + bnbias\n",
    "    h = torch.tanh(hpreact) # (N, vocab_size)\n",
    "    logits = h @ W2 + b2\n",
    "    loss = F.cross_entropy(logits, y)\n",
    "    print(split, loss.item())\n",
    "split_loss('train')\n",
    "split_loss('val')"
   ]
  },
  {
   "cell_type": "code",
   "execution_count": 71,
   "id": "8ab11837",
   "metadata": {},
   "outputs": [
    {
     "data": {
      "text/plain": [
       "[<matplotlib.lines.Line2D at 0x7fdd48323dc0>]"
      ]
     },
     "execution_count": 71,
     "metadata": {},
     "output_type": "execute_result"
    },
    {
     "data": {
      "image/png": "[encoded data removed]",
      "text/plain": [
       "<Figure size 640x480 with 1 Axes>"
      ]
     },
     "metadata": {},
     "output_type": "display_data"
    }
   ],
   "source": [
    "plt.plot(lossi)"
   ]
  },
  {
   "attachments": {},
   "cell_type": "markdown",
   "id": "2ea83989",
   "metadata": {},
   "source": [
    "Losses after initial loss fix\n",
    "\n",
    "* train 2.068942070007324\n",
    "* val 2.129626750946045\n",
    "\n",
    "Losses after tanh saturation fix \n",
    "\n",
    "* train 2.036576986312866\n",
    "* val 2.1043293476104736\n",
    "\n",
    "Losses after weights initialisation fix \n",
    "\n",
    "* train 2.1343231201171875\n",
    "* val 2.201800584793091\n",
    "\n",
    "Losses after batch normalization fix\n",
    "\n",
    "* train 2.0610263347625732\n",
    "* val 2.1061418056488037\n",
    "\n",
    "The loss after batch normalization is similar to some of previous results. This is because we're dealing with really simple neural network with one hidden layer.\n",
    "The distribution at hpreact maybe already gaussian because of the mathametical intialisation of W1.\n",
    "\n",
    "But for a deep neural network with lots of layers, it's difficult to find the intialisation value using mathametics considering all activations. This method of initialising weights is not feasible.\n",
    "In this scenario, just by appending a batch normalization layer after each linear layer. We can stabilize the distribution throughout the network (which is network stabilization itself) and achieve good training."
   ]
  },
  {
   "attachments": {},
   "cell_type": "markdown",
   "id": "ec712282",
   "metadata": {},
   "source": [
    "### Walkthroug of batch norm differences, adv, disadv\n",
    "\n",
    "There are some changes in neural network because of batch normalization.\n",
    "\n",
    "At first, one input was passed -> activation -> logits. This was deterministic(which logits belongs to which input).\n",
    "\n",
    "Next for effeciency, we started processing inputs as inputs and each batch was processed independently.\n",
    "\n",
    "Now with batch normalization in the batch, the inputs are coupled mathametically in forward and backward pass. Now the hidden state(hpreact) and logits are not just a function of input but all other inputs that came for ride in that batch and these examples are sampled randomnly.\n",
    "\n",
    "So hpreact changes subtly with respect to the other inputs came in the batch. Since hpreact changes, there'll be a jitter for h and subsequently jitter for logits as well.\n",
    "\n",
    "This is not a bad thing as a side effect. It kind of act's like a regularizer. We've our h and it's padded out with respect to other inputs in the batch.\n",
    "\n",
    "This introduces some randomness(entropy) to the neural network, because it auguments the input with respect to other inputs in batch and reducing the chances of overfit on training data.\n",
    "\n",
    "The side effect augumentation regularizer the neural network for training data.\n",
    "\n",
    "> Warning⚠️: This mathametical coupling in forward and backward pass for a single input is not desirable as it introduces bugs and gives strange results. Because of this some other techniques like layer normalization, instance normalization came up.\n",
    "\n",
    "> Summary: Batch normalization was first normalization layer and had regularization efect which stabilized training. Because of regularization effect peopele tried to move on dother normalization techniques. But this worked really well becuase it is quite effective at controlling activations and their distributions.\n",
    "\n",
    "> Tidbit: Regularization effect of batch normalization is a double edged sword."
   ]
  },
  {
   "attachments": {},
   "cell_type": "markdown",
   "id": "34834610",
   "metadata": {},
   "source": [
    "### Deployment scenario\n",
    "\n",
    "Once we're done with training, we'll deploy this in a setting where we pass a single input to get output.\n",
    "\n",
    "But with batch normalization the networks excepts a input of batch to calculate mean and standard deviation.\n",
    "\n",
    "Batch normalization paper proopses to calculate batch norm mean and batch norm standara deviation on training set once after training."
   ]
  },
  {
   "cell_type": "markdown",
   "id": "e9764987",
   "metadata": {},
   "source": [
    "#### Calculate bnmean and bnstd for entire training set"
   ]
  },
  {
   "cell_type": "code",
   "execution_count": 85,
   "id": "85ef6744",
   "metadata": {},
   "outputs": [],
   "source": [
    "# Calibrate the batch norm at the end of training\n",
    "\n",
    "with torch.no_grad():\n",
    "    emb = C[Xtr]\n",
    "    embcat = emb.view(emb.shape[0], -1)\n",
    "    hpreact = embcat @ W1 + b1\n",
    "    # measure mean/std over entire training set\n",
    "    bnmean = hpreact.mean(0, keepdim=True)\n",
    "    bnstd = hpreact.std(0, keepdim=True)"
   ]
  },
  {
   "cell_type": "code",
   "execution_count": 86,
   "id": "6fbf3c00",
   "metadata": {},
   "outputs": [
    {
     "name": "stdout",
     "output_type": "stream",
     "text": [
      "train 2.0610263347625732\n",
      "val 2.1060900688171387\n"
     ]
    }
   ],
   "source": [
    "# Update bnmean, bnloss in test time\n",
    "@torch.no_grad() # decorator disable gradient tracking'\n",
    "def split_loss(split):\n",
    "    x, y = {\n",
    "        'train': (Xtr, Ytr),\n",
    "        'val': (Xdev, Ydev),\n",
    "        'test': (Xte, Yte)\n",
    "    }[split]\n",
    "    emb = C[x] # (N, block_size, n_embd)\n",
    "    embcat = emb.view(emb.shape[0], -1) # concate into (N, block_size * n_embd)\n",
    "    hpreact = embcat @ W1 + b1 # hidden layer pre-activation\n",
    "    hpreact = bngain * (hpreact - bnmean) / bnstd + bnbias\n",
    "    h = torch.tanh(hpreact) # (N, vocab_size)\n",
    "    logits = h @ W2 + b2\n",
    "    loss = F.cross_entropy(logits, y)\n",
    "    print(split, loss.item())\n",
    "split_loss('train')\n",
    "split_loss('val')"
   ]
  },
  {
   "attachments": {},
   "cell_type": "markdown",
   "id": "c0809f89",
   "metadata": {},
   "source": [
    "The loss is identitical in test setting, the benefit is we achieve this without passing a batch and a single input.\n",
    "\n",
    "We don't want to have seperate stage after training to calculate bnmean and bnstd.\n",
    "\n",
    "The paper proposes to calculate and update running mean during training outside backpropgation.\n",
    "\n",
    "#### Adding bnmean and bnstd calculation in training."
   ]
  },
  {
   "cell_type": "code",
   "execution_count": 94,
   "id": "484272a2",
   "metadata": {},
   "outputs": [
    {
     "name": "stdout",
     "output_type": "stream",
     "text": [
      "Total number of parameters: 12297\n",
      "      0/ 200000: 3.3158\n",
      "  10000/ 200000: 2.0800\n",
      "  20000/ 200000: 2.3868\n",
      "  30000/ 200000: 2.1724\n",
      "  40000/ 200000: 2.0776\n",
      "  50000/ 200000: 2.3625\n",
      "  60000/ 200000: 2.0480\n",
      "  70000/ 200000: 2.0018\n",
      "  80000/ 200000: 2.3193\n",
      "  90000/ 200000: 2.0728\n",
      " 100000/ 200000: 2.1846\n",
      " 110000/ 200000: 2.0521\n",
      " 120000/ 200000: 2.2042\n",
      " 130000/ 200000: 1.7086\n",
      " 140000/ 200000: 2.1710\n",
      " 150000/ 200000: 2.2594\n",
      " 160000/ 200000: 2.1302\n",
      " 170000/ 200000: 1.7330\n",
      " 180000/ 200000: 2.5827\n",
      " 190000/ 200000: 2.3453\n"
     ]
    }
   ],
   "source": [
    "max_steps = 200000\n",
    "batch_size = 32\n",
    "lossi = []\n",
    "\n",
    "C, W1, b1, W2, b2 = model_parameters(\n",
    "    block_size=block_size,\n",
    "    vocab_size=vocab_size,\n",
    "    n_embd=n_embd,\n",
    "    n_hidden=n_hidden,\n",
    "    seed=torch_seed\n",
    ")\n",
    "\n",
    "C = C\n",
    "W1 = W1 * ((5/3) / (W1.shape[-1] ** 0.5))\n",
    "b1 = b1 * 0.01\n",
    "W2 = W2 * 0.01\n",
    "b2 = b2 * 0\n",
    "\n",
    "bngain = torch.ones((1, n_hidden))\n",
    "bnbias = torch.zeros((1, n_hidden))\n",
    "\n",
    "# Assiging zero mean and unit std\n",
    "# because initialisation of W1 gives a zero meain unit std gaussian ditribution\n",
    "bnmean_running = torch.zeros((1, n_hidden))\n",
    "bnstd_running = torch.ones((1, n_hidden))\n",
    "\n",
    "parameters = [C, W1, b1, W2, b2, bngain, bnbias]\n",
    "for p in parameters:\n",
    "    # To avoid setting requires_grad multiple times\n",
    "    p.requires_grad = True\n",
    "print(f\"Total number of parameters: {sum(p.nelement() for p in parameters)}\")\n",
    "\n",
    "# Full training\n",
    "batch_size = 32\n",
    "lossi = []\n",
    "g = torch.Generator().manual_seed(torch_seed)\n",
    "\n",
    "for i in range(max_steps):\n",
    "  \n",
    "  # minibatch construct\n",
    "  ix = torch.randint(0, Xtr.shape[0], (batch_size,), generator=g)\n",
    "  Xb, Yb = Xtr[ix], Ytr[ix] # batch X,Y\n",
    "  \n",
    "  # forward pass\n",
    "  emb = C[Xb] # embed the characters into vectors\n",
    "  embcat = emb.view(emb.shape[0], -1) # concatenate the vectors\n",
    "  hpreact = embcat @ W1 + b1 # hidden layer pre-activation\n",
    "  bnmeani = hpreact.mean(0, keepdim=True)\n",
    "  bnstdi = hpreact.std(0, keepdim=True)\n",
    "  hpreact = bngain * (hpreact - bnmeani) / bnstdi + bnbias\n",
    "  \n",
    "  with torch.no_grad():\n",
    "    # Nuding running mean and running std slightly with respect to batch mean and batch std\n",
    "    bnmean_running = 0.999 * bnmean_running + 0.001 * bnmeani\n",
    "    bnstd_running = 0.999 * bnstd_running + 0.001 * bnstdi\n",
    "\n",
    "  h = torch.tanh(hpreact) # hidden layer\n",
    "  logits = h @ W2 + b2 # output layer\n",
    "  loss = F.cross_entropy(logits, Yb) # loss function\n",
    "  \n",
    "  # backward pass\n",
    "  for p in parameters:\n",
    "    p.grad = None\n",
    "  loss.backward()\n",
    "  \n",
    "  # update\n",
    "  lr = 0.1 if i < 100000 else 0.01 # step learning rate decay\n",
    "  for p in parameters:\n",
    "    p.data += -lr * p.grad\n",
    "\n",
    "  # track stats\n",
    "  if i % 10000 == 0: # print every once in a while\n",
    "    print(f'{i:7d}/{max_steps:7d}: {loss.item():.4f}')\n",
    "  lossi.append(loss.log10().item())"
   ]
  },
  {
   "cell_type": "markdown",
   "id": "b46a3bdd",
   "metadata": {},
   "source": [
    "Now bnstd, bnmea should be near bnmean_running and bnstd_running."
   ]
  },
  {
   "cell_type": "code",
   "execution_count": 95,
   "metadata": {},
   "outputs": [
    {
     "data": {
      "text/plain": [
       "tensor([[-1.6862e+00,  2.5819e-01, -2.0339e+00,  1.3228e+00,  8.7459e-01,\n",
       "          1.1339e+00,  9.9648e-01,  8.6390e-01,  1.2927e-01,  6.7630e-01,\n",
       "         -1.4872e+00, -1.1275e+00, -3.3669e-01,  5.3425e-01, -7.6715e-01,\n",
       "          3.3806e-01,  9.0594e-01, -1.9769e+00, -9.4795e-01,  8.4665e-02,\n",
       "         -3.5957e-02, -8.5726e-01,  7.7996e-01,  1.2519e+00,  2.1238e-01,\n",
       "          1.1727e+00,  1.4899e+00,  2.2761e-01,  7.4511e-01,  1.5713e+00,\n",
       "          5.8231e-02, -6.5124e-01, -1.3006e+00, -2.5600e-01,  9.0963e-01,\n",
       "         -1.8543e-01, -7.4085e-01, -1.7672e-01, -2.0605e-01,  1.8438e-01,\n",
       "         -7.0214e-01, -3.6324e-01,  6.4814e-01, -5.7135e-01,  6.6818e-01,\n",
       "         -6.5846e-01,  2.1459e+00, -4.8407e-01,  3.3681e-01,  6.8783e-01,\n",
       "          1.3092e+00, -2.4661e+00,  2.2820e-01,  1.8144e+00,  8.3149e-01,\n",
       "         -1.8008e+00, -2.9569e-01, -1.3367e-03,  2.8145e-01, -1.7104e+00,\n",
       "         -4.1502e-01,  2.1912e-01,  1.6134e+00,  4.0454e-01,  1.2056e+00,\n",
       "          2.9683e-01,  2.1951e-02,  1.5902e+00, -8.1241e-02, -3.7086e-01,\n",
       "         -1.4087e+00,  2.4364e-01,  5.9976e-01, -8.2588e-01, -2.3159e+00,\n",
       "          3.6926e-01,  6.6251e-01, -1.7476e-01,  3.1978e-01,  3.6747e-01,\n",
       "          7.1632e-01,  1.7264e+00,  8.7378e-01,  6.6536e-02,  1.6304e+00,\n",
       "          4.5444e-01, -5.9355e-01,  2.6377e-01,  1.9563e+00,  6.1936e-01,\n",
       "         -1.6673e-01,  7.4793e-01,  1.5158e+00, -1.6763e-01, -2.1045e+00,\n",
       "          9.8355e-01, -5.2164e-01, -5.7702e-01,  7.4174e-01, -1.0604e+00,\n",
       "          9.5197e-01, -1.1798e+00, -7.3559e-01, -2.1934e-01, -1.2418e-01,\n",
       "          2.2906e-01, -3.4064e-01,  7.5042e-01,  1.2548e-01, -1.0142e+00,\n",
       "          7.4788e-01,  4.2170e-01,  3.8214e-02,  1.5658e+00,  2.1885e+00,\n",
       "          1.3681e+00, -1.1567e-01,  3.7285e-01,  1.4349e+00, -6.0028e-01,\n",
       "         -1.7275e+00,  3.7765e-02, -3.6865e-01,  1.0739e+00, -5.4781e-01,\n",
       "         -1.5897e-02, -6.7473e-01, -8.4663e-01, -6.6126e-01, -6.7900e-01,\n",
       "          1.9848e+00,  6.3382e-03,  5.9921e-01,  1.1967e+00,  4.8288e-01,\n",
       "         -4.2311e-01, -2.4823e-01,  8.9699e-01,  2.2342e-01,  7.2064e-01,\n",
       "         -1.1839e+00,  1.2098e+00,  7.0359e-01,  1.1534e+00, -3.7657e-01,\n",
       "          2.5930e-01,  1.8716e+00, -7.8839e-01,  6.8596e-02,  1.1434e+00,\n",
       "         -6.1832e-01,  1.8736e-01,  1.0017e+00,  2.8915e-01,  1.2063e-01,\n",
       "         -5.5527e-02,  7.0949e-01, -1.4977e+00,  2.5173e-01, -2.5109e-01,\n",
       "          8.5483e-01, -5.7019e-01, -7.2848e-01, -2.5517e-01, -1.4977e+00,\n",
       "         -5.9027e-01,  1.0107e-01,  2.2736e-01, -2.6393e+00, -5.2726e-01,\n",
       "          1.2319e+00, -1.8743e+00,  2.7882e-02, -1.3111e+00, -8.2086e-01,\n",
       "          5.4519e-01,  1.5349e+00, -1.9685e+00,  6.2036e-01, -7.8187e-04,\n",
       "          1.8216e+00,  1.1848e+00,  4.0923e-01,  3.0008e-01,  1.8093e-01,\n",
       "          8.0025e-01,  1.6571e-02, -9.0399e-01,  2.2311e+00,  8.8105e-01,\n",
       "          1.2519e+00,  1.4443e+00, -2.4639e-01,  6.7026e-01,  1.7606e+00,\n",
       "          6.4721e-01,  1.1373e+00, -4.2225e-01, -4.8635e-01,  1.3535e+00]])"
      ]
     },
     "execution_count": 95,
     "metadata": {},
     "output_type": "execute_result"
    }
   ],
   "source": [
    "bnmean"
   ]
  },
  {
   "cell_type": "code",
   "execution_count": 96,
   "id": "b6d33e47",
   "metadata": {},
   "outputs": [
    {
     "data": {
      "text/plain": [
       "tensor([[-1.6807e+00,  2.6440e-01, -2.0426e+00,  1.3272e+00,  8.6582e-01,\n",
       "          1.1309e+00,  9.8070e-01,  8.6705e-01,  1.2039e-01,  6.6230e-01,\n",
       "         -1.4832e+00, -1.1298e+00, -3.1863e-01,  5.2248e-01, -7.6075e-01,\n",
       "          3.5384e-01,  9.0764e-01, -1.9826e+00, -9.5958e-01,  7.7599e-02,\n",
       "         -3.6109e-02, -8.3590e-01,  7.8474e-01,  1.2454e+00,  2.1839e-01,\n",
       "          1.1741e+00,  1.4852e+00,  2.2714e-01,  7.4496e-01,  1.5691e+00,\n",
       "          6.4142e-02, -6.4917e-01, -1.3043e+00, -2.5527e-01,  9.1913e-01,\n",
       "         -1.8312e-01, -7.3207e-01, -1.8875e-01, -2.0911e-01,  1.8820e-01,\n",
       "         -7.0145e-01, -3.7654e-01,  6.5075e-01, -5.8726e-01,  6.7461e-01,\n",
       "         -6.5324e-01,  2.1470e+00, -4.7849e-01,  3.3241e-01,  6.8591e-01,\n",
       "          1.2959e+00, -2.4643e+00,  2.2941e-01,  1.7964e+00,  8.2476e-01,\n",
       "         -1.7991e+00, -3.0315e-01, -3.9603e-03,  2.8062e-01, -1.7011e+00,\n",
       "         -4.1958e-01,  2.1061e-01,  1.6052e+00,  3.9880e-01,  1.2109e+00,\n",
       "          3.0187e-01,  2.2500e-02,  1.5830e+00, -9.3150e-02, -3.6517e-01,\n",
       "         -1.4060e+00,  2.5263e-01,  6.0422e-01, -8.2680e-01, -2.3086e+00,\n",
       "          3.5898e-01,  6.6510e-01, -1.6412e-01,  3.2522e-01,  3.5400e-01,\n",
       "          7.2030e-01,  1.7280e+00,  8.6517e-01,  6.2636e-02,  1.6157e+00,\n",
       "          4.5380e-01, -5.9341e-01,  2.6457e-01,  1.9457e+00,  6.1942e-01,\n",
       "         -1.6492e-01,  7.5064e-01,  1.5178e+00, -1.6940e-01, -2.1077e+00,\n",
       "          9.7529e-01, -5.3091e-01, -5.8239e-01,  7.4061e-01, -1.0536e+00,\n",
       "          9.5784e-01, -1.1622e+00, -7.3404e-01, -2.1500e-01, -1.2202e-01,\n",
       "          2.2704e-01, -3.3726e-01,  7.5676e-01,  1.2095e-01, -1.0128e+00,\n",
       "          7.4384e-01,  4.3406e-01,  3.1145e-02,  1.5610e+00,  2.1756e+00,\n",
       "          1.3634e+00, -1.0816e-01,  3.7188e-01,  1.4304e+00, -6.0274e-01,\n",
       "         -1.7370e+00,  3.5627e-02, -3.8210e-01,  1.0762e+00, -5.4699e-01,\n",
       "         -2.3442e-02, -6.8110e-01, -8.4010e-01, -6.5788e-01, -6.7327e-01,\n",
       "          1.9805e+00,  1.2164e-03,  6.1124e-01,  1.1939e+00,  4.8309e-01,\n",
       "         -4.2912e-01, -2.5062e-01,  8.9602e-01,  2.3488e-01,  7.1608e-01,\n",
       "         -1.1681e+00,  1.1982e+00,  6.9911e-01,  1.1501e+00, -3.7337e-01,\n",
       "          2.6119e-01,  1.8675e+00, -7.8849e-01,  6.6204e-02,  1.1391e+00,\n",
       "         -6.3053e-01,  1.9721e-01,  1.0030e+00,  2.8602e-01,  1.1803e-01,\n",
       "         -5.6782e-02,  7.0197e-01, -1.4944e+00,  2.5823e-01, -2.4944e-01,\n",
       "          8.4794e-01, -5.6745e-01, -7.2728e-01, -2.4727e-01, -1.4822e+00,\n",
       "         -5.8990e-01,  1.1024e-01,  2.2935e-01, -2.6234e+00, -5.1894e-01,\n",
       "          1.2174e+00, -1.8731e+00,  2.2136e-02, -1.3096e+00, -8.1721e-01,\n",
       "          5.5368e-01,  1.5218e+00, -1.9746e+00,  6.2395e-01, -2.2300e-03,\n",
       "          1.8194e+00,  1.1851e+00,  4.1733e-01,  3.0025e-01,  1.8137e-01,\n",
       "          7.9223e-01,  2.4227e-02, -9.0078e-01,  2.2351e+00,  8.7844e-01,\n",
       "          1.2448e+00,  1.4497e+00, -2.4653e-01,  6.6350e-01,  1.7667e+00,\n",
       "          6.3809e-01,  1.1311e+00, -4.1883e-01, -4.7501e-01,  1.3478e+00]])"
      ]
     },
     "execution_count": 96,
     "metadata": {},
     "output_type": "execute_result"
    }
   ],
   "source": [
    "bnmean_running"
   ]
  },
  {
   "cell_type": "code",
   "execution_count": 97,
   "id": "97d14225",
   "metadata": {},
   "outputs": [
    {
     "data": {
      "text/plain": [
       "tensor([[2.2843, 1.9237, 2.0461, 2.0205, 1.8500, 2.1933, 1.9701, 2.4522, 1.9835,\n",
       "         1.8217, 2.4173, 2.0064, 1.8536, 1.7657, 1.7770, 2.1947, 2.0739, 1.9630,\n",
       "         2.1421, 2.0087, 1.6384, 1.9117, 1.5806, 1.8096, 1.7552, 2.0874, 1.7421,\n",
       "         2.1437, 2.1504, 2.0433, 1.6857, 1.8339, 1.8224, 1.6137, 1.8212, 1.7351,\n",
       "         1.7090, 1.5274, 1.9057, 1.7291, 1.8853, 1.8160, 2.1869, 1.4583, 1.6292,\n",
       "         1.7582, 2.1844, 1.9622, 1.9280, 1.8446, 1.8106, 2.1781, 1.8581, 1.6204,\n",
       "         1.8955, 1.8551, 1.7168, 1.6878, 1.8961, 1.9690, 1.8301, 1.6934, 1.9103,\n",
       "         2.4200, 2.1662, 2.1124, 1.8788, 1.9543, 1.8118, 1.9758, 1.8722, 1.7995,\n",
       "         1.9963, 1.9294, 1.7502, 1.7379, 2.1796, 2.0179, 1.4349, 2.0351, 1.2414,\n",
       "         2.1808, 1.7088, 1.8171, 2.0794, 2.2421, 1.7146, 2.0418, 2.2659, 2.2996,\n",
       "         1.6870, 1.9011, 2.2403, 1.8014, 1.5974, 2.1535, 1.7738, 1.5238, 1.7140,\n",
       "         1.9879, 1.8938, 1.7407, 1.8881, 1.9162, 2.2400, 1.9024, 1.6726, 1.8585,\n",
       "         1.7542, 1.9229, 1.8478, 1.9290, 1.7977, 2.1152, 2.5812, 1.9989, 1.7333,\n",
       "         1.4117, 1.5849, 1.7220, 2.0667, 1.8487, 1.8820, 1.9653, 2.0617, 1.6179,\n",
       "         2.0238, 1.9936, 1.6599, 2.0002, 1.8042, 2.3206, 1.8957, 1.4598, 1.9156,\n",
       "         1.9852, 1.7511, 2.0907, 1.6588, 1.8558, 2.0803, 1.9216, 1.7517, 2.1014,\n",
       "         1.9000, 1.8532, 1.7217, 1.9771, 1.5111, 1.3871, 1.7769, 1.7278, 1.6118,\n",
       "         1.7630, 2.1964, 1.7316, 1.8473, 1.7542, 1.6274, 1.8693, 1.8361, 1.5849,\n",
       "         1.8852, 1.9815, 1.8006, 1.8771, 1.7103, 2.0782, 2.0434, 1.8050, 1.6684,\n",
       "         1.8274, 1.8913, 1.7299, 2.1024, 1.6356, 1.9738, 2.0027, 1.9596, 1.6891,\n",
       "         2.1775, 1.7946, 1.8213, 1.5136, 1.9088, 1.8888, 1.7920, 1.7469, 1.6464,\n",
       "         2.3029, 1.9369, 1.9148, 1.7457, 2.0205, 1.9407, 2.0584, 1.4650, 2.1489,\n",
       "         1.9909, 1.6663]])"
      ]
     },
     "execution_count": 97,
     "metadata": {},
     "output_type": "execute_result"
    }
   ],
   "source": [
    "bnstd"
   ]
  },
  {
   "cell_type": "code",
   "execution_count": 98,
   "id": "f0152ff5",
   "metadata": {},
   "outputs": [
    {
     "data": {
      "text/plain": [
       "tensor([[2.2507, 1.8975, 2.0348, 1.9912, 1.8188, 2.1584, 1.9510, 2.4354, 1.9619,\n",
       "         1.7831, 2.3995, 1.9863, 1.8250, 1.7437, 1.7553, 2.1745, 2.0541, 1.9435,\n",
       "         2.1247, 1.9861, 1.6254, 1.8826, 1.5634, 1.7869, 1.7428, 2.0675, 1.7219,\n",
       "         2.1132, 2.1282, 2.0098, 1.6748, 1.8192, 1.8167, 1.5851, 1.8047, 1.7214,\n",
       "         1.6983, 1.5039, 1.8920, 1.7087, 1.8668, 1.7931, 2.1421, 1.4377, 1.6189,\n",
       "         1.7332, 2.1486, 1.9348, 1.9113, 1.8257, 1.7880, 2.1486, 1.8332, 1.6078,\n",
       "         1.8686, 1.8363, 1.7112, 1.6703, 1.8771, 1.9521, 1.8129, 1.6752, 1.8850,\n",
       "         2.4017, 2.1383, 2.0948, 1.8583, 1.9370, 1.7910, 1.9511, 1.8573, 1.7795,\n",
       "         1.9740, 1.9042, 1.7365, 1.7189, 2.1626, 1.9859, 1.4146, 2.0160, 1.2314,\n",
       "         2.1583, 1.6839, 1.7911, 2.0528, 2.2072, 1.6976, 2.0230, 2.2422, 2.2924,\n",
       "         1.6706, 1.8717, 2.2274, 1.7801, 1.5809, 2.1277, 1.7504, 1.5072, 1.6835,\n",
       "         1.9623, 1.8687, 1.7243, 1.8634, 1.8820, 2.2235, 1.8803, 1.6578, 1.8265,\n",
       "         1.7350, 1.8975, 1.8258, 1.9107, 1.7742, 2.0928, 2.5752, 1.9777, 1.7035,\n",
       "         1.3936, 1.5642, 1.7001, 2.0468, 1.8325, 1.8664, 1.9369, 2.0336, 1.5940,\n",
       "         1.9902, 1.9704, 1.6378, 1.9781, 1.7839, 2.3034, 1.8602, 1.4488, 1.8992,\n",
       "         1.9705, 1.7368, 2.0733, 1.6345, 1.8331, 2.0638, 1.8998, 1.7449, 2.0784,\n",
       "         1.8777, 1.8269, 1.6974, 1.9624, 1.4953, 1.3683, 1.7485, 1.7053, 1.5897,\n",
       "         1.7381, 2.1711, 1.7152, 1.8263, 1.7398, 1.6063, 1.8418, 1.8286, 1.5607,\n",
       "         1.8710, 1.9608, 1.7799, 1.8437, 1.6892, 2.0564, 2.0099, 1.7864, 1.6474,\n",
       "         1.8138, 1.8755, 1.7163, 2.0891, 1.6053, 1.9546, 1.9772, 1.9429, 1.6698,\n",
       "         2.1395, 1.7744, 1.8053, 1.4942, 1.8879, 1.8727, 1.7683, 1.7303, 1.6306,\n",
       "         2.2859, 1.9262, 1.8982, 1.7182, 1.9934, 1.9247, 2.0315, 1.4450, 2.1231,\n",
       "         1.9717, 1.6520]])"
      ]
     },
     "execution_count": 98,
     "metadata": {},
     "output_type": "execute_result"
    }
   ],
   "source": [
    "bnstd_running"
   ]
  },
  {
   "cell_type": "markdown",
   "id": "754f699e",
   "metadata": {},
   "source": [
    "running mean std are close with mean std calculated after traning.\n",
    "Now let's set the value"
   ]
  },
  {
   "cell_type": "code",
   "execution_count": 99,
   "id": "f0c33d74",
   "metadata": {},
   "outputs": [
    {
     "name": "stdout",
     "output_type": "stream",
     "text": [
      "train 2.0608408451080322\n",
      "val 2.106231451034546\n"
     ]
    }
   ],
   "source": [
    "# Update bnmean, bnloss in test time\n",
    "@torch.no_grad() # decorator disable gradient tracking'\n",
    "def split_loss(split):\n",
    "    x, y = {\n",
    "        'train': (Xtr, Ytr),\n",
    "        'val': (Xdev, Ydev),\n",
    "        'test': (Xte, Yte)\n",
    "    }[split]\n",
    "    emb = C[x] # (N, block_size, n_embd)\n",
    "    embcat = emb.view(emb.shape[0], -1) # concate into (N, block_size * n_embd)\n",
    "    hpreact = embcat @ W1 + b1 # hidden layer pre-activation\n",
    "    hpreact = bngain * (hpreact - bnmean_running) / bnstd_running + bnbias\n",
    "    h = torch.tanh(hpreact) # (N, vocab_size)\n",
    "    logits = h @ W2 + b2\n",
    "    loss = F.cross_entropy(logits, y)\n",
    "    print(split, loss.item())\n",
    "split_loss('train')\n",
    "split_loss('val')"
   ]
  },
  {
   "cell_type": "markdown",
   "id": "701752dc",
   "metadata": {},
   "source": [
    "The losses are identical as well."
   ]
  },
  {
   "attachments": {},
   "cell_type": "markdown",
   "id": "41047006",
   "metadata": {},
   "source": [
    "Few final things to note:\n",
    "\n",
    "1. while calculating bnstdi, we can have a small epsilon added to it incase when we have zero std. In this network it's not needed as it't not that complex.\n",
    "\n",
    "2. b1 in `hpreact` is redundant because batch normalization nullifies it by reducting batch mean and adding it has no effect on forward pass and in turn backward pass - meaning no gradients and no impact on model training. We can remove b1 in hpreact and batch normalization has it's own bias `bnbias`"
   ]
  },
  {
   "attachments": {},
   "cell_type": "markdown",
   "id": "835069af",
   "metadata": {},
   "source": [
    "### Batch normalization summary"
   ]
  },
  {
   "cell_type": "code",
   "execution_count": null,
   "id": "431eee69",
   "metadata": {},
   "outputs": [],
   "source": [
    "max_steps = 200000\n",
    "batch_size = 32\n",
    "lossi = []\n",
    "\n",
    "C, W1, b1, W2, b2 = model_parameters(\n",
    "    block_size=block_size,\n",
    "    vocab_size=vocab_size,\n",
    "    n_embd=n_embd,\n",
    "    n_hidden=n_hidden,\n",
    "    seed=torch_seed\n",
    ")\n",
    "\n",
    "C = C\n",
    "W1 = W1 * ((5/3) / (W1.shape[-1] ** 0.5))\n",
    "# b1 = b1 * 0.01\n",
    "W2 = W2 * 0.01\n",
    "b2 = b2 * 0\n",
    "\n",
    "# BatchNorm parameters\n",
    "bngain = torch.ones((1, n_hidden))\n",
    "bnbias = torch.zeros((1, n_hidden))\n",
    "bnmean_running = torch.zeros((1, n_hidden))\n",
    "bnstd_running = torch.ones((1, n_hidden))\n",
    "\n",
    "parameters = [C, W1, b1, W2, b2, bngain, bnbias]\n",
    "for p in parameters:\n",
    "    # To avoid setting requires_grad multiple times\n",
    "    p.requires_grad = True\n",
    "print(f\"Total number of parameters: {sum(p.nelement() for p in parameters)}\")\n",
    "\n",
    "# Full training\n",
    "batch_size = 32\n",
    "lossi = []\n",
    "g = torch.Generator().manual_seed(torch_seed)\n",
    "\n",
    "for i in range(max_steps):\n",
    "  \n",
    "  # minibatch construct\n",
    "  ix = torch.randint(0, Xtr.shape[0], (batch_size,), generator=g)\n",
    "  Xb, Yb = Xtr[ix], Ytr[ix] # batch X,Y\n",
    "  \n",
    "  # forward pass\n",
    "  emb = C[Xb] # embed the characters into vectors\n",
    "  embcat = emb.view(emb.shape[0], -1) # concatenate the vectors\n",
    "  hpreact = embcat @ W1 # + b1 # hidden layer pre-activation\n",
    "  bnmeani = hpreact.mean(0, keepdim=True)\n",
    "  bnstdi = hpreact.std(0, keepdim=True)\n",
    "  hpreact = bngain * (hpreact - bnmeani) / bnstdi + bnbias\n",
    "  # BatchNorm layer\n",
    "  # ---------------------------------------------------------------------\n",
    "  with torch.no_grad():\n",
    "    # Nuding running mean and running std slightly with respect to batch mean and batch std\n",
    "    bnmean_running = 0.999 * bnmean_running + 0.001 * bnmeani\n",
    "    bnstd_running = 0.999 * bnstd_running + 0.001 * bnstdi\n",
    "  # ---------------------------------------------------------------------\n",
    "  # Non-linearity\n",
    "  h = torch.tanh(hpreact) # hidden layer\n",
    "  logits = h @ W2 + b2 # output layer\n",
    "  loss = F.cross_entropy(logits, Yb) # loss function\n",
    "  \n",
    "  # backward pass\n",
    "  for p in parameters:\n",
    "    p.grad = None\n",
    "  loss.backward()\n",
    "  \n",
    "  # update\n",
    "  lr = 0.1 if i < 100000 else 0.01 # step learning rate decay\n",
    "  for p in parameters:\n",
    "    p.data += -lr * p.grad\n",
    "\n",
    "  # track stats\n",
    "  if i % 10000 == 0: # print every once in a while\n",
    "    print(f'{i:7d}/{max_steps:7d}: {loss.item():.4f}')\n",
    "  lossi.append(loss.log10().item())"
   ]
  },
  {
   "attachments": {},
   "cell_type": "markdown",
   "id": "8c0349f8",
   "metadata": {},
   "source": [
    "**Summary**:\n",
    "\n",
    "1. We're using batch normalization to control staisitics of activation in neural nets.\n",
    "2. It's common to sprinkle them across nets below multiplcation(linear) or convolutional layers\n",
    "3. It has four parameters,\n",
    "    * gain and bias calculated with backpropgation\n",
    "    * mean and std updated outside backpropgation with gain and bias\n",
    "4. The layer operations,\n",
    "    * Calculates mean and standard deviation of activations fed to the layer\n",
    "    * offsets distribution to unit gaussian distribution\n",
    "    * scales with batch gain and offsets by batch bias\n",
    "    * Updates running mean and running bias to be used at inference which allows us to forward individual samples to model."
   ]
  }
 ],
 "metadata": {
  "kernelspec": {
   "display_name": "Python 3",
   "language": "python",
   "name": "python3"
  },
  "language_info": {
   "codemirror_mode": {
    "name": "ipython",
    "version": 3
   },
   "file_extension": ".py",
   "mimetype": "text/x-python",
   "name": "python",
   "nbconvert_exporter": "python",
   "pygments_lexer": "ipython3",
   "version": "3.10.6"
  },
  "toc": {
   "base_numbering": 1,
   "nav_menu": {},
   "number_sections": true,
   "sideBar": true,
   "skip_h1_title": false,
   "title_cell": "Table of Contents",
   "title_sidebar": "Contents",
   "toc_cell": false,
   "toc_position": {},
   "toc_section_display": true,
   "toc_window_display": true
  },
  "vscode": {
   "interpreter": {
    "hash": "21a124e163c92121797d725bed844fa6fdaf2c4e47bf1f149ef174ae791c682a"
   }
  }
 },
 "nbformat": 4,
 "nbformat_minor": 5
}
