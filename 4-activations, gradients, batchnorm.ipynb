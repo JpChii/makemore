{
 "cells": [
  {
   "cell_type": "markdown",
   "id": "bfdafc5b",
   "metadata": {},
   "source": [
    "# Makemore 3"
   ]
  },
  {
   "cell_type": "code",
   "execution_count": 1,
   "id": "2b9de959",
   "metadata": {},
   "outputs": [],
   "source": [
    "import torch\n",
    "import torch.nn.functional as F\n",
    "import matplotlib.pyplot as plt # for making figures\n",
    "%matplotlib inline"
   ]
  },
  {
   "cell_type": "code",
   "execution_count": 2,
   "id": "fbf49bb7",
   "metadata": {},
   "outputs": [
    {
     "data": {
      "text/plain": [
       "['emma', 'olivia', 'ava', 'isabella', 'sophia', 'charlotte', 'mia', 'amelia']"
      ]
     },
     "execution_count": 2,
     "metadata": {},
     "output_type": "execute_result"
    }
   ],
   "source": [
    "# read in all the words\n",
    "words = open('names.txt', 'r').read().splitlines()\n",
    "words[:8]"
   ]
  },
  {
   "cell_type": "code",
   "execution_count": 3,
   "id": "2b16b3af",
   "metadata": {},
   "outputs": [
    {
     "data": {
      "text/plain": [
       "32033"
      ]
     },
     "execution_count": 3,
     "metadata": {},
     "output_type": "execute_result"
    }
   ],
   "source": [
    "len(words)"
   ]
  },
  {
   "cell_type": "code",
   "execution_count": 4,
   "id": "a3dbb48b",
   "metadata": {},
   "outputs": [
    {
     "name": "stdout",
     "output_type": "stream",
     "text": [
      "{1: 'a', 2: 'b', 3: 'c', 4: 'd', 5: 'e', 6: 'f', 7: 'g', 8: 'h', 9: 'i', 10: 'j', 11: 'k', 12: 'l', 13: 'm', 14: 'n', 15: 'o', 16: 'p', 17: 'q', 18: 'r', 19: 's', 20: 't', 21: 'u', 22: 'v', 23: 'w', 24: 'x', 25: 'y', 26: 'z', 0: '.'}\n",
      "27\n"
     ]
    }
   ],
   "source": [
    "# build the vocabulary of characters and mappings to/from integers\n",
    "chars = sorted(list(set(''.join(words))))\n",
    "stoi = {s:i+1 for i,s in enumerate(chars)}\n",
    "stoi['.'] = 0\n",
    "itos = {i:s for s,i in stoi.items()}\n",
    "vocab_size = len(itos)\n",
    "print(itos)\n",
    "print(vocab_size)"
   ]
  },
  {
   "cell_type": "code",
   "execution_count": 5,
   "id": "60fcba56",
   "metadata": {},
   "outputs": [
    {
     "name": "stdout",
     "output_type": "stream",
     "text": [
      "torch.Size([182625, 3]) torch.Size([182625])\n",
      "torch.Size([22655, 3]) torch.Size([22655])\n",
      "torch.Size([22866, 3]) torch.Size([22866])\n"
     ]
    }
   ],
   "source": [
    "# build the dataset\n",
    "block_size = 3 # context length: how many characters do we take to predict the next one?\n",
    "\n",
    "def build_dataset(words):  \n",
    "  X, Y = [], []\n",
    "  \n",
    "  for w in words:\n",
    "    context = [0] * block_size\n",
    "    for ch in w + '.':\n",
    "      ix = stoi[ch]\n",
    "      X.append(context)\n",
    "      Y.append(ix)\n",
    "      context = context[1:] + [ix] # crop and append\n",
    "\n",
    "  X = torch.tensor(X)\n",
    "  Y = torch.tensor(Y)\n",
    "  print(X.shape, Y.shape)\n",
    "  return X, Y\n",
    "\n",
    "import random\n",
    "random.seed(42)\n",
    "random.shuffle(words)\n",
    "n1 = int(0.8*len(words))\n",
    "n2 = int(0.9*len(words))\n",
    "\n",
    "Xtr,  Ytr  = build_dataset(words[:n1])     # 80%\n",
    "Xdev, Ydev = build_dataset(words[n1:n2])   # 10%\n",
    "Xte,  Yte  = build_dataset(words[n2:])     # 10%\n"
   ]
  },
  {
   "cell_type": "code",
   "execution_count": 6,
   "id": "a65ad986",
   "metadata": {},
   "outputs": [],
   "source": [
    "torch_seed = 2147483647"
   ]
  },
  {
   "cell_type": "code",
   "execution_count": 7,
   "id": "671446b0",
   "metadata": {},
   "outputs": [
    {
     "name": "stdout",
     "output_type": "stream",
     "text": [
      "11897\n"
     ]
    }
   ],
   "source": [
    "# MLP revisited\n",
    "n_embd = 10 # the dimensionality of the character embedding vectors\n",
    "n_hidden = 200 # the number of neurons in the hidden layer of the MLP\n",
    "\n",
    "g = torch.Generator().manual_seed(torch_seed) # for reproducibility\n",
    "C  = torch.randn((vocab_size, n_embd),            generator=g)\n",
    "W1 = torch.randn((n_embd * block_size, n_hidden), generator=g)\n",
    "b1 = torch.randn(n_hidden,                        generator=g)\n",
    "W2 = torch.randn((n_hidden, vocab_size),          generator=g)\n",
    "b2 = torch.randn(vocab_size,                      generator=g)\n",
    "\n",
    "parameters = [C, W1, W2, b1, b2]\n",
    "print(sum(p.nelement() for p in parameters)) # number of parameters in total\n",
    "for p in parameters:\n",
    "  p.requires_grad = True"
   ]
  },
  {
   "cell_type": "code",
   "execution_count": 8,
   "id": "65e1bb0c",
   "metadata": {},
   "outputs": [
    {
     "name": "stdout",
     "output_type": "stream",
     "text": [
      "      0/ 200000: 27.8817\n",
      "  10000/ 200000: 2.9231\n",
      "  20000/ 200000: 2.5788\n",
      "  30000/ 200000: 2.8875\n",
      "  40000/ 200000: 2.0839\n",
      "  50000/ 200000: 2.4431\n",
      "  60000/ 200000: 2.4559\n",
      "  70000/ 200000: 2.1325\n",
      "  80000/ 200000: 2.3324\n",
      "  90000/ 200000: 2.3568\n",
      " 100000/ 200000: 2.0748\n",
      " 110000/ 200000: 2.4009\n",
      " 120000/ 200000: 1.9218\n",
      " 130000/ 200000: 2.4641\n",
      " 140000/ 200000: 2.2747\n",
      " 150000/ 200000: 2.1304\n",
      " 160000/ 200000: 2.1510\n",
      " 170000/ 200000: 1.7974\n",
      " 180000/ 200000: 1.9913\n",
      " 190000/ 200000: 1.8918\n"
     ]
    }
   ],
   "source": [
    "# same optimization as last time\n",
    "max_steps = 200000\n",
    "batch_size = 32\n",
    "lossi = []\n",
    "\n",
    "for i in range(max_steps):\n",
    "  \n",
    "  # minibatch construct\n",
    "  ix = torch.randint(0, Xtr.shape[0], (batch_size,), generator=g)\n",
    "  Xb, Yb = Xtr[ix], Ytr[ix] # batch X,Y\n",
    "  \n",
    "  # forward pass\n",
    "  emb = C[Xb] # embed the characters into vectors\n",
    "  embcat = emb.view(emb.shape[0], -1) # concatenate the vectors\n",
    "  hpreact = embcat @ W1 + b1 # hidden layer pre-activation\n",
    "  h = torch.tanh(hpreact) # hidden layer\n",
    "  logits = h @ W2 + b2 # output layer\n",
    "  loss = F.cross_entropy(logits, Yb) # loss function\n",
    "  \n",
    "  # backward pass\n",
    "  for p in parameters:\n",
    "    p.grad = None\n",
    "  loss.backward()\n",
    "  \n",
    "  # update\n",
    "  lr = 0.1 if i < 100000 else 0.01 # step learning rate decay\n",
    "  for p in parameters:\n",
    "    p.data += -lr * p.grad\n",
    "\n",
    "  # track stats\n",
    "  if i % 10000 == 0: # print every once in a while\n",
    "    print(f'{i:7d}/{max_steps:7d}: {loss.item():.4f}')\n",
    "  lossi.append(loss.log10().item())\n",
    "  "
   ]
  },
  {
   "cell_type": "code",
   "execution_count": 9,
   "id": "3d72948c",
   "metadata": {},
   "outputs": [
    {
     "data": {
      "text/plain": [
       "[<matplotlib.lines.Line2D at 0x7f9f28144f70>]"
      ]
     },
     "execution_count": 9,
     "metadata": {},
     "output_type": "execute_result"
    },
    {
     "data": {
      "image/png": "[encoded data removed]",
      "text/plain": [
       "<Figure size 640x480 with 1 Axes>"
      ]
     },
     "metadata": {},
     "output_type": "display_data"
    }
   ],
   "source": [
    "plt.plot(lossi)"
   ]
  },
  {
   "cell_type": "code",
   "execution_count": 10,
   "id": "adcb83f9",
   "metadata": {},
   "outputs": [
    {
     "name": "stdout",
     "output_type": "stream",
     "text": [
      "train 2.127152919769287\n",
      "val 2.173154830932617\n"
     ]
    }
   ],
   "source": [
    "@torch.no_grad() # decorator disable gradient tracking'\n",
    "def split_loss(split):\n",
    "    x, y = {\n",
    "        'train': (Xtr, Ytr),\n",
    "        'val': (Xdev, Ydev),\n",
    "        'test': (Xte, Yte)\n",
    "    }[split]\n",
    "    emb = C[x] # (N, block_size, n_embd)\n",
    "    embcat = emb.view(emb.shape[0], -1) # concate into (N, block_size * n_embd)\n",
    "    h = torch.tanh(embcat @ W1 + b1) # (N, vocab_size)\n",
    "    logits = h @ W2 + b2\n",
    "    loss = F.cross_entropy(logits, y)\n",
    "    print(split, loss.item())\n",
    "split_loss('train')\n",
    "split_loss('val')"
   ]
  },
  {
   "cell_type": "code",
   "execution_count": 11,
   "id": "b0c2471d",
   "metadata": {},
   "outputs": [
    {
     "name": "stdout",
     "output_type": "stream",
     "text": [
      "train 2.127152919769287\n"
     ]
    }
   ],
   "source": [
    "split_loss('train')"
   ]
  },
  {
   "cell_type": "code",
   "execution_count": 12,
   "id": "3271e1f9",
   "metadata": {},
   "outputs": [
    {
     "name": "stdout",
     "output_type": "stream",
     "text": [
      "dexze.\n",
      "moglynn.\n",
      "rochi.\n",
      "ahnes.\n",
      "jimmana.\n",
      "nella.\n",
      "kama.\n",
      "aristaithuelthariiotom.\n",
      "moriella.\n",
      "kinz.\n",
      "teda.\n",
      "kaley.\n",
      "maside.\n",
      "enkavion.\n",
      "roslst.\n",
      "hani.\n",
      "gavtahlan.\n",
      "kashra.\n",
      "anell.\n",
      "pynn.\n"
     ]
    }
   ],
   "source": [
    "# sample from the model\n",
    "g = torch.Generator().manual_seed(torch_seed)\n",
    "\n",
    "for _ in range(20):\n",
    "    out = []\n",
    "    context = [0] * block_size # initalize with all ...\n",
    "    while True:\n",
    "        # forward pass the neural net\n",
    "        emb = C[torch.tensor([context])] # (1, block_size, embd)\n",
    "        h = torch.tanh(emb.view(1, -1) @ W1 + b1)\n",
    "        logits = h@ W2 + b2\n",
    "        probs = F.softmax(logits, dim=1)\n",
    "        # sample from distribution\n",
    "        ix = torch.multinomial(probs, num_samples=1, generator=g).item()\n",
    "        # shift the context window and track the samples\n",
    "        context = context[1:] + [ix]\n",
    "        out.append(ix)\n",
    "        if ix == 0:\n",
    "            break\n",
    "            \n",
    "    print(''.join(itos[i] for i in out))"
   ]
  },
  {
   "cell_type": "code",
   "execution_count": 13,
   "id": "0047a7cb",
   "metadata": {},
   "outputs": [
    {
     "data": {
      "text/plain": [
       "[2, 3, 4, 5]"
      ]
     },
     "execution_count": 13,
     "metadata": {},
     "output_type": "execute_result"
    }
   ],
   "source": [
    "context = [1, 2, 3, 4, 5]\n",
    "context[1:]"
   ]
  },
  {
   "cell_type": "markdown",
   "id": "f11fab3d",
   "metadata": {},
   "source": [
    "This completes our trigram model.\n",
    "\n",
    "This will be the starting point for this notebook. There are multiple things wrong in this model configuration and we'll be fixing them one by one in this notebook.\n",
    "\n",
    "## Initial loss\n",
    "\n",
    "The inital loss is 27.8817 and it rapidly comes down to 1 or 2 and this initial loss is really high.\n",
    "\n",
    "For this problem setup, There's 27 characters that could come next and at initialisation of model the probabality that any of these characters will come next is same which is uniform distribution.\n",
    "\n",
    "And probabality for each character will be 1/27.0"
   ]
  },
  {
   "cell_type": "code",
   "execution_count": 14,
   "id": "ecbb963e",
   "metadata": {},
   "outputs": [
    {
     "data": {
      "text/plain": [
       "tensor(3.2958)"
      ]
     },
     "execution_count": 14,
     "metadata": {},
     "output_type": "execute_result"
    }
   ],
   "source": [
    "# Is the intial loss we should get\n",
    "-torch.tensor(1/27.0).log()"
   ]
  },
  {
   "cell_type": "markdown",
   "id": "50202a96",
   "metadata": {},
   "source": [
    "### Problem\n",
    "\n",
    "At initialization, the model assigns varaible probablity instead of uniform probabality to all characters which it should. Probabality distributions are all messed up and for some characters it's really confident and for other characters not so much.\n",
    "\n",
    "To sum up, Model is confidently wrong."
   ]
  },
  {
   "cell_type": "code",
   "execution_count": 15,
   "id": "25649e96",
   "metadata": {},
   "outputs": [
    {
     "data": {
      "text/plain": [
       "(tensor([0.2500, 0.2500, 0.2500, 0.2500]), tensor(1.3863))"
      ]
     },
     "execution_count": 15,
     "metadata": {},
     "output_type": "execute_result"
    }
   ],
   "source": [
    "# 4-dimensional example of the issue\n",
    "logits = torch.tensor([0.0, 0.0, 0.0, 0.0])\n",
    "probs = torch.softmax(logits, dim=0)\n",
    "loss = -probs[2].log()\n",
    "probs, loss"
   ]
  },
  {
   "cell_type": "markdown",
   "id": "b3454a23",
   "metadata": {},
   "source": [
    "Logits are uniform, so we get the correct loss. But what if logits varied."
   ]
  },
  {
   "cell_type": "code",
   "execution_count": 16,
   "id": "18bf361d",
   "metadata": {},
   "outputs": [
    {
     "data": {
      "text/plain": [
       "(tensor([0.0066, 0.0066, 0.9802, 0.0066]), tensor(0.0200))"
      ]
     },
     "execution_count": 16,
     "metadata": {},
     "output_type": "execute_result"
    }
   ],
   "source": [
    "# lucked out at initialisation and we get a really good loss\n",
    "logits = torch.tensor([0.0, 0.0, 5.0, 0.0])\n",
    "probs = torch.softmax(logits, dim=0)\n",
    "loss = -probs[2].log()\n",
    "probs, loss"
   ]
  },
  {
   "cell_type": "code",
   "execution_count": 17,
   "id": "51618811",
   "metadata": {},
   "outputs": [
    {
     "data": {
      "text/plain": [
       "(tensor([3.1741e-04, 9.4620e-01, 6.3754e-03, 4.7108e-02]), tensor(5.0553))"
      ]
     },
     "execution_count": 17,
     "metadata": {},
     "output_type": "execute_result"
    }
   ],
   "source": [
    "logits = torch.tensor([-3.0, 5.0, 0.0, 2.0])\n",
    "probs = torch.softmax(logits, dim=0)\n",
    "loss = -probs[2].log()\n",
    "probs, loss"
   ]
  },
  {
   "cell_type": "markdown",
   "id": "0e93e636",
   "metadata": {},
   "source": [
    "When the logits come out and have random extreme values, we record a high loss."
   ]
  },
  {
   "cell_type": "code",
   "execution_count": 18,
   "id": "b063c7c6",
   "metadata": {},
   "outputs": [
    {
     "data": {
      "text/plain": [
       "(tensor([-2.0227, -0.1965,  1.8241, -0.4619]),\n",
       " tensor([0.0170, 0.1056, 0.7964, 0.0810]),\n",
       " tensor(0.2276))"
      ]
     },
     "execution_count": 18,
     "metadata": {},
     "output_type": "execute_result"
    }
   ],
   "source": [
    "# with randn\n",
    "logits = torch.randn(4)\n",
    "probs = torch.softmax(logits, axis=0)\n",
    "loss = -probs[2].log()\n",
    "logits, probs, loss"
   ]
  },
  {
   "cell_type": "markdown",
   "id": "015124d2",
   "metadata": {},
   "source": [
    "Since the values are near zero loss that comes out is good. but incresing logits by ten fold."
   ]
  },
  {
   "cell_type": "code",
   "execution_count": 19,
   "id": "d82a42a7",
   "metadata": {},
   "outputs": [
    {
     "data": {
      "text/plain": [
       "(tensor([-14.5781,  -2.2748,  -7.4133,   2.5850]),\n",
       " tensor([3.4899e-08, 7.6922e-03, 4.5128e-05, 9.9226e-01]),\n",
       " tensor(10.0060))"
      ]
     },
     "execution_count": 19,
     "metadata": {},
     "output_type": "execute_result"
    }
   ],
   "source": [
    "# with randn by tenfold\n",
    "logits = torch.randn(4) * 10\n",
    "probs = torch.softmax(logits, axis=0)\n",
    "loss = -probs[2].log()\n",
    "logits, probs, loss"
   ]
  },
  {
   "cell_type": "code",
   "execution_count": 20,
   "id": "5eaff482",
   "metadata": {},
   "outputs": [
    {
     "data": {
      "text/plain": [
       "(tensor([  12.3241, -100.9014,   55.3448,   50.0950]),\n",
       " tensor([2.0609e-19, 0.0000e+00, 9.9478e-01, 5.2213e-03]),\n",
       " tensor(0.0052))"
      ]
     },
     "execution_count": 20,
     "metadata": {},
     "output_type": "execute_result"
    }
   ],
   "source": [
    "# with randn by hundredfold\n",
    "logits = torch.randn(4) * 100\n",
    "probs = torch.softmax(logits, axis=0)\n",
    "loss = -probs[2].log()\n",
    "logits, probs, loss"
   ]
  },
  {
   "cell_type": "markdown",
   "id": "62141640",
   "metadata": {},
   "source": [
    "We get really bad losses for extreme logits.\n",
    "\n",
    "This is not good and what we want logits to be roughly zero or equal(uniform) at initialisation."
   ]
  },
  {
   "cell_type": "markdown",
   "id": "04c75ce2",
   "metadata": {},
   "source": [
    "Let's write some code for getting paramters, and training the model since we'll repeat them a lot."
   ]
  },
  {
   "cell_type": "markdown",
   "id": "c342de2c",
   "metadata": {},
   "source": [
    "## Helpers"
   ]
  },
  {
   "cell_type": "code",
   "execution_count": 21,
   "id": "b1a634e2",
   "metadata": {},
   "outputs": [],
   "source": [
    "    def model_parameters(block_size, vocab_size, n_embd, n_hidden, seed):\n",
    "    \n",
    "        g = torch.Generator().manual_seed(seed)\n",
    "        C = torch.randn((vocab_size, n_embd), generator=g)\n",
    "        W1 = torch.randn((n_embd * block_size, n_hidden), generator=g)\n",
    "        b1 = torch.randn(n_hidden, generator=g)\n",
    "        W2 = torch.randn((n_hidden, vocab_size), generator=g)\n",
    "        b2 = torch.randn(vocab_size, generator=g)\n",
    "        return C, W1, b1, W2, b2\n",
    "            "
   ]
  },
  {
   "cell_type": "code",
   "execution_count": 22,
   "id": "817b2217",
   "metadata": {},
   "outputs": [
    {
     "name": "stdout",
     "output_type": "stream",
     "text": [
      "Total number of parameters: 11897\n"
     ]
    }
   ],
   "source": [
    "# Reinit parameters\n",
    "C, W1, b1, W2, b2 = model_parameters(\n",
    "    block_size=block_size,\n",
    "    vocab_size=vocab_size,\n",
    "    n_embd=n_embd,\n",
    "    n_hidden=n_hidden,\n",
    "    seed=torch_seed\n",
    ")\n",
    "\n",
    "# Let's make some changes to params based on above problem descirption\n",
    "# b2 * 0\n",
    "# W2 * 0.01\n",
    "b2 = b2 * 0\n",
    "W2 = W2 * 0.01\n",
    "\n",
    "parameters = [C, W1, b1, W2, b2]\n",
    "for p in parameters:\n",
    "    # To avoid setting requires_grad multiple times\n",
    "    p.requires_grad = True\n",
    "print(f\"Total number of parameters: {sum(p.nelement() for p in parameters)}\")"
   ]
  },
  {
   "cell_type": "code",
   "execution_count": 23,
   "id": "1856a421",
   "metadata": {},
   "outputs": [
    {
     "name": "stdout",
     "output_type": "stream",
     "text": [
      "      0/ 200000: 3.3179\n"
     ]
    }
   ],
   "source": [
    "# Run training for first step alone\n",
    "max_steps = 200000\n",
    "batch_size = 32\n",
    "lossi = []\n",
    "g = torch.Generator().manual_seed(torch_seed)\n",
    "\n",
    "for i in range(max_steps):\n",
    "  \n",
    "  # minibatch construct\n",
    "  ix = torch.randint(0, Xtr.shape[0], (batch_size,), generator=g)\n",
    "  Xb, Yb = Xtr[ix], Ytr[ix] # batch X,Y\n",
    "  \n",
    "  # forward pass\n",
    "  emb = C[Xb] # embed the characters into vectors\n",
    "  embcat = emb.view(emb.shape[0], -1) # concatenate the vectors\n",
    "  hpreact = embcat @ W1 + b1 # hidden layer pre-activation\n",
    "  h = torch.tanh(hpreact) # hidden layer\n",
    "  logits = h @ W2 + b2 # output layer\n",
    "  loss = F.cross_entropy(logits, Yb) # loss function\n",
    "  \n",
    "  # backward pass\n",
    "  for p in parameters:\n",
    "    p.grad = None\n",
    "  loss.backward()\n",
    "  \n",
    "  # update\n",
    "  lr = 0.1 if i < 100000 else 0.01 # step learning rate decay\n",
    "  for p in parameters:\n",
    "    p.data += -lr * p.grad\n",
    "\n",
    "  # track stats\n",
    "  if i % 10000 == 0: # print every once in a while\n",
    "    print(f'{i:7d}/{max_steps:7d}: {loss.item():.4f}')\n",
    "  lossi.append(loss.log10().item())\n",
    "  break"
   ]
  },
  {
   "cell_type": "markdown",
   "id": "ec30e0de",
   "metadata": {},
   "source": [
    "Initial loss is now squashed from 27 to 3.3"
   ]
  },
  {
   "cell_type": "code",
   "execution_count": 24,
   "id": "c07b7926",
   "metadata": {},
   "outputs": [
    {
     "name": "stdout",
     "output_type": "stream",
     "text": [
      "Total number of parameters: 11897\n",
      "      0/ 200000: 3.3179\n",
      "  10000/ 200000: 2.1848\n",
      "  20000/ 200000: 2.3320\n",
      "  30000/ 200000: 2.4731\n",
      "  40000/ 200000: 1.9858\n",
      "  50000/ 200000: 2.4827\n",
      "  60000/ 200000: 2.1361\n",
      "  70000/ 200000: 2.1642\n",
      "  80000/ 200000: 2.3967\n",
      "  90000/ 200000: 2.0793\n",
      " 100000/ 200000: 2.4436\n",
      " 110000/ 200000: 2.1291\n",
      " 120000/ 200000: 2.2657\n",
      " 130000/ 200000: 1.7314\n",
      " 140000/ 200000: 2.1808\n",
      " 150000/ 200000: 2.2475\n",
      " 160000/ 200000: 2.0536\n",
      " 170000/ 200000: 1.6976\n",
      " 180000/ 200000: 2.4663\n",
      " 190000/ 200000: 2.2927\n"
     ]
    }
   ],
   "source": [
    "# Reinit parameters\n",
    "C, W1, b1, W2, b2 = model_parameters(\n",
    "    block_size=block_size,\n",
    "    vocab_size=vocab_size,\n",
    "    n_embd=n_embd,\n",
    "    n_hidden=n_hidden,\n",
    "    seed=torch_seed\n",
    ")\n",
    "\n",
    "b2 = b2 * 0\n",
    "W2 = W2 * 0.01\n",
    "\n",
    "parameters = [C, W1, b1, W2, b2]\n",
    "for p in parameters:\n",
    "    # To avoid setting requires_grad multiple times\n",
    "    p.requires_grad = True\n",
    "print(f\"Total number of parameters: {sum(p.nelement() for p in parameters)}\")\n",
    "\n",
    "# Run full training with updated parameters\n",
    "max_steps = 200000\n",
    "batch_size = 32\n",
    "lossi = []\n",
    "g = torch.Generator().manual_seed(torch_seed)\n",
    "\n",
    "for i in range(max_steps):\n",
    "  \n",
    "  # minibatch construct\n",
    "  ix = torch.randint(0, Xtr.shape[0], (batch_size,), generator=g)\n",
    "  Xb, Yb = Xtr[ix], Ytr[ix] # batch X,Y\n",
    "  \n",
    "  # forward pass\n",
    "  emb = C[Xb] # embed the characters into vectors\n",
    "  embcat = emb.view(emb.shape[0], -1) # concatenate the vectors\n",
    "  hpreact = embcat @ W1 + b1 # hidden layer pre-activation\n",
    "  h = torch.tanh(hpreact) # hidden layer\n",
    "  logits = h @ W2 + b2 # output layer\n",
    "  loss = F.cross_entropy(logits, Yb) # loss function\n",
    "  \n",
    "  # backward pass\n",
    "  for p in parameters:\n",
    "    p.grad = None\n",
    "  loss.backward()\n",
    "  \n",
    "  # update\n",
    "  lr = 0.1 if i < 100000 else 0.01 # step learning rate decay\n",
    "  for p in parameters:\n",
    "    p.data += -lr * p.grad\n",
    "\n",
    "  # track stats\n",
    "  if i % 10000 == 0: # print every once in a while\n",
    "    print(f'{i:7d}/{max_steps:7d}: {loss.item():.4f}')\n",
    "  lossi.append(loss.log10().item())"
   ]
  },
  {
   "cell_type": "code",
   "execution_count": 25,
   "id": "24d6e615",
   "metadata": {},
   "outputs": [
    {
     "data": {
      "image/png": "[encoded data removed]",
      "text/plain": [
       "<Figure size 640x480 with 1 Axes>"
      ]
     },
     "metadata": {},
     "output_type": "display_data"
    }
   ],
   "source": [
    "plt.plot(lossi);"
   ]
  },
  {
   "cell_type": "markdown",
   "id": "d7dcbf26",
   "metadata": {},
   "source": [
    "We can see in loss plot, the curve bend is squashed after initialising output layer and bias to uniform values."
   ]
  },
  {
   "cell_type": "code",
   "execution_count": 26,
   "id": "62510348",
   "metadata": {},
   "outputs": [
    {
     "name": "stdout",
     "output_type": "stream",
     "text": [
      "train 2.068942070007324\n",
      "val 2.129626750946045\n"
     ]
    }
   ],
   "source": [
    "split_loss('train')\n",
    "split_loss('val')"
   ]
  },
  {
   "cell_type": "markdown",
   "id": "a00639aa",
   "metadata": {},
   "source": [
    "Train loss has improved from 2.17 to 2.06 because, training has not wasted any time squashing the weights and has looked at the data for additional 10000 steps.\n",
    "\n",
    "Initialisation has improved initial loss"
   ]
  },
  {
   "attachments": {},
   "cell_type": "markdown",
   "id": "369c22cd",
   "metadata": {},
   "source": [
    "## Fixing saturated tanh\n",
    "\n",
    "Logits are now okay, but let's explore h."
   ]
  },
  {
   "attachments": {},
   "cell_type": "markdown",
   "id": "cbe5c72b",
   "metadata": {},
   "source": [
    "#"
   ]
  },
  {
   "cell_type": "code",
   "execution_count": 27,
   "id": "a6d48f79",
   "metadata": {},
   "outputs": [
    {
     "data": {
      "text/plain": [
       "tensor([[-0.9999,  0.5069, -1.0000,  ...,  0.9958, -0.9996,  0.9994],\n",
       "        [ 0.2820,  0.2718,  0.9532,  ..., -1.0000,  0.9991,  1.0000],\n",
       "        [-1.0000, -0.9936, -1.0000,  ...,  1.0000, -0.9997, -0.9557],\n",
       "        ...,\n",
       "        [ 0.8435, -0.9986, -1.0000,  ...,  1.0000, -0.9982,  1.0000],\n",
       "        [-1.0000, -0.7951, -0.9999,  ...,  0.9997, -0.9192,  1.0000],\n",
       "        [-1.0000, -0.9999,  0.0653,  ..., -1.0000,  1.0000,  1.0000]],\n",
       "       grad_fn=<TanhBackward0>)"
      ]
     },
     "execution_count": 27,
     "metadata": {},
     "output_type": "execute_result"
    }
   ],
   "source": [
    "h"
   ]
  },
  {
   "cell_type": "code",
   "execution_count": 29,
   "id": "bd3acfb5",
   "metadata": {},
   "outputs": [
    {
     "data": {
      "image/png": "[encoded data removed]",
      "text/plain": [
       "<Figure size 640x480 with 1 Axes>"
      ]
     },
     "metadata": {},
     "output_type": "display_data"
    }
   ],
   "source": [
    "# visualizing h\n",
    "plt.hist(h.view(-1).tolist(), bins=50);"
   ]
  },
  {
   "attachments": {},
   "cell_type": "markdown",
   "id": "573b24ae",
   "metadata": {},
   "source": [
    "we can see most of the values take on -1 or 1, meaning tanh is active. And why this happens, let's take a look at pre activations."
   ]
  },
  {
   "cell_type": "code",
   "execution_count": 33,
   "id": "58a7cac3",
   "metadata": {},
   "outputs": [
    {
     "data": {
      "image/png": "[encoded data removed]",
      "text/plain": [
       "<Figure size 640x480 with 1 Axes>"
      ]
     },
     "metadata": {},
     "output_type": "display_data"
    }
   ],
   "source": [
    "plt.hist(hpreact.view(-1).tolist(), bins=50);"
   ]
  },
  {
   "attachments": {},
   "cell_type": "markdown",
   "id": "4020960d",
   "metadata": {},
   "source": [
    "Since preactivations is really broad from -15 to 15 and that's why tanh takes values from -1 to 1.\n",
    "\n",
    "And why this is a problem. Let's get into the details of it.\n",
    "\n",
    "During backpropogations the gradients pass through tanh activation.\n",
    "\n",
    "Grabbing element wise tanh from micrograd,\n",
    "\n",
    "```Python\n",
    "def tanh(self):\n",
    "        n = self.data\n",
    "        t = (math.exp(2*n)-1)/(math.exp(2*n)+1)\n",
    "        out = Value(t, (self, ), 'tanh')\n",
    "\n",
    "        def _backward():\n",
    "            self.grad = (1 - t**2) * out.grad\n",
    "        out._backward = _backward\n",
    "        \n",
    "```\n",
    "\n",
    "When t(local gradient) is -1 or 1. self.grad becomes zero because `1 - (-1) ** 2, 1 - (1) ** 2` is `0`.\n",
    "This is essentialy stopping backpropgation through this neuron beyond tanh.\n",
    "\n",
    "Intutivley speaking, it tanh's output is close to 1. Changing the input is not going to impact output of tanh, since it's already in flat region of tanh(self.grad = 0). There's no impact on the loss.\n",
    "\n",
    "So with respect to this input, we cannot impact the loss via backpropgation. The gradient will become zero and vanishes.\n",
    "\n",
    "In another case, when t = 1 `1 - (0) ** 2` self.grad is out.grad. Meaning tanh unit is inactive and the gradient just passes through.\n",
    "\n",
    "The gradient flowing through tanh only decreases and the amount it decrease here is proprtional to square (t**2).\n",
    "\n",
    "> To conclude:\n",
    "When the tanh output is in flat lands(-1, 1) the gradient vanishes and backpropgation is not effective."
   ]
  },
  {
   "cell_type": "code",
   "execution_count": 35,
   "id": "6f3acef2",
   "metadata": {},
   "outputs": [
    {
     "data": {
      "text/plain": [
       "(0, 0)"
      ]
     },
     "execution_count": 35,
     "metadata": {},
     "output_type": "execute_result"
    }
   ],
   "source": [
    "1 - (-1) ** 2, 1 - (1) ** 2"
   ]
  },
  {
   "cell_type": "code",
   "execution_count": 36,
   "id": "e288c026",
   "metadata": {},
   "outputs": [
    {
     "data": {
      "text/plain": [
       "1"
      ]
     },
     "execution_count": 36,
     "metadata": {},
     "output_type": "execute_result"
    }
   ],
   "source": [
    "1 - (0) ** 2"
   ]
  },
  {
   "cell_type": "markdown",
   "id": "a619b446",
   "metadata": {},
   "source": [
    "Digging deeper into the problem, visualizing 200 tanh neurons across 32 inputs."
   ]
  },
  {
   "cell_type": "code",
   "execution_count": 40,
   "id": "9f9f59dd",
   "metadata": {},
   "outputs": [
    {
     "data": {
      "image/png": "[encoded data removed]",
      "text/plain": [
       "<Figure size 2000x1000 with 1 Axes>"
      ]
     },
     "metadata": {},
     "output_type": "display_data"
    }
   ],
   "source": [
    "plt.figure(figsize=(20, 10))\n",
    "plt.xlabel('input')\n",
    "plt.ylabel('tanh_activations')\n",
    "plt.imshow(h.abs() > 0.99, cmap='gray', interpolation='nearest',);"
   ]
  },
  {
   "attachments": {},
   "cell_type": "markdown",
   "id": "e12d3855",
   "metadata": {},
   "source": [
    "The plot above is boolean. Thw white dots it plot means tanh is very very active and in flat tail(-1, 1).\n",
    "In all these cases backward gradient is destroyed.\n",
    "\n",
    "We'll be in lot of trouble. For any one of these neurons,\n",
    "If any one of the columns is completley white. In that case this becomes a dead neuron.\n",
    "\n",
    "The initilisation of w and b is such that, no single input activates this neuron for any input. \n",
    "This is a case of dead neuron and it never learns.\n",
    "\n",
    "This is the problem with saturated tanh(and other activations - sigmoid, relu).\n",
    "\n",
    "The redeeming quality with this scenario is we don't have any such dead neurons and some gradient's will flow through and neurons will learn."
   ]
  },
  {
   "attachments": {},
   "cell_type": "markdown",
   "id": "a77226fd",
   "metadata": {},
   "source": [
    "Another scenario of dead neurons will be during optimization.\n",
    "\n",
    "Let's say the learning rate is high and the gradient is pushed off to flat tails of tanh or negative tail of relu. The gradients will be zero from that point and will become dead on future backpropgations.\n",
    "\n",
    "This is called exploding gradients.\n",
    "\n",
    "Leaky ReLu might not suffer much from thes issues, because of absence of flat parts in it's activation."
   ]
  },
  {
   "cell_type": "code",
   "execution_count": 41,
   "id": "afe3b38c",
   "metadata": {},
   "outputs": [
    {
     "data": {
      "image/png": "[encoded data removed]",
      "text/plain": [
       "<Figure size 2000x1000 with 1 Axes>"
      ]
     },
     "metadata": {},
     "output_type": "display_data"
    }
   ],
   "source": [
    "plt.figure(figsize=(20, 10))\n",
    "plt.xlabel('input')\n",
    "plt.ylabel('tanh_activations')\n",
    "plt.imshow(h.abs() > 0.99, cmap='gray', interpolation='nearest',);"
   ]
  },
  {
   "attachments": {},
   "cell_type": "markdown",
   "id": "a25b6068",
   "metadata": {},
   "source": [
    "Going back to h, since we don't have any dead neurons. We should be okay, as the network optimizes and a pretty decent loss.\n",
    "But this is not optimal and we don't want these extreme value during initialisation. `hpreact` is too extreme, leading to flat tails of tanh activations and less training for these neurons(because they update very less frequent)"
   ]
  },
  {
   "attachments": {},
   "cell_type": "markdown",
   "id": "31d03494",
   "metadata": {},
   "source": [
    "embcat -> hpreact(too far from zero which is causing the issue)\n",
    "\n",
    "We want't hpreact to be closer to 0."
   ]
  },
  {
   "cell_type": "code",
   "execution_count": 70,
   "id": "480a6aea",
   "metadata": {},
   "outputs": [
    {
     "name": "stdout",
     "output_type": "stream",
     "text": [
      "Total number of parameters: 11897\n",
      "      0/ 200000: 3.3018\n"
     ]
    }
   ],
   "source": [
    "# Reinit weights\n",
    "C, W1, b1, W2, b2 = model_parameters(\n",
    "    block_size=block_size,\n",
    "    vocab_size=vocab_size,\n",
    "    n_embd=n_embd,\n",
    "    n_hidden=n_hidden,\n",
    "    seed=torch_seed\n",
    ")\n",
    "\n",
    "C = C\n",
    "W1 = W1 * 0.1\n",
    "b1 = b1 * 0.01\n",
    "W2 = W2 * 0.01\n",
    "b2 = b2 * 0\n",
    "\n",
    "parameters = [C, W1, b1, W2, b2]\n",
    "for p in parameters:\n",
    "    # To avoid setting requires_grad multiple times\n",
    "    p.requires_grad = True\n",
    "print(f\"Total number of parameters: {sum(p.nelement() for p in parameters)}\")\n",
    "\n",
    "# Rerun first batch\n",
    "batch_size = 32\n",
    "lossi = []\n",
    "g = torch.Generator().manual_seed(torch_seed)\n",
    "\n",
    "for i in range(max_steps):\n",
    "  \n",
    "  # minibatch construct\n",
    "  ix = torch.randint(0, Xtr.shape[0], (batch_size,), generator=g)\n",
    "  Xb, Yb = Xtr[ix], Ytr[ix] # batch X,Y\n",
    "  \n",
    "  # forward pass\n",
    "  emb = C[Xb] # embed the characters into vectors\n",
    "  embcat = emb.view(emb.shape[0], -1) # concatenate the vectors\n",
    "  hpreact = embcat @ W1 + b1 # hidden layer pre-activation\n",
    "  h = torch.tanh(hpreact) # hidden layer\n",
    "  logits = h @ W2 + b2 # output layer\n",
    "  loss = F.cross_entropy(logits, Yb) # loss function\n",
    "  \n",
    "  # backward pass\n",
    "  for p in parameters:\n",
    "    p.grad = None\n",
    "  loss.backward()\n",
    "  \n",
    "  # update\n",
    "  lr = 0.1 if i < 100000 else 0.01 # step learning rate decay\n",
    "  for p in parameters:\n",
    "    p.data += -lr * p.grad\n",
    "\n",
    "  # track stats\n",
    "  if i % 10000 == 0: # print every once in a while\n",
    "    print(f'{i:7d}/{max_steps:7d}: {loss.item():.4f}')\n",
    "  lossi.append(loss.log10().item())\n",
    "  break"
   ]
  },
  {
   "cell_type": "code",
   "execution_count": 71,
   "id": "ae9379c7",
   "metadata": {},
   "outputs": [
    {
     "data": {
      "image/png": "[encoded data removed]",
      "text/plain": [
       "<Figure size 640x480 with 1 Axes>"
      ]
     },
     "metadata": {},
     "output_type": "display_data"
    }
   ],
   "source": [
    "# Let's look at h distribution\n",
    "plt.hist(h.view(-1).tolist(), bins=50);"
   ]
  },
  {
   "cell_type": "code",
   "execution_count": 72,
   "id": "1da5b9bb",
   "metadata": {},
   "outputs": [
    {
     "data": {
      "image/png": "[encoded data removed]",
      "text/plain": [
       "<Figure size 640x480 with 1 Axes>"
      ]
     },
     "metadata": {},
     "output_type": "display_data"
    }
   ],
   "source": [
    "plt.hist(hpreact.view(-1).tolist(), bins=50);"
   ]
  },
  {
   "cell_type": "code",
   "execution_count": 73,
   "id": "c566aa6c",
   "metadata": {},
   "outputs": [
    {
     "data": {
      "image/png": "[encoded data removed]",
      "text/plain": [
       "<Figure size 2000x1000 with 1 Axes>"
      ]
     },
     "metadata": {},
     "output_type": "display_data"
    }
   ],
   "source": [
    "# And this should have less whites\n",
    "plt.figure(figsize=(20, 10))\n",
    "plt.xlabel('input')\n",
    "plt.ylabel('tanh_activations')\n",
    "plt.imshow(h.abs() > 0.99, cmap='gray', interpolation='nearest',);"
   ]
  },
  {
   "cell_type": "code",
   "execution_count": 74,
   "id": "6d4b04bf",
   "metadata": {},
   "outputs": [
    {
     "name": "stdout",
     "output_type": "stream",
     "text": [
      "Total number of parameters: 11897\n",
      "      0/ 200000: 3.3070\n"
     ]
    }
   ],
   "source": [
    "# Reinit weights\n",
    "C, W1, b1, W2, b2 = model_parameters(\n",
    "    block_size=block_size,\n",
    "    vocab_size=vocab_size,\n",
    "    n_embd=n_embd,\n",
    "    n_hidden=n_hidden,\n",
    "    seed=torch_seed\n",
    ")\n",
    "\n",
    "C = C\n",
    "W1 = W1 * 0.2\n",
    "b1 = b1 * 0.01\n",
    "W2 = W2 * 0.01\n",
    "b2 = b2 * 0\n",
    "\n",
    "parameters = [C, W1, b1, W2, b2]\n",
    "for p in parameters:\n",
    "    # To avoid setting requires_grad multiple times\n",
    "    p.requires_grad = True\n",
    "print(f\"Total number of parameters: {sum(p.nelement() for p in parameters)}\")\n",
    "\n",
    "# Rerun first batch\n",
    "batch_size = 32\n",
    "lossi = []\n",
    "g = torch.Generator().manual_seed(torch_seed)\n",
    "\n",
    "for i in range(max_steps):\n",
    "  \n",
    "  # minibatch construct\n",
    "  ix = torch.randint(0, Xtr.shape[0], (batch_size,), generator=g)\n",
    "  Xb, Yb = Xtr[ix], Ytr[ix] # batch X,Y\n",
    "  \n",
    "  # forward pass\n",
    "  emb = C[Xb] # embed the characters into vectors\n",
    "  embcat = emb.view(emb.shape[0], -1) # concatenate the vectors\n",
    "  hpreact = embcat @ W1 + b1 # hidden layer pre-activation\n",
    "  h = torch.tanh(hpreact) # hidden layer\n",
    "  logits = h @ W2 + b2 # output layer\n",
    "  loss = F.cross_entropy(logits, Yb) # loss function\n",
    "  \n",
    "  # backward pass\n",
    "  for p in parameters:\n",
    "    p.grad = None\n",
    "  loss.backward()\n",
    "  \n",
    "  # update\n",
    "  lr = 0.1 if i < 100000 else 0.01 # step learning rate decay\n",
    "  for p in parameters:\n",
    "    p.data += -lr * p.grad\n",
    "\n",
    "  # track stats\n",
    "  if i % 10000 == 0: # print every once in a while\n",
    "    print(f'{i:7d}/{max_steps:7d}: {loss.item():.4f}')\n",
    "  lossi.append(loss.log10().item())\n",
    "  break"
   ]
  },
  {
   "cell_type": "code",
   "execution_count": 75,
   "id": "04b88d7b",
   "metadata": {},
   "outputs": [
    {
     "data": {
      "image/png": "[encoded data removed]",
      "text/plain": [
       "<Figure size 2000x1000 with 1 Axes>"
      ]
     },
     "metadata": {},
     "output_type": "display_data"
    }
   ],
   "source": [
    "# And this should have less whites\n",
    "plt.figure(figsize=(20, 10))\n",
    "plt.xlabel('input')\n",
    "plt.ylabel('tanh_activations')\n",
    "plt.imshow(h.abs() > 0.99, cmap='gray', interpolation='nearest',);"
   ]
  },
  {
   "cell_type": "code",
   "execution_count": 76,
   "id": "b3f322bb",
   "metadata": {},
   "outputs": [
    {
     "name": "stdout",
     "output_type": "stream",
     "text": [
      "Total number of parameters: 11897\n",
      "      0/ 200000: 3.3070\n",
      "  10000/ 200000: 2.0390\n",
      "  20000/ 200000: 2.3337\n",
      "  30000/ 200000: 2.1899\n",
      "  40000/ 200000: 2.0281\n",
      "  50000/ 200000: 2.3006\n",
      "  60000/ 200000: 1.9184\n",
      "  70000/ 200000: 2.0165\n",
      "  80000/ 200000: 2.1462\n",
      "  90000/ 200000: 2.0186\n",
      " 100000/ 200000: 2.1868\n",
      " 110000/ 200000: 2.0560\n",
      " 120000/ 200000: 2.0876\n",
      " 130000/ 200000: 1.6509\n",
      " 140000/ 200000: 2.2062\n",
      " 150000/ 200000: 2.2495\n",
      " 160000/ 200000: 2.0697\n",
      " 170000/ 200000: 1.6954\n",
      " 180000/ 200000: 2.5340\n",
      " 190000/ 200000: 2.2555\n"
     ]
    }
   ],
   "source": [
    "# Reinit weights\n",
    "C, W1, b1, W2, b2 = model_parameters(\n",
    "    block_size=block_size,\n",
    "    vocab_size=vocab_size,\n",
    "    n_embd=n_embd,\n",
    "    n_hidden=n_hidden,\n",
    "    seed=torch_seed\n",
    ")\n",
    "\n",
    "C = C\n",
    "W1 = W1 * 0.2\n",
    "b1 = b1 * 0.01\n",
    "W2 = W2 * 0.01\n",
    "b2 = b2 * 0\n",
    "\n",
    "parameters = [C, W1, b1, W2, b2]\n",
    "for p in parameters:\n",
    "    # To avoid setting requires_grad multiple times\n",
    "    p.requires_grad = True\n",
    "print(f\"Total number of parameters: {sum(p.nelement() for p in parameters)}\")\n",
    "\n",
    "# Full training\n",
    "batch_size = 32\n",
    "lossi = []\n",
    "g = torch.Generator().manual_seed(torch_seed)\n",
    "\n",
    "for i in range(max_steps):\n",
    "  \n",
    "  # minibatch construct\n",
    "  ix = torch.randint(0, Xtr.shape[0], (batch_size,), generator=g)\n",
    "  Xb, Yb = Xtr[ix], Ytr[ix] # batch X,Y\n",
    "  \n",
    "  # forward pass\n",
    "  emb = C[Xb] # embed the characters into vectors\n",
    "  embcat = emb.view(emb.shape[0], -1) # concatenate the vectors\n",
    "  hpreact = embcat @ W1 + b1 # hidden layer pre-activation\n",
    "  h = torch.tanh(hpreact) # hidden layer\n",
    "  logits = h @ W2 + b2 # output layer\n",
    "  loss = F.cross_entropy(logits, Yb) # loss function\n",
    "  \n",
    "  # backward pass\n",
    "  for p in parameters:\n",
    "    p.grad = None\n",
    "  loss.backward()\n",
    "  \n",
    "  # update\n",
    "  lr = 0.1 if i < 100000 else 0.01 # step learning rate decay\n",
    "  for p in parameters:\n",
    "    p.data += -lr * p.grad\n",
    "\n",
    "  # track stats\n",
    "  if i % 10000 == 0: # print every once in a while\n",
    "    print(f'{i:7d}/{max_steps:7d}: {loss.item():.4f}')\n",
    "  lossi.append(loss.log10().item())"
   ]
  },
  {
   "cell_type": "code",
   "execution_count": 77,
   "id": "76ecce50",
   "metadata": {},
   "outputs": [
    {
     "name": "stdout",
     "output_type": "stream",
     "text": [
      "train 2.036576986312866\n",
      "val 2.1043293476104736\n"
     ]
    }
   ],
   "source": [
    "split_loss('train')\n",
    "split_loss('val')"
   ]
  },
  {
   "attachments": {},
   "cell_type": "markdown",
   "id": "3a8d2d88",
   "metadata": {},
   "source": [
    "Losses after initial loss fix\n",
    "\n",
    "* train 2.068942070007324\n",
    "* val 2.129626750946045\n",
    "\n",
    "Losses after tanh saturation fix \n",
    "\n",
    "* train 2.036576986312866\n",
    "* val 2.1043293476104736\n",
    "\n",
    "The loss is improved because. Network has more time to train and neurons are learning more frequently by avoiding vanishing and exploding gradients."
   ]
  },
  {
   "attachments": {},
   "cell_type": "markdown",
   "id": "1ef165d8",
   "metadata": {},
   "source": [
    "Since this is a single layer mlp, the initialisation problem was not big issue. But for bigger networks with lots of layers.\n",
    "These problems will stack up and without proper intilisation the model will not train at all."
   ]
  },
  {
   "cell_type": "markdown",
   "id": "f77bcdfa",
   "metadata": {},
   "source": []
  }
 ],
 "metadata": {
  "kernelspec": {
   "display_name": "Python 3",
   "language": "python",
   "name": "python3"
  },
  "language_info": {
   "codemirror_mode": {
    "name": "ipython",
    "version": 3
   },
   "file_extension": ".py",
   "mimetype": "text/x-python",
   "name": "python",
   "nbconvert_exporter": "python",
   "pygments_lexer": "ipython3",
   "version": "3.10.6"
  },
  "toc": {
   "base_numbering": 1,
   "nav_menu": {},
   "number_sections": true,
   "sideBar": true,
   "skip_h1_title": false,
   "title_cell": "Table of Contents",
   "title_sidebar": "Contents",
   "toc_cell": false,
   "toc_position": {},
   "toc_section_display": true,
   "toc_window_display": true
  },
  "vscode": {
   "interpreter": {
    "hash": "21a124e163c92121797d725bed844fa6fdaf2c4e47bf1f149ef174ae791c682a"
   }
  }
 },
 "nbformat": 4,
 "nbformat_minor": 5
}
